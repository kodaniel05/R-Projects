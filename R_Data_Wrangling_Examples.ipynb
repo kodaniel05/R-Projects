{
 "cells": [
  {
   "cell_type": "markdown",
   "id": "b92ac021",
   "metadata": {},
   "source": [
    "Explain and demonstrate how R handles missing data: NA, NaN, NULL, etc.\n",
    "\n",
    "Demonstrate the ability to use the following functions to solve data-driven problem(s): mean, var, table, cut, paste, rep, seq, sort, order, length, unique, etc.\n",
    "\n",
    "Read and write basic (csv) data.\n",
    "\n",
    "Explain and demonstrate: positional, named, and logical indexing.\n",
    "\n",
    "List the differences between lists, vectors, factors, and data.frames, and when to use each."
   ]
  },
  {
   "cell_type": "code",
   "execution_count": 2,
   "id": "3c96b4e3-5c67-467c-abe6-1cebb2cb7b6e",
   "metadata": {
    "vscode": {
     "languageId": "r"
    }
   },
   "outputs": [],
   "source": [
    "myDF <- read.csv(\"/anvil/projects/tdm/data/craigslist/vehicles.csv\")"
   ]
  },
  {
   "cell_type": "code",
   "execution_count": 8,
   "id": "67630b73-db52-41fb-9b89-e5936c363691",
   "metadata": {
    "vscode": {
     "languageId": "r"
    }
   },
   "outputs": [
    {
     "data": {
      "text/html": [
       "<table class=\"dataframe\">\n",
       "<caption>A data.frame: 6 x 26</caption>\n",
       "<thead>\n",
       "\t<tr><th></th><th scope=col>id</th><th scope=col>url</th><th scope=col>region</th><th scope=col>region_url</th><th scope=col>price</th><th scope=col>year</th><th scope=col>manufacturer</th><th scope=col>model</th><th scope=col>condition</th><th scope=col>cylinders</th><th scope=col>...</th><th scope=col>size</th><th scope=col>type</th><th scope=col>paint_color</th><th scope=col>image_url</th><th scope=col>description</th><th scope=col>county</th><th scope=col>state</th><th scope=col>lat</th><th scope=col>long</th><th scope=col>posting_date</th></tr>\n",
       "\t<tr><th></th><th scope=col>&lt;dbl&gt;</th><th scope=col>&lt;chr&gt;</th><th scope=col>&lt;chr&gt;</th><th scope=col>&lt;chr&gt;</th><th scope=col>&lt;dbl&gt;</th><th scope=col>&lt;int&gt;</th><th scope=col>&lt;chr&gt;</th><th scope=col>&lt;chr&gt;</th><th scope=col>&lt;chr&gt;</th><th scope=col>&lt;chr&gt;</th><th scope=col>...</th><th scope=col>&lt;chr&gt;</th><th scope=col>&lt;chr&gt;</th><th scope=col>&lt;chr&gt;</th><th scope=col>&lt;chr&gt;</th><th scope=col>&lt;chr&gt;</th><th scope=col>&lt;lgl&gt;</th><th scope=col>&lt;chr&gt;</th><th scope=col>&lt;dbl&gt;</th><th scope=col>&lt;dbl&gt;</th><th scope=col>&lt;chr&gt;</th></tr>\n",
       "</thead>\n",
       "<tbody>\n",
       "\t<tr><th scope=row>1</th><td>7222695916</td><td>https://prescott.craigslist.org/cto/d/prescott-2010-ford-ranger/7222695916.html             </td><td>prescott              </td><td>https://prescott.craigslist.org    </td><td> 6000</td><td>NA</td><td></td><td></td><td></td><td></td><td>...</td><td></td><td></td><td></td><td></td><td></td><td>NA</td><td>az</td><td>NA</td><td>NA</td><td></td></tr>\n",
       "\t<tr><th scope=row>2</th><td>7218891961</td><td>https://fayar.craigslist.org/ctd/d/bentonville-2017-hyundai-elantra-se/7218891961.html      </td><td>fayetteville          </td><td>https://fayar.craigslist.org       </td><td>11900</td><td>NA</td><td></td><td></td><td></td><td></td><td>...</td><td></td><td></td><td></td><td></td><td></td><td>NA</td><td>ar</td><td>NA</td><td>NA</td><td></td></tr>\n",
       "\t<tr><th scope=row>3</th><td>7221797935</td><td>https://keys.craigslist.org/cto/d/summerland-key-2005-excursion/7221797935.html             </td><td>florida keys          </td><td>https://keys.craigslist.org        </td><td>21000</td><td>NA</td><td></td><td></td><td></td><td></td><td>...</td><td></td><td></td><td></td><td></td><td></td><td>NA</td><td>fl</td><td>NA</td><td>NA</td><td></td></tr>\n",
       "\t<tr><th scope=row>4</th><td>7222270760</td><td>https://worcester.craigslist.org/cto/d/west-brookfield-2002-honda-odyssey-ex/7222270760.html</td><td>worcester / central MA</td><td>https://worcester.craigslist.org   </td><td> 1500</td><td>NA</td><td></td><td></td><td></td><td></td><td>...</td><td></td><td></td><td></td><td></td><td></td><td>NA</td><td>ma</td><td>NA</td><td>NA</td><td></td></tr>\n",
       "\t<tr><th scope=row>5</th><td>7210384030</td><td>https://greensboro.craigslist.org/cto/d/trinity-1965-chevrolet-truck/7210384030.html        </td><td>greensboro            </td><td>https://greensboro.craigslist.org  </td><td> 4900</td><td>NA</td><td></td><td></td><td></td><td></td><td>...</td><td></td><td></td><td></td><td></td><td></td><td>NA</td><td>nc</td><td>NA</td><td>NA</td><td></td></tr>\n",
       "\t<tr><th scope=row>6</th><td>7222379453</td><td>https://hudsonvalley.craigslist.org/cto/d/westtown-2007-ford-150/7222379453.html            </td><td>hudson valley         </td><td>https://hudsonvalley.craigslist.org</td><td> 1600</td><td>NA</td><td></td><td></td><td></td><td></td><td>...</td><td></td><td></td><td></td><td></td><td></td><td>NA</td><td>ny</td><td>NA</td><td>NA</td><td></td></tr>\n",
       "</tbody>\n",
       "</table>\n"
      ],
      "text/latex": [
       "A data.frame: 6 x 26\n",
       "\\begin{tabular}{r|lllllllllllllllllllll}\n",
       "  & id & url & region & region\\_url & price & year & manufacturer & model & condition & cylinders & ... & size & type & paint\\_color & image\\_url & description & county & state & lat & long & posting\\_date\\\\\n",
       "  & <dbl> & <chr> & <chr> & <chr> & <dbl> & <int> & <chr> & <chr> & <chr> & <chr> & ... & <chr> & <chr> & <chr> & <chr> & <chr> & <lgl> & <chr> & <dbl> & <dbl> & <chr>\\\\\n",
       "\\hline\n",
       "\t1 & 7222695916 & https://prescott.craigslist.org/cto/d/prescott-2010-ford-ranger/7222695916.html              & prescott               & https://prescott.craigslist.org     &  6000 & NA &  &  &  &  & ... &  &  &  &  &  & NA & az & NA & NA & \\\\\n",
       "\t2 & 7218891961 & https://fayar.craigslist.org/ctd/d/bentonville-2017-hyundai-elantra-se/7218891961.html       & fayetteville           & https://fayar.craigslist.org        & 11900 & NA &  &  &  &  & ... &  &  &  &  &  & NA & ar & NA & NA & \\\\\n",
       "\t3 & 7221797935 & https://keys.craigslist.org/cto/d/summerland-key-2005-excursion/7221797935.html              & florida keys           & https://keys.craigslist.org         & 21000 & NA &  &  &  &  & ... &  &  &  &  &  & NA & fl & NA & NA & \\\\\n",
       "\t4 & 7222270760 & https://worcester.craigslist.org/cto/d/west-brookfield-2002-honda-odyssey-ex/7222270760.html & worcester / central MA & https://worcester.craigslist.org    &  1500 & NA &  &  &  &  & ... &  &  &  &  &  & NA & ma & NA & NA & \\\\\n",
       "\t5 & 7210384030 & https://greensboro.craigslist.org/cto/d/trinity-1965-chevrolet-truck/7210384030.html         & greensboro             & https://greensboro.craigslist.org   &  4900 & NA &  &  &  &  & ... &  &  &  &  &  & NA & nc & NA & NA & \\\\\n",
       "\t6 & 7222379453 & https://hudsonvalley.craigslist.org/cto/d/westtown-2007-ford-150/7222379453.html             & hudson valley          & https://hudsonvalley.craigslist.org &  1600 & NA &  &  &  &  & ... &  &  &  &  &  & NA & ny & NA & NA & \\\\\n",
       "\\end{tabular}\n"
      ],
      "text/markdown": [
       "\n",
       "A data.frame: 6 x 26\n",
       "\n",
       "| <!--/--> | id &lt;dbl&gt; | url &lt;chr&gt; | region &lt;chr&gt; | region_url &lt;chr&gt; | price &lt;dbl&gt; | year &lt;int&gt; | manufacturer &lt;chr&gt; | model &lt;chr&gt; | condition &lt;chr&gt; | cylinders &lt;chr&gt; | ... ... | size &lt;chr&gt; | type &lt;chr&gt; | paint_color &lt;chr&gt; | image_url &lt;chr&gt; | description &lt;chr&gt; | county &lt;lgl&gt; | state &lt;chr&gt; | lat &lt;dbl&gt; | long &lt;dbl&gt; | posting_date &lt;chr&gt; |\n",
       "|---|---|---|---|---|---|---|---|---|---|---|---|---|---|---|---|---|---|---|---|---|---|\n",
       "| 1 | 7222695916 | https://prescott.craigslist.org/cto/d/prescott-2010-ford-ranger/7222695916.html              | prescott               | https://prescott.craigslist.org     |  6000 | NA | <!----> | <!----> | <!----> | <!----> | ... | <!----> | <!----> | <!----> | <!----> | <!----> | NA | az | NA | NA | <!----> |\n",
       "| 2 | 7218891961 | https://fayar.craigslist.org/ctd/d/bentonville-2017-hyundai-elantra-se/7218891961.html       | fayetteville           | https://fayar.craigslist.org        | 11900 | NA | <!----> | <!----> | <!----> | <!----> | ... | <!----> | <!----> | <!----> | <!----> | <!----> | NA | ar | NA | NA | <!----> |\n",
       "| 3 | 7221797935 | https://keys.craigslist.org/cto/d/summerland-key-2005-excursion/7221797935.html              | florida keys           | https://keys.craigslist.org         | 21000 | NA | <!----> | <!----> | <!----> | <!----> | ... | <!----> | <!----> | <!----> | <!----> | <!----> | NA | fl | NA | NA | <!----> |\n",
       "| 4 | 7222270760 | https://worcester.craigslist.org/cto/d/west-brookfield-2002-honda-odyssey-ex/7222270760.html | worcester / central MA | https://worcester.craigslist.org    |  1500 | NA | <!----> | <!----> | <!----> | <!----> | ... | <!----> | <!----> | <!----> | <!----> | <!----> | NA | ma | NA | NA | <!----> |\n",
       "| 5 | 7210384030 | https://greensboro.craigslist.org/cto/d/trinity-1965-chevrolet-truck/7210384030.html         | greensboro             | https://greensboro.craigslist.org   |  4900 | NA | <!----> | <!----> | <!----> | <!----> | ... | <!----> | <!----> | <!----> | <!----> | <!----> | NA | nc | NA | NA | <!----> |\n",
       "| 6 | 7222379453 | https://hudsonvalley.craigslist.org/cto/d/westtown-2007-ford-150/7222379453.html             | hudson valley          | https://hudsonvalley.craigslist.org |  1600 | NA | <!----> | <!----> | <!----> | <!----> | ... | <!----> | <!----> | <!----> | <!----> | <!----> | NA | ny | NA | NA | <!----> |\n",
       "\n"
      ],
      "text/plain": [
       "  id        \n",
       "1 7222695916\n",
       "2 7218891961\n",
       "3 7221797935\n",
       "4 7222270760\n",
       "5 7210384030\n",
       "6 7222379453\n",
       "  url                                                                                         \n",
       "1 https://prescott.craigslist.org/cto/d/prescott-2010-ford-ranger/7222695916.html             \n",
       "2 https://fayar.craigslist.org/ctd/d/bentonville-2017-hyundai-elantra-se/7218891961.html      \n",
       "3 https://keys.craigslist.org/cto/d/summerland-key-2005-excursion/7221797935.html             \n",
       "4 https://worcester.craigslist.org/cto/d/west-brookfield-2002-honda-odyssey-ex/7222270760.html\n",
       "5 https://greensboro.craigslist.org/cto/d/trinity-1965-chevrolet-truck/7210384030.html        \n",
       "6 https://hudsonvalley.craigslist.org/cto/d/westtown-2007-ford-150/7222379453.html            \n",
       "  region                 region_url                          price year\n",
       "1 prescott               https://prescott.craigslist.org      6000 NA  \n",
       "2 fayetteville           https://fayar.craigslist.org        11900 NA  \n",
       "3 florida keys           https://keys.craigslist.org         21000 NA  \n",
       "4 worcester / central MA https://worcester.craigslist.org     1500 NA  \n",
       "5 greensboro             https://greensboro.craigslist.org    4900 NA  \n",
       "6 hudson valley          https://hudsonvalley.craigslist.org  1600 NA  \n",
       "  manufacturer model condition cylinders ... size type paint_color image_url\n",
       "1                                        ...                                \n",
       "2                                        ...                                \n",
       "3                                        ...                                \n",
       "4                                        ...                                \n",
       "5                                        ...                                \n",
       "6                                        ...                                \n",
       "  description county state lat long posting_date\n",
       "1             NA     az    NA  NA               \n",
       "2             NA     ar    NA  NA               \n",
       "3             NA     fl    NA  NA               \n",
       "4             NA     ma    NA  NA               \n",
       "5             NA     nc    NA  NA               \n",
       "6             NA     ny    NA  NA               "
      ]
     },
     "metadata": {},
     "output_type": "display_data"
    }
   ],
   "source": [
    "head(myDF)"
   ]
  },
  {
   "cell_type": "code",
   "execution_count": 5,
   "id": "91d55651-b770-47a9-ac6a-ab8c4549dabb",
   "metadata": {
    "vscode": {
     "languageId": "r"
    }
   },
   "outputs": [
    {
     "data": {
      "text/html": [
       "<style>\n",
       ".list-inline {list-style: none; margin:0; padding: 0}\n",
       ".list-inline>li {display: inline-block}\n",
       ".list-inline>li:not(:last-child)::after {content: \"\\00b7\"; padding: 0 .5ex}\n",
       "</style>\n",
       "<ol class=list-inline><li>426880</li><li>26</li></ol>\n"
      ],
      "text/latex": [
       "\\begin{enumerate*}\n",
       "\\item 426880\n",
       "\\item 26\n",
       "\\end{enumerate*}\n"
      ],
      "text/markdown": [
       "1. 426880\n",
       "2. 26\n",
       "\n",
       "\n"
      ],
      "text/plain": [
       "[1] 426880     26"
      ]
     },
     "metadata": {},
     "output_type": "display_data"
    }
   ],
   "source": [
    "dim(myDF)      # There are 426880 rows and 26 columns."
   ]
  },
  {
   "cell_type": "code",
   "execution_count": 7,
   "id": "ae88fd77-584a-477f-8a88-16bcde681c49",
   "metadata": {
    "vscode": {
     "languageId": "r"
    }
   },
   "outputs": [
    {
     "name": "stdout",
     "output_type": "stream",
     "text": [
      "'data.frame':\t426880 obs. of  26 variables:\n",
      " $ id          : num  7.22e+09 7.22e+09 7.22e+09 7.22e+09 7.21e+09 ...\n",
      " $ url         : chr  \"https://prescott.craigslist.org/cto/d/prescott-2010-ford-ranger/7222695916.html\" \"https://fayar.craigslist.org/ctd/d/bentonville-2017-hyundai-elantra-se/7218891961.html\" \"https://keys.craigslist.org/cto/d/summerland-key-2005-excursion/7221797935.html\" \"https://worcester.craigslist.org/cto/d/west-brookfield-2002-honda-odyssey-ex/7222270760.html\" ...\n",
      " $ region      : chr  \"prescott\" \"fayetteville\" \"florida keys\" \"worcester / central MA\" ...\n",
      " $ region_url  : chr  \"https://prescott.craigslist.org\" \"https://fayar.craigslist.org\" \"https://keys.craigslist.org\" \"https://worcester.craigslist.org\" ...\n",
      " $ price       : num  6000 11900 21000 1500 4900 ...\n",
      " $ year        : int  NA NA NA NA NA NA NA NA NA NA ...\n",
      " $ manufacturer: chr  \"\" \"\" \"\" \"\" ...\n",
      " $ model       : chr  \"\" \"\" \"\" \"\" ...\n",
      " $ condition   : chr  \"\" \"\" \"\" \"\" ...\n",
      " $ cylinders   : chr  \"\" \"\" \"\" \"\" ...\n",
      " $ fuel        : chr  \"\" \"\" \"\" \"\" ...\n",
      " $ odometer    : int  NA NA NA NA NA NA NA NA NA NA ...\n",
      " $ title_status: chr  \"\" \"\" \"\" \"\" ...\n",
      " $ transmission: chr  \"\" \"\" \"\" \"\" ...\n",
      " $ VIN         : chr  \"\" \"\" \"\" \"\" ...\n",
      " $ drive       : chr  \"\" \"\" \"\" \"\" ...\n",
      " $ size        : chr  \"\" \"\" \"\" \"\" ...\n",
      " $ type        : chr  \"\" \"\" \"\" \"\" ...\n",
      " $ paint_color : chr  \"\" \"\" \"\" \"\" ...\n",
      " $ image_url   : chr  \"\" \"\" \"\" \"\" ...\n",
      " $ description : chr  \"\" \"\" \"\" \"\" ...\n",
      " $ county      : logi  NA NA NA NA NA NA ...\n",
      " $ state       : chr  \"az\" \"ar\" \"fl\" \"ma\" ...\n",
      " $ lat         : num  NA NA NA NA NA NA NA NA NA NA ...\n",
      " $ long        : num  NA NA NA NA NA NA NA NA NA NA ...\n",
      " $ posting_date: chr  \"\" \"\" \"\" \"\" ...\n"
     ]
    }
   ],
   "source": [
    "str(myDF)      # The types of dataframes found are numerical,\n",
    "               #character strings, integers, and logical values."
   ]
  },
  {
   "cell_type": "code",
   "execution_count": 9,
   "id": "0666f710-86db-464e-8cc1-5415b599612e",
   "metadata": {
    "vscode": {
     "languageId": "r"
    }
   },
   "outputs": [
    {
     "data": {
      "text/plain": [
       "\n",
       "   ak    al    ar    az    ca    co    ct    dc    de    fl    ga    hi    ia \n",
       " 3474  4955  4038  8679 50614 11088  5188  2970   949 28511  7003  2964  8632 \n",
       "   id    il    in    ks    ky    la    ma    md    me    mi    mn    mo    ms \n",
       " 8961 10387  5704  6209  4149  3196  8174  4778  2966 16900  7716  4293  1016 \n",
       "   mt    nc    nd    ne    nh    nj    nm    nv    ny    oh    ok    or    pa \n",
       " 6294 15277   410  1036  2981  9742  4425  3194 19386 17696  6792 17104 13753 \n",
       "   ri    sc    sd    tn    tx    ut    va    vt    wa    wi    wv    wy \n",
       " 2320  6327  1302 11066 22945  1150 10732  2513 13861 11398  1052   610 "
      ]
     },
     "metadata": {},
     "output_type": "display_data"
    }
   ],
   "source": [
    "table(myDF$state) "
   ]
  },
  {
   "cell_type": "code",
   "execution_count": 11,
   "id": "aef5a633-f183-44c4-b43a-b9200700705c",
   "metadata": {
    "vscode": {
     "languageId": "r"
    }
   },
   "outputs": [
    {
     "data": {
      "text/plain": [
       "\n",
       "                          acura      alfa-romeo    aston-martin            audi \n",
       "          17646            5978             897              24            7573 \n",
       "            bmw           buick        cadillac       chevrolet        chrysler \n",
       "          14699            5501            6953           55064            6031 \n",
       "         datsun           dodge         ferrari            fiat            ford \n",
       "             63           13707              95             792           70985 \n",
       "            gmc harley-davidson           honda         hyundai        infiniti \n",
       "          16785             153           21269           10338            4802 \n",
       "         jaguar            jeep             kia      land rover           lexus \n",
       "           1946           19014            8457              21            8200 \n",
       "        lincoln           mazda   mercedes-benz         mercury            mini \n",
       "           4220            5427           11817            1184            2376 \n",
       "     mitsubishi          morgan          nissan         pontiac         porsche \n",
       "           3292               3           19067            2288            1384 \n",
       "            ram           rover          saturn          subaru           tesla \n",
       "          18342            2113            1090            9495             868 \n",
       "         toyota      volkswagen           volvo \n",
       "          34202            9345            3374 "
      ]
     },
     "metadata": {},
     "output_type": "display_data"
    }
   ],
   "source": [
    "table(myDF$manufacturer) #Overall, it apears that this data shows where of the site craigs list. \n",
    "                         #It gives us the most popular states of which the site is used as well as\n",
    "                         #the manufacturer's that use the site."
   ]
  },
  {
   "cell_type": "code",
   "execution_count": 13,
   "id": "1a6846b2-7372-41f6-83b9-6226ee429c82",
   "metadata": {
    "vscode": {
     "languageId": "r"
    }
   },
   "outputs": [],
   "source": [
    "#Question 2"
   ]
  },
  {
   "cell_type": "code",
   "execution_count": 15,
   "id": "df37ac92-a6c6-4b82-b302-822bb0492ef1",
   "metadata": {
    "vscode": {
     "languageId": "r"
    }
   },
   "outputs": [
    {
     "data": {
      "text/plain": [
       "\n",
       " 1900  1901  1902  1903  1905  1909  1910  1913  1915  1916  1918  1920  1921 \n",
       "   12     3     1    12     1     1     2     2     1     2     1     2     2 \n",
       " 1922  1923  1924  1925  1926  1927  1928  1929  1930  1931  1932  1933  1934 \n",
       "    3    36     9     8    16    37    38    57    68    58    57    25    44 \n",
       " 1935  1936  1937  1938  1939  1940  1941  1942  1943  1944  1945  1946  1947 \n",
       "   23    43    70    38    54    81    67    15     1     3     2    58    71 \n",
       " 1948  1949  1950  1951  1952  1953  1954  1955  1956  1957  1958  1959  1960 \n",
       "  100    89   106    98   110   105   100   226   160   174    73    93   120 \n",
       " 1961  1962  1963  1964  1965  1966  1967  1968  1969  1970  1971  1972  1973 \n",
       "   82   138   234   270   365   424   357   425   409   345   312   409   334 \n",
       " 1974  1975  1976  1977  1978  1979  1980  1981  1982  1983  1984  1985  1986 \n",
       "  280   204   242   273   345   387   272   214   217   257   387   469   523 \n",
       " 1987  1988  1989  1990  1991  1992  1993  1994  1995  1996  1997  1998  1999 \n",
       "  532   528   571   599   608   626   712   968  1246  1302  1724  1988  3094 \n",
       " 2000  2001  2002  2003  2004  2005  2006  2007  2008  2009  2010  2011  2012 \n",
       " 3572  4443  5587  7151  8971 10622 12763 14873 17150 12185 15829 20341 23898 \n",
       " 2013  2014  2015  2016  2017  2018  2019  2020  2021  2022  <NA> \n",
       "30794 30283 31538 30434 36420 36369 25375 19298  2396   133  1205 "
      ]
     },
     "metadata": {},
     "output_type": "display_data"
    }
   ],
   "source": [
    "table(myDF$year, useNA=\"always\")"
   ]
  },
  {
   "cell_type": "code",
   "execution_count": 18,
   "id": "d94a421c-ebae-4314-b15c-51c23b9ed7a6",
   "metadata": {
    "vscode": {
     "languageId": "r"
    }
   },
   "outputs": [
    {
     "data": {
      "text/html": [
       "<style>\n",
       ".list-inline {list-style: none; margin:0; padding: 0}\n",
       ".list-inline>li {display: inline-block}\n",
       ".list-inline>li:not(:last-child)::after {content: \"\\00b7\"; padding: 0 .5ex}\n",
       "</style>\n",
       "<ol class=list-inline><li>&lt;NA&gt;</li><li>&lt;NA&gt;</li><li>&lt;NA&gt;</li><li>&lt;NA&gt;</li><li>&lt;NA&gt;</li><li>&lt;NA&gt;</li><li>&lt;NA&gt;</li><li>&lt;NA&gt;</li><li>&lt;NA&gt;</li><li>&lt;NA&gt;</li><li>&lt;NA&gt;</li><li>&lt;NA&gt;</li><li>&lt;NA&gt;</li><li>&lt;NA&gt;</li><li>&lt;NA&gt;</li><li>&lt;NA&gt;</li><li>&lt;NA&gt;</li><li>&lt;NA&gt;</li><li>&lt;NA&gt;</li><li>&lt;NA&gt;</li><li>&lt;NA&gt;</li><li>&lt;NA&gt;</li><li>&lt;NA&gt;</li><li>&lt;NA&gt;</li><li>&lt;NA&gt;</li><li>&lt;NA&gt;</li><li>&lt;NA&gt;</li><li>2014</li><li>2010</li><li>2020</li><li>2017</li><li>2013</li><li>2012</li><li>2016</li><li>2019</li><li>2016</li><li>2011</li><li>1992</li><li>2017</li><li>2017</li><li>2016</li><li>2014</li><li>2016</li><li>2014</li><li>2019</li><li>2018</li><li>2011</li><li>2018</li><li>2016</li><li>2020</li></ol>\n"
      ],
      "text/latex": [
       "\\begin{enumerate*}\n",
       "\\item <NA>\n",
       "\\item <NA>\n",
       "\\item <NA>\n",
       "\\item <NA>\n",
       "\\item <NA>\n",
       "\\item <NA>\n",
       "\\item <NA>\n",
       "\\item <NA>\n",
       "\\item <NA>\n",
       "\\item <NA>\n",
       "\\item <NA>\n",
       "\\item <NA>\n",
       "\\item <NA>\n",
       "\\item <NA>\n",
       "\\item <NA>\n",
       "\\item <NA>\n",
       "\\item <NA>\n",
       "\\item <NA>\n",
       "\\item <NA>\n",
       "\\item <NA>\n",
       "\\item <NA>\n",
       "\\item <NA>\n",
       "\\item <NA>\n",
       "\\item <NA>\n",
       "\\item <NA>\n",
       "\\item <NA>\n",
       "\\item <NA>\n",
       "\\item 2014\n",
       "\\item 2010\n",
       "\\item 2020\n",
       "\\item 2017\n",
       "\\item 2013\n",
       "\\item 2012\n",
       "\\item 2016\n",
       "\\item 2019\n",
       "\\item 2016\n",
       "\\item 2011\n",
       "\\item 1992\n",
       "\\item 2017\n",
       "\\item 2017\n",
       "\\item 2016\n",
       "\\item 2014\n",
       "\\item 2016\n",
       "\\item 2014\n",
       "\\item 2019\n",
       "\\item 2018\n",
       "\\item 2011\n",
       "\\item 2018\n",
       "\\item 2016\n",
       "\\item 2020\n",
       "\\end{enumerate*}\n"
      ],
      "text/markdown": [
       "1. &lt;NA&gt;\n",
       "2. &lt;NA&gt;\n",
       "3. &lt;NA&gt;\n",
       "4. &lt;NA&gt;\n",
       "5. &lt;NA&gt;\n",
       "6. &lt;NA&gt;\n",
       "7. &lt;NA&gt;\n",
       "8. &lt;NA&gt;\n",
       "9. &lt;NA&gt;\n",
       "10. &lt;NA&gt;\n",
       "11. &lt;NA&gt;\n",
       "12. &lt;NA&gt;\n",
       "13. &lt;NA&gt;\n",
       "14. &lt;NA&gt;\n",
       "15. &lt;NA&gt;\n",
       "16. &lt;NA&gt;\n",
       "17. &lt;NA&gt;\n",
       "18. &lt;NA&gt;\n",
       "19. &lt;NA&gt;\n",
       "20. &lt;NA&gt;\n",
       "21. &lt;NA&gt;\n",
       "22. &lt;NA&gt;\n",
       "23. &lt;NA&gt;\n",
       "24. &lt;NA&gt;\n",
       "25. &lt;NA&gt;\n",
       "26. &lt;NA&gt;\n",
       "27. &lt;NA&gt;\n",
       "28. 2014\n",
       "29. 2010\n",
       "30. 2020\n",
       "31. 2017\n",
       "32. 2013\n",
       "33. 2012\n",
       "34. 2016\n",
       "35. 2019\n",
       "36. 2016\n",
       "37. 2011\n",
       "38. 1992\n",
       "39. 2017\n",
       "40. 2017\n",
       "41. 2016\n",
       "42. 2014\n",
       "43. 2016\n",
       "44. 2014\n",
       "45. 2019\n",
       "46. 2018\n",
       "47. 2011\n",
       "48. 2018\n",
       "49. 2016\n",
       "50. 2020\n",
       "\n",
       "\n"
      ],
      "text/plain": [
       " [1]   NA   NA   NA   NA   NA   NA   NA   NA   NA   NA   NA   NA   NA   NA   NA\n",
       "[16]   NA   NA   NA   NA   NA   NA   NA   NA   NA   NA   NA   NA 2014 2010 2020\n",
       "[31] 2017 2013 2012 2016 2019 2016 2011 1992 2017 2017 2016 2014 2016 2014 2019\n",
       "[46] 2018 2011 2018 2016 2020"
      ]
     },
     "metadata": {},
     "output_type": "display_data"
    }
   ],
   "source": [
    "head(myDF$year, n=50)"
   ]
  },
  {
   "cell_type": "code",
   "execution_count": 19,
   "id": "136ca6a0-90ce-480d-8b70-8e26e036fa80",
   "metadata": {
    "vscode": {
     "languageId": "r"
    }
   },
   "outputs": [
    {
     "data": {
      "text/html": [
       "<style>\n",
       ".list-inline {list-style: none; margin:0; padding: 0}\n",
       ".list-inline>li {display: inline-block}\n",
       ".list-inline>li:not(:last-child)::after {content: \"\\00b7\"; padding: 0 .5ex}\n",
       "</style>\n",
       "<ol class=list-inline><li>TRUE</li><li>TRUE</li><li>TRUE</li><li>TRUE</li><li>TRUE</li><li>TRUE</li><li>TRUE</li><li>TRUE</li><li>TRUE</li><li>TRUE</li><li>TRUE</li><li>TRUE</li><li>TRUE</li><li>TRUE</li><li>TRUE</li><li>TRUE</li><li>TRUE</li><li>TRUE</li><li>TRUE</li><li>TRUE</li><li>TRUE</li><li>TRUE</li><li>TRUE</li><li>TRUE</li><li>TRUE</li><li>TRUE</li><li>TRUE</li><li>FALSE</li><li>FALSE</li><li>FALSE</li><li>FALSE</li><li>FALSE</li><li>FALSE</li><li>FALSE</li><li>FALSE</li><li>FALSE</li><li>FALSE</li><li>FALSE</li><li>FALSE</li><li>FALSE</li><li>FALSE</li><li>FALSE</li><li>FALSE</li><li>FALSE</li><li>FALSE</li><li>FALSE</li><li>FALSE</li><li>FALSE</li><li>FALSE</li><li>FALSE</li></ol>\n"
      ],
      "text/latex": [
       "\\begin{enumerate*}\n",
       "\\item TRUE\n",
       "\\item TRUE\n",
       "\\item TRUE\n",
       "\\item TRUE\n",
       "\\item TRUE\n",
       "\\item TRUE\n",
       "\\item TRUE\n",
       "\\item TRUE\n",
       "\\item TRUE\n",
       "\\item TRUE\n",
       "\\item TRUE\n",
       "\\item TRUE\n",
       "\\item TRUE\n",
       "\\item TRUE\n",
       "\\item TRUE\n",
       "\\item TRUE\n",
       "\\item TRUE\n",
       "\\item TRUE\n",
       "\\item TRUE\n",
       "\\item TRUE\n",
       "\\item TRUE\n",
       "\\item TRUE\n",
       "\\item TRUE\n",
       "\\item TRUE\n",
       "\\item TRUE\n",
       "\\item TRUE\n",
       "\\item TRUE\n",
       "\\item FALSE\n",
       "\\item FALSE\n",
       "\\item FALSE\n",
       "\\item FALSE\n",
       "\\item FALSE\n",
       "\\item FALSE\n",
       "\\item FALSE\n",
       "\\item FALSE\n",
       "\\item FALSE\n",
       "\\item FALSE\n",
       "\\item FALSE\n",
       "\\item FALSE\n",
       "\\item FALSE\n",
       "\\item FALSE\n",
       "\\item FALSE\n",
       "\\item FALSE\n",
       "\\item FALSE\n",
       "\\item FALSE\n",
       "\\item FALSE\n",
       "\\item FALSE\n",
       "\\item FALSE\n",
       "\\item FALSE\n",
       "\\item FALSE\n",
       "\\end{enumerate*}\n"
      ],
      "text/markdown": [
       "1. TRUE\n",
       "2. TRUE\n",
       "3. TRUE\n",
       "4. TRUE\n",
       "5. TRUE\n",
       "6. TRUE\n",
       "7. TRUE\n",
       "8. TRUE\n",
       "9. TRUE\n",
       "10. TRUE\n",
       "11. TRUE\n",
       "12. TRUE\n",
       "13. TRUE\n",
       "14. TRUE\n",
       "15. TRUE\n",
       "16. TRUE\n",
       "17. TRUE\n",
       "18. TRUE\n",
       "19. TRUE\n",
       "20. TRUE\n",
       "21. TRUE\n",
       "22. TRUE\n",
       "23. TRUE\n",
       "24. TRUE\n",
       "25. TRUE\n",
       "26. TRUE\n",
       "27. TRUE\n",
       "28. FALSE\n",
       "29. FALSE\n",
       "30. FALSE\n",
       "31. FALSE\n",
       "32. FALSE\n",
       "33. FALSE\n",
       "34. FALSE\n",
       "35. FALSE\n",
       "36. FALSE\n",
       "37. FALSE\n",
       "38. FALSE\n",
       "39. FALSE\n",
       "40. FALSE\n",
       "41. FALSE\n",
       "42. FALSE\n",
       "43. FALSE\n",
       "44. FALSE\n",
       "45. FALSE\n",
       "46. FALSE\n",
       "47. FALSE\n",
       "48. FALSE\n",
       "49. FALSE\n",
       "50. FALSE\n",
       "\n",
       "\n"
      ],
      "text/plain": [
       " [1]  TRUE  TRUE  TRUE  TRUE  TRUE  TRUE  TRUE  TRUE  TRUE  TRUE  TRUE  TRUE\n",
       "[13]  TRUE  TRUE  TRUE  TRUE  TRUE  TRUE  TRUE  TRUE  TRUE  TRUE  TRUE  TRUE\n",
       "[25]  TRUE  TRUE  TRUE FALSE FALSE FALSE FALSE FALSE FALSE FALSE FALSE FALSE\n",
       "[37] FALSE FALSE FALSE FALSE FALSE FALSE FALSE FALSE FALSE FALSE FALSE FALSE\n",
       "[49] FALSE FALSE"
      ]
     },
     "metadata": {},
     "output_type": "display_data"
    }
   ],
   "source": [
    "head(is.na(myDF$year), n=50)"
   ]
  },
  {
   "cell_type": "code",
   "execution_count": 23,
   "id": "8d48405a-e04e-4c0e-a446-6ee2a850eda7",
   "metadata": {
    "vscode": {
     "languageId": "r"
    }
   },
   "outputs": [
    {
     "data": {
      "text/html": [
       "1205"
      ],
      "text/latex": [
       "1205"
      ],
      "text/markdown": [
       "1205"
      ],
      "text/plain": [
       "[1] 1205"
      ]
     },
     "metadata": {},
     "output_type": "display_data"
    }
   ],
   "source": [
    "sum(is.na(myDF$year)) # The table states that there are 1205 NA values in the year column"
   ]
  },
  {
   "cell_type": "code",
   "execution_count": 27,
   "id": "73473566-f703-4041-ac1b-695bb6d83a5f",
   "metadata": {
    "vscode": {
     "languageId": "r"
    }
   },
   "outputs": [
    {
     "data": {
      "text/html": [
       "0.00282280734632684"
      ],
      "text/latex": [
       "0.00282280734632684"
      ],
      "text/markdown": [
       "0.00282280734632684"
      ],
      "text/plain": [
       "[1] 0.002822807"
      ]
     },
     "metadata": {},
     "output_type": "display_data"
    }
   ],
   "source": [
    "sum(is.na(myDF$year)) / dim(myDF)[1] #The percentage of the values in the year column that are NA is less than 1% with it eing 0.0028"
   ]
  },
  {
   "cell_type": "code",
   "execution_count": 33,
   "id": "290534e0-9785-444a-8a35-0f0e9d5e6a6a",
   "metadata": {
    "vscode": {
     "languageId": "r"
    }
   },
   "outputs": [],
   "source": [
    "goodyearsDF <- subset(myDF, !is.na(year))"
   ]
  },
  {
   "cell_type": "code",
   "execution_count": 35,
   "id": "d650fedc-0f63-4d25-8c86-66558ba716c2",
   "metadata": {
    "vscode": {
     "languageId": "r"
    }
   },
   "outputs": [
    {
     "data": {
      "text/html": [
       "<table class=\"dataframe\">\n",
       "<caption>A data.frame: 6 x 26</caption>\n",
       "<thead>\n",
       "\t<tr><th></th><th scope=col>id</th><th scope=col>url</th><th scope=col>region</th><th scope=col>region_url</th><th scope=col>price</th><th scope=col>year</th><th scope=col>manufacturer</th><th scope=col>model</th><th scope=col>condition</th><th scope=col>cylinders</th><th scope=col>...</th><th scope=col>size</th><th scope=col>type</th><th scope=col>paint_color</th><th scope=col>image_url</th><th scope=col>description</th><th scope=col>county</th><th scope=col>state</th><th scope=col>lat</th><th scope=col>long</th><th scope=col>posting_date</th></tr>\n",
       "\t<tr><th></th><th scope=col>&lt;dbl&gt;</th><th scope=col>&lt;chr&gt;</th><th scope=col>&lt;chr&gt;</th><th scope=col>&lt;chr&gt;</th><th scope=col>&lt;dbl&gt;</th><th scope=col>&lt;int&gt;</th><th scope=col>&lt;chr&gt;</th><th scope=col>&lt;chr&gt;</th><th scope=col>&lt;chr&gt;</th><th scope=col>&lt;chr&gt;</th><th scope=col>...</th><th scope=col>&lt;chr&gt;</th><th scope=col>&lt;chr&gt;</th><th scope=col>&lt;chr&gt;</th><th scope=col>&lt;chr&gt;</th><th scope=col>&lt;chr&gt;</th><th scope=col>&lt;lgl&gt;</th><th scope=col>&lt;chr&gt;</th><th scope=col>&lt;dbl&gt;</th><th scope=col>&lt;dbl&gt;</th><th scope=col>&lt;chr&gt;</th></tr>\n",
       "</thead>\n",
       "<tbody>\n",
       "\t<tr><th scope=row>28</th><td>7316814884</td><td>https://auburn.craigslist.org/ctd/d/auburn-university-2014-gmc-sierra-1500/7316814884.html</td><td>auburn</td><td>https://auburn.craigslist.org</td><td>33590</td><td>2014</td><td>gmc      </td><td>sierra 1500 crew cab slt   </td><td>good     </td><td>8 cylinders</td><td>...</td><td>         </td><td>pickup</td><td>white</td><td>https://images.craigslist.org/00R0R_lwWjXSEWNa7z_0x20oM_600x450.jpg</td><td>Carvana is the safer way to buy a car During these uncertain times, Carvana is dedicated to ensuring safety for all of our customers. In addition to our 100% online shopping and selling experience that allows all customers to buy and trade their cars without ever leaving the safety of their house, we<e2><80><99>re providing touchless delivery that make all aspects of our process even safer. Now, you can get the car you want, and trade in your old one, while avoiding person-to-person contact with our friendly advocates. There are some things that can<e2><80><99>t be put off. And if buying a car is one of them, know that we<e2><80><99>re doing everything we can to keep you keep moving while continuing to put your health safety, and happiness first. Vehicle Stock# 2000909557<f0><9f><93><b1> Want to instantly check this car<e2><80><99>s availability? Call us at  334-758-9176Just text that stock number to 855-976-4304 or head to http://www.carvanaauto.com/7171237-74502 and plug it into the search bar!Get PRE-QUALIFIED for your auto loan in 2 minutes - no hit to your credit:http://finance.carvanaauto.com/7171237-74502Looking for more cars like this one? We have 63 GMC Sierra 1500 Crew Cab in stock for as low as $23990!Why buy with Carvana? We have one standard: the highest. Take a look at just some of the qualifications all of our cars must meet before we list them.150-POINT INSPECTION: We put each vehicle through a 150-point inspection so that you can be 100% confident in its quality and safety. See everything that goes into our inspections at:http://www.carvanaauto.com/7171237-74502NO REPORTED ACCIDENTS: We do not sell cars that have been in a reported accident or have a frame or structural damage.7 DAY TEST OWN MONEY BACK GUARANTEE: Every Carvana car comes with a 7-day money-back guarantee. Why? It takes more than 15-minutes to make a decision on your next car. Learn more about test owning at http://about.carvanaauto.comFLEXIBLE FINANCING, TRADE INS WELCOME: We<e2><80><99>re all about real-time financing without the middle man. Need financing? Pick a combination of down and monthly payments that work for you. Have a trade-in? We<e2><80><99>ll give you a value in 2 minutes. Check out everything about our financing at:http://finance.carvanaauto.com/7171237-74502COST SAVINGS: Carvana's business model has fewer expenses and no bloated fees compared to your local dealership. See how much we can save you at http://about.carvanaauto.comPREMIUM DETAIL: We go the extra mile so that your car is looking as good as new. There are a lot of specifics that we won<e2><80><99>t list here (we wash, clean, buff, paint, polish, wax, seal), but trust us that when your car arrives, it<e2><80><99>s going to look sweet.Vehicle Info for Stock# 2000909557Trim: SLT Pickup 4D 5 3/4 ft pickupMileage: 57k milesExterior Color: WhiteInterior Color: Lt. BrownEngine: EcoTec3 5.3L Flex Fuel V8 355hp 383ft. lbs.Drive: Two Wheel DriveTransmission: VIN: 3GTP1VEC4EG551563Dealer Disclosure: Price excludes tax, title, and registration (which we handle for you).Disclaimer: You agree that by providing your phone number, Carvana, or Carvana<e2><80><99>s authorized representatives*, may call and/or send text messages (including by using equipment to automatically dial telephone numbers) about your interest in a purchase, for marketing/sales purposes, or for any other servicing or informational purpose related to your account. You do not have to consent to receiving calls or texts to purchase from Carvana. While every reasonable effort is made to ensure the accuracy of the information for this GMC Sierra 1500 Crew Cab, we are not responsible for any errors or omissions contained in this ad. Please verify any information in question with Carvana at 334-758-9176*Including, but not limited to, Bridgecrest Credit Company, GO Financial and SilverRock Automotive.*GMC* *Sierra* *1500* *Crew* *Cab* *Base* *GMC* *Sierra* *1500* *Crew* *Cab* *SLE* *GMC* *Sierra* *1500* *Crew* *Cab* *SLT* *GMC* *Sierra* *1500* *Crew* *Cab* *Denali* *GMC* *Sierra* *1500* *Crew* *Cab* *Work* *Truck* *4x2* *GMC* *Sierra* *1500* *Crew* *Cab* *4x4* *Crew* *Cab* *GMC* *Sierra* *1500* *Crew* *Cab* *Regular* *Cab* *Extended* *Cab* *Truck* 2022  2021  2020  2019  2018  2017  2016  2015  2014  2013  2012  2011  2010  2009  2008  2007  2006  2005  2004  2003  2002  2001  2000   22  21    19  18  17  16  15  14  13  12  11  10  09  08  07  06  05  04  03  02  01  00                                                                                                                                                                                                                                                                                                                            </td><td>NA</td><td>al</td><td>32.590</td><td>-85.4800</td><td>2021-05-04T12:31:18-0500</td></tr>\n",
       "\t<tr><th scope=row>29</th><td>7316814758</td><td>https://auburn.craigslist.org/ctd/d/auburn-university-2010-chevy-chevrolet/7316814758.html</td><td>auburn</td><td>https://auburn.craigslist.org</td><td>22590</td><td>2010</td><td>chevrolet</td><td>silverado 1500             </td><td>good     </td><td>8 cylinders</td><td>...</td><td>         </td><td>pickup</td><td>blue </td><td>https://images.craigslist.org/00R0R_lwWjXSEWNa7z_0x20oM_600x450.jpg</td><td>Carvana is the safer way to buy a car During these uncertain times, Carvana is dedicated to ensuring safety for all of our customers. In addition to our 100% online shopping and selling experience that allows all customers to buy and trade their cars without ever leaving the safety of their house, we<e2><80><99>re providing touchless delivery that make all aspects of our process even safer. Now, you can get the car you want, and trade in your old one, while avoiding person-to-person contact with our friendly advocates. There are some things that can<e2><80><99>t be put off. And if buying a car is one of them, know that we<e2><80><99>re doing everything we can to keep you keep moving while continuing to put your health safety, and happiness first. Vehicle Stock# 2000977114<f0><9f><93><b1> Want to instantly check this car<e2><80><99>s availability? Call us at  334-758-9176Just text that stock number to 855-976-4304 or head to http://www.carvanaauto.com/7163375-74502 and plug it into the search bar!Get PRE-QUALIFIED for your auto loan in 2 minutes - no hit to your credit:http://finance.carvanaauto.com/7163375-74502Looking for more cars like this one? We have 10 Chevrolet Silverado 1500 Extended Cab in stock for as low as $20990!Why buy with Carvana? We have one standard: the highest. Take a look at just some of the qualifications all of our cars must meet before we list them.150-POINT INSPECTION: We put each vehicle through a 150-point inspection so that you can be 100% confident in its quality and safety. See everything that goes into our inspections at:http://www.carvanaauto.com/7163375-74502NO REPORTED ACCIDENTS: We do not sell cars that have been in a reported accident or have a frame or structural damage.7 DAY TEST OWN MONEY BACK GUARANTEE: Every Carvana car comes with a 7-day money-back guarantee. Why? It takes more than 15-minutes to make a decision on your next car. Learn more about test owning at http://about.carvanaauto.comFLEXIBLE FINANCING, TRADE INS WELCOME: We<e2><80><99>re all about real-time financing without the middle man. Need financing? Pick a combination of down and monthly payments that work for you. Have a trade-in? We<e2><80><99>ll give you a value in 2 minutes. Check out everything about our financing at:http://finance.carvanaauto.com/7163375-74502COST SAVINGS: Carvana's business model has fewer expenses and no bloated fees compared to your local dealership. See how much we can save you at http://about.carvanaauto.comPREMIUM DETAIL: We go the extra mile so that your car is looking as good as new. There are a lot of specifics that we won<e2><80><99>t list here (we wash, clean, buff, paint, polish, wax, seal), but trust us that when your car arrives, it<e2><80><99>s going to look sweet.Vehicle Info for Stock# 2000977114Trim: LT Pickup 4D 6 1/2 ft pickupMileage: 71k milesExterior Color: BlueInterior Color: BlackEngine: Vortec 5.3L Flex Fuel V8 315hp 335ft. lbs.Drive: Two Wheel DriveTransmission: VIN: 1GCSCSE06AZ123805Dealer Disclosure: Price excludes tax, title, and registration (which we handle for you).Disclaimer: You agree that by providing your phone number, Carvana, or Carvana<e2><80><99>s authorized representatives*, may call and/or send text messages (including by using equipment to automatically dial telephone numbers) about your interest in a purchase, for marketing/sales purposes, or for any other servicing or informational purpose related to your account. You do not have to consent to receiving calls or texts to purchase from Carvana. While every reasonable effort is made to ensure the accuracy of the information for this Chevrolet Silverado 1500 Extended Cab, we are not responsible for any errors or omissions contained in this ad. Please verify any information in question with Carvana at 334-758-9176*Including, but not limited to, Bridgecrest Credit Company, GO Financial and SilverRock Automotive.*Chevrolet* *Silverado* *1500* *Extended* *Cab* *Chevy* *Chevrolet* *Silverado* *1500* *Extended* *Cab* *HD* *Crew* *Cab* *LS* *Pickup* *Chevrolet* *Silverado* *1500* *Extended* *Cab* *LS* *Chevrolet* *Silverado* *1500* *Extended* *Cab* *LT* *Chevrolet* *Silverado* *1500* *Extended* *Cab* *LTZ* *Chevrolet* *Silverado* *1500* *Extended* *Cab* *LT1* *Chevrolet* *Silverado* *1500* *Extended* *Cab* *Crew* *Cab* *Chevrolet* *Silverado* *1500* *Extended* *Cab* *XtraCab* *Chevrolet* *Silverado* *1500* *Extended* *Cab* *2500HD* *Classic* *Pick* *up* 2022  2021  2020  2019  2018  2017  2016  2015  2014  2013  2012  2011  2010  2009  2008  2007  2006  2005  2004  2003  2002  2001  2000   22  21    19  18  17  16  15  14  13  12  11  10  09  08  07  06  05  04  03  02  01  00                                                                                                       </td><td>NA</td><td>al</td><td>32.590</td><td>-85.4800</td><td>2021-05-04T12:31:08-0500</td></tr>\n",
       "\t<tr><th scope=row>30</th><td>7316814989</td><td>https://auburn.craigslist.org/ctd/d/auburn-university-2020-chevy-chevrolet/7316814989.html</td><td>auburn</td><td>https://auburn.craigslist.org</td><td>39590</td><td>2020</td><td>chevrolet</td><td>silverado 1500 crew        </td><td>good     </td><td>8 cylinders</td><td>...</td><td>         </td><td>pickup</td><td>red  </td><td>https://images.craigslist.org/01212_jjirIWa0y02z_0gw0co_600x450.jpg</td><td>Carvana is the safer way to buy a car During these uncertain times, Carvana is dedicated to ensuring safety for all of our customers. In addition to our 100% online shopping and selling experience that allows all customers to buy and trade their cars without ever leaving the safety of their house, we<e2><80><99>re providing touchless delivery that make all aspects of our process even safer. Now, you can get the car you want, and trade in your old one, while avoiding person-to-person contact with our friendly advocates. There are some things that can<e2><80><99>t be put off. And if buying a car is one of them, know that we<e2><80><99>re doing everything we can to keep you keep moving while continuing to put your health safety, and happiness first. Vehicle Stock# 2000948059<f0><9f><93><b1> Want to instantly check this car<e2><80><99>s availability? Call us at  334-758-9176Just text that stock number to 855-976-4304 or head to http://www.carvanaauto.com/6965441-74502 and plug it into the search bar!Get PRE-QUALIFIED for your auto loan in 2 minutes - no hit to your credit:http://finance.carvanaauto.com/6965441-74502Looking for more cars like this one? We have 144 Chevrolet Silverado 1500 Crew Cab in stock for as low as $20990!Why buy with Carvana? We have one standard: the highest. Take a look at just some of the qualifications all of our cars must meet before we list them.150-POINT INSPECTION: We put each vehicle through a 150-point inspection so that you can be 100% confident in its quality and safety. See everything that goes into our inspections at:http://www.carvanaauto.com/6965441-74502NO REPORTED ACCIDENTS: We do not sell cars that have been in a reported accident or have a frame or structural damage.7 DAY TEST OWN MONEY BACK GUARANTEE: Every Carvana car comes with a 7-day money-back guarantee. Why? It takes more than 15-minutes to make a decision on your next car. Learn more about test owning at http://about.carvanaauto.comFLEXIBLE FINANCING, TRADE INS WELCOME: We<e2><80><99>re all about real-time financing without the middle man. Need financing? Pick a combination of down and monthly payments that work for you. Have a trade-in? We<e2><80><99>ll give you a value in 2 minutes. Check out everything about our financing at:http://finance.carvanaauto.com/6965441-74502COST SAVINGS: Carvana's business model has fewer expenses and no bloated fees compared to your local dealership. See how much we can save you at http://about.carvanaauto.comPREMIUM DETAIL: We go the extra mile so that your car is looking as good as new. There are a lot of specifics that we won<e2><80><99>t list here (we wash, clean, buff, paint, polish, wax, seal), but trust us that when your car arrives, it<e2><80><99>s going to look sweet.Vehicle Info for Stock# 2000948059Trim: LT Pickup 4D 5 3/4 ft pickupMileage: 19k milesExterior Color: RedInterior Color: BLACKEngine: EcoTec3 5.3L V8 355hp 383ft. lbs.Drive: Two Wheel DriveTransmission: VIN: 3GCPWCED5LG130317Dealer Disclosure: Price excludes tax, title, and registration (which we handle for you).Disclaimer: You agree that by providing your phone number, Carvana, or Carvana<e2><80><99>s authorized representatives*, may call and/or send text messages (including by using equipment to automatically dial telephone numbers) about your interest in a purchase, for marketing/sales purposes, or for any other servicing or informational purpose related to your account. You do not have to consent to receiving calls or texts to purchase from Carvana. While every reasonable effort is made to ensure the accuracy of the information for this Chevrolet Silverado 1500 Crew Cab, we are not responsible for any errors or omissions contained in this ad. Please verify any information in question with Carvana at 334-758-9176*Including, but not limited to, Bridgecrest Credit Company, GO Financial and SilverRock Automotive.*Chevrolet* *Silverado* *1500* *Crew* *Cab* *Chevy* *Chevrolet* *Silverado* *1500* *Crew* *Cab* *HD* *Crew* *Cab* *LS* *Pickup* *Chevrolet* *Silverado* *1500* *Crew* *Cab* *LS* *Chevrolet* *Silverado* *1500* *Crew* *Cab* *LT* *Chevrolet* *Silverado* *1500* *Crew* *Cab* *LTZ* *Chevrolet* *Silverado* *1500* *Crew* *Cab* *LT1* *Chevrolet* *Silverado* *1500* *Crew* *Cab* *Crew* *Cab* *Chevrolet* *Silverado* *1500* *Crew* *Cab* *XtraCab* *Chevrolet* *Silverado* *1500* *Crew* *Cab* *2500HD* *Classic* *Pick* *up* 2022  2021  2020  2019  2018  2017  2016  2015  2014  2013  2012  2011  2010  2009  2008  2007  2006  2005  2004  2003  2002  2001  2000   22  21    19  18  17  16  15  14  13  12  11  10  09  08  07  06  05  04  03  02  01  00                                                                                                                                                            </td><td>NA</td><td>al</td><td>32.590</td><td>-85.4800</td><td>2021-05-04T12:31:25-0500</td></tr>\n",
       "\t<tr><th scope=row>31</th><td>7316743432</td><td>https://auburn.craigslist.org/ctd/d/auburn-university-2017-toyota-tundra/7316743432.html  </td><td>auburn</td><td>https://auburn.craigslist.org</td><td>30990</td><td>2017</td><td>toyota   </td><td>tundra double cab sr       </td><td>good     </td><td>8 cylinders</td><td>...</td><td>         </td><td>pickup</td><td>red  </td><td>https://images.craigslist.org/00x0x_1y9kIOzGCFaz_0gw0co_600x450.jpg</td><td>Carvana is the safer way to buy a car During these uncertain times, Carvana is dedicated to ensuring safety for all of our customers. In addition to our 100% online shopping and selling experience that allows all customers to buy and trade their cars without ever leaving the safety of their house, we<e2><80><99>re providing touchless delivery that make all aspects of our process even safer. Now, you can get the car you want, and trade in your old one, while avoiding person-to-person contact with our friendly advocates. There are some things that can<e2><80><99>t be put off. And if buying a car is one of them, know that we<e2><80><99>re doing everything we can to keep you keep moving while continuing to put your health safety, and happiness first. Vehicle Stock# 2000905180<f0><9f><93><b1> Want to instantly check this car<e2><80><99>s availability? Call us at  334-758-9176Just text that stock number to 855-976-4304 or head to http://www.carvanaauto.com/6964121-74502 and plug it into the search bar!Get PRE-QUALIFIED for your auto loan in 2 minutes - no hit to your credit:http://finance.carvanaauto.com/6964121-74502Looking for more cars like this one? We have 24 Toyota Tundra Double Cab in stock for as low as $23990!Why buy with Carvana? We have one standard: the highest. Take a look at just some of the qualifications all of our cars must meet before we list them.150-POINT INSPECTION: We put each vehicle through a 150-point inspection so that you can be 100% confident in its quality and safety. See everything that goes into our inspections at:http://www.carvanaauto.com/6964121-74502NO REPORTED ACCIDENTS: We do not sell cars that have been in a reported accident or have a frame or structural damage.7 DAY TEST OWN MONEY BACK GUARANTEE: Every Carvana car comes with a 7-day money-back guarantee. Why? It takes more than 15-minutes to make a decision on your next car. Learn more about test owning at http://about.carvanaauto.comFLEXIBLE FINANCING, TRADE INS WELCOME: We<e2><80><99>re all about real-time financing without the middle man. Need financing? Pick a combination of down and monthly payments that work for you. Have a trade-in? We<e2><80><99>ll give you a value in 2 minutes. Check out everything about our financing at:http://finance.carvanaauto.com/6964121-74502COST SAVINGS: Carvana's business model has fewer expenses and no bloated fees compared to your local dealership. See how much we can save you at http://about.carvanaauto.comPREMIUM DETAIL: We go the extra mile so that your car is looking as good as new. There are a lot of specifics that we won<e2><80><99>t list here (we wash, clean, buff, paint, polish, wax, seal), but trust us that when your car arrives, it<e2><80><99>s going to look sweet.Vehicle Info for Stock# 2000905180Trim: SR Pickup 4D 6 1/2 ft pickupMileage: 41k milesExterior Color: RedInterior Color: GRAYEngine: 4.6L V8 310hp 327ft. lbs.Drive: Two Wheel DriveTransmission: VIN: 5TFRM5F17HX120972Dealer Disclosure: Price excludes tax, title, and registration (which we handle for you).Disclaimer: You agree that by providing your phone number, Carvana, or Carvana<e2><80><99>s authorized representatives*, may call and/or send text messages (including by using equipment to automatically dial telephone numbers) about your interest in a purchase, for marketing/sales purposes, or for any other servicing or informational purpose related to your account. You do not have to consent to receiving calls or texts to purchase from Carvana. While every reasonable effort is made to ensure the accuracy of the information for this Toyota Tundra Double Cab, we are not responsible for any errors or omissions contained in this ad. Please verify any information in question with Carvana at 334-758-9176*Including, but not limited to, Bridgecrest Credit Company, GO Financial and SilverRock Automotive.*Toyota* *Tundra* *Double* *Cab* *2WD* *Truck* *Toyota* *Tundra* *Double* *Cab* *4WD* *Toyota* *Tundra* *Double* *Cab* *Access* *Cab* *Limited* *Toyota* *Tundra* *Double* *Cab* *Access* *Cab* *SR5* *Toyota* *Tundra* *Double* *Cab* *CrewMax* *Limited* *Toyota* *Tundra* *Double* *Cab* *CrewMax* *Toyota* *Tundra* *Double* *Cab* *CrewMax* *SR5* *Toyota* *Tundra* *Double* *Cab* *Double* *Cab* *Toyota* *Tundra* *Double* *Cab* *Double* *Cab* *Limited* *Toyota* *Tundra* *Double* *Cab* *Double* *Cab* *SR5* *Toyota* *Tundra* *Double* *Cab* *Regular* *Cab* *Toyota* *Tundra* *Double* *Cab* *SR* *Toyota* *Tundra* *Double* *Cab* *Platinum* *Toyota* *Tundra* *Double* *Cab* *electric* *hybrid* *Pickup* 2022  2021  2020  2019  2018  2017  2016  2015  2014  2013  2012  2011  2010  2009  2008  2007  2006  2005  2004  2003  2002  2001  2000   22  21    19  18  17  16  15  14  13  12  11  10  09  08  07  06  05  04  03  02  01  00</td><td>NA</td><td>al</td><td>32.590</td><td>-85.4800</td><td>2021-05-04T10:41:31-0500</td></tr>\n",
       "\t<tr><th scope=row>32</th><td>7316356412</td><td>https://auburn.craigslist.org/cto/d/auburn-university-2013-150/7316356412.html            </td><td>auburn</td><td>https://auburn.craigslist.org</td><td>15000</td><td>2013</td><td>ford     </td><td>f-150 xlt                  </td><td>excellent</td><td>6 cylinders</td><td>...</td><td>full-size</td><td>truck </td><td>black</td><td>https://images.craigslist.org/00404_l4loxHvdQefz_0CI0t2_600x450.jpg</td><td>2013 F-150 XLT V6 4 Door. Good condition. Leveling kit. New Tires.                                                                                                                                                                                                                                                                                                                                                                                                                                                                                                                                                                                                                                                                                                                                                                                                                                                                                                                                                                                                                                                                                                                                                                                                                                                                                                                                                                                                                                                                                                                                                                                                                                                                                                                                                                                                                                                                                                                                                                                                                                                                                                                                                                                                                                                                                                                                                                                                                                                                                                                                                                                                                                                                                                                                                                                                                                                                                                                                                                                                                                                                                                                                                                                                                                                                                                                                                                                                                                                                                                                                                                                                                                                                                                                                                                                                                                                                                                                                                                                                                                                                                                                                                                                                                                                                                                                                                                                                                                                                                                                                                                                                                                                                                                                                                                                                                                                                                                       </td><td>NA</td><td>al</td><td>32.592</td><td>-85.5189</td><td>2021-05-03T14:02:03-0500</td></tr>\n",
       "\t<tr><th scope=row>33</th><td>7316343444</td><td>https://auburn.craigslist.org/ctd/d/auburn-university-2012-gmc-sierra-2500/7316343444.html</td><td>auburn</td><td>https://auburn.craigslist.org</td><td>27990</td><td>2012</td><td>gmc      </td><td>sierra 2500 hd extended cab</td><td>good     </td><td>8 cylinders</td><td>...</td><td>         </td><td>pickup</td><td>black</td><td>https://images.craigslist.org/00V0V_ftJbKrOgdi5z_0gw0co_600x450.jpg</td><td>Carvana is the safer way to buy a car During these uncertain times, Carvana is dedicated to ensuring safety for all of our customers. In addition to our 100% online shopping and selling experience that allows all customers to buy and trade their cars without ever leaving the safety of their house, we<e2><80><99>re providing touchless delivery that make all aspects of our process even safer. Now, you can get the car you want, and trade in your old one, while avoiding person-to-person contact with our friendly advocates. There are some things that can<e2><80><99>t be put off. And if buying a car is one of them, know that we<e2><80><99>re doing everything we can to keep you keep moving while continuing to put your health safety, and happiness first. Vehicle Stock# 2000839840<f0><9f><93><b1> Want to instantly check this car<e2><80><99>s availability? Call us at  334-758-9176Just text that stock number to 855-976-4304 or head to http://www.carvanaauto.com/7164202-74502 and plug it into the search bar!Get PRE-QUALIFIED for your auto loan in 2 minutes - no hit to your credit:http://finance.carvanaauto.com/7164202-74502Looking for more cars like this one? We have 1 GMC Sierra 2500 HD Extended Cab in stock for as low as $27990!Why buy with Carvana? We have one standard: the highest. Take a look at just some of the qualifications all of our cars must meet before we list them.150-POINT INSPECTION: We put each vehicle through a 150-point inspection so that you can be 100% confident in its quality and safety. See everything that goes into our inspections at:http://www.carvanaauto.com/7164202-74502NO REPORTED ACCIDENTS: We do not sell cars that have been in a reported accident or have a frame or structural damage.7 DAY TEST OWN MONEY BACK GUARANTEE: Every Carvana car comes with a 7-day money-back guarantee. Why? It takes more than 15-minutes to make a decision on your next car. Learn more about test owning at http://about.carvanaauto.comFLEXIBLE FINANCING, TRADE INS WELCOME: We<e2><80><99>re all about real-time financing without the middle man. Need financing? Pick a combination of down and monthly payments that work for you. Have a trade-in? We<e2><80><99>ll give you a value in 2 minutes. Check out everything about our financing at:http://finance.carvanaauto.com/7164202-74502COST SAVINGS: Carvana's business model has fewer expenses and no bloated fees compared to your local dealership. See how much we can save you at http://about.carvanaauto.comPREMIUM DETAIL: We go the extra mile so that your car is looking as good as new. There are a lot of specifics that we won<e2><80><99>t list here (we wash, clean, buff, paint, polish, wax, seal), but trust us that when your car arrives, it<e2><80><99>s going to look sweet.Vehicle Info for Stock# 2000839840Trim: SLE Pickup 4D 6 1/2 ft pickupMileage: 68k milesExterior Color: BlackInterior Color: BLACKEngine: 6.0L V8 360hp 380ft. lbs.Drive: 4wdTransmission: Automatic, 6-Spd HD w/OverdriveVIN: 1GT220CG8CZ231238Dealer Disclosure: Price excludes tax, title, and registration (which we handle for you).Disclaimer: You agree that by providing your phone number, Carvana, or Carvana<e2><80><99>s authorized representatives*, may call and/or send text messages (including by using equipment to automatically dial telephone numbers) about your interest in a purchase, for marketing/sales purposes, or for any other servicing or informational purpose related to your account. You do not have to consent to receiving calls or texts to purchase from Carvana. While every reasonable effort is made to ensure the accuracy of the information for this GMC Sierra 2500 HD Extended Cab, we are not responsible for any errors or omissions contained in this ad. Please verify any information in question with Carvana at 334-758-9176*Including, but not limited to, Bridgecrest Credit Company, GO Financial and SilverRock Automotive.*GMC* *Sierra* *2500* *HD* *Extended* *Cab* *Base* *GMC* *Sierra* *2500* *HD* *Extended* *Cab* *SLE* *GMC* *Sierra* *2500* *HD* *Extended* *Cab* *SLT* *GMC* *Sierra* *2500* *HD* *Extended* *Cab* *Denali* *GMC* *Sierra* *2500* *HD* *Extended* *Cab* *Work* *Truck* *4x2* *GMC* *Sierra* *2500* *HD* *Extended* *Cab* *4x4* *Crew* *Cab* *GMC* *Sierra* *2500* *HD* *Extended* *Cab* *Regular* *Cab* *Extended* *Cab* *Truck* 2022  2021  2020  2019  2018  2017  2016  2015  2014  2013  2012  2011  2010  2009  2008  2007  2006  2005  2004  2003  2002  2001  2000   22  21    19  18  17  16  15  14  13  12  11  10  09  08  07  06  05  04  03  02  01  00                                                                                                                                                                                                                                                   </td><td>NA</td><td>al</td><td>32.590</td><td>-85.4800</td><td>2021-05-03T13:41:25-0500</td></tr>\n",
       "</tbody>\n",
       "</table>\n"
      ],
      "text/latex": [
       "A data.frame: 6 x 26\n",
       "\\begin{tabular}{r|lllllllllllllllllllll}\n",
       "  & id & url & region & region\\_url & price & year & manufacturer & model & condition & cylinders & ... & size & type & paint\\_color & image\\_url & description & county & state & lat & long & posting\\_date\\\\\n",
       "  & <dbl> & <chr> & <chr> & <chr> & <dbl> & <int> & <chr> & <chr> & <chr> & <chr> & ... & <chr> & <chr> & <chr> & <chr> & <chr> & <lgl> & <chr> & <dbl> & <dbl> & <chr>\\\\\n",
       "\\hline\n",
       "\t28 & 7316814884 & https://auburn.craigslist.org/ctd/d/auburn-university-2014-gmc-sierra-1500/7316814884.html & auburn & https://auburn.craigslist.org & 33590 & 2014 & gmc       & sierra 1500 crew cab slt    & good      & 8 cylinders & ... &           & pickup & white & https://images.craigslist.org/00R0R\\_lwWjXSEWNa7z\\_0x20oM\\_600x450.jpg & Carvana is the safer way to buy a car During these uncertain times, Carvana is dedicated to ensuring safety for all of our customers. In addition to our 100\\% online shopping and selling experience that allows all customers to buy and trade their cars without ever leaving the safety of their house, we<e2><80><99>re providing touchless delivery that make all aspects of our process even safer. Now, you can get the car you want, and trade in your old one, while avoiding person-to-person contact with our friendly advocates. There are some things that can<e2><80><99>t be put off. And if buying a car is one of them, know that we<e2><80><99>re doing everything we can to keep you keep moving while continuing to put your health safety, and happiness first. Vehicle Stock\\# 2000909557<f0><9f><93><b1> Want to instantly check this car<e2><80><99>s availability? Call us at  334-758-9176Just text that stock number to 855-976-4304 or head to http://www.carvanaauto.com/7171237-74502 and plug it into the search bar!Get PRE-QUALIFIED for your auto loan in 2 minutes - no hit to your credit:http://finance.carvanaauto.com/7171237-74502Looking for more cars like this one? We have 63 GMC Sierra 1500 Crew Cab in stock for as low as \\$23990!Why buy with Carvana? We have one standard: the highest. Take a look at just some of the qualifications all of our cars must meet before we list them.150-POINT INSPECTION: We put each vehicle through a 150-point inspection so that you can be 100\\% confident in its quality and safety. See everything that goes into our inspections at:http://www.carvanaauto.com/7171237-74502NO REPORTED ACCIDENTS: We do not sell cars that have been in a reported accident or have a frame or structural damage.7 DAY TEST OWN MONEY BACK GUARANTEE: Every Carvana car comes with a 7-day money-back guarantee. Why? It takes more than 15-minutes to make a decision on your next car. Learn more about test owning at http://about.carvanaauto.comFLEXIBLE FINANCING, TRADE INS WELCOME: We<e2><80><99>re all about real-time financing without the middle man. Need financing? Pick a combination of down and monthly payments that work for you. Have a trade-in? We<e2><80><99>ll give you a value in 2 minutes. Check out everything about our financing at:http://finance.carvanaauto.com/7171237-74502COST SAVINGS: Carvana's business model has fewer expenses and no bloated fees compared to your local dealership. See how much we can save you at http://about.carvanaauto.comPREMIUM DETAIL: We go the extra mile so that your car is looking as good as new. There are a lot of specifics that we won<e2><80><99>t list here (we wash, clean, buff, paint, polish, wax, seal), but trust us that when your car arrives, it<e2><80><99>s going to look sweet.Vehicle Info for Stock\\# 2000909557Trim: SLT Pickup 4D 5 3/4 ft pickupMileage: 57k milesExterior Color: WhiteInterior Color: Lt. BrownEngine: EcoTec3 5.3L Flex Fuel V8 355hp 383ft. lbs.Drive: Two Wheel DriveTransmission: VIN: 3GTP1VEC4EG551563Dealer Disclosure: Price excludes tax, title, and registration (which we handle for you).Disclaimer: You agree that by providing your phone number, Carvana, or Carvana<e2><80><99>s authorized representatives*, may call and/or send text messages (including by using equipment to automatically dial telephone numbers) about your interest in a purchase, for marketing/sales purposes, or for any other servicing or informational purpose related to your account. You do not have to consent to receiving calls or texts to purchase from Carvana. While every reasonable effort is made to ensure the accuracy of the information for this GMC Sierra 1500 Crew Cab, we are not responsible for any errors or omissions contained in this ad. Please verify any information in question with Carvana at 334-758-9176*Including, but not limited to, Bridgecrest Credit Company, GO Financial and SilverRock Automotive.*GMC* *Sierra* *1500* *Crew* *Cab* *Base* *GMC* *Sierra* *1500* *Crew* *Cab* *SLE* *GMC* *Sierra* *1500* *Crew* *Cab* *SLT* *GMC* *Sierra* *1500* *Crew* *Cab* *Denali* *GMC* *Sierra* *1500* *Crew* *Cab* *Work* *Truck* *4x2* *GMC* *Sierra* *1500* *Crew* *Cab* *4x4* *Crew* *Cab* *GMC* *Sierra* *1500* *Crew* *Cab* *Regular* *Cab* *Extended* *Cab* *Truck* 2022  2021  2020  2019  2018  2017  2016  2015  2014  2013  2012  2011  2010  2009  2008  2007  2006  2005  2004  2003  2002  2001  2000   22  21    19  18  17  16  15  14  13  12  11  10  09  08  07  06  05  04  03  02  01  00                                                                                                                                                                                                                                                                                                                             & NA & al & 32.590 & -85.4800 & 2021-05-04T12:31:18-0500\\\\\n",
       "\t29 & 7316814758 & https://auburn.craigslist.org/ctd/d/auburn-university-2010-chevy-chevrolet/7316814758.html & auburn & https://auburn.craigslist.org & 22590 & 2010 & chevrolet & silverado 1500              & good      & 8 cylinders & ... &           & pickup & blue  & https://images.craigslist.org/00R0R\\_lwWjXSEWNa7z\\_0x20oM\\_600x450.jpg & Carvana is the safer way to buy a car During these uncertain times, Carvana is dedicated to ensuring safety for all of our customers. In addition to our 100\\% online shopping and selling experience that allows all customers to buy and trade their cars without ever leaving the safety of their house, we<e2><80><99>re providing touchless delivery that make all aspects of our process even safer. Now, you can get the car you want, and trade in your old one, while avoiding person-to-person contact with our friendly advocates. There are some things that can<e2><80><99>t be put off. And if buying a car is one of them, know that we<e2><80><99>re doing everything we can to keep you keep moving while continuing to put your health safety, and happiness first. Vehicle Stock\\# 2000977114<f0><9f><93><b1> Want to instantly check this car<e2><80><99>s availability? Call us at  334-758-9176Just text that stock number to 855-976-4304 or head to http://www.carvanaauto.com/7163375-74502 and plug it into the search bar!Get PRE-QUALIFIED for your auto loan in 2 minutes - no hit to your credit:http://finance.carvanaauto.com/7163375-74502Looking for more cars like this one? We have 10 Chevrolet Silverado 1500 Extended Cab in stock for as low as \\$20990!Why buy with Carvana? We have one standard: the highest. Take a look at just some of the qualifications all of our cars must meet before we list them.150-POINT INSPECTION: We put each vehicle through a 150-point inspection so that you can be 100\\% confident in its quality and safety. See everything that goes into our inspections at:http://www.carvanaauto.com/7163375-74502NO REPORTED ACCIDENTS: We do not sell cars that have been in a reported accident or have a frame or structural damage.7 DAY TEST OWN MONEY BACK GUARANTEE: Every Carvana car comes with a 7-day money-back guarantee. Why? It takes more than 15-minutes to make a decision on your next car. Learn more about test owning at http://about.carvanaauto.comFLEXIBLE FINANCING, TRADE INS WELCOME: We<e2><80><99>re all about real-time financing without the middle man. Need financing? Pick a combination of down and monthly payments that work for you. Have a trade-in? We<e2><80><99>ll give you a value in 2 minutes. Check out everything about our financing at:http://finance.carvanaauto.com/7163375-74502COST SAVINGS: Carvana's business model has fewer expenses and no bloated fees compared to your local dealership. See how much we can save you at http://about.carvanaauto.comPREMIUM DETAIL: We go the extra mile so that your car is looking as good as new. There are a lot of specifics that we won<e2><80><99>t list here (we wash, clean, buff, paint, polish, wax, seal), but trust us that when your car arrives, it<e2><80><99>s going to look sweet.Vehicle Info for Stock\\# 2000977114Trim: LT Pickup 4D 6 1/2 ft pickupMileage: 71k milesExterior Color: BlueInterior Color: BlackEngine: Vortec 5.3L Flex Fuel V8 315hp 335ft. lbs.Drive: Two Wheel DriveTransmission: VIN: 1GCSCSE06AZ123805Dealer Disclosure: Price excludes tax, title, and registration (which we handle for you).Disclaimer: You agree that by providing your phone number, Carvana, or Carvana<e2><80><99>s authorized representatives*, may call and/or send text messages (including by using equipment to automatically dial telephone numbers) about your interest in a purchase, for marketing/sales purposes, or for any other servicing or informational purpose related to your account. You do not have to consent to receiving calls or texts to purchase from Carvana. While every reasonable effort is made to ensure the accuracy of the information for this Chevrolet Silverado 1500 Extended Cab, we are not responsible for any errors or omissions contained in this ad. Please verify any information in question with Carvana at 334-758-9176*Including, but not limited to, Bridgecrest Credit Company, GO Financial and SilverRock Automotive.*Chevrolet* *Silverado* *1500* *Extended* *Cab* *Chevy* *Chevrolet* *Silverado* *1500* *Extended* *Cab* *HD* *Crew* *Cab* *LS* *Pickup* *Chevrolet* *Silverado* *1500* *Extended* *Cab* *LS* *Chevrolet* *Silverado* *1500* *Extended* *Cab* *LT* *Chevrolet* *Silverado* *1500* *Extended* *Cab* *LTZ* *Chevrolet* *Silverado* *1500* *Extended* *Cab* *LT1* *Chevrolet* *Silverado* *1500* *Extended* *Cab* *Crew* *Cab* *Chevrolet* *Silverado* *1500* *Extended* *Cab* *XtraCab* *Chevrolet* *Silverado* *1500* *Extended* *Cab* *2500HD* *Classic* *Pick* *up* 2022  2021  2020  2019  2018  2017  2016  2015  2014  2013  2012  2011  2010  2009  2008  2007  2006  2005  2004  2003  2002  2001  2000   22  21    19  18  17  16  15  14  13  12  11  10  09  08  07  06  05  04  03  02  01  00                                                                                                        & NA & al & 32.590 & -85.4800 & 2021-05-04T12:31:08-0500\\\\\n",
       "\t30 & 7316814989 & https://auburn.craigslist.org/ctd/d/auburn-university-2020-chevy-chevrolet/7316814989.html & auburn & https://auburn.craigslist.org & 39590 & 2020 & chevrolet & silverado 1500 crew         & good      & 8 cylinders & ... &           & pickup & red   & https://images.craigslist.org/01212\\_jjirIWa0y02z\\_0gw0co\\_600x450.jpg & Carvana is the safer way to buy a car During these uncertain times, Carvana is dedicated to ensuring safety for all of our customers. In addition to our 100\\% online shopping and selling experience that allows all customers to buy and trade their cars without ever leaving the safety of their house, we<e2><80><99>re providing touchless delivery that make all aspects of our process even safer. Now, you can get the car you want, and trade in your old one, while avoiding person-to-person contact with our friendly advocates. There are some things that can<e2><80><99>t be put off. And if buying a car is one of them, know that we<e2><80><99>re doing everything we can to keep you keep moving while continuing to put your health safety, and happiness first. Vehicle Stock\\# 2000948059<f0><9f><93><b1> Want to instantly check this car<e2><80><99>s availability? Call us at  334-758-9176Just text that stock number to 855-976-4304 or head to http://www.carvanaauto.com/6965441-74502 and plug it into the search bar!Get PRE-QUALIFIED for your auto loan in 2 minutes - no hit to your credit:http://finance.carvanaauto.com/6965441-74502Looking for more cars like this one? We have 144 Chevrolet Silverado 1500 Crew Cab in stock for as low as \\$20990!Why buy with Carvana? We have one standard: the highest. Take a look at just some of the qualifications all of our cars must meet before we list them.150-POINT INSPECTION: We put each vehicle through a 150-point inspection so that you can be 100\\% confident in its quality and safety. See everything that goes into our inspections at:http://www.carvanaauto.com/6965441-74502NO REPORTED ACCIDENTS: We do not sell cars that have been in a reported accident or have a frame or structural damage.7 DAY TEST OWN MONEY BACK GUARANTEE: Every Carvana car comes with a 7-day money-back guarantee. Why? It takes more than 15-minutes to make a decision on your next car. Learn more about test owning at http://about.carvanaauto.comFLEXIBLE FINANCING, TRADE INS WELCOME: We<e2><80><99>re all about real-time financing without the middle man. Need financing? Pick a combination of down and monthly payments that work for you. Have a trade-in? We<e2><80><99>ll give you a value in 2 minutes. Check out everything about our financing at:http://finance.carvanaauto.com/6965441-74502COST SAVINGS: Carvana's business model has fewer expenses and no bloated fees compared to your local dealership. See how much we can save you at http://about.carvanaauto.comPREMIUM DETAIL: We go the extra mile so that your car is looking as good as new. There are a lot of specifics that we won<e2><80><99>t list here (we wash, clean, buff, paint, polish, wax, seal), but trust us that when your car arrives, it<e2><80><99>s going to look sweet.Vehicle Info for Stock\\# 2000948059Trim: LT Pickup 4D 5 3/4 ft pickupMileage: 19k milesExterior Color: RedInterior Color: BLACKEngine: EcoTec3 5.3L V8 355hp 383ft. lbs.Drive: Two Wheel DriveTransmission: VIN: 3GCPWCED5LG130317Dealer Disclosure: Price excludes tax, title, and registration (which we handle for you).Disclaimer: You agree that by providing your phone number, Carvana, or Carvana<e2><80><99>s authorized representatives*, may call and/or send text messages (including by using equipment to automatically dial telephone numbers) about your interest in a purchase, for marketing/sales purposes, or for any other servicing or informational purpose related to your account. You do not have to consent to receiving calls or texts to purchase from Carvana. While every reasonable effort is made to ensure the accuracy of the information for this Chevrolet Silverado 1500 Crew Cab, we are not responsible for any errors or omissions contained in this ad. Please verify any information in question with Carvana at 334-758-9176*Including, but not limited to, Bridgecrest Credit Company, GO Financial and SilverRock Automotive.*Chevrolet* *Silverado* *1500* *Crew* *Cab* *Chevy* *Chevrolet* *Silverado* *1500* *Crew* *Cab* *HD* *Crew* *Cab* *LS* *Pickup* *Chevrolet* *Silverado* *1500* *Crew* *Cab* *LS* *Chevrolet* *Silverado* *1500* *Crew* *Cab* *LT* *Chevrolet* *Silverado* *1500* *Crew* *Cab* *LTZ* *Chevrolet* *Silverado* *1500* *Crew* *Cab* *LT1* *Chevrolet* *Silverado* *1500* *Crew* *Cab* *Crew* *Cab* *Chevrolet* *Silverado* *1500* *Crew* *Cab* *XtraCab* *Chevrolet* *Silverado* *1500* *Crew* *Cab* *2500HD* *Classic* *Pick* *up* 2022  2021  2020  2019  2018  2017  2016  2015  2014  2013  2012  2011  2010  2009  2008  2007  2006  2005  2004  2003  2002  2001  2000   22  21    19  18  17  16  15  14  13  12  11  10  09  08  07  06  05  04  03  02  01  00                                                                                                                                                             & NA & al & 32.590 & -85.4800 & 2021-05-04T12:31:25-0500\\\\\n",
       "\t31 & 7316743432 & https://auburn.craigslist.org/ctd/d/auburn-university-2017-toyota-tundra/7316743432.html   & auburn & https://auburn.craigslist.org & 30990 & 2017 & toyota    & tundra double cab sr        & good      & 8 cylinders & ... &           & pickup & red   & https://images.craigslist.org/00x0x\\_1y9kIOzGCFaz\\_0gw0co\\_600x450.jpg & Carvana is the safer way to buy a car During these uncertain times, Carvana is dedicated to ensuring safety for all of our customers. In addition to our 100\\% online shopping and selling experience that allows all customers to buy and trade their cars without ever leaving the safety of their house, we<e2><80><99>re providing touchless delivery that make all aspects of our process even safer. Now, you can get the car you want, and trade in your old one, while avoiding person-to-person contact with our friendly advocates. There are some things that can<e2><80><99>t be put off. And if buying a car is one of them, know that we<e2><80><99>re doing everything we can to keep you keep moving while continuing to put your health safety, and happiness first. Vehicle Stock\\# 2000905180<f0><9f><93><b1> Want to instantly check this car<e2><80><99>s availability? Call us at  334-758-9176Just text that stock number to 855-976-4304 or head to http://www.carvanaauto.com/6964121-74502 and plug it into the search bar!Get PRE-QUALIFIED for your auto loan in 2 minutes - no hit to your credit:http://finance.carvanaauto.com/6964121-74502Looking for more cars like this one? We have 24 Toyota Tundra Double Cab in stock for as low as \\$23990!Why buy with Carvana? We have one standard: the highest. Take a look at just some of the qualifications all of our cars must meet before we list them.150-POINT INSPECTION: We put each vehicle through a 150-point inspection so that you can be 100\\% confident in its quality and safety. See everything that goes into our inspections at:http://www.carvanaauto.com/6964121-74502NO REPORTED ACCIDENTS: We do not sell cars that have been in a reported accident or have a frame or structural damage.7 DAY TEST OWN MONEY BACK GUARANTEE: Every Carvana car comes with a 7-day money-back guarantee. Why? It takes more than 15-minutes to make a decision on your next car. Learn more about test owning at http://about.carvanaauto.comFLEXIBLE FINANCING, TRADE INS WELCOME: We<e2><80><99>re all about real-time financing without the middle man. Need financing? Pick a combination of down and monthly payments that work for you. Have a trade-in? We<e2><80><99>ll give you a value in 2 minutes. Check out everything about our financing at:http://finance.carvanaauto.com/6964121-74502COST SAVINGS: Carvana's business model has fewer expenses and no bloated fees compared to your local dealership. See how much we can save you at http://about.carvanaauto.comPREMIUM DETAIL: We go the extra mile so that your car is looking as good as new. There are a lot of specifics that we won<e2><80><99>t list here (we wash, clean, buff, paint, polish, wax, seal), but trust us that when your car arrives, it<e2><80><99>s going to look sweet.Vehicle Info for Stock\\# 2000905180Trim: SR Pickup 4D 6 1/2 ft pickupMileage: 41k milesExterior Color: RedInterior Color: GRAYEngine: 4.6L V8 310hp 327ft. lbs.Drive: Two Wheel DriveTransmission: VIN: 5TFRM5F17HX120972Dealer Disclosure: Price excludes tax, title, and registration (which we handle for you).Disclaimer: You agree that by providing your phone number, Carvana, or Carvana<e2><80><99>s authorized representatives*, may call and/or send text messages (including by using equipment to automatically dial telephone numbers) about your interest in a purchase, for marketing/sales purposes, or for any other servicing or informational purpose related to your account. You do not have to consent to receiving calls or texts to purchase from Carvana. While every reasonable effort is made to ensure the accuracy of the information for this Toyota Tundra Double Cab, we are not responsible for any errors or omissions contained in this ad. Please verify any information in question with Carvana at 334-758-9176*Including, but not limited to, Bridgecrest Credit Company, GO Financial and SilverRock Automotive.*Toyota* *Tundra* *Double* *Cab* *2WD* *Truck* *Toyota* *Tundra* *Double* *Cab* *4WD* *Toyota* *Tundra* *Double* *Cab* *Access* *Cab* *Limited* *Toyota* *Tundra* *Double* *Cab* *Access* *Cab* *SR5* *Toyota* *Tundra* *Double* *Cab* *CrewMax* *Limited* *Toyota* *Tundra* *Double* *Cab* *CrewMax* *Toyota* *Tundra* *Double* *Cab* *CrewMax* *SR5* *Toyota* *Tundra* *Double* *Cab* *Double* *Cab* *Toyota* *Tundra* *Double* *Cab* *Double* *Cab* *Limited* *Toyota* *Tundra* *Double* *Cab* *Double* *Cab* *SR5* *Toyota* *Tundra* *Double* *Cab* *Regular* *Cab* *Toyota* *Tundra* *Double* *Cab* *SR* *Toyota* *Tundra* *Double* *Cab* *Platinum* *Toyota* *Tundra* *Double* *Cab* *electric* *hybrid* *Pickup* 2022  2021  2020  2019  2018  2017  2016  2015  2014  2013  2012  2011  2010  2009  2008  2007  2006  2005  2004  2003  2002  2001  2000   22  21    19  18  17  16  15  14  13  12  11  10  09  08  07  06  05  04  03  02  01  00 & NA & al & 32.590 & -85.4800 & 2021-05-04T10:41:31-0500\\\\\n",
       "\t32 & 7316356412 & https://auburn.craigslist.org/cto/d/auburn-university-2013-150/7316356412.html             & auburn & https://auburn.craigslist.org & 15000 & 2013 & ford      & f-150 xlt                   & excellent & 6 cylinders & ... & full-size & truck  & black & https://images.craigslist.org/00404\\_l4loxHvdQefz\\_0CI0t2\\_600x450.jpg & 2013 F-150 XLT V6 4 Door. Good condition. Leveling kit. New Tires.                                                                                                                                                                                                                                                                                                                                                                                                                                                                                                                                                                                                                                                                                                                                                                                                                                                                                                                                                                                                                                                                                                                                                                                                                                                                                                                                                                                                                                                                                                                                                                                                                                                                                                                                                                                                                                                                                                                                                                                                                                                                                                                                                                                                                                                                                                                                                                                                                                                                                                                                                                                                                                                                                                                                                                                                                                                                                                                                                                                                                                                                                                                                                                                                                                                                                                                                                                                                                                                                                                                                                                                                                                                                                                                                                                                                                                                                                                                                                                                                                                                                                                                                                                                                                                                                                                                                                                                                                                                                                                                                                                                                                                                                                                                                                                                                                                                                                                        & NA & al & 32.592 & -85.5189 & 2021-05-03T14:02:03-0500\\\\\n",
       "\t33 & 7316343444 & https://auburn.craigslist.org/ctd/d/auburn-university-2012-gmc-sierra-2500/7316343444.html & auburn & https://auburn.craigslist.org & 27990 & 2012 & gmc       & sierra 2500 hd extended cab & good      & 8 cylinders & ... &           & pickup & black & https://images.craigslist.org/00V0V\\_ftJbKrOgdi5z\\_0gw0co\\_600x450.jpg & Carvana is the safer way to buy a car During these uncertain times, Carvana is dedicated to ensuring safety for all of our customers. In addition to our 100\\% online shopping and selling experience that allows all customers to buy and trade their cars without ever leaving the safety of their house, we<e2><80><99>re providing touchless delivery that make all aspects of our process even safer. Now, you can get the car you want, and trade in your old one, while avoiding person-to-person contact with our friendly advocates. There are some things that can<e2><80><99>t be put off. And if buying a car is one of them, know that we<e2><80><99>re doing everything we can to keep you keep moving while continuing to put your health safety, and happiness first. Vehicle Stock\\# 2000839840<f0><9f><93><b1> Want to instantly check this car<e2><80><99>s availability? Call us at  334-758-9176Just text that stock number to 855-976-4304 or head to http://www.carvanaauto.com/7164202-74502 and plug it into the search bar!Get PRE-QUALIFIED for your auto loan in 2 minutes - no hit to your credit:http://finance.carvanaauto.com/7164202-74502Looking for more cars like this one? We have 1 GMC Sierra 2500 HD Extended Cab in stock for as low as \\$27990!Why buy with Carvana? We have one standard: the highest. Take a look at just some of the qualifications all of our cars must meet before we list them.150-POINT INSPECTION: We put each vehicle through a 150-point inspection so that you can be 100\\% confident in its quality and safety. See everything that goes into our inspections at:http://www.carvanaauto.com/7164202-74502NO REPORTED ACCIDENTS: We do not sell cars that have been in a reported accident or have a frame or structural damage.7 DAY TEST OWN MONEY BACK GUARANTEE: Every Carvana car comes with a 7-day money-back guarantee. Why? It takes more than 15-minutes to make a decision on your next car. Learn more about test owning at http://about.carvanaauto.comFLEXIBLE FINANCING, TRADE INS WELCOME: We<e2><80><99>re all about real-time financing without the middle man. Need financing? Pick a combination of down and monthly payments that work for you. Have a trade-in? We<e2><80><99>ll give you a value in 2 minutes. Check out everything about our financing at:http://finance.carvanaauto.com/7164202-74502COST SAVINGS: Carvana's business model has fewer expenses and no bloated fees compared to your local dealership. See how much we can save you at http://about.carvanaauto.comPREMIUM DETAIL: We go the extra mile so that your car is looking as good as new. There are a lot of specifics that we won<e2><80><99>t list here (we wash, clean, buff, paint, polish, wax, seal), but trust us that when your car arrives, it<e2><80><99>s going to look sweet.Vehicle Info for Stock\\# 2000839840Trim: SLE Pickup 4D 6 1/2 ft pickupMileage: 68k milesExterior Color: BlackInterior Color: BLACKEngine: 6.0L V8 360hp 380ft. lbs.Drive: 4wdTransmission: Automatic, 6-Spd HD w/OverdriveVIN: 1GT220CG8CZ231238Dealer Disclosure: Price excludes tax, title, and registration (which we handle for you).Disclaimer: You agree that by providing your phone number, Carvana, or Carvana<e2><80><99>s authorized representatives*, may call and/or send text messages (including by using equipment to automatically dial telephone numbers) about your interest in a purchase, for marketing/sales purposes, or for any other servicing or informational purpose related to your account. You do not have to consent to receiving calls or texts to purchase from Carvana. While every reasonable effort is made to ensure the accuracy of the information for this GMC Sierra 2500 HD Extended Cab, we are not responsible for any errors or omissions contained in this ad. Please verify any information in question with Carvana at 334-758-9176*Including, but not limited to, Bridgecrest Credit Company, GO Financial and SilverRock Automotive.*GMC* *Sierra* *2500* *HD* *Extended* *Cab* *Base* *GMC* *Sierra* *2500* *HD* *Extended* *Cab* *SLE* *GMC* *Sierra* *2500* *HD* *Extended* *Cab* *SLT* *GMC* *Sierra* *2500* *HD* *Extended* *Cab* *Denali* *GMC* *Sierra* *2500* *HD* *Extended* *Cab* *Work* *Truck* *4x2* *GMC* *Sierra* *2500* *HD* *Extended* *Cab* *4x4* *Crew* *Cab* *GMC* *Sierra* *2500* *HD* *Extended* *Cab* *Regular* *Cab* *Extended* *Cab* *Truck* 2022  2021  2020  2019  2018  2017  2016  2015  2014  2013  2012  2011  2010  2009  2008  2007  2006  2005  2004  2003  2002  2001  2000   22  21    19  18  17  16  15  14  13  12  11  10  09  08  07  06  05  04  03  02  01  00                                                                                                                                                                                                                                                    & NA & al & 32.590 & -85.4800 & 2021-05-03T13:41:25-0500\\\\\n",
       "\\end{tabular}\n"
      ],
      "text/markdown": [
       "\n",
       "A data.frame: 6 x 26\n",
       "\n",
       "| <!--/--> | id &lt;dbl&gt; | url &lt;chr&gt; | region &lt;chr&gt; | region_url &lt;chr&gt; | price &lt;dbl&gt; | year &lt;int&gt; | manufacturer &lt;chr&gt; | model &lt;chr&gt; | condition &lt;chr&gt; | cylinders &lt;chr&gt; | ... ... | size &lt;chr&gt; | type &lt;chr&gt; | paint_color &lt;chr&gt; | image_url &lt;chr&gt; | description &lt;chr&gt; | county &lt;lgl&gt; | state &lt;chr&gt; | lat &lt;dbl&gt; | long &lt;dbl&gt; | posting_date &lt;chr&gt; |\n",
       "|---|---|---|---|---|---|---|---|---|---|---|---|---|---|---|---|---|---|---|---|---|---|\n",
       "| 28 | 7316814884 | https://auburn.craigslist.org/ctd/d/auburn-university-2014-gmc-sierra-1500/7316814884.html | auburn | https://auburn.craigslist.org | 33590 | 2014 | gmc       | sierra 1500 crew cab slt    | good      | 8 cylinders | ... | <!----> | pickup | white | https://images.craigslist.org/00R0R_lwWjXSEWNa7z_0x20oM_600x450.jpg | Carvana is the safer way to buy a car During these uncertain times, Carvana is dedicated to ensuring safety for all of our customers. In addition to our 100% online shopping and selling experience that allows all customers to buy and trade their cars without ever leaving the safety of their house, we<e2><80><99>re providing touchless delivery that make all aspects of our process even safer. Now, you can get the car you want, and trade in your old one, while avoiding person-to-person contact with our friendly advocates. There are some things that can<e2><80><99>t be put off. And if buying a car is one of them, know that we<e2><80><99>re doing everything we can to keep you keep moving while continuing to put your health safety, and happiness first. Vehicle Stock# 2000909557<f0><9f><93><b1> Want to instantly check this car<e2><80><99>s availability? Call us at  334-758-9176Just text that stock number to 855-976-4304 or head to http://www.carvanaauto.com/7171237-74502 and plug it into the search bar!Get PRE-QUALIFIED for your auto loan in 2 minutes - no hit to your credit:http://finance.carvanaauto.com/7171237-74502Looking for more cars like this one? We have 63 GMC Sierra 1500 Crew Cab in stock for as low as $23990!Why buy with Carvana? We have one standard: the highest. Take a look at just some of the qualifications all of our cars must meet before we list them.150-POINT INSPECTION: We put each vehicle through a 150-point inspection so that you can be 100% confident in its quality and safety. See everything that goes into our inspections at:http://www.carvanaauto.com/7171237-74502NO REPORTED ACCIDENTS: We do not sell cars that have been in a reported accident or have a frame or structural damage.7 DAY TEST OWN MONEY BACK GUARANTEE: Every Carvana car comes with a 7-day money-back guarantee. Why? It takes more than 15-minutes to make a decision on your next car. Learn more about test owning at http://about.carvanaauto.comFLEXIBLE FINANCING, TRADE INS WELCOME: We<e2><80><99>re all about real-time financing without the middle man. Need financing? Pick a combination of down and monthly payments that work for you. Have a trade-in? We<e2><80><99>ll give you a value in 2 minutes. Check out everything about our financing at:http://finance.carvanaauto.com/7171237-74502COST SAVINGS: Carvana's business model has fewer expenses and no bloated fees compared to your local dealership. See how much we can save you at http://about.carvanaauto.comPREMIUM DETAIL: We go the extra mile so that your car is looking as good as new. There are a lot of specifics that we won<e2><80><99>t list here (we wash, clean, buff, paint, polish, wax, seal), but trust us that when your car arrives, it<e2><80><99>s going to look sweet.Vehicle Info for Stock# 2000909557Trim: SLT Pickup 4D 5 3/4 ft pickupMileage: 57k milesExterior Color: WhiteInterior Color: Lt. BrownEngine: EcoTec3 5.3L Flex Fuel V8 355hp 383ft. lbs.Drive: Two Wheel DriveTransmission: VIN: 3GTP1VEC4EG551563Dealer Disclosure: Price excludes tax, title, and registration (which we handle for you).Disclaimer: You agree that by providing your phone number, Carvana, or Carvana<e2><80><99>s authorized representatives*, may call and/or send text messages (including by using equipment to automatically dial telephone numbers) about your interest in a purchase, for marketing/sales purposes, or for any other servicing or informational purpose related to your account. You do not have to consent to receiving calls or texts to purchase from Carvana. While every reasonable effort is made to ensure the accuracy of the information for this GMC Sierra 1500 Crew Cab, we are not responsible for any errors or omissions contained in this ad. Please verify any information in question with Carvana at 334-758-9176*Including, but not limited to, Bridgecrest Credit Company, GO Financial and SilverRock Automotive.*GMC* *Sierra* *1500* *Crew* *Cab* *Base* *GMC* *Sierra* *1500* *Crew* *Cab* *SLE* *GMC* *Sierra* *1500* *Crew* *Cab* *SLT* *GMC* *Sierra* *1500* *Crew* *Cab* *Denali* *GMC* *Sierra* *1500* *Crew* *Cab* *Work* *Truck* *4x2* *GMC* *Sierra* *1500* *Crew* *Cab* *4x4* *Crew* *Cab* *GMC* *Sierra* *1500* *Crew* *Cab* *Regular* *Cab* *Extended* *Cab* *Truck* 2022  2021  2020  2019  2018  2017  2016  2015  2014  2013  2012  2011  2010  2009  2008  2007  2006  2005  2004  2003  2002  2001  2000   22  21    19  18  17  16  15  14  13  12  11  10  09  08  07  06  05  04  03  02  01  00                                                                                                                                                                                                                                                                                                                             | NA | al | 32.590 | -85.4800 | 2021-05-04T12:31:18-0500 |\n",
       "| 29 | 7316814758 | https://auburn.craigslist.org/ctd/d/auburn-university-2010-chevy-chevrolet/7316814758.html | auburn | https://auburn.craigslist.org | 22590 | 2010 | chevrolet | silverado 1500              | good      | 8 cylinders | ... | <!----> | pickup | blue  | https://images.craigslist.org/00R0R_lwWjXSEWNa7z_0x20oM_600x450.jpg | Carvana is the safer way to buy a car During these uncertain times, Carvana is dedicated to ensuring safety for all of our customers. In addition to our 100% online shopping and selling experience that allows all customers to buy and trade their cars without ever leaving the safety of their house, we<e2><80><99>re providing touchless delivery that make all aspects of our process even safer. Now, you can get the car you want, and trade in your old one, while avoiding person-to-person contact with our friendly advocates. There are some things that can<e2><80><99>t be put off. And if buying a car is one of them, know that we<e2><80><99>re doing everything we can to keep you keep moving while continuing to put your health safety, and happiness first. Vehicle Stock# 2000977114<f0><9f><93><b1> Want to instantly check this car<e2><80><99>s availability? Call us at  334-758-9176Just text that stock number to 855-976-4304 or head to http://www.carvanaauto.com/7163375-74502 and plug it into the search bar!Get PRE-QUALIFIED for your auto loan in 2 minutes - no hit to your credit:http://finance.carvanaauto.com/7163375-74502Looking for more cars like this one? We have 10 Chevrolet Silverado 1500 Extended Cab in stock for as low as $20990!Why buy with Carvana? We have one standard: the highest. Take a look at just some of the qualifications all of our cars must meet before we list them.150-POINT INSPECTION: We put each vehicle through a 150-point inspection so that you can be 100% confident in its quality and safety. See everything that goes into our inspections at:http://www.carvanaauto.com/7163375-74502NO REPORTED ACCIDENTS: We do not sell cars that have been in a reported accident or have a frame or structural damage.7 DAY TEST OWN MONEY BACK GUARANTEE: Every Carvana car comes with a 7-day money-back guarantee. Why? It takes more than 15-minutes to make a decision on your next car. Learn more about test owning at http://about.carvanaauto.comFLEXIBLE FINANCING, TRADE INS WELCOME: We<e2><80><99>re all about real-time financing without the middle man. Need financing? Pick a combination of down and monthly payments that work for you. Have a trade-in? We<e2><80><99>ll give you a value in 2 minutes. Check out everything about our financing at:http://finance.carvanaauto.com/7163375-74502COST SAVINGS: Carvana's business model has fewer expenses and no bloated fees compared to your local dealership. See how much we can save you at http://about.carvanaauto.comPREMIUM DETAIL: We go the extra mile so that your car is looking as good as new. There are a lot of specifics that we won<e2><80><99>t list here (we wash, clean, buff, paint, polish, wax, seal), but trust us that when your car arrives, it<e2><80><99>s going to look sweet.Vehicle Info for Stock# 2000977114Trim: LT Pickup 4D 6 1/2 ft pickupMileage: 71k milesExterior Color: BlueInterior Color: BlackEngine: Vortec 5.3L Flex Fuel V8 315hp 335ft. lbs.Drive: Two Wheel DriveTransmission: VIN: 1GCSCSE06AZ123805Dealer Disclosure: Price excludes tax, title, and registration (which we handle for you).Disclaimer: You agree that by providing your phone number, Carvana, or Carvana<e2><80><99>s authorized representatives*, may call and/or send text messages (including by using equipment to automatically dial telephone numbers) about your interest in a purchase, for marketing/sales purposes, or for any other servicing or informational purpose related to your account. You do not have to consent to receiving calls or texts to purchase from Carvana. While every reasonable effort is made to ensure the accuracy of the information for this Chevrolet Silverado 1500 Extended Cab, we are not responsible for any errors or omissions contained in this ad. Please verify any information in question with Carvana at 334-758-9176*Including, but not limited to, Bridgecrest Credit Company, GO Financial and SilverRock Automotive.*Chevrolet* *Silverado* *1500* *Extended* *Cab* *Chevy* *Chevrolet* *Silverado* *1500* *Extended* *Cab* *HD* *Crew* *Cab* *LS* *Pickup* *Chevrolet* *Silverado* *1500* *Extended* *Cab* *LS* *Chevrolet* *Silverado* *1500* *Extended* *Cab* *LT* *Chevrolet* *Silverado* *1500* *Extended* *Cab* *LTZ* *Chevrolet* *Silverado* *1500* *Extended* *Cab* *LT1* *Chevrolet* *Silverado* *1500* *Extended* *Cab* *Crew* *Cab* *Chevrolet* *Silverado* *1500* *Extended* *Cab* *XtraCab* *Chevrolet* *Silverado* *1500* *Extended* *Cab* *2500HD* *Classic* *Pick* *up* 2022  2021  2020  2019  2018  2017  2016  2015  2014  2013  2012  2011  2010  2009  2008  2007  2006  2005  2004  2003  2002  2001  2000   22  21    19  18  17  16  15  14  13  12  11  10  09  08  07  06  05  04  03  02  01  00                                                                                                        | NA | al | 32.590 | -85.4800 | 2021-05-04T12:31:08-0500 |\n",
       "| 30 | 7316814989 | https://auburn.craigslist.org/ctd/d/auburn-university-2020-chevy-chevrolet/7316814989.html | auburn | https://auburn.craigslist.org | 39590 | 2020 | chevrolet | silverado 1500 crew         | good      | 8 cylinders | ... | <!----> | pickup | red   | https://images.craigslist.org/01212_jjirIWa0y02z_0gw0co_600x450.jpg | Carvana is the safer way to buy a car During these uncertain times, Carvana is dedicated to ensuring safety for all of our customers. In addition to our 100% online shopping and selling experience that allows all customers to buy and trade their cars without ever leaving the safety of their house, we<e2><80><99>re providing touchless delivery that make all aspects of our process even safer. Now, you can get the car you want, and trade in your old one, while avoiding person-to-person contact with our friendly advocates. There are some things that can<e2><80><99>t be put off. And if buying a car is one of them, know that we<e2><80><99>re doing everything we can to keep you keep moving while continuing to put your health safety, and happiness first. Vehicle Stock# 2000948059<f0><9f><93><b1> Want to instantly check this car<e2><80><99>s availability? Call us at  334-758-9176Just text that stock number to 855-976-4304 or head to http://www.carvanaauto.com/6965441-74502 and plug it into the search bar!Get PRE-QUALIFIED for your auto loan in 2 minutes - no hit to your credit:http://finance.carvanaauto.com/6965441-74502Looking for more cars like this one? We have 144 Chevrolet Silverado 1500 Crew Cab in stock for as low as $20990!Why buy with Carvana? We have one standard: the highest. Take a look at just some of the qualifications all of our cars must meet before we list them.150-POINT INSPECTION: We put each vehicle through a 150-point inspection so that you can be 100% confident in its quality and safety. See everything that goes into our inspections at:http://www.carvanaauto.com/6965441-74502NO REPORTED ACCIDENTS: We do not sell cars that have been in a reported accident or have a frame or structural damage.7 DAY TEST OWN MONEY BACK GUARANTEE: Every Carvana car comes with a 7-day money-back guarantee. Why? It takes more than 15-minutes to make a decision on your next car. Learn more about test owning at http://about.carvanaauto.comFLEXIBLE FINANCING, TRADE INS WELCOME: We<e2><80><99>re all about real-time financing without the middle man. Need financing? Pick a combination of down and monthly payments that work for you. Have a trade-in? We<e2><80><99>ll give you a value in 2 minutes. Check out everything about our financing at:http://finance.carvanaauto.com/6965441-74502COST SAVINGS: Carvana's business model has fewer expenses and no bloated fees compared to your local dealership. See how much we can save you at http://about.carvanaauto.comPREMIUM DETAIL: We go the extra mile so that your car is looking as good as new. There are a lot of specifics that we won<e2><80><99>t list here (we wash, clean, buff, paint, polish, wax, seal), but trust us that when your car arrives, it<e2><80><99>s going to look sweet.Vehicle Info for Stock# 2000948059Trim: LT Pickup 4D 5 3/4 ft pickupMileage: 19k milesExterior Color: RedInterior Color: BLACKEngine: EcoTec3 5.3L V8 355hp 383ft. lbs.Drive: Two Wheel DriveTransmission: VIN: 3GCPWCED5LG130317Dealer Disclosure: Price excludes tax, title, and registration (which we handle for you).Disclaimer: You agree that by providing your phone number, Carvana, or Carvana<e2><80><99>s authorized representatives*, may call and/or send text messages (including by using equipment to automatically dial telephone numbers) about your interest in a purchase, for marketing/sales purposes, or for any other servicing or informational purpose related to your account. You do not have to consent to receiving calls or texts to purchase from Carvana. While every reasonable effort is made to ensure the accuracy of the information for this Chevrolet Silverado 1500 Crew Cab, we are not responsible for any errors or omissions contained in this ad. Please verify any information in question with Carvana at 334-758-9176*Including, but not limited to, Bridgecrest Credit Company, GO Financial and SilverRock Automotive.*Chevrolet* *Silverado* *1500* *Crew* *Cab* *Chevy* *Chevrolet* *Silverado* *1500* *Crew* *Cab* *HD* *Crew* *Cab* *LS* *Pickup* *Chevrolet* *Silverado* *1500* *Crew* *Cab* *LS* *Chevrolet* *Silverado* *1500* *Crew* *Cab* *LT* *Chevrolet* *Silverado* *1500* *Crew* *Cab* *LTZ* *Chevrolet* *Silverado* *1500* *Crew* *Cab* *LT1* *Chevrolet* *Silverado* *1500* *Crew* *Cab* *Crew* *Cab* *Chevrolet* *Silverado* *1500* *Crew* *Cab* *XtraCab* *Chevrolet* *Silverado* *1500* *Crew* *Cab* *2500HD* *Classic* *Pick* *up* 2022  2021  2020  2019  2018  2017  2016  2015  2014  2013  2012  2011  2010  2009  2008  2007  2006  2005  2004  2003  2002  2001  2000   22  21    19  18  17  16  15  14  13  12  11  10  09  08  07  06  05  04  03  02  01  00                                                                                                                                                             | NA | al | 32.590 | -85.4800 | 2021-05-04T12:31:25-0500 |\n",
       "| 31 | 7316743432 | https://auburn.craigslist.org/ctd/d/auburn-university-2017-toyota-tundra/7316743432.html   | auburn | https://auburn.craigslist.org | 30990 | 2017 | toyota    | tundra double cab sr        | good      | 8 cylinders | ... | <!----> | pickup | red   | https://images.craigslist.org/00x0x_1y9kIOzGCFaz_0gw0co_600x450.jpg | Carvana is the safer way to buy a car During these uncertain times, Carvana is dedicated to ensuring safety for all of our customers. In addition to our 100% online shopping and selling experience that allows all customers to buy and trade their cars without ever leaving the safety of their house, we<e2><80><99>re providing touchless delivery that make all aspects of our process even safer. Now, you can get the car you want, and trade in your old one, while avoiding person-to-person contact with our friendly advocates. There are some things that can<e2><80><99>t be put off. And if buying a car is one of them, know that we<e2><80><99>re doing everything we can to keep you keep moving while continuing to put your health safety, and happiness first. Vehicle Stock# 2000905180<f0><9f><93><b1> Want to instantly check this car<e2><80><99>s availability? Call us at  334-758-9176Just text that stock number to 855-976-4304 or head to http://www.carvanaauto.com/6964121-74502 and plug it into the search bar!Get PRE-QUALIFIED for your auto loan in 2 minutes - no hit to your credit:http://finance.carvanaauto.com/6964121-74502Looking for more cars like this one? We have 24 Toyota Tundra Double Cab in stock for as low as $23990!Why buy with Carvana? We have one standard: the highest. Take a look at just some of the qualifications all of our cars must meet before we list them.150-POINT INSPECTION: We put each vehicle through a 150-point inspection so that you can be 100% confident in its quality and safety. See everything that goes into our inspections at:http://www.carvanaauto.com/6964121-74502NO REPORTED ACCIDENTS: We do not sell cars that have been in a reported accident or have a frame or structural damage.7 DAY TEST OWN MONEY BACK GUARANTEE: Every Carvana car comes with a 7-day money-back guarantee. Why? It takes more than 15-minutes to make a decision on your next car. Learn more about test owning at http://about.carvanaauto.comFLEXIBLE FINANCING, TRADE INS WELCOME: We<e2><80><99>re all about real-time financing without the middle man. Need financing? Pick a combination of down and monthly payments that work for you. Have a trade-in? We<e2><80><99>ll give you a value in 2 minutes. Check out everything about our financing at:http://finance.carvanaauto.com/6964121-74502COST SAVINGS: Carvana's business model has fewer expenses and no bloated fees compared to your local dealership. See how much we can save you at http://about.carvanaauto.comPREMIUM DETAIL: We go the extra mile so that your car is looking as good as new. There are a lot of specifics that we won<e2><80><99>t list here (we wash, clean, buff, paint, polish, wax, seal), but trust us that when your car arrives, it<e2><80><99>s going to look sweet.Vehicle Info for Stock# 2000905180Trim: SR Pickup 4D 6 1/2 ft pickupMileage: 41k milesExterior Color: RedInterior Color: GRAYEngine: 4.6L V8 310hp 327ft. lbs.Drive: Two Wheel DriveTransmission: VIN: 5TFRM5F17HX120972Dealer Disclosure: Price excludes tax, title, and registration (which we handle for you).Disclaimer: You agree that by providing your phone number, Carvana, or Carvana<e2><80><99>s authorized representatives*, may call and/or send text messages (including by using equipment to automatically dial telephone numbers) about your interest in a purchase, for marketing/sales purposes, or for any other servicing or informational purpose related to your account. You do not have to consent to receiving calls or texts to purchase from Carvana. While every reasonable effort is made to ensure the accuracy of the information for this Toyota Tundra Double Cab, we are not responsible for any errors or omissions contained in this ad. Please verify any information in question with Carvana at 334-758-9176*Including, but not limited to, Bridgecrest Credit Company, GO Financial and SilverRock Automotive.*Toyota* *Tundra* *Double* *Cab* *2WD* *Truck* *Toyota* *Tundra* *Double* *Cab* *4WD* *Toyota* *Tundra* *Double* *Cab* *Access* *Cab* *Limited* *Toyota* *Tundra* *Double* *Cab* *Access* *Cab* *SR5* *Toyota* *Tundra* *Double* *Cab* *CrewMax* *Limited* *Toyota* *Tundra* *Double* *Cab* *CrewMax* *Toyota* *Tundra* *Double* *Cab* *CrewMax* *SR5* *Toyota* *Tundra* *Double* *Cab* *Double* *Cab* *Toyota* *Tundra* *Double* *Cab* *Double* *Cab* *Limited* *Toyota* *Tundra* *Double* *Cab* *Double* *Cab* *SR5* *Toyota* *Tundra* *Double* *Cab* *Regular* *Cab* *Toyota* *Tundra* *Double* *Cab* *SR* *Toyota* *Tundra* *Double* *Cab* *Platinum* *Toyota* *Tundra* *Double* *Cab* *electric* *hybrid* *Pickup* 2022  2021  2020  2019  2018  2017  2016  2015  2014  2013  2012  2011  2010  2009  2008  2007  2006  2005  2004  2003  2002  2001  2000   22  21    19  18  17  16  15  14  13  12  11  10  09  08  07  06  05  04  03  02  01  00 | NA | al | 32.590 | -85.4800 | 2021-05-04T10:41:31-0500 |\n",
       "| 32 | 7316356412 | https://auburn.craigslist.org/cto/d/auburn-university-2013-150/7316356412.html             | auburn | https://auburn.craigslist.org | 15000 | 2013 | ford      | f-150 xlt                   | excellent | 6 cylinders | ... | full-size | truck  | black | https://images.craigslist.org/00404_l4loxHvdQefz_0CI0t2_600x450.jpg | 2013 F-150 XLT V6 4 Door. Good condition. Leveling kit. New Tires.                                                                                                                                                                                                                                                                                                                                                                                                                                                                                                                                                                                                                                                                                                                                                                                                                                                                                                                                                                                                                                                                                                                                                                                                                                                                                                                                                                                                                                                                                                                                                                                                                                                                                                                                                                                                                                                                                                                                                                                                                                                                                                                                                                                                                                                                                                                                                                                                                                                                                                                                                                                                                                                                                                                                                                                                                                                                                                                                                                                                                                                                                                                                                                                                                                                                                                                                                                                                                                                                                                                                                                                                                                                                                                                                                                                                                                                                                                                                                                                                                                                                                                                                                                                                                                                                                                                                                                                                                                                                                                                                                                                                                                                                                                                                                                                                                                                                                                        | NA | al | 32.592 | -85.5189 | 2021-05-03T14:02:03-0500 |\n",
       "| 33 | 7316343444 | https://auburn.craigslist.org/ctd/d/auburn-university-2012-gmc-sierra-2500/7316343444.html | auburn | https://auburn.craigslist.org | 27990 | 2012 | gmc       | sierra 2500 hd extended cab | good      | 8 cylinders | ... | <!----> | pickup | black | https://images.craigslist.org/00V0V_ftJbKrOgdi5z_0gw0co_600x450.jpg | Carvana is the safer way to buy a car During these uncertain times, Carvana is dedicated to ensuring safety for all of our customers. In addition to our 100% online shopping and selling experience that allows all customers to buy and trade their cars without ever leaving the safety of their house, we<e2><80><99>re providing touchless delivery that make all aspects of our process even safer. Now, you can get the car you want, and trade in your old one, while avoiding person-to-person contact with our friendly advocates. There are some things that can<e2><80><99>t be put off. And if buying a car is one of them, know that we<e2><80><99>re doing everything we can to keep you keep moving while continuing to put your health safety, and happiness first. Vehicle Stock# 2000839840<f0><9f><93><b1> Want to instantly check this car<e2><80><99>s availability? Call us at  334-758-9176Just text that stock number to 855-976-4304 or head to http://www.carvanaauto.com/7164202-74502 and plug it into the search bar!Get PRE-QUALIFIED for your auto loan in 2 minutes - no hit to your credit:http://finance.carvanaauto.com/7164202-74502Looking for more cars like this one? We have 1 GMC Sierra 2500 HD Extended Cab in stock for as low as $27990!Why buy with Carvana? We have one standard: the highest. Take a look at just some of the qualifications all of our cars must meet before we list them.150-POINT INSPECTION: We put each vehicle through a 150-point inspection so that you can be 100% confident in its quality and safety. See everything that goes into our inspections at:http://www.carvanaauto.com/7164202-74502NO REPORTED ACCIDENTS: We do not sell cars that have been in a reported accident or have a frame or structural damage.7 DAY TEST OWN MONEY BACK GUARANTEE: Every Carvana car comes with a 7-day money-back guarantee. Why? It takes more than 15-minutes to make a decision on your next car. Learn more about test owning at http://about.carvanaauto.comFLEXIBLE FINANCING, TRADE INS WELCOME: We<e2><80><99>re all about real-time financing without the middle man. Need financing? Pick a combination of down and monthly payments that work for you. Have a trade-in? We<e2><80><99>ll give you a value in 2 minutes. Check out everything about our financing at:http://finance.carvanaauto.com/7164202-74502COST SAVINGS: Carvana's business model has fewer expenses and no bloated fees compared to your local dealership. See how much we can save you at http://about.carvanaauto.comPREMIUM DETAIL: We go the extra mile so that your car is looking as good as new. There are a lot of specifics that we won<e2><80><99>t list here (we wash, clean, buff, paint, polish, wax, seal), but trust us that when your car arrives, it<e2><80><99>s going to look sweet.Vehicle Info for Stock# 2000839840Trim: SLE Pickup 4D 6 1/2 ft pickupMileage: 68k milesExterior Color: BlackInterior Color: BLACKEngine: 6.0L V8 360hp 380ft. lbs.Drive: 4wdTransmission: Automatic, 6-Spd HD w/OverdriveVIN: 1GT220CG8CZ231238Dealer Disclosure: Price excludes tax, title, and registration (which we handle for you).Disclaimer: You agree that by providing your phone number, Carvana, or Carvana<e2><80><99>s authorized representatives*, may call and/or send text messages (including by using equipment to automatically dial telephone numbers) about your interest in a purchase, for marketing/sales purposes, or for any other servicing or informational purpose related to your account. You do not have to consent to receiving calls or texts to purchase from Carvana. While every reasonable effort is made to ensure the accuracy of the information for this GMC Sierra 2500 HD Extended Cab, we are not responsible for any errors or omissions contained in this ad. Please verify any information in question with Carvana at 334-758-9176*Including, but not limited to, Bridgecrest Credit Company, GO Financial and SilverRock Automotive.*GMC* *Sierra* *2500* *HD* *Extended* *Cab* *Base* *GMC* *Sierra* *2500* *HD* *Extended* *Cab* *SLE* *GMC* *Sierra* *2500* *HD* *Extended* *Cab* *SLT* *GMC* *Sierra* *2500* *HD* *Extended* *Cab* *Denali* *GMC* *Sierra* *2500* *HD* *Extended* *Cab* *Work* *Truck* *4x2* *GMC* *Sierra* *2500* *HD* *Extended* *Cab* *4x4* *Crew* *Cab* *GMC* *Sierra* *2500* *HD* *Extended* *Cab* *Regular* *Cab* *Extended* *Cab* *Truck* 2022  2021  2020  2019  2018  2017  2016  2015  2014  2013  2012  2011  2010  2009  2008  2007  2006  2005  2004  2003  2002  2001  2000   22  21    19  18  17  16  15  14  13  12  11  10  09  08  07  06  05  04  03  02  01  00                                                                                                                                                                                                                                                    | NA | al | 32.590 | -85.4800 | 2021-05-03T13:41:25-0500 |\n",
       "\n"
      ],
      "text/plain": [
       "   id        \n",
       "28 7316814884\n",
       "29 7316814758\n",
       "30 7316814989\n",
       "31 7316743432\n",
       "32 7316356412\n",
       "33 7316343444\n",
       "   url                                                                                       \n",
       "28 https://auburn.craigslist.org/ctd/d/auburn-university-2014-gmc-sierra-1500/7316814884.html\n",
       "29 https://auburn.craigslist.org/ctd/d/auburn-university-2010-chevy-chevrolet/7316814758.html\n",
       "30 https://auburn.craigslist.org/ctd/d/auburn-university-2020-chevy-chevrolet/7316814989.html\n",
       "31 https://auburn.craigslist.org/ctd/d/auburn-university-2017-toyota-tundra/7316743432.html  \n",
       "32 https://auburn.craigslist.org/cto/d/auburn-university-2013-150/7316356412.html            \n",
       "33 https://auburn.craigslist.org/ctd/d/auburn-university-2012-gmc-sierra-2500/7316343444.html\n",
       "   region region_url                    price year manufacturer\n",
       "28 auburn https://auburn.craigslist.org 33590 2014 gmc         \n",
       "29 auburn https://auburn.craigslist.org 22590 2010 chevrolet   \n",
       "30 auburn https://auburn.craigslist.org 39590 2020 chevrolet   \n",
       "31 auburn https://auburn.craigslist.org 30990 2017 toyota      \n",
       "32 auburn https://auburn.craigslist.org 15000 2013 ford        \n",
       "33 auburn https://auburn.craigslist.org 27990 2012 gmc         \n",
       "   model                       condition cylinders   ... size      type  \n",
       "28 sierra 1500 crew cab slt    good      8 cylinders ...           pickup\n",
       "29 silverado 1500              good      8 cylinders ...           pickup\n",
       "30 silverado 1500 crew         good      8 cylinders ...           pickup\n",
       "31 tundra double cab sr        good      8 cylinders ...           pickup\n",
       "32 f-150 xlt                   excellent 6 cylinders ... full-size truck \n",
       "33 sierra 2500 hd extended cab good      8 cylinders ...           pickup\n",
       "   paint_color\n",
       "28 white      \n",
       "29 blue       \n",
       "30 red        \n",
       "31 red        \n",
       "32 black      \n",
       "33 black      \n",
       "   image_url                                                          \n",
       "28 https://images.craigslist.org/00R0R_lwWjXSEWNa7z_0x20oM_600x450.jpg\n",
       "29 https://images.craigslist.org/00R0R_lwWjXSEWNa7z_0x20oM_600x450.jpg\n",
       "30 https://images.craigslist.org/01212_jjirIWa0y02z_0gw0co_600x450.jpg\n",
       "31 https://images.craigslist.org/00x0x_1y9kIOzGCFaz_0gw0co_600x450.jpg\n",
       "32 https://images.craigslist.org/00404_l4loxHvdQefz_0CI0t2_600x450.jpg\n",
       "33 https://images.craigslist.org/00V0V_ftJbKrOgdi5z_0gw0co_600x450.jpg\n",
       "   description                                                                                                                                                                                                                                                                                                                                                                                                                                                                                                                                                                                                                                                                                                                                                                                                                                                                                                                                                                                                                                                                                                                                                                                                                                                                                                                                                                                                                                                                                                                                                                                                                                                                                                                                                                                                                                                                                                                                                                                                                                                                                                                                                                                                                                                                                                                                                                                                                                                                                                                                                                                                                                                                                                                                                                                                                                                                                                                                                                                                                                                                                                                                                                                                                                                                                                                                                                                                                                                                                                                                                                                                                                                                                                                                                                                                                                                                                                                                                                                                                                                                                                                                                                                                                                                                                                                                                                                                                                                                                                                                                                                                                                                                                                                                                                                                                                                                                                                                                              \n",
       "28 Carvana is the safer way to buy a car During these uncertain times, Carvana is dedicated to ensuring safety for all of our customers. In addition to our 100% online shopping and selling experience that allows all customers to buy and trade their cars without ever leaving the safety of their house, we\\342\\200\\231re providing touchless delivery that make all aspects of our process even safer. Now, you can get the car you want, and trade in your old one, while avoiding person-to-person contact with our friendly advocates. There are some things that can\\342\\200\\231t be put off. And if buying a car is one of them, know that we\\342\\200\\231re doing everything we can to keep you keep moving while continuing to put your health safety, and happiness first. Vehicle Stock# 2000909557\\360\\237\\223\\261 Want to instantly check this car\\342\\200\\231s availability? Call us at  334-758-9176Just text that stock number to 855-976-4304 or head to http://www.carvanaauto.com/7171237-74502 and plug it into the search bar!Get PRE-QUALIFIED for your auto loan in 2 minutes - no hit to your credit:http://finance.carvanaauto.com/7171237-74502Looking for more cars like this one? We have 63 GMC Sierra 1500 Crew Cab in stock for as low as $23990!Why buy with Carvana? We have one standard: the highest. Take a look at just some of the qualifications all of our cars must meet before we list them.150-POINT INSPECTION: We put each vehicle through a 150-point inspection so that you can be 100% confident in its quality and safety. See everything that goes into our inspections at:http://www.carvanaauto.com/7171237-74502NO REPORTED ACCIDENTS: We do not sell cars that have been in a reported accident or have a frame or structural damage.7 DAY TEST OWN MONEY BACK GUARANTEE: Every Carvana car comes with a 7-day money-back guarantee. Why? It takes more than 15-minutes to make a decision on your next car. Learn more about test owning at http://about.carvanaauto.comFLEXIBLE FINANCING, TRADE INS WELCOME: We\\342\\200\\231re all about real-time financing without the middle man. Need financing? Pick a combination of down and monthly payments that work for you. Have a trade-in? We\\342\\200\\231ll give you a value in 2 minutes. Check out everything about our financing at:http://finance.carvanaauto.com/7171237-74502COST SAVINGS: Carvana's business model has fewer expenses and no bloated fees compared to your local dealership. See how much we can save you at http://about.carvanaauto.comPREMIUM DETAIL: We go the extra mile so that your car is looking as good as new. There are a lot of specifics that we won\\342\\200\\231t list here (we wash, clean, buff, paint, polish, wax, seal), but trust us that when your car arrives, it\\342\\200\\231s going to look sweet.Vehicle Info for Stock# 2000909557Trim: SLT Pickup 4D 5 3/4 ft pickupMileage: 57k milesExterior Color: WhiteInterior Color: Lt. BrownEngine: EcoTec3 5.3L Flex Fuel V8 355hp 383ft. lbs.Drive: Two Wheel DriveTransmission: VIN: 3GTP1VEC4EG551563Dealer Disclosure: Price excludes tax, title, and registration (which we handle for you).Disclaimer: You agree that by providing your phone number, Carvana, or Carvana\\342\\200\\231s authorized representatives*, may call and/or send text messages (including by using equipment to automatically dial telephone numbers) about your interest in a purchase, for marketing/sales purposes, or for any other servicing or informational purpose related to your account. You do not have to consent to receiving calls or texts to purchase from Carvana. While every reasonable effort is made to ensure the accuracy of the information for this GMC Sierra 1500 Crew Cab, we are not responsible for any errors or omissions contained in this ad. Please verify any information in question with Carvana at 334-758-9176*Including, but not limited to, Bridgecrest Credit Company, GO Financial and SilverRock Automotive.*GMC* *Sierra* *1500* *Crew* *Cab* *Base* *GMC* *Sierra* *1500* *Crew* *Cab* *SLE* *GMC* *Sierra* *1500* *Crew* *Cab* *SLT* *GMC* *Sierra* *1500* *Crew* *Cab* *Denali* *GMC* *Sierra* *1500* *Crew* *Cab* *Work* *Truck* *4x2* *GMC* *Sierra* *1500* *Crew* *Cab* *4x4* *Crew* *Cab* *GMC* *Sierra* *1500* *Crew* *Cab* *Regular* *Cab* *Extended* *Cab* *Truck* 2022  2021  2020  2019  2018  2017  2016  2015  2014  2013  2012  2011  2010  2009  2008  2007  2006  2005  2004  2003  2002  2001  2000   22  21    19  18  17  16  15  14  13  12  11  10  09  08  07  06  05  04  03  02  01  00                                                                                                                                                                                                                                                                                                                            \n",
       "29 Carvana is the safer way to buy a car During these uncertain times, Carvana is dedicated to ensuring safety for all of our customers. In addition to our 100% online shopping and selling experience that allows all customers to buy and trade their cars without ever leaving the safety of their house, we\\342\\200\\231re providing touchless delivery that make all aspects of our process even safer. Now, you can get the car you want, and trade in your old one, while avoiding person-to-person contact with our friendly advocates. There are some things that can\\342\\200\\231t be put off. And if buying a car is one of them, know that we\\342\\200\\231re doing everything we can to keep you keep moving while continuing to put your health safety, and happiness first. Vehicle Stock# 2000977114\\360\\237\\223\\261 Want to instantly check this car\\342\\200\\231s availability? Call us at  334-758-9176Just text that stock number to 855-976-4304 or head to http://www.carvanaauto.com/7163375-74502 and plug it into the search bar!Get PRE-QUALIFIED for your auto loan in 2 minutes - no hit to your credit:http://finance.carvanaauto.com/7163375-74502Looking for more cars like this one? We have 10 Chevrolet Silverado 1500 Extended Cab in stock for as low as $20990!Why buy with Carvana? We have one standard: the highest. Take a look at just some of the qualifications all of our cars must meet before we list them.150-POINT INSPECTION: We put each vehicle through a 150-point inspection so that you can be 100% confident in its quality and safety. See everything that goes into our inspections at:http://www.carvanaauto.com/7163375-74502NO REPORTED ACCIDENTS: We do not sell cars that have been in a reported accident or have a frame or structural damage.7 DAY TEST OWN MONEY BACK GUARANTEE: Every Carvana car comes with a 7-day money-back guarantee. Why? It takes more than 15-minutes to make a decision on your next car. Learn more about test owning at http://about.carvanaauto.comFLEXIBLE FINANCING, TRADE INS WELCOME: We\\342\\200\\231re all about real-time financing without the middle man. Need financing? Pick a combination of down and monthly payments that work for you. Have a trade-in? We\\342\\200\\231ll give you a value in 2 minutes. Check out everything about our financing at:http://finance.carvanaauto.com/7163375-74502COST SAVINGS: Carvana's business model has fewer expenses and no bloated fees compared to your local dealership. See how much we can save you at http://about.carvanaauto.comPREMIUM DETAIL: We go the extra mile so that your car is looking as good as new. There are a lot of specifics that we won\\342\\200\\231t list here (we wash, clean, buff, paint, polish, wax, seal), but trust us that when your car arrives, it\\342\\200\\231s going to look sweet.Vehicle Info for Stock# 2000977114Trim: LT Pickup 4D 6 1/2 ft pickupMileage: 71k milesExterior Color: BlueInterior Color: BlackEngine: Vortec 5.3L Flex Fuel V8 315hp 335ft. lbs.Drive: Two Wheel DriveTransmission: VIN: 1GCSCSE06AZ123805Dealer Disclosure: Price excludes tax, title, and registration (which we handle for you).Disclaimer: You agree that by providing your phone number, Carvana, or Carvana\\342\\200\\231s authorized representatives*, may call and/or send text messages (including by using equipment to automatically dial telephone numbers) about your interest in a purchase, for marketing/sales purposes, or for any other servicing or informational purpose related to your account. You do not have to consent to receiving calls or texts to purchase from Carvana. While every reasonable effort is made to ensure the accuracy of the information for this Chevrolet Silverado 1500 Extended Cab, we are not responsible for any errors or omissions contained in this ad. Please verify any information in question with Carvana at 334-758-9176*Including, but not limited to, Bridgecrest Credit Company, GO Financial and SilverRock Automotive.*Chevrolet* *Silverado* *1500* *Extended* *Cab* *Chevy* *Chevrolet* *Silverado* *1500* *Extended* *Cab* *HD* *Crew* *Cab* *LS* *Pickup* *Chevrolet* *Silverado* *1500* *Extended* *Cab* *LS* *Chevrolet* *Silverado* *1500* *Extended* *Cab* *LT* *Chevrolet* *Silverado* *1500* *Extended* *Cab* *LTZ* *Chevrolet* *Silverado* *1500* *Extended* *Cab* *LT1* *Chevrolet* *Silverado* *1500* *Extended* *Cab* *Crew* *Cab* *Chevrolet* *Silverado* *1500* *Extended* *Cab* *XtraCab* *Chevrolet* *Silverado* *1500* *Extended* *Cab* *2500HD* *Classic* *Pick* *up* 2022  2021  2020  2019  2018  2017  2016  2015  2014  2013  2012  2011  2010  2009  2008  2007  2006  2005  2004  2003  2002  2001  2000   22  21    19  18  17  16  15  14  13  12  11  10  09  08  07  06  05  04  03  02  01  00                                                                                                       \n",
       "30 Carvana is the safer way to buy a car During these uncertain times, Carvana is dedicated to ensuring safety for all of our customers. In addition to our 100% online shopping and selling experience that allows all customers to buy and trade their cars without ever leaving the safety of their house, we\\342\\200\\231re providing touchless delivery that make all aspects of our process even safer. Now, you can get the car you want, and trade in your old one, while avoiding person-to-person contact with our friendly advocates. There are some things that can\\342\\200\\231t be put off. And if buying a car is one of them, know that we\\342\\200\\231re doing everything we can to keep you keep moving while continuing to put your health safety, and happiness first. Vehicle Stock# 2000948059\\360\\237\\223\\261 Want to instantly check this car\\342\\200\\231s availability? Call us at  334-758-9176Just text that stock number to 855-976-4304 or head to http://www.carvanaauto.com/6965441-74502 and plug it into the search bar!Get PRE-QUALIFIED for your auto loan in 2 minutes - no hit to your credit:http://finance.carvanaauto.com/6965441-74502Looking for more cars like this one? We have 144 Chevrolet Silverado 1500 Crew Cab in stock for as low as $20990!Why buy with Carvana? We have one standard: the highest. Take a look at just some of the qualifications all of our cars must meet before we list them.150-POINT INSPECTION: We put each vehicle through a 150-point inspection so that you can be 100% confident in its quality and safety. See everything that goes into our inspections at:http://www.carvanaauto.com/6965441-74502NO REPORTED ACCIDENTS: We do not sell cars that have been in a reported accident or have a frame or structural damage.7 DAY TEST OWN MONEY BACK GUARANTEE: Every Carvana car comes with a 7-day money-back guarantee. Why? It takes more than 15-minutes to make a decision on your next car. Learn more about test owning at http://about.carvanaauto.comFLEXIBLE FINANCING, TRADE INS WELCOME: We\\342\\200\\231re all about real-time financing without the middle man. Need financing? Pick a combination of down and monthly payments that work for you. Have a trade-in? We\\342\\200\\231ll give you a value in 2 minutes. Check out everything about our financing at:http://finance.carvanaauto.com/6965441-74502COST SAVINGS: Carvana's business model has fewer expenses and no bloated fees compared to your local dealership. See how much we can save you at http://about.carvanaauto.comPREMIUM DETAIL: We go the extra mile so that your car is looking as good as new. There are a lot of specifics that we won\\342\\200\\231t list here (we wash, clean, buff, paint, polish, wax, seal), but trust us that when your car arrives, it\\342\\200\\231s going to look sweet.Vehicle Info for Stock# 2000948059Trim: LT Pickup 4D 5 3/4 ft pickupMileage: 19k milesExterior Color: RedInterior Color: BLACKEngine: EcoTec3 5.3L V8 355hp 383ft. lbs.Drive: Two Wheel DriveTransmission: VIN: 3GCPWCED5LG130317Dealer Disclosure: Price excludes tax, title, and registration (which we handle for you).Disclaimer: You agree that by providing your phone number, Carvana, or Carvana\\342\\200\\231s authorized representatives*, may call and/or send text messages (including by using equipment to automatically dial telephone numbers) about your interest in a purchase, for marketing/sales purposes, or for any other servicing or informational purpose related to your account. You do not have to consent to receiving calls or texts to purchase from Carvana. While every reasonable effort is made to ensure the accuracy of the information for this Chevrolet Silverado 1500 Crew Cab, we are not responsible for any errors or omissions contained in this ad. Please verify any information in question with Carvana at 334-758-9176*Including, but not limited to, Bridgecrest Credit Company, GO Financial and SilverRock Automotive.*Chevrolet* *Silverado* *1500* *Crew* *Cab* *Chevy* *Chevrolet* *Silverado* *1500* *Crew* *Cab* *HD* *Crew* *Cab* *LS* *Pickup* *Chevrolet* *Silverado* *1500* *Crew* *Cab* *LS* *Chevrolet* *Silverado* *1500* *Crew* *Cab* *LT* *Chevrolet* *Silverado* *1500* *Crew* *Cab* *LTZ* *Chevrolet* *Silverado* *1500* *Crew* *Cab* *LT1* *Chevrolet* *Silverado* *1500* *Crew* *Cab* *Crew* *Cab* *Chevrolet* *Silverado* *1500* *Crew* *Cab* *XtraCab* *Chevrolet* *Silverado* *1500* *Crew* *Cab* *2500HD* *Classic* *Pick* *up* 2022  2021  2020  2019  2018  2017  2016  2015  2014  2013  2012  2011  2010  2009  2008  2007  2006  2005  2004  2003  2002  2001  2000   22  21    19  18  17  16  15  14  13  12  11  10  09  08  07  06  05  04  03  02  01  00                                                                                                                                                            \n",
       "31 Carvana is the safer way to buy a car During these uncertain times, Carvana is dedicated to ensuring safety for all of our customers. In addition to our 100% online shopping and selling experience that allows all customers to buy and trade their cars without ever leaving the safety of their house, we\\342\\200\\231re providing touchless delivery that make all aspects of our process even safer. Now, you can get the car you want, and trade in your old one, while avoiding person-to-person contact with our friendly advocates. There are some things that can\\342\\200\\231t be put off. And if buying a car is one of them, know that we\\342\\200\\231re doing everything we can to keep you keep moving while continuing to put your health safety, and happiness first. Vehicle Stock# 2000905180\\360\\237\\223\\261 Want to instantly check this car\\342\\200\\231s availability? Call us at  334-758-9176Just text that stock number to 855-976-4304 or head to http://www.carvanaauto.com/6964121-74502 and plug it into the search bar!Get PRE-QUALIFIED for your auto loan in 2 minutes - no hit to your credit:http://finance.carvanaauto.com/6964121-74502Looking for more cars like this one? We have 24 Toyota Tundra Double Cab in stock for as low as $23990!Why buy with Carvana? We have one standard: the highest. Take a look at just some of the qualifications all of our cars must meet before we list them.150-POINT INSPECTION: We put each vehicle through a 150-point inspection so that you can be 100% confident in its quality and safety. See everything that goes into our inspections at:http://www.carvanaauto.com/6964121-74502NO REPORTED ACCIDENTS: We do not sell cars that have been in a reported accident or have a frame or structural damage.7 DAY TEST OWN MONEY BACK GUARANTEE: Every Carvana car comes with a 7-day money-back guarantee. Why? It takes more than 15-minutes to make a decision on your next car. Learn more about test owning at http://about.carvanaauto.comFLEXIBLE FINANCING, TRADE INS WELCOME: We\\342\\200\\231re all about real-time financing without the middle man. Need financing? Pick a combination of down and monthly payments that work for you. Have a trade-in? We\\342\\200\\231ll give you a value in 2 minutes. Check out everything about our financing at:http://finance.carvanaauto.com/6964121-74502COST SAVINGS: Carvana's business model has fewer expenses and no bloated fees compared to your local dealership. See how much we can save you at http://about.carvanaauto.comPREMIUM DETAIL: We go the extra mile so that your car is looking as good as new. There are a lot of specifics that we won\\342\\200\\231t list here (we wash, clean, buff, paint, polish, wax, seal), but trust us that when your car arrives, it\\342\\200\\231s going to look sweet.Vehicle Info for Stock# 2000905180Trim: SR Pickup 4D 6 1/2 ft pickupMileage: 41k milesExterior Color: RedInterior Color: GRAYEngine: 4.6L V8 310hp 327ft. lbs.Drive: Two Wheel DriveTransmission: VIN: 5TFRM5F17HX120972Dealer Disclosure: Price excludes tax, title, and registration (which we handle for you).Disclaimer: You agree that by providing your phone number, Carvana, or Carvana\\342\\200\\231s authorized representatives*, may call and/or send text messages (including by using equipment to automatically dial telephone numbers) about your interest in a purchase, for marketing/sales purposes, or for any other servicing or informational purpose related to your account. You do not have to consent to receiving calls or texts to purchase from Carvana. While every reasonable effort is made to ensure the accuracy of the information for this Toyota Tundra Double Cab, we are not responsible for any errors or omissions contained in this ad. Please verify any information in question with Carvana at 334-758-9176*Including, but not limited to, Bridgecrest Credit Company, GO Financial and SilverRock Automotive.*Toyota* *Tundra* *Double* *Cab* *2WD* *Truck* *Toyota* *Tundra* *Double* *Cab* *4WD* *Toyota* *Tundra* *Double* *Cab* *Access* *Cab* *Limited* *Toyota* *Tundra* *Double* *Cab* *Access* *Cab* *SR5* *Toyota* *Tundra* *Double* *Cab* *CrewMax* *Limited* *Toyota* *Tundra* *Double* *Cab* *CrewMax* *Toyota* *Tundra* *Double* *Cab* *CrewMax* *SR5* *Toyota* *Tundra* *Double* *Cab* *Double* *Cab* *Toyota* *Tundra* *Double* *Cab* *Double* *Cab* *Limited* *Toyota* *Tundra* *Double* *Cab* *Double* *Cab* *SR5* *Toyota* *Tundra* *Double* *Cab* *Regular* *Cab* *Toyota* *Tundra* *Double* *Cab* *SR* *Toyota* *Tundra* *Double* *Cab* *Platinum* *Toyota* *Tundra* *Double* *Cab* *electric* *hybrid* *Pickup* 2022  2021  2020  2019  2018  2017  2016  2015  2014  2013  2012  2011  2010  2009  2008  2007  2006  2005  2004  2003  2002  2001  2000   22  21    19  18  17  16  15  14  13  12  11  10  09  08  07  06  05  04  03  02  01  00\n",
       "32 2013 F-150 XLT V6 4 Door. Good condition. Leveling kit. New Tires.                                                                                                                                                                                                                                                                                                                                                                                                                                                                                                                                                                                                                                                                                                                                                                                                                                                                                                                                                                                                                                                                                                                                                                                                                                                                                                                                                                                                                                                                                                                                                                                                                                                                                                                                                                                                                                                                                                                                                                                                                                                                                                                                                                                                                                                                                                                                                                                                                                                                                                                                                                                                                                                                                                                                                                                                                                                                                                                                                                                                                                                                                                                                                                                                                                                                                                                                                                                                                                                                                                                                                                                                                                                                                                                                                                                                                                                                                                                                                                                                                                                                                                                                                                                                                                                                                                                                                                                                                                                                                                                                                                                                                                                                                                                                                                                                                                                                                                       \n",
       "33 Carvana is the safer way to buy a car During these uncertain times, Carvana is dedicated to ensuring safety for all of our customers. In addition to our 100% online shopping and selling experience that allows all customers to buy and trade their cars without ever leaving the safety of their house, we\\342\\200\\231re providing touchless delivery that make all aspects of our process even safer. Now, you can get the car you want, and trade in your old one, while avoiding person-to-person contact with our friendly advocates. There are some things that can\\342\\200\\231t be put off. And if buying a car is one of them, know that we\\342\\200\\231re doing everything we can to keep you keep moving while continuing to put your health safety, and happiness first. Vehicle Stock# 2000839840\\360\\237\\223\\261 Want to instantly check this car\\342\\200\\231s availability? Call us at  334-758-9176Just text that stock number to 855-976-4304 or head to http://www.carvanaauto.com/7164202-74502 and plug it into the search bar!Get PRE-QUALIFIED for your auto loan in 2 minutes - no hit to your credit:http://finance.carvanaauto.com/7164202-74502Looking for more cars like this one? We have 1 GMC Sierra 2500 HD Extended Cab in stock for as low as $27990!Why buy with Carvana? We have one standard: the highest. Take a look at just some of the qualifications all of our cars must meet before we list them.150-POINT INSPECTION: We put each vehicle through a 150-point inspection so that you can be 100% confident in its quality and safety. See everything that goes into our inspections at:http://www.carvanaauto.com/7164202-74502NO REPORTED ACCIDENTS: We do not sell cars that have been in a reported accident or have a frame or structural damage.7 DAY TEST OWN MONEY BACK GUARANTEE: Every Carvana car comes with a 7-day money-back guarantee. Why? It takes more than 15-minutes to make a decision on your next car. Learn more about test owning at http://about.carvanaauto.comFLEXIBLE FINANCING, TRADE INS WELCOME: We\\342\\200\\231re all about real-time financing without the middle man. Need financing? Pick a combination of down and monthly payments that work for you. Have a trade-in? We\\342\\200\\231ll give you a value in 2 minutes. Check out everything about our financing at:http://finance.carvanaauto.com/7164202-74502COST SAVINGS: Carvana's business model has fewer expenses and no bloated fees compared to your local dealership. See how much we can save you at http://about.carvanaauto.comPREMIUM DETAIL: We go the extra mile so that your car is looking as good as new. There are a lot of specifics that we won\\342\\200\\231t list here (we wash, clean, buff, paint, polish, wax, seal), but trust us that when your car arrives, it\\342\\200\\231s going to look sweet.Vehicle Info for Stock# 2000839840Trim: SLE Pickup 4D 6 1/2 ft pickupMileage: 68k milesExterior Color: BlackInterior Color: BLACKEngine: 6.0L V8 360hp 380ft. lbs.Drive: 4wdTransmission: Automatic, 6-Spd HD w/OverdriveVIN: 1GT220CG8CZ231238Dealer Disclosure: Price excludes tax, title, and registration (which we handle for you).Disclaimer: You agree that by providing your phone number, Carvana, or Carvana\\342\\200\\231s authorized representatives*, may call and/or send text messages (including by using equipment to automatically dial telephone numbers) about your interest in a purchase, for marketing/sales purposes, or for any other servicing or informational purpose related to your account. You do not have to consent to receiving calls or texts to purchase from Carvana. While every reasonable effort is made to ensure the accuracy of the information for this GMC Sierra 2500 HD Extended Cab, we are not responsible for any errors or omissions contained in this ad. Please verify any information in question with Carvana at 334-758-9176*Including, but not limited to, Bridgecrest Credit Company, GO Financial and SilverRock Automotive.*GMC* *Sierra* *2500* *HD* *Extended* *Cab* *Base* *GMC* *Sierra* *2500* *HD* *Extended* *Cab* *SLE* *GMC* *Sierra* *2500* *HD* *Extended* *Cab* *SLT* *GMC* *Sierra* *2500* *HD* *Extended* *Cab* *Denali* *GMC* *Sierra* *2500* *HD* *Extended* *Cab* *Work* *Truck* *4x2* *GMC* *Sierra* *2500* *HD* *Extended* *Cab* *4x4* *Crew* *Cab* *GMC* *Sierra* *2500* *HD* *Extended* *Cab* *Regular* *Cab* *Extended* *Cab* *Truck* 2022  2021  2020  2019  2018  2017  2016  2015  2014  2013  2012  2011  2010  2009  2008  2007  2006  2005  2004  2003  2002  2001  2000   22  21    19  18  17  16  15  14  13  12  11  10  09  08  07  06  05  04  03  02  01  00                                                                                                                                                                                                                                                   \n",
       "   county state lat    long     posting_date            \n",
       "28 NA     al    32.590 -85.4800 2021-05-04T12:31:18-0500\n",
       "29 NA     al    32.590 -85.4800 2021-05-04T12:31:08-0500\n",
       "30 NA     al    32.590 -85.4800 2021-05-04T12:31:25-0500\n",
       "31 NA     al    32.590 -85.4800 2021-05-04T10:41:31-0500\n",
       "32 NA     al    32.592 -85.5189 2021-05-03T14:02:03-0500\n",
       "33 NA     al    32.590 -85.4800 2021-05-03T13:41:25-0500"
      ]
     },
     "metadata": {},
     "output_type": "display_data"
    }
   ],
   "source": [
    "head(goodyearsDF)"
   ]
  },
  {
   "cell_type": "code",
   "execution_count": 24,
   "id": "23cb30f3-8052-4693-82b2-9c901a81a19e",
   "metadata": {
    "vscode": {
     "languageId": "r"
    }
   },
   "outputs": [],
   "source": [
    "missingyearsDF <- subset(myDF, is.na(myDF$year))"
   ]
  },
  {
   "cell_type": "code",
   "execution_count": 27,
   "id": "643924ed-a3cb-4ab8-82ba-96446ffdd908",
   "metadata": {
    "vscode": {
     "languageId": "r"
    }
   },
   "outputs": [
    {
     "data": {
      "text/html": [
       "<table class=\"dataframe\">\n",
       "<caption>A data.frame: 6 x 26</caption>\n",
       "<thead>\n",
       "\t<tr><th></th><th scope=col>id</th><th scope=col>url</th><th scope=col>region</th><th scope=col>region_url</th><th scope=col>price</th><th scope=col>year</th><th scope=col>manufacturer</th><th scope=col>model</th><th scope=col>condition</th><th scope=col>cylinders</th><th scope=col>...</th><th scope=col>size</th><th scope=col>type</th><th scope=col>paint_color</th><th scope=col>image_url</th><th scope=col>description</th><th scope=col>county</th><th scope=col>state</th><th scope=col>lat</th><th scope=col>long</th><th scope=col>posting_date</th></tr>\n",
       "\t<tr><th></th><th scope=col>&lt;dbl&gt;</th><th scope=col>&lt;chr&gt;</th><th scope=col>&lt;chr&gt;</th><th scope=col>&lt;chr&gt;</th><th scope=col>&lt;dbl&gt;</th><th scope=col>&lt;int&gt;</th><th scope=col>&lt;chr&gt;</th><th scope=col>&lt;chr&gt;</th><th scope=col>&lt;chr&gt;</th><th scope=col>&lt;chr&gt;</th><th scope=col>...</th><th scope=col>&lt;chr&gt;</th><th scope=col>&lt;chr&gt;</th><th scope=col>&lt;chr&gt;</th><th scope=col>&lt;chr&gt;</th><th scope=col>&lt;chr&gt;</th><th scope=col>&lt;lgl&gt;</th><th scope=col>&lt;chr&gt;</th><th scope=col>&lt;dbl&gt;</th><th scope=col>&lt;dbl&gt;</th><th scope=col>&lt;chr&gt;</th></tr>\n",
       "</thead>\n",
       "<tbody>\n",
       "\t<tr><th scope=row>1</th><td>7222695916</td><td>https://prescott.craigslist.org/cto/d/prescott-2010-ford-ranger/7222695916.html             </td><td>prescott              </td><td>https://prescott.craigslist.org    </td><td> 6000</td><td>NA</td><td></td><td></td><td></td><td></td><td>...</td><td></td><td></td><td></td><td></td><td></td><td>NA</td><td>az</td><td>NA</td><td>NA</td><td></td></tr>\n",
       "\t<tr><th scope=row>2</th><td>7218891961</td><td>https://fayar.craigslist.org/ctd/d/bentonville-2017-hyundai-elantra-se/7218891961.html      </td><td>fayetteville          </td><td>https://fayar.craigslist.org       </td><td>11900</td><td>NA</td><td></td><td></td><td></td><td></td><td>...</td><td></td><td></td><td></td><td></td><td></td><td>NA</td><td>ar</td><td>NA</td><td>NA</td><td></td></tr>\n",
       "\t<tr><th scope=row>3</th><td>7221797935</td><td>https://keys.craigslist.org/cto/d/summerland-key-2005-excursion/7221797935.html             </td><td>florida keys          </td><td>https://keys.craigslist.org        </td><td>21000</td><td>NA</td><td></td><td></td><td></td><td></td><td>...</td><td></td><td></td><td></td><td></td><td></td><td>NA</td><td>fl</td><td>NA</td><td>NA</td><td></td></tr>\n",
       "\t<tr><th scope=row>4</th><td>7222270760</td><td>https://worcester.craigslist.org/cto/d/west-brookfield-2002-honda-odyssey-ex/7222270760.html</td><td>worcester / central MA</td><td>https://worcester.craigslist.org   </td><td> 1500</td><td>NA</td><td></td><td></td><td></td><td></td><td>...</td><td></td><td></td><td></td><td></td><td></td><td>NA</td><td>ma</td><td>NA</td><td>NA</td><td></td></tr>\n",
       "\t<tr><th scope=row>5</th><td>7210384030</td><td>https://greensboro.craigslist.org/cto/d/trinity-1965-chevrolet-truck/7210384030.html        </td><td>greensboro            </td><td>https://greensboro.craigslist.org  </td><td> 4900</td><td>NA</td><td></td><td></td><td></td><td></td><td>...</td><td></td><td></td><td></td><td></td><td></td><td>NA</td><td>nc</td><td>NA</td><td>NA</td><td></td></tr>\n",
       "\t<tr><th scope=row>6</th><td>7222379453</td><td>https://hudsonvalley.craigslist.org/cto/d/westtown-2007-ford-150/7222379453.html            </td><td>hudson valley         </td><td>https://hudsonvalley.craigslist.org</td><td> 1600</td><td>NA</td><td></td><td></td><td></td><td></td><td>...</td><td></td><td></td><td></td><td></td><td></td><td>NA</td><td>ny</td><td>NA</td><td>NA</td><td></td></tr>\n",
       "</tbody>\n",
       "</table>\n"
      ],
      "text/latex": [
       "A data.frame: 6 x 26\n",
       "\\begin{tabular}{r|lllllllllllllllllllll}\n",
       "  & id & url & region & region\\_url & price & year & manufacturer & model & condition & cylinders & ... & size & type & paint\\_color & image\\_url & description & county & state & lat & long & posting\\_date\\\\\n",
       "  & <dbl> & <chr> & <chr> & <chr> & <dbl> & <int> & <chr> & <chr> & <chr> & <chr> & ... & <chr> & <chr> & <chr> & <chr> & <chr> & <lgl> & <chr> & <dbl> & <dbl> & <chr>\\\\\n",
       "\\hline\n",
       "\t1 & 7222695916 & https://prescott.craigslist.org/cto/d/prescott-2010-ford-ranger/7222695916.html              & prescott               & https://prescott.craigslist.org     &  6000 & NA &  &  &  &  & ... &  &  &  &  &  & NA & az & NA & NA & \\\\\n",
       "\t2 & 7218891961 & https://fayar.craigslist.org/ctd/d/bentonville-2017-hyundai-elantra-se/7218891961.html       & fayetteville           & https://fayar.craigslist.org        & 11900 & NA &  &  &  &  & ... &  &  &  &  &  & NA & ar & NA & NA & \\\\\n",
       "\t3 & 7221797935 & https://keys.craigslist.org/cto/d/summerland-key-2005-excursion/7221797935.html              & florida keys           & https://keys.craigslist.org         & 21000 & NA &  &  &  &  & ... &  &  &  &  &  & NA & fl & NA & NA & \\\\\n",
       "\t4 & 7222270760 & https://worcester.craigslist.org/cto/d/west-brookfield-2002-honda-odyssey-ex/7222270760.html & worcester / central MA & https://worcester.craigslist.org    &  1500 & NA &  &  &  &  & ... &  &  &  &  &  & NA & ma & NA & NA & \\\\\n",
       "\t5 & 7210384030 & https://greensboro.craigslist.org/cto/d/trinity-1965-chevrolet-truck/7210384030.html         & greensboro             & https://greensboro.craigslist.org   &  4900 & NA &  &  &  &  & ... &  &  &  &  &  & NA & nc & NA & NA & \\\\\n",
       "\t6 & 7222379453 & https://hudsonvalley.craigslist.org/cto/d/westtown-2007-ford-150/7222379453.html             & hudson valley          & https://hudsonvalley.craigslist.org &  1600 & NA &  &  &  &  & ... &  &  &  &  &  & NA & ny & NA & NA & \\\\\n",
       "\\end{tabular}\n"
      ],
      "text/markdown": [
       "\n",
       "A data.frame: 6 x 26\n",
       "\n",
       "| <!--/--> | id &lt;dbl&gt; | url &lt;chr&gt; | region &lt;chr&gt; | region_url &lt;chr&gt; | price &lt;dbl&gt; | year &lt;int&gt; | manufacturer &lt;chr&gt; | model &lt;chr&gt; | condition &lt;chr&gt; | cylinders &lt;chr&gt; | ... ... | size &lt;chr&gt; | type &lt;chr&gt; | paint_color &lt;chr&gt; | image_url &lt;chr&gt; | description &lt;chr&gt; | county &lt;lgl&gt; | state &lt;chr&gt; | lat &lt;dbl&gt; | long &lt;dbl&gt; | posting_date &lt;chr&gt; |\n",
       "|---|---|---|---|---|---|---|---|---|---|---|---|---|---|---|---|---|---|---|---|---|---|\n",
       "| 1 | 7222695916 | https://prescott.craigslist.org/cto/d/prescott-2010-ford-ranger/7222695916.html              | prescott               | https://prescott.craigslist.org     |  6000 | NA | <!----> | <!----> | <!----> | <!----> | ... | <!----> | <!----> | <!----> | <!----> | <!----> | NA | az | NA | NA | <!----> |\n",
       "| 2 | 7218891961 | https://fayar.craigslist.org/ctd/d/bentonville-2017-hyundai-elantra-se/7218891961.html       | fayetteville           | https://fayar.craigslist.org        | 11900 | NA | <!----> | <!----> | <!----> | <!----> | ... | <!----> | <!----> | <!----> | <!----> | <!----> | NA | ar | NA | NA | <!----> |\n",
       "| 3 | 7221797935 | https://keys.craigslist.org/cto/d/summerland-key-2005-excursion/7221797935.html              | florida keys           | https://keys.craigslist.org         | 21000 | NA | <!----> | <!----> | <!----> | <!----> | ... | <!----> | <!----> | <!----> | <!----> | <!----> | NA | fl | NA | NA | <!----> |\n",
       "| 4 | 7222270760 | https://worcester.craigslist.org/cto/d/west-brookfield-2002-honda-odyssey-ex/7222270760.html | worcester / central MA | https://worcester.craigslist.org    |  1500 | NA | <!----> | <!----> | <!----> | <!----> | ... | <!----> | <!----> | <!----> | <!----> | <!----> | NA | ma | NA | NA | <!----> |\n",
       "| 5 | 7210384030 | https://greensboro.craigslist.org/cto/d/trinity-1965-chevrolet-truck/7210384030.html         | greensboro             | https://greensboro.craigslist.org   |  4900 | NA | <!----> | <!----> | <!----> | <!----> | ... | <!----> | <!----> | <!----> | <!----> | <!----> | NA | nc | NA | NA | <!----> |\n",
       "| 6 | 7222379453 | https://hudsonvalley.craigslist.org/cto/d/westtown-2007-ford-150/7222379453.html             | hudson valley          | https://hudsonvalley.craigslist.org |  1600 | NA | <!----> | <!----> | <!----> | <!----> | ... | <!----> | <!----> | <!----> | <!----> | <!----> | NA | ny | NA | NA | <!----> |\n",
       "\n"
      ],
      "text/plain": [
       "  id        \n",
       "1 7222695916\n",
       "2 7218891961\n",
       "3 7221797935\n",
       "4 7222270760\n",
       "5 7210384030\n",
       "6 7222379453\n",
       "  url                                                                                         \n",
       "1 https://prescott.craigslist.org/cto/d/prescott-2010-ford-ranger/7222695916.html             \n",
       "2 https://fayar.craigslist.org/ctd/d/bentonville-2017-hyundai-elantra-se/7218891961.html      \n",
       "3 https://keys.craigslist.org/cto/d/summerland-key-2005-excursion/7221797935.html             \n",
       "4 https://worcester.craigslist.org/cto/d/west-brookfield-2002-honda-odyssey-ex/7222270760.html\n",
       "5 https://greensboro.craigslist.org/cto/d/trinity-1965-chevrolet-truck/7210384030.html        \n",
       "6 https://hudsonvalley.craigslist.org/cto/d/westtown-2007-ford-150/7222379453.html            \n",
       "  region                 region_url                          price year\n",
       "1 prescott               https://prescott.craigslist.org      6000 NA  \n",
       "2 fayetteville           https://fayar.craigslist.org        11900 NA  \n",
       "3 florida keys           https://keys.craigslist.org         21000 NA  \n",
       "4 worcester / central MA https://worcester.craigslist.org     1500 NA  \n",
       "5 greensboro             https://greensboro.craigslist.org    4900 NA  \n",
       "6 hudson valley          https://hudsonvalley.craigslist.org  1600 NA  \n",
       "  manufacturer model condition cylinders ... size type paint_color image_url\n",
       "1                                        ...                                \n",
       "2                                        ...                                \n",
       "3                                        ...                                \n",
       "4                                        ...                                \n",
       "5                                        ...                                \n",
       "6                                        ...                                \n",
       "  description county state lat long posting_date\n",
       "1             NA     az    NA  NA               \n",
       "2             NA     ar    NA  NA               \n",
       "3             NA     fl    NA  NA               \n",
       "4             NA     ma    NA  NA               \n",
       "5             NA     nc    NA  NA               \n",
       "6             NA     ny    NA  NA               "
      ]
     },
     "metadata": {},
     "output_type": "display_data"
    }
   ],
   "source": [
    "head(missingyearsDF)"
   ]
  },
  {
   "cell_type": "code",
   "execution_count": null,
   "id": "0359247c-b66e-4e9a-9465-03dfe6f396c6",
   "metadata": {
    "vscode": {
     "languageId": "r"
    }
   },
   "outputs": [],
   "source": []
  },
  {
   "cell_type": "code",
   "execution_count": 39,
   "id": "0f902dc3-6d88-456a-8607-ccb58e734c9c",
   "metadata": {
    "vscode": {
     "languageId": "r"
    }
   },
   "outputs": [],
   "source": [
    "#question 3"
   ]
  },
  {
   "cell_type": "code",
   "execution_count": 40,
   "id": "02a2273e-9e63-4947-b2e2-0c9e508af3e8",
   "metadata": {
    "vscode": {
     "languageId": "r"
    }
   },
   "outputs": [
    {
     "data": {
      "text/html": [
       "<table class=\"dataframe\">\n",
       "<caption>A data.frame: 14 x 2</caption>\n",
       "<thead>\n",
       "\t<tr><th scope=col>type</th><th scope=col>price</th></tr>\n",
       "\t<tr><th scope=col>&lt;chr&gt;</th><th scope=col>&lt;dbl&gt;</th></tr>\n",
       "</thead>\n",
       "<tbody>\n",
       "\t<tr><td>           </td><td>204624.532</td></tr>\n",
       "\t<tr><td>SUV        </td><td> 34434.048</td></tr>\n",
       "\t<tr><td>bus        </td><td> 14105.617</td></tr>\n",
       "\t<tr><td>convertible</td><td> 19999.774</td></tr>\n",
       "\t<tr><td>coupe      </td><td> 21937.563</td></tr>\n",
       "\t<tr><td>hatchback  </td><td> 14384.513</td></tr>\n",
       "\t<tr><td>mini-van   </td><td>  9234.088</td></tr>\n",
       "\t<tr><td>offroad    </td><td> 15813.094</td></tr>\n",
       "\t<tr><td>other      </td><td> 24743.588</td></tr>\n",
       "\t<tr><td>pickup     </td><td>144751.640</td></tr>\n",
       "\t<tr><td>sedan      </td><td> 15950.185</td></tr>\n",
       "\t<tr><td>truck      </td><td> 29383.578</td></tr>\n",
       "\t<tr><td>van        </td><td> 17487.597</td></tr>\n",
       "\t<tr><td>wagon      </td><td> 13273.910</td></tr>\n",
       "</tbody>\n",
       "</table>\n"
      ],
      "text/latex": [
       "A data.frame: 14 x 2\n",
       "\\begin{tabular}{ll}\n",
       " type & price\\\\\n",
       " <chr> & <dbl>\\\\\n",
       "\\hline\n",
       "\t             & 204624.532\\\\\n",
       "\t SUV         &  34434.048\\\\\n",
       "\t bus         &  14105.617\\\\\n",
       "\t convertible &  19999.774\\\\\n",
       "\t coupe       &  21937.563\\\\\n",
       "\t hatchback   &  14384.513\\\\\n",
       "\t mini-van    &   9234.088\\\\\n",
       "\t offroad     &  15813.094\\\\\n",
       "\t other       &  24743.588\\\\\n",
       "\t pickup      & 144751.640\\\\\n",
       "\t sedan       &  15950.185\\\\\n",
       "\t truck       &  29383.578\\\\\n",
       "\t van         &  17487.597\\\\\n",
       "\t wagon       &  13273.910\\\\\n",
       "\\end{tabular}\n"
      ],
      "text/markdown": [
       "\n",
       "A data.frame: 14 x 2\n",
       "\n",
       "| type &lt;chr&gt; | price &lt;dbl&gt; |\n",
       "|---|---|\n",
       "| <!----> | 204624.532 |\n",
       "| SUV         |  34434.048 |\n",
       "| bus         |  14105.617 |\n",
       "| convertible |  19999.774 |\n",
       "| coupe       |  21937.563 |\n",
       "| hatchback   |  14384.513 |\n",
       "| mini-van    |   9234.088 |\n",
       "| offroad     |  15813.094 |\n",
       "| other       |  24743.588 |\n",
       "| pickup      | 144751.640 |\n",
       "| sedan       |  15950.185 |\n",
       "| truck       |  29383.578 |\n",
       "| van         |  17487.597 |\n",
       "| wagon       |  13273.910 |\n",
       "\n"
      ],
      "text/plain": [
       "   type        price     \n",
       "1              204624.532\n",
       "2  SUV          34434.048\n",
       "3  bus          14105.617\n",
       "4  convertible  19999.774\n",
       "5  coupe        21937.563\n",
       "6  hatchback    14384.513\n",
       "7  mini-van      9234.088\n",
       "8  offroad      15813.094\n",
       "9  other        24743.588\n",
       "10 pickup      144751.640\n",
       "11 sedan        15950.185\n",
       "12 truck        29383.578\n",
       "13 van          17487.597\n",
       "14 wagon        13273.910"
      ]
     },
     "metadata": {},
     "output_type": "display_data"
    }
   ],
   "source": [
    "aggregate(price ~ type, data = myDF, FUN = mean)"
   ]
  },
  {
   "cell_type": "code",
   "execution_count": 3,
   "id": "b247ee72-2650-4901-b582-1774364d3b5f",
   "metadata": {
    "vscode": {
     "languageId": "r"
    }
   },
   "outputs": [
    {
     "data": {
      "text/html": [
       "<table class=\"dataframe\">\n",
       "<caption>A data.frame: 20 x 2</caption>\n",
       "<thead>\n",
       "\t<tr><th></th><th scope=col>year</th><th scope=col>price</th></tr>\n",
       "\t<tr><th></th><th scope=col>&lt;int&gt;</th><th scope=col>&lt;dbl&gt;</th></tr>\n",
       "</thead>\n",
       "<tbody>\n",
       "\t<tr><th scope=row>95</th><td>2003</td><td>  24268.185</td></tr>\n",
       "\t<tr><th scope=row>96</th><td>2004</td><td>   7505.400</td></tr>\n",
       "\t<tr><th scope=row>97</th><td>2005</td><td>   7950.689</td></tr>\n",
       "\t<tr><th scope=row>98</th><td>2006</td><td> 105032.821</td></tr>\n",
       "\t<tr><th scope=row>99</th><td>2007</td><td> 261162.517</td></tr>\n",
       "\t<tr><th scope=row>100</th><td>2008</td><td>  16993.552</td></tr>\n",
       "\t<tr><th scope=row>101</th><td>2009</td><td>   9071.533</td></tr>\n",
       "\t<tr><th scope=row>102</th><td>2010</td><td>  10252.555</td></tr>\n",
       "\t<tr><th scope=row>103</th><td>2011</td><td>  12503.809</td></tr>\n",
       "\t<tr><th scope=row>104</th><td>2012</td><td>  14089.052</td></tr>\n",
       "\t<tr><th scope=row>105</th><td>2013</td><td>  14748.418</td></tr>\n",
       "\t<tr><th scope=row>106</th><td>2014</td><td>  17144.156</td></tr>\n",
       "\t<tr><th scope=row>107</th><td>2015</td><td>  23408.126</td></tr>\n",
       "\t<tr><th scope=row>108</th><td>2016</td><td>  21495.990</td></tr>\n",
       "\t<tr><th scope=row>109</th><td>2017</td><td>  23970.339</td></tr>\n",
       "\t<tr><th scope=row>110</th><td>2018</td><td>  26368.606</td></tr>\n",
       "\t<tr><th scope=row>111</th><td>2019</td><td>  32975.532</td></tr>\n",
       "\t<tr><th scope=row>112</th><td>2020</td><td>  91897.715</td></tr>\n",
       "\t<tr><th scope=row>113</th><td>2021</td><td>1338055.311</td></tr>\n",
       "\t<tr><th scope=row>114</th><td>2022</td><td>  27367.053</td></tr>\n",
       "</tbody>\n",
       "</table>\n"
      ],
      "text/latex": [
       "A data.frame: 20 x 2\n",
       "\\begin{tabular}{r|ll}\n",
       "  & year & price\\\\\n",
       "  & <int> & <dbl>\\\\\n",
       "\\hline\n",
       "\t95 & 2003 &   24268.185\\\\\n",
       "\t96 & 2004 &    7505.400\\\\\n",
       "\t97 & 2005 &    7950.689\\\\\n",
       "\t98 & 2006 &  105032.821\\\\\n",
       "\t99 & 2007 &  261162.517\\\\\n",
       "\t100 & 2008 &   16993.552\\\\\n",
       "\t101 & 2009 &    9071.533\\\\\n",
       "\t102 & 2010 &   10252.555\\\\\n",
       "\t103 & 2011 &   12503.809\\\\\n",
       "\t104 & 2012 &   14089.052\\\\\n",
       "\t105 & 2013 &   14748.418\\\\\n",
       "\t106 & 2014 &   17144.156\\\\\n",
       "\t107 & 2015 &   23408.126\\\\\n",
       "\t108 & 2016 &   21495.990\\\\\n",
       "\t109 & 2017 &   23970.339\\\\\n",
       "\t110 & 2018 &   26368.606\\\\\n",
       "\t111 & 2019 &   32975.532\\\\\n",
       "\t112 & 2020 &   91897.715\\\\\n",
       "\t113 & 2021 & 1338055.311\\\\\n",
       "\t114 & 2022 &   27367.053\\\\\n",
       "\\end{tabular}\n"
      ],
      "text/markdown": [
       "\n",
       "A data.frame: 20 x 2\n",
       "\n",
       "| <!--/--> | year &lt;int&gt; | price &lt;dbl&gt; |\n",
       "|---|---|---|\n",
       "| 95 | 2003 |   24268.185 |\n",
       "| 96 | 2004 |    7505.400 |\n",
       "| 97 | 2005 |    7950.689 |\n",
       "| 98 | 2006 |  105032.821 |\n",
       "| 99 | 2007 |  261162.517 |\n",
       "| 100 | 2008 |   16993.552 |\n",
       "| 101 | 2009 |    9071.533 |\n",
       "| 102 | 2010 |   10252.555 |\n",
       "| 103 | 2011 |   12503.809 |\n",
       "| 104 | 2012 |   14089.052 |\n",
       "| 105 | 2013 |   14748.418 |\n",
       "| 106 | 2014 |   17144.156 |\n",
       "| 107 | 2015 |   23408.126 |\n",
       "| 108 | 2016 |   21495.990 |\n",
       "| 109 | 2017 |   23970.339 |\n",
       "| 110 | 2018 |   26368.606 |\n",
       "| 111 | 2019 |   32975.532 |\n",
       "| 112 | 2020 |   91897.715 |\n",
       "| 113 | 2021 | 1338055.311 |\n",
       "| 114 | 2022 |   27367.053 |\n",
       "\n"
      ],
      "text/plain": [
       "    year price      \n",
       "95  2003   24268.185\n",
       "96  2004    7505.400\n",
       "97  2005    7950.689\n",
       "98  2006  105032.821\n",
       "99  2007  261162.517\n",
       "100 2008   16993.552\n",
       "101 2009    9071.533\n",
       "102 2010   10252.555\n",
       "103 2011   12503.809\n",
       "104 2012   14089.052\n",
       "105 2013   14748.418\n",
       "106 2014   17144.156\n",
       "107 2015   23408.126\n",
       "108 2016   21495.990\n",
       "109 2017   23970.339\n",
       "110 2018   26368.606\n",
       "111 2019   32975.532\n",
       "112 2020   91897.715\n",
       "113 2021 1338055.311\n",
       "114 2022   27367.053"
      ]
     },
     "metadata": {},
     "output_type": "display_data"
    }
   ],
   "source": [
    "subset(aggregate(price ~ year, data = myDF, FUN = mean), year>2002)"
   ]
  },
  {
   "cell_type": "code",
   "execution_count": 22,
   "id": "708742eb-4f80-40bf-9de3-f5b625f5d197",
   "metadata": {
    "vscode": {
     "languageId": "r"
    }
   },
   "outputs": [
    {
     "data": {
      "text/plain": [
       "\n",
       " 1900  1901  1902  1903  1905  1909  1910  1913  1915  1916  1918  1920  1921 \n",
       "   12     3     1    12     1     1     2     2     1     2     1     2     2 \n",
       " 1922  1923  1924  1925  1926  1927  1928  1929  1930  1931  1932  1933  1934 \n",
       "    3    36     9     8    16    37    38    57    68    58    57    25    44 \n",
       " 1935  1936  1937  1938  1939  1940  1941  1942  1943  1944  1945  1946  1947 \n",
       "   23    43    70    38    54    81    67    15     1     3     2    58    71 \n",
       " 1948  1949  1950  1951  1952  1953  1954  1955  1956  1957  1958  1959  1960 \n",
       "  100    89   106    98   110   105   100   226   160   174    73    93   120 \n",
       " 1961  1962  1963  1964  1965  1966  1967  1968  1969  1970  1971  1972  1973 \n",
       "   82   138   234   270   365   424   357   425   409   345   312   409   334 \n",
       " 1974  1975  1976  1977  1978  1979  1980  1981  1982  1983  1984  1985  1986 \n",
       "  280   204   242   273   345   387   272   214   217   257   387   469   523 \n",
       " 1987  1988  1989  1990  1991  1992  1993  1994  1995  1996  1997  1998  1999 \n",
       "  532   528   571   599   608   626   712   968  1246  1302  1724  1988  3094 \n",
       " 2000  2001  2002  2003  2004  2005  2006  2007  2008  2009  2010  2011  2012 \n",
       " 3572  4443  5587  7151  8971 10622 12763 14873 17150 12185 15829 20341 23898 \n",
       " 2013  2014  2015  2016  2017  2018  2019  2020  2021  2022 \n",
       "30794 30283 31538 30434 36420 36369 25375 19298  2396   133 "
      ]
     },
     "metadata": {},
     "output_type": "display_data"
    }
   ],
   "source": [
    "table(myDF$year)"
   ]
  },
  {
   "cell_type": "code",
   "execution_count": 24,
   "id": "a278abc6-a0c7-486f-85b8-0d3eebd94527",
   "metadata": {
    "vscode": {
     "languageId": "r"
    }
   },
   "outputs": [
    {
     "data": {
      "text/html": [
       "<strong>2017:</strong> 109"
      ],
      "text/latex": [
       "\\textbf{2017:} 109"
      ],
      "text/markdown": [
       "**2017:** 109"
      ],
      "text/plain": [
       "2017 \n",
       " 109 "
      ]
     },
     "metadata": {},
     "output_type": "display_data"
    }
   ],
   "source": [
    "which.max(table(myDF$year))"
   ]
  },
  {
   "cell_type": "code",
   "execution_count": 26,
   "id": "5e3ae8b8-65f2-4257-a619-320064a83aaf",
   "metadata": {
    "vscode": {
     "languageId": "r"
    }
   },
   "outputs": [
    {
     "data": {
      "text/html": [
       "114"
      ],
      "text/latex": [
       "114"
      ],
      "text/markdown": [
       "114"
      ],
      "text/plain": [
       "[1] 114"
      ]
     },
     "metadata": {},
     "output_type": "display_data"
    }
   ],
   "source": [
    "length(table(myDF$year))"
   ]
  },
  {
   "cell_type": "code",
   "execution_count": 29,
   "id": "a35032fe-130c-4da5-8178-8174fafe5b3a",
   "metadata": {
    "vscode": {
     "languageId": "r"
    }
   },
   "outputs": [
    {
     "data": {
      "text/html": [
       "<strong>2017:</strong> 36420"
      ],
      "text/latex": [
       "\\textbf{2017:} 36420"
      ],
      "text/markdown": [
       "**2017:** 36420"
      ],
      "text/plain": [
       " 2017 \n",
       "36420 "
      ]
     },
     "metadata": {},
     "output_type": "display_data"
    }
   ],
   "source": [
    "table(myDF$year)[which.max(table(myDF$year))]"
   ]
  },
  {
   "cell_type": "code",
   "execution_count": 30,
   "id": "1658d41f-42f6-41d4-8e15-2c4e79520552",
   "metadata": {
    "vscode": {
     "languageId": "r"
    }
   },
   "outputs": [],
   "source": [
    "# It looks like the year 2017 appears the most frequent with \n",
    "#around 36,420 being presented "
   ]
  },
  {
   "cell_type": "code",
   "execution_count": 12,
   "id": "57d1cdb3-9c09-458d-96ae-5efd6b85a0f6",
   "metadata": {
    "vscode": {
     "languageId": "r"
    }
   },
   "outputs": [],
   "source": [
    "#Question 4"
   ]
  },
  {
   "cell_type": "code",
   "execution_count": 9,
   "id": "f7e084d3-b1d0-495b-b953-02d3034c6fce",
   "metadata": {
    "vscode": {
     "languageId": "r"
    }
   },
   "outputs": [
    {
     "data": {
      "text/html": [
       "<table class=\"dataframe\">\n",
       "<caption>A data.frame: 6 x 26</caption>\n",
       "<thead>\n",
       "\t<tr><th></th><th scope=col>id</th><th scope=col>url</th><th scope=col>region</th><th scope=col>region_url</th><th scope=col>price</th><th scope=col>year</th><th scope=col>manufacturer</th><th scope=col>model</th><th scope=col>condition</th><th scope=col>cylinders</th><th scope=col>...</th><th scope=col>size</th><th scope=col>type</th><th scope=col>paint_color</th><th scope=col>image_url</th><th scope=col>description</th><th scope=col>county</th><th scope=col>state</th><th scope=col>lat</th><th scope=col>long</th><th scope=col>posting_date</th></tr>\n",
       "\t<tr><th></th><th scope=col>&lt;dbl&gt;</th><th scope=col>&lt;chr&gt;</th><th scope=col>&lt;chr&gt;</th><th scope=col>&lt;chr&gt;</th><th scope=col>&lt;dbl&gt;</th><th scope=col>&lt;int&gt;</th><th scope=col>&lt;chr&gt;</th><th scope=col>&lt;chr&gt;</th><th scope=col>&lt;chr&gt;</th><th scope=col>&lt;chr&gt;</th><th scope=col>...</th><th scope=col>&lt;chr&gt;</th><th scope=col>&lt;chr&gt;</th><th scope=col>&lt;chr&gt;</th><th scope=col>&lt;chr&gt;</th><th scope=col>&lt;chr&gt;</th><th scope=col>&lt;lgl&gt;</th><th scope=col>&lt;chr&gt;</th><th scope=col>&lt;dbl&gt;</th><th scope=col>&lt;dbl&gt;</th><th scope=col>&lt;chr&gt;</th></tr>\n",
       "</thead>\n",
       "<tbody>\n",
       "\t<tr><th scope=row>1</th><td>7222695916</td><td>https://prescott.craigslist.org/cto/d/prescott-2010-ford-ranger/7222695916.html             </td><td>prescott              </td><td>https://prescott.craigslist.org    </td><td> 6000</td><td>NA</td><td></td><td></td><td></td><td></td><td>...</td><td></td><td></td><td></td><td></td><td></td><td>NA</td><td>az</td><td>NA</td><td>NA</td><td></td></tr>\n",
       "\t<tr><th scope=row>2</th><td>7218891961</td><td>https://fayar.craigslist.org/ctd/d/bentonville-2017-hyundai-elantra-se/7218891961.html      </td><td>fayetteville          </td><td>https://fayar.craigslist.org       </td><td>11900</td><td>NA</td><td></td><td></td><td></td><td></td><td>...</td><td></td><td></td><td></td><td></td><td></td><td>NA</td><td>ar</td><td>NA</td><td>NA</td><td></td></tr>\n",
       "\t<tr><th scope=row>3</th><td>7221797935</td><td>https://keys.craigslist.org/cto/d/summerland-key-2005-excursion/7221797935.html             </td><td>florida keys          </td><td>https://keys.craigslist.org        </td><td>21000</td><td>NA</td><td></td><td></td><td></td><td></td><td>...</td><td></td><td></td><td></td><td></td><td></td><td>NA</td><td>fl</td><td>NA</td><td>NA</td><td></td></tr>\n",
       "\t<tr><th scope=row>4</th><td>7222270760</td><td>https://worcester.craigslist.org/cto/d/west-brookfield-2002-honda-odyssey-ex/7222270760.html</td><td>worcester / central MA</td><td>https://worcester.craigslist.org   </td><td> 1500</td><td>NA</td><td></td><td></td><td></td><td></td><td>...</td><td></td><td></td><td></td><td></td><td></td><td>NA</td><td>ma</td><td>NA</td><td>NA</td><td></td></tr>\n",
       "\t<tr><th scope=row>5</th><td>7210384030</td><td>https://greensboro.craigslist.org/cto/d/trinity-1965-chevrolet-truck/7210384030.html        </td><td>greensboro            </td><td>https://greensboro.craigslist.org  </td><td> 4900</td><td>NA</td><td></td><td></td><td></td><td></td><td>...</td><td></td><td></td><td></td><td></td><td></td><td>NA</td><td>nc</td><td>NA</td><td>NA</td><td></td></tr>\n",
       "\t<tr><th scope=row>6</th><td>7222379453</td><td>https://hudsonvalley.craigslist.org/cto/d/westtown-2007-ford-150/7222379453.html            </td><td>hudson valley         </td><td>https://hudsonvalley.craigslist.org</td><td> 1600</td><td>NA</td><td></td><td></td><td></td><td></td><td>...</td><td></td><td></td><td></td><td></td><td></td><td>NA</td><td>ny</td><td>NA</td><td>NA</td><td></td></tr>\n",
       "</tbody>\n",
       "</table>\n"
      ],
      "text/latex": [
       "A data.frame: 6 x 26\n",
       "\\begin{tabular}{r|lllllllllllllllllllll}\n",
       "  & id & url & region & region\\_url & price & year & manufacturer & model & condition & cylinders & ... & size & type & paint\\_color & image\\_url & description & county & state & lat & long & posting\\_date\\\\\n",
       "  & <dbl> & <chr> & <chr> & <chr> & <dbl> & <int> & <chr> & <chr> & <chr> & <chr> & ... & <chr> & <chr> & <chr> & <chr> & <chr> & <lgl> & <chr> & <dbl> & <dbl> & <chr>\\\\\n",
       "\\hline\n",
       "\t1 & 7222695916 & https://prescott.craigslist.org/cto/d/prescott-2010-ford-ranger/7222695916.html              & prescott               & https://prescott.craigslist.org     &  6000 & NA &  &  &  &  & ... &  &  &  &  &  & NA & az & NA & NA & \\\\\n",
       "\t2 & 7218891961 & https://fayar.craigslist.org/ctd/d/bentonville-2017-hyundai-elantra-se/7218891961.html       & fayetteville           & https://fayar.craigslist.org        & 11900 & NA &  &  &  &  & ... &  &  &  &  &  & NA & ar & NA & NA & \\\\\n",
       "\t3 & 7221797935 & https://keys.craigslist.org/cto/d/summerland-key-2005-excursion/7221797935.html              & florida keys           & https://keys.craigslist.org         & 21000 & NA &  &  &  &  & ... &  &  &  &  &  & NA & fl & NA & NA & \\\\\n",
       "\t4 & 7222270760 & https://worcester.craigslist.org/cto/d/west-brookfield-2002-honda-odyssey-ex/7222270760.html & worcester / central MA & https://worcester.craigslist.org    &  1500 & NA &  &  &  &  & ... &  &  &  &  &  & NA & ma & NA & NA & \\\\\n",
       "\t5 & 7210384030 & https://greensboro.craigslist.org/cto/d/trinity-1965-chevrolet-truck/7210384030.html         & greensboro             & https://greensboro.craigslist.org   &  4900 & NA &  &  &  &  & ... &  &  &  &  &  & NA & nc & NA & NA & \\\\\n",
       "\t6 & 7222379453 & https://hudsonvalley.craigslist.org/cto/d/westtown-2007-ford-150/7222379453.html             & hudson valley          & https://hudsonvalley.craigslist.org &  1600 & NA &  &  &  &  & ... &  &  &  &  &  & NA & ny & NA & NA & \\\\\n",
       "\\end{tabular}\n"
      ],
      "text/markdown": [
       "\n",
       "A data.frame: 6 x 26\n",
       "\n",
       "| <!--/--> | id &lt;dbl&gt; | url &lt;chr&gt; | region &lt;chr&gt; | region_url &lt;chr&gt; | price &lt;dbl&gt; | year &lt;int&gt; | manufacturer &lt;chr&gt; | model &lt;chr&gt; | condition &lt;chr&gt; | cylinders &lt;chr&gt; | ... ... | size &lt;chr&gt; | type &lt;chr&gt; | paint_color &lt;chr&gt; | image_url &lt;chr&gt; | description &lt;chr&gt; | county &lt;lgl&gt; | state &lt;chr&gt; | lat &lt;dbl&gt; | long &lt;dbl&gt; | posting_date &lt;chr&gt; |\n",
       "|---|---|---|---|---|---|---|---|---|---|---|---|---|---|---|---|---|---|---|---|---|---|\n",
       "| 1 | 7222695916 | https://prescott.craigslist.org/cto/d/prescott-2010-ford-ranger/7222695916.html              | prescott               | https://prescott.craigslist.org     |  6000 | NA | <!----> | <!----> | <!----> | <!----> | ... | <!----> | <!----> | <!----> | <!----> | <!----> | NA | az | NA | NA | <!----> |\n",
       "| 2 | 7218891961 | https://fayar.craigslist.org/ctd/d/bentonville-2017-hyundai-elantra-se/7218891961.html       | fayetteville           | https://fayar.craigslist.org        | 11900 | NA | <!----> | <!----> | <!----> | <!----> | ... | <!----> | <!----> | <!----> | <!----> | <!----> | NA | ar | NA | NA | <!----> |\n",
       "| 3 | 7221797935 | https://keys.craigslist.org/cto/d/summerland-key-2005-excursion/7221797935.html              | florida keys           | https://keys.craigslist.org         | 21000 | NA | <!----> | <!----> | <!----> | <!----> | ... | <!----> | <!----> | <!----> | <!----> | <!----> | NA | fl | NA | NA | <!----> |\n",
       "| 4 | 7222270760 | https://worcester.craigslist.org/cto/d/west-brookfield-2002-honda-odyssey-ex/7222270760.html | worcester / central MA | https://worcester.craigslist.org    |  1500 | NA | <!----> | <!----> | <!----> | <!----> | ... | <!----> | <!----> | <!----> | <!----> | <!----> | NA | ma | NA | NA | <!----> |\n",
       "| 5 | 7210384030 | https://greensboro.craigslist.org/cto/d/trinity-1965-chevrolet-truck/7210384030.html         | greensboro             | https://greensboro.craigslist.org   |  4900 | NA | <!----> | <!----> | <!----> | <!----> | ... | <!----> | <!----> | <!----> | <!----> | <!----> | NA | nc | NA | NA | <!----> |\n",
       "| 6 | 7222379453 | https://hudsonvalley.craigslist.org/cto/d/westtown-2007-ford-150/7222379453.html             | hudson valley          | https://hudsonvalley.craigslist.org |  1600 | NA | <!----> | <!----> | <!----> | <!----> | ... | <!----> | <!----> | <!----> | <!----> | <!----> | NA | ny | NA | NA | <!----> |\n",
       "\n"
      ],
      "text/plain": [
       "  id        \n",
       "1 7222695916\n",
       "2 7218891961\n",
       "3 7221797935\n",
       "4 7222270760\n",
       "5 7210384030\n",
       "6 7222379453\n",
       "  url                                                                                         \n",
       "1 https://prescott.craigslist.org/cto/d/prescott-2010-ford-ranger/7222695916.html             \n",
       "2 https://fayar.craigslist.org/ctd/d/bentonville-2017-hyundai-elantra-se/7218891961.html      \n",
       "3 https://keys.craigslist.org/cto/d/summerland-key-2005-excursion/7221797935.html             \n",
       "4 https://worcester.craigslist.org/cto/d/west-brookfield-2002-honda-odyssey-ex/7222270760.html\n",
       "5 https://greensboro.craigslist.org/cto/d/trinity-1965-chevrolet-truck/7210384030.html        \n",
       "6 https://hudsonvalley.craigslist.org/cto/d/westtown-2007-ford-150/7222379453.html            \n",
       "  region                 region_url                          price year\n",
       "1 prescott               https://prescott.craigslist.org      6000 NA  \n",
       "2 fayetteville           https://fayar.craigslist.org        11900 NA  \n",
       "3 florida keys           https://keys.craigslist.org         21000 NA  \n",
       "4 worcester / central MA https://worcester.craigslist.org     1500 NA  \n",
       "5 greensboro             https://greensboro.craigslist.org    4900 NA  \n",
       "6 hudson valley          https://hudsonvalley.craigslist.org  1600 NA  \n",
       "  manufacturer model condition cylinders ... size type paint_color image_url\n",
       "1                                        ...                                \n",
       "2                                        ...                                \n",
       "3                                        ...                                \n",
       "4                                        ...                                \n",
       "5                                        ...                                \n",
       "6                                        ...                                \n",
       "  description county state lat long posting_date\n",
       "1             NA     az    NA  NA               \n",
       "2             NA     ar    NA  NA               \n",
       "3             NA     fl    NA  NA               \n",
       "4             NA     ma    NA  NA               \n",
       "5             NA     nc    NA  NA               \n",
       "6             NA     ny    NA  NA               "
      ]
     },
     "metadata": {},
     "output_type": "display_data"
    }
   ],
   "source": [
    "head(myDF)"
   ]
  },
  {
   "cell_type": "code",
   "execution_count": 24,
   "id": "6ea1d816-32c9-4e05-86a1-1d0845df2072",
   "metadata": {
    "vscode": {
     "languageId": "r"
    }
   },
   "outputs": [
    {
     "data": {
      "text/plain": [
       "\n",
       "   tx    fl    ca \n",
       "22945 28511 50614 "
      ]
     },
     "metadata": {},
     "output_type": "display_data"
    }
   ],
   "source": [
    "tail(sort(table(myDF$state)), n=3) #The three most popular states are TX, FL, and CA"
   ]
  },
  {
   "cell_type": "code",
   "execution_count": 46,
   "id": "684f50bc-68ad-4ba0-bfef-b287f57609ac",
   "metadata": {
    "vscode": {
     "languageId": "r"
    }
   },
   "outputs": [
    {
     "data": {
      "text/plain": [
       "\n",
       "https://spokane.craigslist.org \n",
       "                          2988 "
      ]
     },
     "metadata": {},
     "output_type": "display_data"
    }
   ],
   "source": [
    "tail(sort(table(myDF$region_url)), n = 1) # The most popular URL is the spokane.craiglists."
   ]
  },
  {
   "cell_type": "code",
   "execution_count": 27,
   "id": "90fcb162-d4d0-495b-9d84-40b95976cc12",
   "metadata": {
    "vscode": {
     "languageId": "r"
    }
   },
   "outputs": [],
   "source": [
    "#Question 5"
   ]
  },
  {
   "cell_type": "code",
   "execution_count": 56,
   "id": "06a48615-90e1-47d3-b932-da4d480f2cdf",
   "metadata": {
    "vscode": {
     "languageId": "r"
    }
   },
   "outputs": [],
   "source": [
    "myyears <- subset(aggregate(price ~ year,data = myDF, FUN = mean), year>2002)$year"
   ]
  },
  {
   "cell_type": "code",
   "execution_count": 57,
   "id": "201d4e2c-4897-41ef-b17e-bc39e7b669a1",
   "metadata": {
    "vscode": {
     "languageId": "r"
    }
   },
   "outputs": [],
   "source": [
    "myprices <- subset(aggregate(price ~ year,data = myDF, FUN = mean), year>2002)$price"
   ]
  },
  {
   "cell_type": "code",
   "execution_count": 58,
   "id": "c0cbd786-9699-4944-9748-47d1f3187cd6",
   "metadata": {
    "vscode": {
     "languageId": "r"
    }
   },
   "outputs": [
    {
     "data": {
      "image/png": "[encoded data removed]",
      "text/plain": [
       "plot without title"
      ]
     },
     "metadata": {
      "image/png": {
       "height": 420,
       "width": 420
      }
     },
     "output_type": "display_data"
    }
   ],
   "source": [
    "plot(myyears, myprices)"
   ]
  },
  {
   "cell_type": "code",
   "execution_count": 60,
   "id": "397fc2a4-507e-484e-9635-0ad3df50fd21",
   "metadata": {
    "vscode": {
     "languageId": "r"
    }
   },
   "outputs": [
    {
     "data": {
      "image/png": "[encoded data removed]",
      "text/plain": [
       "plot without title"
      ]
     },
     "metadata": {
      "image/png": {
       "height": 420,
       "width": 420
      }
     },
     "output_type": "display_data"
    }
   ],
   "source": [
    "plot(myyears[myprices<500000], myprices[myprices<500000])"
   ]
  },
  {
   "cell_type": "code",
   "execution_count": 62,
   "id": "11ab94c7-5a66-42cf-9e2f-cc91da95f126",
   "metadata": {
    "vscode": {
     "languageId": "r"
    }
   },
   "outputs": [
    {
     "data": {
      "image/png": "[encoded data removed]",
      "text/plain": [
       "plot without title"
      ]
     },
     "metadata": {
      "image/png": {
       "height": 420,
       "width": 420
      }
     },
     "output_type": "display_data"
    }
   ],
   "source": [
    "plot(myyears[myprices<50000], myprices[myprices<50000])"
   ]
  },
  {
   "cell_type": "code",
   "execution_count": null,
   "id": "e06bed32-f1f7-4fed-b9bb-a2d803b75439",
   "metadata": {
    "vscode": {
     "languageId": "r"
    }
   },
   "outputs": [],
   "source": [
    "#From looking at these graphs it looks like the prices are increasing every year. \n",
    "#Looking through the graph where I put prices<500,000 there are outliers at 2008 and 2020.\n",
    "#I am taking a guess however that 2008 had that steep increase due to the 2008 finiancial crisis.\n",
    "#2020 could be a result of covid 19 just hitting the united states as well. \n",
    "#Looking even closer however, they have increased throughout the years."
   ]
  },
  {
   "cell_type": "code",
   "execution_count": 64,
   "id": "5a12cc2f-0a92-4788-a43d-878bbb34da26",
   "metadata": {
    "vscode": {
     "languageId": "r"
    }
   },
   "outputs": [
    {
     "data": {
      "text/html": [
       "<style>\n",
       ".list-inline {list-style: none; margin:0; padding: 0}\n",
       ".list-inline>li {display: inline-block}\n",
       ".list-inline>li:not(:last-child)::after {content: \"\\00b7\"; padding: 0 .5ex}\n",
       "</style>\n",
       "<ol class=list-inline><li>6000</li><li>11900</li><li>21000</li><li>1500</li><li>4900</li><li>1600</li><li>1000</li><li>15995</li><li>5000</li><li>3000</li><li>0</li><li>0</li><li>0</li><li>0</li><li>0</li><li>13995</li><li>24999</li><li>21850</li><li>26850</li><li>11999</li><li>24999</li><li>21850</li><li>26850</li><li>11999</li><li>24999</li><li>21850</li><li>500</li><li>33590</li><li>22590</li><li>39590</li><li>30990</li><li>15000</li><li>27990</li><li>34590</li><li>35000</li><li>29990</li><li>38590</li><li>4500</li><li>32990</li><li>24590</li><li>30990</li><li>27990</li><li>37990</li><li>33590</li><li>30990</li><li>27990</li><li>0</li><li>34590</li><li>30590</li><li>32990</li><li>38990</li><li>22590</li><li>31590</li><li>27990</li><li>31590</li><li>19900</li><li>16590</li><li>26990</li><li>25590</li><li>14000</li><li>28590</li><li>24590</li><li>25990</li><li>34990</li><li>27990</li><li>22500</li><li>32990</li><li>31990</li><li>29990</li><li>23990</li><li>22990</li><li>26990</li><li>33990</li><li>15000</li><li>26590</li><li>18590</li><li>29590</li><li>21590</li><li>22590</li><li>33990</li><li>29990</li><li>37590</li><li>25990</li><li>32990</li><li>28990</li><li>34990</li><li>3000</li><li>22590</li><li>36990</li><li>31990</li><li>28590</li><li>31990</li><li>19990</li><li>29590</li><li>29990</li><li>2100</li><li>80</li><li>15990</li><li>20590</li><li>29590</li></ol>\n"
      ],
      "text/latex": [
       "\\begin{enumerate*}\n",
       "\\item 6000\n",
       "\\item 11900\n",
       "\\item 21000\n",
       "\\item 1500\n",
       "\\item 4900\n",
       "\\item 1600\n",
       "\\item 1000\n",
       "\\item 15995\n",
       "\\item 5000\n",
       "\\item 3000\n",
       "\\item 0\n",
       "\\item 0\n",
       "\\item 0\n",
       "\\item 0\n",
       "\\item 0\n",
       "\\item 13995\n",
       "\\item 24999\n",
       "\\item 21850\n",
       "\\item 26850\n",
       "\\item 11999\n",
       "\\item 24999\n",
       "\\item 21850\n",
       "\\item 26850\n",
       "\\item 11999\n",
       "\\item 24999\n",
       "\\item 21850\n",
       "\\item 500\n",
       "\\item 33590\n",
       "\\item 22590\n",
       "\\item 39590\n",
       "\\item 30990\n",
       "\\item 15000\n",
       "\\item 27990\n",
       "\\item 34590\n",
       "\\item 35000\n",
       "\\item 29990\n",
       "\\item 38590\n",
       "\\item 4500\n",
       "\\item 32990\n",
       "\\item 24590\n",
       "\\item 30990\n",
       "\\item 27990\n",
       "\\item 37990\n",
       "\\item 33590\n",
       "\\item 30990\n",
       "\\item 27990\n",
       "\\item 0\n",
       "\\item 34590\n",
       "\\item 30590\n",
       "\\item 32990\n",
       "\\item 38990\n",
       "\\item 22590\n",
       "\\item 31590\n",
       "\\item 27990\n",
       "\\item 31590\n",
       "\\item 19900\n",
       "\\item 16590\n",
       "\\item 26990\n",
       "\\item 25590\n",
       "\\item 14000\n",
       "\\item 28590\n",
       "\\item 24590\n",
       "\\item 25990\n",
       "\\item 34990\n",
       "\\item 27990\n",
       "\\item 22500\n",
       "\\item 32990\n",
       "\\item 31990\n",
       "\\item 29990\n",
       "\\item 23990\n",
       "\\item 22990\n",
       "\\item 26990\n",
       "\\item 33990\n",
       "\\item 15000\n",
       "\\item 26590\n",
       "\\item 18590\n",
       "\\item 29590\n",
       "\\item 21590\n",
       "\\item 22590\n",
       "\\item 33990\n",
       "\\item 29990\n",
       "\\item 37590\n",
       "\\item 25990\n",
       "\\item 32990\n",
       "\\item 28990\n",
       "\\item 34990\n",
       "\\item 3000\n",
       "\\item 22590\n",
       "\\item 36990\n",
       "\\item 31990\n",
       "\\item 28590\n",
       "\\item 31990\n",
       "\\item 19990\n",
       "\\item 29590\n",
       "\\item 29990\n",
       "\\item 2100\n",
       "\\item 80\n",
       "\\item 15990\n",
       "\\item 20590\n",
       "\\item 29590\n",
       "\\end{enumerate*}\n"
      ],
      "text/markdown": [
       "1. 6000\n",
       "2. 11900\n",
       "3. 21000\n",
       "4. 1500\n",
       "5. 4900\n",
       "6. 1600\n",
       "7. 1000\n",
       "8. 15995\n",
       "9. 5000\n",
       "10. 3000\n",
       "11. 0\n",
       "12. 0\n",
       "13. 0\n",
       "14. 0\n",
       "15. 0\n",
       "16. 13995\n",
       "17. 24999\n",
       "18. 21850\n",
       "19. 26850\n",
       "20. 11999\n",
       "21. 24999\n",
       "22. 21850\n",
       "23. 26850\n",
       "24. 11999\n",
       "25. 24999\n",
       "26. 21850\n",
       "27. 500\n",
       "28. 33590\n",
       "29. 22590\n",
       "30. 39590\n",
       "31. 30990\n",
       "32. 15000\n",
       "33. 27990\n",
       "34. 34590\n",
       "35. 35000\n",
       "36. 29990\n",
       "37. 38590\n",
       "38. 4500\n",
       "39. 32990\n",
       "40. 24590\n",
       "41. 30990\n",
       "42. 27990\n",
       "43. 37990\n",
       "44. 33590\n",
       "45. 30990\n",
       "46. 27990\n",
       "47. 0\n",
       "48. 34590\n",
       "49. 30590\n",
       "50. 32990\n",
       "51. 38990\n",
       "52. 22590\n",
       "53. 31590\n",
       "54. 27990\n",
       "55. 31590\n",
       "56. 19900\n",
       "57. 16590\n",
       "58. 26990\n",
       "59. 25590\n",
       "60. 14000\n",
       "61. 28590\n",
       "62. 24590\n",
       "63. 25990\n",
       "64. 34990\n",
       "65. 27990\n",
       "66. 22500\n",
       "67. 32990\n",
       "68. 31990\n",
       "69. 29990\n",
       "70. 23990\n",
       "71. 22990\n",
       "72. 26990\n",
       "73. 33990\n",
       "74. 15000\n",
       "75. 26590\n",
       "76. 18590\n",
       "77. 29590\n",
       "78. 21590\n",
       "79. 22590\n",
       "80. 33990\n",
       "81. 29990\n",
       "82. 37590\n",
       "83. 25990\n",
       "84. 32990\n",
       "85. 28990\n",
       "86. 34990\n",
       "87. 3000\n",
       "88. 22590\n",
       "89. 36990\n",
       "90. 31990\n",
       "91. 28590\n",
       "92. 31990\n",
       "93. 19990\n",
       "94. 29590\n",
       "95. 29990\n",
       "96. 2100\n",
       "97. 80\n",
       "98. 15990\n",
       "99. 20590\n",
       "100. 29590\n",
       "\n",
       "\n"
      ],
      "text/plain": [
       "  [1]  6000 11900 21000  1500  4900  1600  1000 15995  5000  3000     0     0\n",
       " [13]     0     0     0 13995 24999 21850 26850 11999 24999 21850 26850 11999\n",
       " [25] 24999 21850   500 33590 22590 39590 30990 15000 27990 34590 35000 29990\n",
       " [37] 38590  4500 32990 24590 30990 27990 37990 33590 30990 27990     0 34590\n",
       " [49] 30590 32990 38990 22590 31590 27990 31590 19900 16590 26990 25590 14000\n",
       " [61] 28590 24590 25990 34990 27990 22500 32990 31990 29990 23990 22990 26990\n",
       " [73] 33990 15000 26590 18590 29590 21590 22590 33990 29990 37590 25990 32990\n",
       " [85] 28990 34990  3000 22590 36990 31990 28590 31990 19990 29590 29990  2100\n",
       " [97]    80 15990 20590 29590"
      ]
     },
     "metadata": {},
     "output_type": "display_data"
    }
   ],
   "source": [
    "head(myDF$price, n=100)"
   ]
  },
  {
   "cell_type": "code",
   "execution_count": null,
   "id": "5ef6c921-1482-425a-8c06-e6ed596112e0",
   "metadata": {
    "vscode": {
     "languageId": "r"
    }
   },
   "outputs": [],
   "source": []
  },
  {
   "cell_type": "code",
   "execution_count": null,
   "id": "16d1449c-1eee-43b4-af24-c859760489fb",
   "metadata": {
    "vscode": {
     "languageId": "r"
    }
   },
   "outputs": [],
   "source": []
  }
 ],
 "metadata": {
  "kernelspec": {
   "display_name": "seminar-r",
   "language": "R",
   "name": "seminar-r"
  },
  "language_info": {
   "codemirror_mode": "r",
   "file_extension": ".r",
   "mimetype": "text/x-r-source",
   "name": "R",
   "pygments_lexer": "r",
   "version": "4.3.1"
  }
 },
 "nbformat": 4,
 "nbformat_minor": 5
}
