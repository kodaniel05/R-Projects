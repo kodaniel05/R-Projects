{
 "cells": [
  {
   "cell_type": "markdown",
   "id": "a1228853-dd19-4ab2-89e0-0394d7d72de3",
   "metadata": {},
   "source": [
    "## Learning objectives\n",
    "\n",
    "gain proficiency using split, merge, and subset\n",
    "\n",
    "demonstrate the ability to use functions such as mean, var, table, cut, paste, rep, seq, sort, order, length, unique to solve data-driven problems\n",
    "\n",
    "read and write basic .csv data\n",
    "\n",
    "comprehend what a function is, and the components of a function in R\n",
    "\n",
    "create and apply user-defined functions to streamline repetitive tasks"
   ]
  },
  {
   "cell_type": "code",
   "execution_count": 1,
   "id": "5bbe3229-ec0c-40ec-8467-28b5c34964f8",
   "metadata": {
    "vscode": {
     "languageId": "r"
    }
   },
   "outputs": [],
   "source": [
    "options(jupyter.rich.display = F)"
   ]
  },
  {
   "cell_type": "code",
   "execution_count": 2,
   "id": "577a89d6-0008-41f6-acd4-7d4ffc3ee691",
   "metadata": {
    "vscode": {
     "languageId": "r"
    }
   },
   "outputs": [],
   "source": [
    "options(repr.matrix.max.cols = 30, repr.matrix.max.rows = 200)"
   ]
  },
  {
   "cell_type": "code",
   "execution_count": 3,
   "id": "92769075-6472-41ee-8790-2d4721e0dd4e",
   "metadata": {
    "vscode": {
     "languageId": "r"
    }
   },
   "outputs": [],
   "source": [
    "library(data.table)"
   ]
  },
  {
   "cell_type": "code",
   "execution_count": 42,
   "id": "d7ddfb71-8b13-4567-908a-c3b50bbbf3d3",
   "metadata": {
    "vscode": {
     "languageId": "r"
    }
   },
   "outputs": [],
   "source": [
    "products <- fread(\"/anvil/projects/tdm/data/icecream/combined/products.csv\")"
   ]
  },
  {
   "cell_type": "code",
   "execution_count": 5,
   "id": "379c9083-cbf2-4de1-b8e6-056cecc47198",
   "metadata": {
    "vscode": {
     "languageId": "r"
    }
   },
   "outputs": [],
   "source": [
    "reviews <- fread(\"/anvil/projects/tdm/data/icecream/combined/reviews.csv\")"
   ]
  },
  {
   "cell_type": "code",
   "execution_count": 6,
   "id": "091dd437-88be-4974-ab74-a41cf8b1f876",
   "metadata": {
    "vscode": {
     "languageId": "r"
    }
   },
   "outputs": [
    {
     "data": {
      "text/html": [
       "<style>\n",
       ".list-inline {list-style: none; margin:0; padding: 0}\n",
       ".list-inline>li {display: inline-block}\n",
       ".list-inline>li:not(:last-child)::after {content: \"\\00b7\"; padding: 0 .5ex}\n",
       "</style>\n",
       "<ol class=list-inline><li>'CREAM, SKIM MILK, LIQUID SUGAR (SUGAR, WATER), WATER, BROWN SUGAR, SUGAR, MILK, WHEAT FLOUR, EGG YOLKS, CORN SYRUP, EGGS, BUTTER (CREAM, SALT), BUTTEROIL, PECTIN, SEA SALT, SOYBEAN OIL, VANILLA EXTRACT, GUAR GUM, SOY LECITHIN, BAKING POWDER (SODIUM ACID PYROPHOSPHATE, SODIUM BICARBONATE, CORN STARCH, MONOCALCIUM PHOSPHATE), BAKING SODA, SALT, CARRAGEENAN, LACTASE'</li><li>'CREAM, SKIM MILK, LIQUID SUGAR (SUGAR, WATER), WATER, SUGAR, PEANUTS, WHEAT FLOUR, CANOLA OIL, EGG YOLKS, CORN STARCH, PEANUT OIL, COCOA POWDER, SALT, SOYBEAN OIL, INVERT CANE SUGAR, MILK FAT, EGGS, EGG WHITES, GUAR GUM, SOY LECITHIN, TAPIOCA STARCH, BAKING SODA, CARRAGEENAN, VANILLA EXTRACT, BARLEY MALT, MALTED BARLEY FLOUR'</li><li>'CREAM, LIQUID SUGAR (SUGAR, WATER), SKIM MILK, WATER, SUGAR, COCOA (PROCESSED WITH ALKALI), POTATO, COCONUT OIL, CORN SYRUP SOLIDS, SOYBEAN OIL, EGG YOLKS, RICE STARCH, SUNFLOWER OIL, BARLEY MALT, COCOA POWDER, WHEAT FLOUR, MILK, SALT, SOY LECITHIN, YEAST EXTRACT, NATURAL FLAVOR, GUAR GUM, SEA SALT, MILKFAT, VANILLA EXTRACT, ENZYMES, CARRAGEENAN, BAKING SODA. CONTAINS MILK, EGGS, WHEAT AND SOY'</li><li><span style=white-space:pre-wrap>'CREAM, SKIM MILK, LIQUID SUGAR (SUGAR, WATER),  WATER, CORN SYRUP, COCONUT OIL, SUGAR, DRIED CANE SYRUP, EGG YOLKS, WHEAT FLOUR, MILK, COCOA, NATURAL FLAVOR, GUAR GUM, SOY LECITHIN, BUTTER OIL, NATURAL FLAVORS, LOCUST BEAN GUM, SALT, CITRIC ACID, VANILLA BEAN SEEDS, SOYBEAN OIL, TAPIOCA STARCH, LACTIC ACID, CARRAGEENAN'</span></li><li>'CREAM, SKIM MILK, WATER, LIQUID SUGAR (SUGAR, WATER), SUGAR, CANOLA OIL, SOYBEAN OIL, EGG YOLKS, CORN SYRUP, WHEAT FLOUR, COCONUT OIL, CORN STARCH, COCOA (PROCESSED WITH ALKALI), CORN SYRUP SOLIDS, COCOA, GRAHAM FLOUR, SALT, EGG WHITES, BUTTEROIL, TAPIOCA STARCH, GUAR GUM, SOY LECITHIN, BAKING SODA, NATURAL FLAVOR, MOLASSES, HONEY, VANILLA EXTRACT, PECTIN, CARAMELIZED SUGAR SYRUP, CARRAGEENAN'</li><li>'CREAM, LIQUID SUGAR (SUGAR, WATER), SKIM MILK, WATER, SUGAR, WHEAT FLOUR, PEANUTS, COCOA (PROCESSED WITH ALKALI), BROWN SUGAR, EGG YOLKS, COCOA POWDER, PEANUT OIL, SOYBEAN OIL, BUTTER (CREAM, SALT), INVERT CANE SUGAR, SALT, CHOCOLATE LIQUOR, EGGS, TAPIOCA FLOUR, PEANUT FLOUR, PEANUT EXTRACT, VANILLA EXTRACT, EGG WHITES, GUAR GUM, COCOA BUTTER, NATURAL FLAVOR, CARRAGEENAN, SOY LECITHIN, BAKING SODA, MALTED BARLEY FLOUR'</li></ol>\n"
      ],
      "text/latex": [
       "\\begin{enumerate*}\n",
       "\\item 'CREAM, SKIM MILK, LIQUID SUGAR (SUGAR, WATER), WATER, BROWN SUGAR, SUGAR, MILK, WHEAT FLOUR, EGG YOLKS, CORN SYRUP, EGGS, BUTTER (CREAM, SALT), BUTTEROIL, PECTIN, SEA SALT, SOYBEAN OIL, VANILLA EXTRACT, GUAR GUM, SOY LECITHIN, BAKING POWDER (SODIUM ACID PYROPHOSPHATE, SODIUM BICARBONATE, CORN STARCH, MONOCALCIUM PHOSPHATE), BAKING SODA, SALT, CARRAGEENAN, LACTASE'\n",
       "\\item 'CREAM, SKIM MILK, LIQUID SUGAR (SUGAR, WATER), WATER, SUGAR, PEANUTS, WHEAT FLOUR, CANOLA OIL, EGG YOLKS, CORN STARCH, PEANUT OIL, COCOA POWDER, SALT, SOYBEAN OIL, INVERT CANE SUGAR, MILK FAT, EGGS, EGG WHITES, GUAR GUM, SOY LECITHIN, TAPIOCA STARCH, BAKING SODA, CARRAGEENAN, VANILLA EXTRACT, BARLEY MALT, MALTED BARLEY FLOUR'\n",
       "\\item 'CREAM, LIQUID SUGAR (SUGAR, WATER), SKIM MILK, WATER, SUGAR, COCOA (PROCESSED WITH ALKALI), POTATO, COCONUT OIL, CORN SYRUP SOLIDS, SOYBEAN OIL, EGG YOLKS, RICE STARCH, SUNFLOWER OIL, BARLEY MALT, COCOA POWDER, WHEAT FLOUR, MILK, SALT, SOY LECITHIN, YEAST EXTRACT, NATURAL FLAVOR, GUAR GUM, SEA SALT, MILKFAT, VANILLA EXTRACT, ENZYMES, CARRAGEENAN, BAKING SODA. CONTAINS MILK, EGGS, WHEAT AND SOY'\n",
       "\\item 'CREAM, SKIM MILK, LIQUID SUGAR (SUGAR, WATER),  WATER, CORN SYRUP, COCONUT OIL, SUGAR, DRIED CANE SYRUP, EGG YOLKS, WHEAT FLOUR, MILK, COCOA, NATURAL FLAVOR, GUAR GUM, SOY LECITHIN, BUTTER OIL, NATURAL FLAVORS, LOCUST BEAN GUM, SALT, CITRIC ACID, VANILLA BEAN SEEDS, SOYBEAN OIL, TAPIOCA STARCH, LACTIC ACID, CARRAGEENAN'\n",
       "\\item 'CREAM, SKIM MILK, WATER, LIQUID SUGAR (SUGAR, WATER), SUGAR, CANOLA OIL, SOYBEAN OIL, EGG YOLKS, CORN SYRUP, WHEAT FLOUR, COCONUT OIL, CORN STARCH, COCOA (PROCESSED WITH ALKALI), CORN SYRUP SOLIDS, COCOA, GRAHAM FLOUR, SALT, EGG WHITES, BUTTEROIL, TAPIOCA STARCH, GUAR GUM, SOY LECITHIN, BAKING SODA, NATURAL FLAVOR, MOLASSES, HONEY, VANILLA EXTRACT, PECTIN, CARAMELIZED SUGAR SYRUP, CARRAGEENAN'\n",
       "\\item 'CREAM, LIQUID SUGAR (SUGAR, WATER), SKIM MILK, WATER, SUGAR, WHEAT FLOUR, PEANUTS, COCOA (PROCESSED WITH ALKALI), BROWN SUGAR, EGG YOLKS, COCOA POWDER, PEANUT OIL, SOYBEAN OIL, BUTTER (CREAM, SALT), INVERT CANE SUGAR, SALT, CHOCOLATE LIQUOR, EGGS, TAPIOCA FLOUR, PEANUT FLOUR, PEANUT EXTRACT, VANILLA EXTRACT, EGG WHITES, GUAR GUM, COCOA BUTTER, NATURAL FLAVOR, CARRAGEENAN, SOY LECITHIN, BAKING SODA, MALTED BARLEY FLOUR'\n",
       "\\end{enumerate*}\n"
      ],
      "text/markdown": [
       "1. 'CREAM, SKIM MILK, LIQUID SUGAR (SUGAR, WATER), WATER, BROWN SUGAR, SUGAR, MILK, WHEAT FLOUR, EGG YOLKS, CORN SYRUP, EGGS, BUTTER (CREAM, SALT), BUTTEROIL, PECTIN, SEA SALT, SOYBEAN OIL, VANILLA EXTRACT, GUAR GUM, SOY LECITHIN, BAKING POWDER (SODIUM ACID PYROPHOSPHATE, SODIUM BICARBONATE, CORN STARCH, MONOCALCIUM PHOSPHATE), BAKING SODA, SALT, CARRAGEENAN, LACTASE'\n",
       "2. 'CREAM, SKIM MILK, LIQUID SUGAR (SUGAR, WATER), WATER, SUGAR, PEANUTS, WHEAT FLOUR, CANOLA OIL, EGG YOLKS, CORN STARCH, PEANUT OIL, COCOA POWDER, SALT, SOYBEAN OIL, INVERT CANE SUGAR, MILK FAT, EGGS, EGG WHITES, GUAR GUM, SOY LECITHIN, TAPIOCA STARCH, BAKING SODA, CARRAGEENAN, VANILLA EXTRACT, BARLEY MALT, MALTED BARLEY FLOUR'\n",
       "3. 'CREAM, LIQUID SUGAR (SUGAR, WATER), SKIM MILK, WATER, SUGAR, COCOA (PROCESSED WITH ALKALI), POTATO, COCONUT OIL, CORN SYRUP SOLIDS, SOYBEAN OIL, EGG YOLKS, RICE STARCH, SUNFLOWER OIL, BARLEY MALT, COCOA POWDER, WHEAT FLOUR, MILK, SALT, SOY LECITHIN, YEAST EXTRACT, NATURAL FLAVOR, GUAR GUM, SEA SALT, MILKFAT, VANILLA EXTRACT, ENZYMES, CARRAGEENAN, BAKING SODA. CONTAINS MILK, EGGS, WHEAT AND SOY'\n",
       "4. <span style=white-space:pre-wrap>'CREAM, SKIM MILK, LIQUID SUGAR (SUGAR, WATER),  WATER, CORN SYRUP, COCONUT OIL, SUGAR, DRIED CANE SYRUP, EGG YOLKS, WHEAT FLOUR, MILK, COCOA, NATURAL FLAVOR, GUAR GUM, SOY LECITHIN, BUTTER OIL, NATURAL FLAVORS, LOCUST BEAN GUM, SALT, CITRIC ACID, VANILLA BEAN SEEDS, SOYBEAN OIL, TAPIOCA STARCH, LACTIC ACID, CARRAGEENAN'</span>\n",
       "5. 'CREAM, SKIM MILK, WATER, LIQUID SUGAR (SUGAR, WATER), SUGAR, CANOLA OIL, SOYBEAN OIL, EGG YOLKS, CORN SYRUP, WHEAT FLOUR, COCONUT OIL, CORN STARCH, COCOA (PROCESSED WITH ALKALI), CORN SYRUP SOLIDS, COCOA, GRAHAM FLOUR, SALT, EGG WHITES, BUTTEROIL, TAPIOCA STARCH, GUAR GUM, SOY LECITHIN, BAKING SODA, NATURAL FLAVOR, MOLASSES, HONEY, VANILLA EXTRACT, PECTIN, CARAMELIZED SUGAR SYRUP, CARRAGEENAN'\n",
       "6. 'CREAM, LIQUID SUGAR (SUGAR, WATER), SKIM MILK, WATER, SUGAR, WHEAT FLOUR, PEANUTS, COCOA (PROCESSED WITH ALKALI), BROWN SUGAR, EGG YOLKS, COCOA POWDER, PEANUT OIL, SOYBEAN OIL, BUTTER (CREAM, SALT), INVERT CANE SUGAR, SALT, CHOCOLATE LIQUOR, EGGS, TAPIOCA FLOUR, PEANUT FLOUR, PEANUT EXTRACT, VANILLA EXTRACT, EGG WHITES, GUAR GUM, COCOA BUTTER, NATURAL FLAVOR, CARRAGEENAN, SOY LECITHIN, BAKING SODA, MALTED BARLEY FLOUR'\n",
       "\n",
       "\n"
      ],
      "text/plain": [
       "[1] \"CREAM, SKIM MILK, LIQUID SUGAR (SUGAR, WATER), WATER, BROWN SUGAR, SUGAR, MILK, WHEAT FLOUR, EGG YOLKS, CORN SYRUP, EGGS, BUTTER (CREAM, SALT), BUTTEROIL, PECTIN, SEA SALT, SOYBEAN OIL, VANILLA EXTRACT, GUAR GUM, SOY LECITHIN, BAKING POWDER (SODIUM ACID PYROPHOSPHATE, SODIUM BICARBONATE, CORN STARCH, MONOCALCIUM PHOSPHATE), BAKING SODA, SALT, CARRAGEENAN, LACTASE\"                                                        \n",
       "[2] \"CREAM, SKIM MILK, LIQUID SUGAR (SUGAR, WATER), WATER, SUGAR, PEANUTS, WHEAT FLOUR, CANOLA OIL, EGG YOLKS, CORN STARCH, PEANUT OIL, COCOA POWDER, SALT, SOYBEAN OIL, INVERT CANE SUGAR, MILK FAT, EGGS, EGG WHITES, GUAR GUM, SOY LECITHIN, TAPIOCA STARCH, BAKING SODA, CARRAGEENAN, VANILLA EXTRACT, BARLEY MALT, MALTED BARLEY FLOUR\"                                                                                               \n",
       "[3] \"CREAM, LIQUID SUGAR (SUGAR, WATER), SKIM MILK, WATER, SUGAR, COCOA (PROCESSED WITH ALKALI), POTATO, COCONUT OIL, CORN SYRUP SOLIDS, SOYBEAN OIL, EGG YOLKS, RICE STARCH, SUNFLOWER OIL, BARLEY MALT, COCOA POWDER, WHEAT FLOUR, MILK, SALT, SOY LECITHIN, YEAST EXTRACT, NATURAL FLAVOR, GUAR GUM, SEA SALT, MILKFAT, VANILLA EXTRACT, ENZYMES, CARRAGEENAN, BAKING SODA. CONTAINS MILK, EGGS, WHEAT AND SOY\"                         \n",
       "[4] \"CREAM, SKIM MILK, LIQUID SUGAR (SUGAR, WATER),  WATER, CORN SYRUP, COCONUT OIL, SUGAR, DRIED CANE SYRUP, EGG YOLKS, WHEAT FLOUR, MILK, COCOA, NATURAL FLAVOR, GUAR GUM, SOY LECITHIN, BUTTER OIL, NATURAL FLAVORS, LOCUST BEAN GUM, SALT, CITRIC ACID, VANILLA BEAN SEEDS, SOYBEAN OIL, TAPIOCA STARCH, LACTIC ACID, CARRAGEENAN\"                                                                                                     \n",
       "[5] \"CREAM, SKIM MILK, WATER, LIQUID SUGAR (SUGAR, WATER), SUGAR, CANOLA OIL, SOYBEAN OIL, EGG YOLKS, CORN SYRUP, WHEAT FLOUR, COCONUT OIL, CORN STARCH, COCOA (PROCESSED WITH ALKALI), CORN SYRUP SOLIDS, COCOA, GRAHAM FLOUR, SALT, EGG WHITES, BUTTEROIL, TAPIOCA STARCH, GUAR GUM, SOY LECITHIN, BAKING SODA, NATURAL FLAVOR, MOLASSES, HONEY, VANILLA EXTRACT, PECTIN, CARAMELIZED SUGAR SYRUP, CARRAGEENAN\"                          \n",
       "[6] \"CREAM, LIQUID SUGAR (SUGAR, WATER), SKIM MILK, WATER, SUGAR, WHEAT FLOUR, PEANUTS, COCOA (PROCESSED WITH ALKALI), BROWN SUGAR, EGG YOLKS, COCOA POWDER, PEANUT OIL, SOYBEAN OIL, BUTTER (CREAM, SALT), INVERT CANE SUGAR, SALT, CHOCOLATE LIQUOR, EGGS, TAPIOCA FLOUR, PEANUT FLOUR, PEANUT EXTRACT, VANILLA EXTRACT, EGG WHITES, GUAR GUM, COCOA BUTTER, NATURAL FLAVOR, CARRAGEENAN, SOY LECITHIN, BAKING SODA, MALTED BARLEY FLOUR\""
      ]
     },
     "metadata": {},
     "output_type": "display_data"
    }
   ],
   "source": [
    "head(products$ingredients)"
   ]
  },
  {
   "cell_type": "markdown",
   "id": "6180e742-8e39-4698-98ff-5b00c8cf8ea0",
   "metadata": {},
   "source": [
    "## Question 1"
   ]
  },
  {
   "cell_type": "code",
   "execution_count": 17,
   "id": "675686a8-c142-4bcf-be32-86972c5f4b76",
   "metadata": {
    "vscode": {
     "languageId": "r"
    }
   },
   "outputs": [],
   "source": [
    "# Part A"
   ]
  },
  {
   "cell_type": "code",
   "execution_count": 7,
   "id": "49445606-d363-41b4-b479-e319a9a84c01",
   "metadata": {
    "vscode": {
     "languageId": "r"
    }
   },
   "outputs": [
    {
     "data": {
      "text/html": [
       "<style>\n",
       ".list-inline {list-style: none; margin:0; padding: 0}\n",
       ".list-inline>li {display: inline-block}\n",
       ".list-inline>li:not(:last-child)::after {content: \"\\00b7\"; padding: 0 .5ex}\n",
       "</style>\n",
       "<ol class=list-inline><li>'CREAM'</li><li>'SKIM MILK'</li><li>'LIQUID SUGAR (SUGAR'</li><li>'WATER'</li><li>''</li><li>'BROWN SUGAR'</li><li>'SUGAR'</li><li>'MILK'</li><li>'WHEAT FLOUR'</li><li>'EGG YOLKS'</li><li>'CORN SYRUP'</li><li>'EGGS'</li><li>'BUTTER (CREAM'</li><li>'SALT'</li><li>'BUTTEROIL'</li><li>'PECTIN'</li><li>'SEA SALT'</li><li>'SOYBEAN OIL'</li><li>'VANILLA EXTRACT'</li><li>'GUAR GUM'</li><li>'SOY LECITHIN'</li><li>'BAKING POWDER (SODIUM ACID PYROPHOSPHATE'</li><li>'SODIUM BICARBONATE'</li><li>'CORN STARCH'</li><li>'MONOCALCIUM PHOSPHATE'</li><li>'BAKING SODA'</li><li>'CARRAGEENAN'</li><li>'LACTASE'</li></ol>\n"
      ],
      "text/latex": [
       "\\begin{enumerate*}\n",
       "\\item 'CREAM'\n",
       "\\item 'SKIM MILK'\n",
       "\\item 'LIQUID SUGAR (SUGAR'\n",
       "\\item 'WATER'\n",
       "\\item ''\n",
       "\\item 'BROWN SUGAR'\n",
       "\\item 'SUGAR'\n",
       "\\item 'MILK'\n",
       "\\item 'WHEAT FLOUR'\n",
       "\\item 'EGG YOLKS'\n",
       "\\item 'CORN SYRUP'\n",
       "\\item 'EGGS'\n",
       "\\item 'BUTTER (CREAM'\n",
       "\\item 'SALT'\n",
       "\\item 'BUTTEROIL'\n",
       "\\item 'PECTIN'\n",
       "\\item 'SEA SALT'\n",
       "\\item 'SOYBEAN OIL'\n",
       "\\item 'VANILLA EXTRACT'\n",
       "\\item 'GUAR GUM'\n",
       "\\item 'SOY LECITHIN'\n",
       "\\item 'BAKING POWDER (SODIUM ACID PYROPHOSPHATE'\n",
       "\\item 'SODIUM BICARBONATE'\n",
       "\\item 'CORN STARCH'\n",
       "\\item 'MONOCALCIUM PHOSPHATE'\n",
       "\\item 'BAKING SODA'\n",
       "\\item 'CARRAGEENAN'\n",
       "\\item 'LACTASE'\n",
       "\\end{enumerate*}\n"
      ],
      "text/markdown": [
       "1. 'CREAM'\n",
       "2. 'SKIM MILK'\n",
       "3. 'LIQUID SUGAR (SUGAR'\n",
       "4. 'WATER'\n",
       "5. ''\n",
       "6. 'BROWN SUGAR'\n",
       "7. 'SUGAR'\n",
       "8. 'MILK'\n",
       "9. 'WHEAT FLOUR'\n",
       "10. 'EGG YOLKS'\n",
       "11. 'CORN SYRUP'\n",
       "12. 'EGGS'\n",
       "13. 'BUTTER (CREAM'\n",
       "14. 'SALT'\n",
       "15. 'BUTTEROIL'\n",
       "16. 'PECTIN'\n",
       "17. 'SEA SALT'\n",
       "18. 'SOYBEAN OIL'\n",
       "19. 'VANILLA EXTRACT'\n",
       "20. 'GUAR GUM'\n",
       "21. 'SOY LECITHIN'\n",
       "22. 'BAKING POWDER (SODIUM ACID PYROPHOSPHATE'\n",
       "23. 'SODIUM BICARBONATE'\n",
       "24. 'CORN STARCH'\n",
       "25. 'MONOCALCIUM PHOSPHATE'\n",
       "26. 'BAKING SODA'\n",
       "27. 'CARRAGEENAN'\n",
       "28. 'LACTASE'\n",
       "\n",
       "\n"
      ],
      "text/plain": [
       " [1] \"CREAM\"                                   \n",
       " [2] \"SKIM MILK\"                               \n",
       " [3] \"LIQUID SUGAR (SUGAR\"                     \n",
       " [4] \"WATER\"                                   \n",
       " [5] \"\"                                        \n",
       " [6] \"BROWN SUGAR\"                             \n",
       " [7] \"SUGAR\"                                   \n",
       " [8] \"MILK\"                                    \n",
       " [9] \"WHEAT FLOUR\"                             \n",
       "[10] \"EGG YOLKS\"                               \n",
       "[11] \"CORN SYRUP\"                              \n",
       "[12] \"EGGS\"                                    \n",
       "[13] \"BUTTER (CREAM\"                           \n",
       "[14] \"SALT\"                                    \n",
       "[15] \"BUTTEROIL\"                               \n",
       "[16] \"PECTIN\"                                  \n",
       "[17] \"SEA SALT\"                                \n",
       "[18] \"SOYBEAN OIL\"                             \n",
       "[19] \"VANILLA EXTRACT\"                         \n",
       "[20] \"GUAR GUM\"                                \n",
       "[21] \"SOY LECITHIN\"                            \n",
       "[22] \"BAKING POWDER (SODIUM ACID PYROPHOSPHATE\"\n",
       "[23] \"SODIUM BICARBONATE\"                      \n",
       "[24] \"CORN STARCH\"                             \n",
       "[25] \"MONOCALCIUM PHOSPHATE\"                   \n",
       "[26] \"BAKING SODA\"                             \n",
       "[27] \"CARRAGEENAN\"                             \n",
       "[28] \"LACTASE\"                                 "
      ]
     },
     "metadata": {},
     "output_type": "display_data"
    }
   ],
   "source": [
    "unique(trimws(unlist(strsplit(products$ingredients[1],\",|\\\\)|\\\\)\"))))"
   ]
  },
  {
   "cell_type": "code",
   "execution_count": 8,
   "id": "61b63edb-816b-414e-bdb2-a6ea1da49e8e",
   "metadata": {
    "vscode": {
     "languageId": "r"
    }
   },
   "outputs": [
    {
     "data": {
      "text/html": [
       "<style>\n",
       ".list-inline {list-style: none; margin:0; padding: 0}\n",
       ".list-inline>li {display: inline-block}\n",
       ".list-inline>li:not(:last-child)::after {content: \"\\00b7\"; padding: 0 .5ex}\n",
       "</style>\n",
       "<ol class=list-inline><li>'CREAM'</li><li>'SKIM MILK'</li><li>'LIQUID SUGAR (SUGAR'</li><li>'WATER'</li><li>''</li><li>'SUGAR'</li><li>'PEANUTS'</li><li>'WHEAT FLOUR'</li><li>'CANOLA OIL'</li><li>'EGG YOLKS'</li><li>'CORN STARCH'</li><li>'PEANUT OIL'</li><li>'COCOA POWDER'</li><li>'SALT'</li><li>'SOYBEAN OIL'</li><li>'INVERT CANE SUGAR'</li><li>'MILK FAT'</li><li>'EGGS'</li><li>'EGG WHITES'</li><li>'GUAR GUM'</li><li>'SOY LECITHIN'</li><li>'TAPIOCA STARCH'</li><li>'BAKING SODA'</li><li>'CARRAGEENAN'</li><li>'VANILLA EXTRACT'</li><li>'BARLEY MALT'</li><li>'MALTED BARLEY FLOUR'</li></ol>\n"
      ],
      "text/latex": [
       "\\begin{enumerate*}\n",
       "\\item 'CREAM'\n",
       "\\item 'SKIM MILK'\n",
       "\\item 'LIQUID SUGAR (SUGAR'\n",
       "\\item 'WATER'\n",
       "\\item ''\n",
       "\\item 'SUGAR'\n",
       "\\item 'PEANUTS'\n",
       "\\item 'WHEAT FLOUR'\n",
       "\\item 'CANOLA OIL'\n",
       "\\item 'EGG YOLKS'\n",
       "\\item 'CORN STARCH'\n",
       "\\item 'PEANUT OIL'\n",
       "\\item 'COCOA POWDER'\n",
       "\\item 'SALT'\n",
       "\\item 'SOYBEAN OIL'\n",
       "\\item 'INVERT CANE SUGAR'\n",
       "\\item 'MILK FAT'\n",
       "\\item 'EGGS'\n",
       "\\item 'EGG WHITES'\n",
       "\\item 'GUAR GUM'\n",
       "\\item 'SOY LECITHIN'\n",
       "\\item 'TAPIOCA STARCH'\n",
       "\\item 'BAKING SODA'\n",
       "\\item 'CARRAGEENAN'\n",
       "\\item 'VANILLA EXTRACT'\n",
       "\\item 'BARLEY MALT'\n",
       "\\item 'MALTED BARLEY FLOUR'\n",
       "\\end{enumerate*}\n"
      ],
      "text/markdown": [
       "1. 'CREAM'\n",
       "2. 'SKIM MILK'\n",
       "3. 'LIQUID SUGAR (SUGAR'\n",
       "4. 'WATER'\n",
       "5. ''\n",
       "6. 'SUGAR'\n",
       "7. 'PEANUTS'\n",
       "8. 'WHEAT FLOUR'\n",
       "9. 'CANOLA OIL'\n",
       "10. 'EGG YOLKS'\n",
       "11. 'CORN STARCH'\n",
       "12. 'PEANUT OIL'\n",
       "13. 'COCOA POWDER'\n",
       "14. 'SALT'\n",
       "15. 'SOYBEAN OIL'\n",
       "16. 'INVERT CANE SUGAR'\n",
       "17. 'MILK FAT'\n",
       "18. 'EGGS'\n",
       "19. 'EGG WHITES'\n",
       "20. 'GUAR GUM'\n",
       "21. 'SOY LECITHIN'\n",
       "22. 'TAPIOCA STARCH'\n",
       "23. 'BAKING SODA'\n",
       "24. 'CARRAGEENAN'\n",
       "25. 'VANILLA EXTRACT'\n",
       "26. 'BARLEY MALT'\n",
       "27. 'MALTED BARLEY FLOUR'\n",
       "\n",
       "\n"
      ],
      "text/plain": [
       " [1] \"CREAM\"               \"SKIM MILK\"           \"LIQUID SUGAR (SUGAR\"\n",
       " [4] \"WATER\"               \"\"                    \"SUGAR\"              \n",
       " [7] \"PEANUTS\"             \"WHEAT FLOUR\"         \"CANOLA OIL\"         \n",
       "[10] \"EGG YOLKS\"           \"CORN STARCH\"         \"PEANUT OIL\"         \n",
       "[13] \"COCOA POWDER\"        \"SALT\"                \"SOYBEAN OIL\"        \n",
       "[16] \"INVERT CANE SUGAR\"   \"MILK FAT\"            \"EGGS\"               \n",
       "[19] \"EGG WHITES\"          \"GUAR GUM\"            \"SOY LECITHIN\"       \n",
       "[22] \"TAPIOCA STARCH\"      \"BAKING SODA\"         \"CARRAGEENAN\"        \n",
       "[25] \"VANILLA EXTRACT\"     \"BARLEY MALT\"         \"MALTED BARLEY FLOUR\""
      ]
     },
     "metadata": {},
     "output_type": "display_data"
    }
   ],
   "source": [
    "unique(trimws(unlist(strsplit(products$ingredients[2],\",|\\\\)|\\\\)\"))))"
   ]
  },
  {
   "cell_type": "code",
   "execution_count": 9,
   "id": "4474c30a-b99f-4c44-b754-3a028ed79887",
   "metadata": {
    "vscode": {
     "languageId": "r"
    }
   },
   "outputs": [
    {
     "data": {
      "text/html": [
       "<style>\n",
       ".list-inline {list-style: none; margin:0; padding: 0}\n",
       ".list-inline>li {display: inline-block}\n",
       ".list-inline>li:not(:last-child)::after {content: \"\\00b7\"; padding: 0 .5ex}\n",
       "</style>\n",
       "<ol class=list-inline><li>'CREAM'</li><li>'LIQUID SUGAR (SUGAR'</li><li>'WATER'</li><li>''</li><li>'SKIM MILK'</li><li>'SUGAR'</li><li>'COCOA (PROCESSED WITH ALKALI'</li><li>'POTATO'</li><li>'COCONUT OIL'</li><li>'CORN SYRUP SOLIDS'</li><li>'SOYBEAN OIL'</li><li>'EGG YOLKS'</li><li>'RICE STARCH'</li><li>'SUNFLOWER OIL'</li><li>'BARLEY MALT'</li><li>'COCOA POWDER'</li><li>'WHEAT FLOUR'</li><li>'MILK'</li><li>'SALT'</li><li>'SOY LECITHIN'</li><li>'YEAST EXTRACT'</li><li>'NATURAL FLAVOR'</li><li>'GUAR GUM'</li><li>'SEA SALT'</li><li>'MILKFAT'</li><li>'VANILLA EXTRACT'</li><li>'ENZYMES'</li><li>'CARRAGEENAN'</li><li>'BAKING SODA. CONTAINS MILK'</li><li>'EGGS'</li><li>'WHEAT AND SOY'</li></ol>\n"
      ],
      "text/latex": [
       "\\begin{enumerate*}\n",
       "\\item 'CREAM'\n",
       "\\item 'LIQUID SUGAR (SUGAR'\n",
       "\\item 'WATER'\n",
       "\\item ''\n",
       "\\item 'SKIM MILK'\n",
       "\\item 'SUGAR'\n",
       "\\item 'COCOA (PROCESSED WITH ALKALI'\n",
       "\\item 'POTATO'\n",
       "\\item 'COCONUT OIL'\n",
       "\\item 'CORN SYRUP SOLIDS'\n",
       "\\item 'SOYBEAN OIL'\n",
       "\\item 'EGG YOLKS'\n",
       "\\item 'RICE STARCH'\n",
       "\\item 'SUNFLOWER OIL'\n",
       "\\item 'BARLEY MALT'\n",
       "\\item 'COCOA POWDER'\n",
       "\\item 'WHEAT FLOUR'\n",
       "\\item 'MILK'\n",
       "\\item 'SALT'\n",
       "\\item 'SOY LECITHIN'\n",
       "\\item 'YEAST EXTRACT'\n",
       "\\item 'NATURAL FLAVOR'\n",
       "\\item 'GUAR GUM'\n",
       "\\item 'SEA SALT'\n",
       "\\item 'MILKFAT'\n",
       "\\item 'VANILLA EXTRACT'\n",
       "\\item 'ENZYMES'\n",
       "\\item 'CARRAGEENAN'\n",
       "\\item 'BAKING SODA. CONTAINS MILK'\n",
       "\\item 'EGGS'\n",
       "\\item 'WHEAT AND SOY'\n",
       "\\end{enumerate*}\n"
      ],
      "text/markdown": [
       "1. 'CREAM'\n",
       "2. 'LIQUID SUGAR (SUGAR'\n",
       "3. 'WATER'\n",
       "4. ''\n",
       "5. 'SKIM MILK'\n",
       "6. 'SUGAR'\n",
       "7. 'COCOA (PROCESSED WITH ALKALI'\n",
       "8. 'POTATO'\n",
       "9. 'COCONUT OIL'\n",
       "10. 'CORN SYRUP SOLIDS'\n",
       "11. 'SOYBEAN OIL'\n",
       "12. 'EGG YOLKS'\n",
       "13. 'RICE STARCH'\n",
       "14. 'SUNFLOWER OIL'\n",
       "15. 'BARLEY MALT'\n",
       "16. 'COCOA POWDER'\n",
       "17. 'WHEAT FLOUR'\n",
       "18. 'MILK'\n",
       "19. 'SALT'\n",
       "20. 'SOY LECITHIN'\n",
       "21. 'YEAST EXTRACT'\n",
       "22. 'NATURAL FLAVOR'\n",
       "23. 'GUAR GUM'\n",
       "24. 'SEA SALT'\n",
       "25. 'MILKFAT'\n",
       "26. 'VANILLA EXTRACT'\n",
       "27. 'ENZYMES'\n",
       "28. 'CARRAGEENAN'\n",
       "29. 'BAKING SODA. CONTAINS MILK'\n",
       "30. 'EGGS'\n",
       "31. 'WHEAT AND SOY'\n",
       "\n",
       "\n"
      ],
      "text/plain": [
       " [1] \"CREAM\"                        \"LIQUID SUGAR (SUGAR\"         \n",
       " [3] \"WATER\"                        \"\"                            \n",
       " [5] \"SKIM MILK\"                    \"SUGAR\"                       \n",
       " [7] \"COCOA (PROCESSED WITH ALKALI\" \"POTATO\"                      \n",
       " [9] \"COCONUT OIL\"                  \"CORN SYRUP SOLIDS\"           \n",
       "[11] \"SOYBEAN OIL\"                  \"EGG YOLKS\"                   \n",
       "[13] \"RICE STARCH\"                  \"SUNFLOWER OIL\"               \n",
       "[15] \"BARLEY MALT\"                  \"COCOA POWDER\"                \n",
       "[17] \"WHEAT FLOUR\"                  \"MILK\"                        \n",
       "[19] \"SALT\"                         \"SOY LECITHIN\"                \n",
       "[21] \"YEAST EXTRACT\"                \"NATURAL FLAVOR\"              \n",
       "[23] \"GUAR GUM\"                     \"SEA SALT\"                    \n",
       "[25] \"MILKFAT\"                      \"VANILLA EXTRACT\"             \n",
       "[27] \"ENZYMES\"                      \"CARRAGEENAN\"                 \n",
       "[29] \"BAKING SODA. CONTAINS MILK\"   \"EGGS\"                        \n",
       "[31] \"WHEAT AND SOY\"               "
      ]
     },
     "metadata": {},
     "output_type": "display_data"
    }
   ],
   "source": [
    "unique(trimws(unlist(strsplit(products$ingredients[3],\",|\\\\)|\\\\)\"))))"
   ]
  },
  {
   "cell_type": "code",
   "execution_count": 10,
   "id": "6744dac4-3001-40a1-8140-59ff3e54a198",
   "metadata": {
    "vscode": {
     "languageId": "r"
    }
   },
   "outputs": [],
   "source": [
    "getingredients <- function(x) {\n",
    "    unique(trimws(unlist(strsplit(x,\",|\\\\)|\\\\)\"))))\n",
    "           }\n",
    "           "
   ]
  },
  {
   "cell_type": "code",
   "execution_count": 11,
   "id": "255afd1b-b4dc-463d-9249-d7e068f02bf8",
   "metadata": {
    "vscode": {
     "languageId": "r"
    }
   },
   "outputs": [
    {
     "data": {
      "text/html": [
       "<style>\n",
       ".list-inline {list-style: none; margin:0; padding: 0}\n",
       ".list-inline>li {display: inline-block}\n",
       ".list-inline>li:not(:last-child)::after {content: \"\\00b7\"; padding: 0 .5ex}\n",
       "</style>\n",
       "<ol class=list-inline><li>'CREAM'</li><li>'LIQUID SUGAR (SUGAR'</li><li>'WATER'</li><li>''</li><li>'SKIM MILK'</li><li>'SUGAR'</li><li>'HEAVY CREAM'</li><li>'COCOA (PROCESSED WITH ALKALI'</li><li>'WHEAT FLOUR'</li><li>'EGG YOLKS'</li><li>'BUTTER (CREAM'</li><li>'SALT'</li><li>'CREAM CHEESE (PASTEURIZED MILK AND CREAM'</li><li>'CHEESE CULTURE'</li><li>'CAROB BEAN GUM'</li><li>'GUAR GUM'</li><li>'MILK PROTEIN CONCENTRATE'</li><li>'COCONUT OIL'</li><li>'BROWN SUGAR'</li><li>'EGGS'</li><li>'NATURAL FLAVOR'</li><li>'MODIFIED FOOD STARCH (CORN'</li><li>'SOY LECITHIN'</li><li>'XANTHAN GUM'</li><li>'BAKING SODA'</li><li>'VANILLA EXTRACT'</li><li>'CARRAGEENAN'</li></ol>\n"
      ],
      "text/latex": [
       "\\begin{enumerate*}\n",
       "\\item 'CREAM'\n",
       "\\item 'LIQUID SUGAR (SUGAR'\n",
       "\\item 'WATER'\n",
       "\\item ''\n",
       "\\item 'SKIM MILK'\n",
       "\\item 'SUGAR'\n",
       "\\item 'HEAVY CREAM'\n",
       "\\item 'COCOA (PROCESSED WITH ALKALI'\n",
       "\\item 'WHEAT FLOUR'\n",
       "\\item 'EGG YOLKS'\n",
       "\\item 'BUTTER (CREAM'\n",
       "\\item 'SALT'\n",
       "\\item 'CREAM CHEESE (PASTEURIZED MILK AND CREAM'\n",
       "\\item 'CHEESE CULTURE'\n",
       "\\item 'CAROB BEAN GUM'\n",
       "\\item 'GUAR GUM'\n",
       "\\item 'MILK PROTEIN CONCENTRATE'\n",
       "\\item 'COCONUT OIL'\n",
       "\\item 'BROWN SUGAR'\n",
       "\\item 'EGGS'\n",
       "\\item 'NATURAL FLAVOR'\n",
       "\\item 'MODIFIED FOOD STARCH (CORN'\n",
       "\\item 'SOY LECITHIN'\n",
       "\\item 'XANTHAN GUM'\n",
       "\\item 'BAKING SODA'\n",
       "\\item 'VANILLA EXTRACT'\n",
       "\\item 'CARRAGEENAN'\n",
       "\\end{enumerate*}\n"
      ],
      "text/markdown": [
       "1. 'CREAM'\n",
       "2. 'LIQUID SUGAR (SUGAR'\n",
       "3. 'WATER'\n",
       "4. ''\n",
       "5. 'SKIM MILK'\n",
       "6. 'SUGAR'\n",
       "7. 'HEAVY CREAM'\n",
       "8. 'COCOA (PROCESSED WITH ALKALI'\n",
       "9. 'WHEAT FLOUR'\n",
       "10. 'EGG YOLKS'\n",
       "11. 'BUTTER (CREAM'\n",
       "12. 'SALT'\n",
       "13. 'CREAM CHEESE (PASTEURIZED MILK AND CREAM'\n",
       "14. 'CHEESE CULTURE'\n",
       "15. 'CAROB BEAN GUM'\n",
       "16. 'GUAR GUM'\n",
       "17. 'MILK PROTEIN CONCENTRATE'\n",
       "18. 'COCONUT OIL'\n",
       "19. 'BROWN SUGAR'\n",
       "20. 'EGGS'\n",
       "21. 'NATURAL FLAVOR'\n",
       "22. 'MODIFIED FOOD STARCH (CORN'\n",
       "23. 'SOY LECITHIN'\n",
       "24. 'XANTHAN GUM'\n",
       "25. 'BAKING SODA'\n",
       "26. 'VANILLA EXTRACT'\n",
       "27. 'CARRAGEENAN'\n",
       "\n",
       "\n"
      ],
      "text/plain": [
       " [1] \"CREAM\"                                   \n",
       " [2] \"LIQUID SUGAR (SUGAR\"                     \n",
       " [3] \"WATER\"                                   \n",
       " [4] \"\"                                        \n",
       " [5] \"SKIM MILK\"                               \n",
       " [6] \"SUGAR\"                                   \n",
       " [7] \"HEAVY CREAM\"                             \n",
       " [8] \"COCOA (PROCESSED WITH ALKALI\"            \n",
       " [9] \"WHEAT FLOUR\"                             \n",
       "[10] \"EGG YOLKS\"                               \n",
       "[11] \"BUTTER (CREAM\"                           \n",
       "[12] \"SALT\"                                    \n",
       "[13] \"CREAM CHEESE (PASTEURIZED MILK AND CREAM\"\n",
       "[14] \"CHEESE CULTURE\"                          \n",
       "[15] \"CAROB BEAN GUM\"                          \n",
       "[16] \"GUAR GUM\"                                \n",
       "[17] \"MILK PROTEIN CONCENTRATE\"                \n",
       "[18] \"COCONUT OIL\"                             \n",
       "[19] \"BROWN SUGAR\"                             \n",
       "[20] \"EGGS\"                                    \n",
       "[21] \"NATURAL FLAVOR\"                          \n",
       "[22] \"MODIFIED FOOD STARCH (CORN\"              \n",
       "[23] \"SOY LECITHIN\"                            \n",
       "[24] \"XANTHAN GUM\"                             \n",
       "[25] \"BAKING SODA\"                             \n",
       "[26] \"VANILLA EXTRACT\"                         \n",
       "[27] \"CARRAGEENAN\"                             "
      ]
     },
     "metadata": {},
     "output_type": "display_data"
    }
   ],
   "source": [
    "getingredients(products$ingredients[55])"
   ]
  },
  {
   "cell_type": "code",
   "execution_count": 23,
   "id": "9e5a4b1f-6cec-469d-8afd-31ebfb52f5a7",
   "metadata": {
    "vscode": {
     "languageId": "r"
    }
   },
   "outputs": [
    {
     "name": "stderr",
     "output_type": "stream",
     "text": [
      "Warning message in dotchart(tail(sort(table(unlist(sapply(products$ingredients, :\n",
      "\"'x' is neither a vector nor a matrix: using as.numeric(x)\"\n"
     ]
    },
    {
     "data": {
      "image/png": "[encoded data removed]",
      "text/plain": [
       "plot without title"
      ]
     },
     "metadata": {
      "image/png": {
       "height": 420,
       "width": 420
      }
     },
     "output_type": "display_data"
    }
   ],
   "source": [
    "dotchart(tail(sort(table(unlist(sapply(products$ingredients, getingredients), use.names = FALSE))), n=11))"
   ]
  },
  {
   "cell_type": "code",
   "execution_count": 18,
   "id": "e9d31d83-a3bc-44b4-9456-26ffc14a6370",
   "metadata": {
    "vscode": {
     "languageId": "r"
    }
   },
   "outputs": [],
   "source": [
    "# Part B"
   ]
  },
  {
   "cell_type": "code",
   "execution_count": 12,
   "id": "12d3224b-b81c-4844-8470-c55967cd3251",
   "metadata": {
    "vscode": {
     "languageId": "r"
    }
   },
   "outputs": [
    {
     "name": "stderr",
     "output_type": "stream",
     "text": [
      "Warning message in plot.window(...):\n",
      "\"\"n\" is not a graphical parameter\"\n",
      "Warning message in plot.xy(xy, type, ...):\n",
      "\"\"n\" is not a graphical parameter\"\n",
      "Warning message in axis(side = side, at = at, labels = labels, ...):\n",
      "\"\"n\" is not a graphical parameter\"\n",
      "Warning message in axis(side = side, at = at, labels = labels, ...):\n",
      "\"\"n\" is not a graphical parameter\"\n",
      "Warning message in box(...):\n",
      "\"\"n\" is not a graphical parameter\"\n",
      "Warning message in title(...):\n",
      "\"\"n\" is not a graphical parameter\"\n",
      "Warning message in axis(...):\n",
      "\"\"n\" is not a graphical parameter\"\n"
     ]
    },
    {
     "data": {
      "image/png": "[encoded data removed]",
      "text/plain": [
       "Plot with title \"Distribution of Product Reviews\""
      ]
     },
     "metadata": {
      "image/png": {
       "height": 420,
       "width": 420
      }
     },
     "output_type": "display_data"
    }
   ],
   "source": [
    "plot(table(reviews$stars), n=11, type = \"o\", xlab = \"Rating\", ylab = \"Frequency\",\n",
    "      main = \"Distribution of Product Reviews\")"
   ]
  },
  {
   "cell_type": "code",
   "execution_count": 33,
   "id": "dfb4feb8-4ec3-42a6-9d0d-48de74646ec4",
   "metadata": {
    "vscode": {
     "languageId": "r"
    }
   },
   "outputs": [],
   "source": [
    "# Part C"
   ]
  },
  {
   "cell_type": "code",
   "execution_count": null,
   "id": "10354c5a-a710-4f95-86c8-fa97aca09322",
   "metadata": {
    "vscode": {
     "languageId": "r"
    }
   },
   "outputs": [],
   "source": [
    "#For the first graph we are gaining the information of how much supply or ingredients are in each product \n",
    "#that is in the products which is mainly surgar and cream\n",
    "#For the second graph it gives us the reviews of the products which shows most of them are 5 starts. "
   ]
  },
  {
   "cell_type": "markdown",
   "id": "fc601975-35ed-4680-a4e1-0273ee3cc047",
   "metadata": {},
   "source": [
    "## Question 2"
   ]
  },
  {
   "cell_type": "code",
   "execution_count": 13,
   "id": "a16336a1-1ef0-41e8-bc7c-49387db27497",
   "metadata": {
    "vscode": {
     "languageId": "r"
    }
   },
   "outputs": [],
   "source": [
    "products_reviews_by_rating <- function(products_df, reviews_df, myrating) {\n",
    "\n",
    "merge_results <- merge(products_df, reviews_df, by=\"key\")\n",
    "  \n",
    "products_reviews_results <- merge_results[merge_results$rating >= myrating, ]\n",
    "  \n",
    "return(products_reviews_results) }"
   ]
  },
  {
   "cell_type": "markdown",
   "id": "8e586edd-ff26-4ce2-8f6b-2424b26f2929",
   "metadata": {},
   "source": [
    "## Question 3"
   ]
  },
  {
   "cell_type": "code",
   "execution_count": 14,
   "id": "bbe0f40d-9655-4653-9ca8-886bdb61cb91",
   "metadata": {
    "vscode": {
     "languageId": "r"
    }
   },
   "outputs": [],
   "source": [
    "# Define a function that takes two dataframes and a rating threshold as input\n",
    "products_reviews_by_rating <- function(products_df, reviews_df, myrating) {\n",
    "# Merge the 'products_df' and 'reviews_df' dataframes using a common key, which is \"key\"\n",
    "merge_results <- merge(products_df, reviews_df, by=\"key\")\n",
    "  \n",
    "# Filter the merged data to include only rows with a rating greater than or equal to 'myrating'\n",
    "products_reviews_results <- merge_results[merge_results$rating >= myrating, ]\n",
    "  \n",
    "# Return the filtered data\n",
    "return(products_reviews_results) }"
   ]
  },
  {
   "cell_type": "markdown",
   "id": "da22f29c-d245-4d2b-9fc1-ca14cb6087d9",
   "metadata": {},
   "source": [
    "## Question 4"
   ]
  },
  {
   "cell_type": "code",
   "execution_count": 15,
   "id": "8cffc767-d1c8-4d64-b7dc-f0d2ee8a80d1",
   "metadata": {
    "vscode": {
     "languageId": "r"
    }
   },
   "outputs": [],
   "source": [
    "my_ratings <- products_reviews_by_rating (products,reviews,4.5)"
   ]
  },
  {
   "cell_type": "code",
   "execution_count": 59,
   "id": "b2efc732-adbe-4481-a2d2-74995d40c6ea",
   "metadata": {
    "vscode": {
     "languageId": "r"
    }
   },
   "outputs": [],
   "source": [
    "#Part A"
   ]
  },
  {
   "cell_type": "code",
   "execution_count": 16,
   "id": "502bb765-3472-4509-989b-431302a72f97",
   "metadata": {
    "vscode": {
     "languageId": "r"
    }
   },
   "outputs": [
    {
     "data": {
      "text/html": [
       "<style>\n",
       ".list-inline {list-style: none; margin:0; padding: 0}\n",
       ".list-inline>li {display: inline-block}\n",
       ".list-inline>li:not(:last-child)::after {content: \"\\00b7\"; padding: 0 .5ex}\n",
       "</style>\n",
       "<ol class=list-inline><li>10293</li><li>20</li></ol>\n"
      ],
      "text/latex": [
       "\\begin{enumerate*}\n",
       "\\item 10293\n",
       "\\item 20\n",
       "\\end{enumerate*}\n"
      ],
      "text/markdown": [
       "1. 10293\n",
       "2. 20\n",
       "\n",
       "\n"
      ],
      "text/plain": [
       "[1] 10293    20"
      ]
     },
     "metadata": {},
     "output_type": "display_data"
    }
   ],
   "source": [
    "dim(my_ratings)"
   ]
  },
  {
   "cell_type": "markdown",
   "id": "0d552245-b4d6-474a-9cc9-fa7b8e674d55",
   "metadata": {},
   "source": [
    "There are 10,293 products that have a 4.5 rating"
   ]
  },
  {
   "cell_type": "markdown",
   "id": "88c9cdac-3e92-498f-83fa-e089bfc44ac8",
   "metadata": {},
   "source": [
    "## Question 5"
   ]
  },
  {
   "cell_type": "code",
   "execution_count": 62,
   "id": "d370d7c9-06db-42b9-b75f-240481a5c491",
   "metadata": {
    "vscode": {
     "languageId": "r"
    }
   },
   "outputs": [],
   "source": [
    "# Part A"
   ]
  },
  {
   "cell_type": "code",
   "execution_count": 43,
   "id": "bb932bcd-eb9f-4fa9-a0de-ccdaaf3fe22c",
   "metadata": {
    "vscode": {
     "languageId": "r"
    }
   },
   "outputs": [],
   "source": [
    "ingredients_contained <- function(x) {\n",
    "  recipes_with_ingredients <- trimws(unlist(strsplit(products$ingredients,\",|\\\\(|\\\\)\")))\n",
    "  num <- sum(recipes_with_ingredients == x)\n",
    "  return(num)  \n",
    "}"
   ]
  },
  {
   "cell_type": "code",
   "execution_count": 50,
   "id": "5bb848aa-7261-4c4e-8ba1-24ae9a668a90",
   "metadata": {
    "vscode": {
     "languageId": "r"
    }
   },
   "outputs": [],
   "source": [
    "#Part B"
   ]
  },
  {
   "cell_type": "code",
   "execution_count": 51,
   "id": "0bb266c6-c33f-4612-9cac-11418e10324d",
   "metadata": {
    "vscode": {
     "languageId": "r"
    }
   },
   "outputs": [
    {
     "data": {
      "text/html": [
       "264"
      ],
      "text/latex": [
       "264"
      ],
      "text/markdown": [
       "264"
      ],
      "text/plain": [
       "[1] 264"
      ]
     },
     "metadata": {},
     "output_type": "display_data"
    }
   ],
   "source": [
    "(ingredients_contained(\"SALT\")) #264 products contain salt. "
   ]
  }
 ],
 "metadata": {
  "kernelspec": {
   "display_name": "seminar-r",
   "language": "R",
   "name": "seminar-r"
  },
  "language_info": {
   "codemirror_mode": "r",
   "file_extension": ".r",
   "mimetype": "text/x-r-source",
   "name": "R",
   "pygments_lexer": "r",
   "version": "4.3.1"
  }
 },
 "nbformat": 4,
 "nbformat_minor": 5
}
