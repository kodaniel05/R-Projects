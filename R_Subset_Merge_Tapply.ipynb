{
 "cells": [
  {
   "cell_type": "markdown",
   "id": "a1228853-dd19-4ab2-89e0-0394d7d72de3",
   "metadata": {},
   "source": [
    "## Learning objectives\n",
    "\n",
    "gain proficiency using split, merge, and subset\n",
    "\n",
    "demonstrate how to use tapply to solve data-driven problems\n",
    "\n",
    "demonstrate the ability to use functions such as mean, var, table, cut, paste, rep, seq, sort, order, length, unique to solve data-driven problems\n",
    "\n",
    "read and write basic .csv data\n",
    "\n",
    "explain and demonstrate positional, named, and logical indexing"
   ]
  },
  {
   "cell_type": "code",
   "execution_count": 1,
   "id": "497e078f-70c5-4365-a44c-7ad5e88ec95d",
   "metadata": {
    "vscode": {
     "languageId": "r"
    }
   },
   "outputs": [],
   "source": [
    "options(jupyter.rich.display = F)"
   ]
  },
  {
   "cell_type": "code",
   "execution_count": 29,
   "id": "5dbe3359-307e-4eb4-92b3-e800b1bc4950",
   "metadata": {
    "vscode": {
     "languageId": "r"
    }
   },
   "outputs": [],
   "source": [
    "options(repr.matrix.max.cols = 30, repr.matrix.max.rows = 200)"
   ]
  },
  {
   "cell_type": "code",
   "execution_count": 3,
   "id": "dd0f8b86-1e3a-4970-a681-ddf46f9b0b62",
   "metadata": {
    "vscode": {
     "languageId": "r"
    }
   },
   "outputs": [],
   "source": [
    "library(data.table)"
   ]
  },
  {
   "cell_type": "code",
   "execution_count": 4,
   "id": "635c0893-70a6-416f-b39d-4913760ef735",
   "metadata": {
    "vscode": {
     "languageId": "r"
    }
   },
   "outputs": [],
   "source": [
    "products <- fread(\"/anvil/projects/tdm/data/icecream/combined/products.csv\")"
   ]
  },
  {
   "cell_type": "code",
   "execution_count": 5,
   "id": "c596ec35-11e6-44b1-81f3-908ab0008078",
   "metadata": {
    "vscode": {
     "languageId": "r"
    }
   },
   "outputs": [],
   "source": [
    "reviews <- fread(\"/anvil/projects/tdm/data/icecream/combined/reviews.csv\")"
   ]
  },
  {
   "cell_type": "code",
   "execution_count": 6,
   "id": "e8715f44-58dd-4a36-8588-0b70dafa2d68",
   "metadata": {
    "vscode": {
     "languageId": "r"
    }
   },
   "outputs": [],
   "source": [
    "titles <- fread(\"/anvil/projects/tdm/data/movies_and_tv/titles.csv\")"
   ]
  },
  {
   "cell_type": "code",
   "execution_count": 7,
   "id": "986cfe44-95ad-42df-a067-75f10785158d",
   "metadata": {
    "vscode": {
     "languageId": "r"
    }
   },
   "outputs": [],
   "source": [
    "episodes <- fread(\"/anvil/projects/tdm/data/movies_and_tv/episodes.csv\")"
   ]
  },
  {
   "cell_type": "code",
   "execution_count": 8,
   "id": "7f400dbb-0c6b-4bbc-aa53-b9994e553cbd",
   "metadata": {
    "vscode": {
     "languageId": "r"
    }
   },
   "outputs": [],
   "source": [
    "ratings <- fread(\"/anvil/projects/tdm/data/movies_and_tv/ratings.csv\")"
   ]
  },
  {
   "cell_type": "markdown",
   "id": "6180e742-8e39-4698-98ff-5b00c8cf8ea0",
   "metadata": {},
   "source": [
    "## Question 1"
   ]
  },
  {
   "cell_type": "code",
   "execution_count": null,
   "id": "84cb5906-3593-4434-8ab6-56b8f6c27c4c",
   "metadata": {
    "vscode": {
     "languageId": "r"
    }
   },
   "outputs": [],
   "source": [
    "#Part A"
   ]
  },
  {
   "cell_type": "code",
   "execution_count": 25,
   "id": "49445606-d363-41b4-b479-e319a9a84c01",
   "metadata": {
    "vscode": {
     "languageId": "r"
    }
   },
   "outputs": [
    {
     "data": {
      "text/html": [
       "'CREAM, SKIM MILK, LIQUID SUGAR (SUGAR, WATER), WATER, BROWN SUGAR, SUGAR, MILK, WHEAT FLOUR, EGG YOLKS, CORN SYRUP, EGGS, BUTTER (CREAM, SALT), BUTTEROIL, PECTIN, SEA SALT, SOYBEAN OIL, VANILLA EXTRACT, GUAR GUM, SOY LECITHIN, BAKING POWDER (SODIUM ACID PYROPHOSPHATE, SODIUM BICARBONATE, CORN STARCH, MONOCALCIUM PHOSPHATE), BAKING SODA, SALT, CARRAGEENAN, LACTASE'"
      ],
      "text/latex": [
       "'CREAM, SKIM MILK, LIQUID SUGAR (SUGAR, WATER), WATER, BROWN SUGAR, SUGAR, MILK, WHEAT FLOUR, EGG YOLKS, CORN SYRUP, EGGS, BUTTER (CREAM, SALT), BUTTEROIL, PECTIN, SEA SALT, SOYBEAN OIL, VANILLA EXTRACT, GUAR GUM, SOY LECITHIN, BAKING POWDER (SODIUM ACID PYROPHOSPHATE, SODIUM BICARBONATE, CORN STARCH, MONOCALCIUM PHOSPHATE), BAKING SODA, SALT, CARRAGEENAN, LACTASE'"
      ],
      "text/markdown": [
       "'CREAM, SKIM MILK, LIQUID SUGAR (SUGAR, WATER), WATER, BROWN SUGAR, SUGAR, MILK, WHEAT FLOUR, EGG YOLKS, CORN SYRUP, EGGS, BUTTER (CREAM, SALT), BUTTEROIL, PECTIN, SEA SALT, SOYBEAN OIL, VANILLA EXTRACT, GUAR GUM, SOY LECITHIN, BAKING POWDER (SODIUM ACID PYROPHOSPHATE, SODIUM BICARBONATE, CORN STARCH, MONOCALCIUM PHOSPHATE), BAKING SODA, SALT, CARRAGEENAN, LACTASE'"
      ],
      "text/plain": [
       "[1] \"CREAM, SKIM MILK, LIQUID SUGAR (SUGAR, WATER), WATER, BROWN SUGAR, SUGAR, MILK, WHEAT FLOUR, EGG YOLKS, CORN SYRUP, EGGS, BUTTER (CREAM, SALT), BUTTEROIL, PECTIN, SEA SALT, SOYBEAN OIL, VANILLA EXTRACT, GUAR GUM, SOY LECITHIN, BAKING POWDER (SODIUM ACID PYROPHOSPHATE, SODIUM BICARBONATE, CORN STARCH, MONOCALCIUM PHOSPHATE), BAKING SODA, SALT, CARRAGEENAN, LACTASE\""
      ]
     },
     "metadata": {},
     "output_type": "display_data"
    }
   ],
   "source": [
    "head(products$ingredients, n=1)"
   ]
  },
  {
   "cell_type": "code",
   "execution_count": 26,
   "id": "fba02340-797b-4f91-a0c5-3833ec5fba45",
   "metadata": {
    "vscode": {
     "languageId": "r"
    }
   },
   "outputs": [],
   "source": [
    "#Part B"
   ]
  },
  {
   "cell_type": "code",
   "execution_count": 24,
   "id": "cf38bb14-daae-463c-a4e6-570d85265c5c",
   "metadata": {
    "vscode": {
     "languageId": "r"
    }
   },
   "outputs": [],
   "source": [
    "newDF <- subset(products, grepl(\"GUAR GUM\",ingredients))"
   ]
  },
  {
   "cell_type": "code",
   "execution_count": 16,
   "id": "a515ee2b-a762-44de-b816-55b3bc44e442",
   "metadata": {
    "vscode": {
     "languageId": "r"
    }
   },
   "outputs": [
    {
     "data": {
      "text/html": [
       "<style>\n",
       ".list-inline {list-style: none; margin:0; padding: 0}\n",
       ".list-inline>li {display: inline-block}\n",
       ".list-inline>li:not(:last-child)::after {content: \"\\00b7\"; padding: 0 .5ex}\n",
       "</style>\n",
       "<ol class=list-inline><li>85</li><li>8</li></ol>\n"
      ],
      "text/latex": [
       "\\begin{enumerate*}\n",
       "\\item 85\n",
       "\\item 8\n",
       "\\end{enumerate*}\n"
      ],
      "text/markdown": [
       "1. 85\n",
       "2. 8\n",
       "\n",
       "\n"
      ],
      "text/plain": [
       "[1] 85  8"
      ]
     },
     "metadata": {},
     "output_type": "display_data"
    }
   ],
   "source": [
    "dim(newDF)"
   ]
  },
  {
   "cell_type": "code",
   "execution_count": 23,
   "id": "dc659a28-475e-492e-8062-2264b4ce5670",
   "metadata": {
    "vscode": {
     "languageId": "r"
    }
   },
   "outputs": [
    {
     "data": {
      "text/html": [
       "<style>\n",
       ".list-inline {list-style: none; margin:0; padding: 0}\n",
       ".list-inline>li {display: inline-block}\n",
       ".list-inline>li:not(:last-child)::after {content: \"\\00b7\"; padding: 0 .5ex}\n",
       "</style>\n",
       "<ol class=list-inline><li>5</li><li>5</li><li>4.9</li><li>4.9</li><li>4.9</li><li>4.9</li><li>4.8</li><li>4.8</li><li>4.8</li><li>4.8</li><li>4.8</li><li>4.7</li><li>4.7</li><li>4.7</li><li>4.7</li><li>4.7</li><li>4.7</li><li>4.7</li><li>4.7</li><li>4.7</li><li>4.7</li><li>4.7</li><li>4.7</li><li>4.7</li><li>4.7</li><li>4.7</li><li>4.7</li><li>4.7</li><li>4.6</li><li>4.6</li><li>4.6</li><li>4.6</li><li>4.6</li><li>4.6</li><li>4.6</li><li>4.6</li><li>4.6</li><li>4.6</li><li>4.5</li><li>4.5</li><li>4.5</li><li>4.5</li><li>4.5</li><li>4.4</li><li>4.4</li><li>4.4</li><li>4.4</li><li>4.4</li><li>4.4</li><li>4.4</li><li>4.3</li><li>4.3</li><li>4.3</li><li>4.3</li><li>4.3</li><li>4.3</li><li>4.2</li><li>4.2</li><li>4.2</li><li>4.2</li><li>4.1</li><li>4.1</li><li>4</li><li>4</li><li>4</li><li>3.9</li><li>3.9</li><li>3.9</li><li>3.9</li><li>3.9</li><li>3.8</li><li>3.8</li><li>3.7</li><li>3.6</li><li>3.5</li><li>3.4</li><li>3.4</li><li>3.3</li><li>3.3</li><li>3.3</li><li>3.3</li><li>3.2</li><li>2.9</li><li>2.8</li><li>1.8</li></ol>\n"
      ],
      "text/latex": [
       "\\begin{enumerate*}\n",
       "\\item 5\n",
       "\\item 5\n",
       "\\item 4.9\n",
       "\\item 4.9\n",
       "\\item 4.9\n",
       "\\item 4.9\n",
       "\\item 4.8\n",
       "\\item 4.8\n",
       "\\item 4.8\n",
       "\\item 4.8\n",
       "\\item 4.8\n",
       "\\item 4.7\n",
       "\\item 4.7\n",
       "\\item 4.7\n",
       "\\item 4.7\n",
       "\\item 4.7\n",
       "\\item 4.7\n",
       "\\item 4.7\n",
       "\\item 4.7\n",
       "\\item 4.7\n",
       "\\item 4.7\n",
       "\\item 4.7\n",
       "\\item 4.7\n",
       "\\item 4.7\n",
       "\\item 4.7\n",
       "\\item 4.7\n",
       "\\item 4.7\n",
       "\\item 4.7\n",
       "\\item 4.6\n",
       "\\item 4.6\n",
       "\\item 4.6\n",
       "\\item 4.6\n",
       "\\item 4.6\n",
       "\\item 4.6\n",
       "\\item 4.6\n",
       "\\item 4.6\n",
       "\\item 4.6\n",
       "\\item 4.6\n",
       "\\item 4.5\n",
       "\\item 4.5\n",
       "\\item 4.5\n",
       "\\item 4.5\n",
       "\\item 4.5\n",
       "\\item 4.4\n",
       "\\item 4.4\n",
       "\\item 4.4\n",
       "\\item 4.4\n",
       "\\item 4.4\n",
       "\\item 4.4\n",
       "\\item 4.4\n",
       "\\item 4.3\n",
       "\\item 4.3\n",
       "\\item 4.3\n",
       "\\item 4.3\n",
       "\\item 4.3\n",
       "\\item 4.3\n",
       "\\item 4.2\n",
       "\\item 4.2\n",
       "\\item 4.2\n",
       "\\item 4.2\n",
       "\\item 4.1\n",
       "\\item 4.1\n",
       "\\item 4\n",
       "\\item 4\n",
       "\\item 4\n",
       "\\item 3.9\n",
       "\\item 3.9\n",
       "\\item 3.9\n",
       "\\item 3.9\n",
       "\\item 3.9\n",
       "\\item 3.8\n",
       "\\item 3.8\n",
       "\\item 3.7\n",
       "\\item 3.6\n",
       "\\item 3.5\n",
       "\\item 3.4\n",
       "\\item 3.4\n",
       "\\item 3.3\n",
       "\\item 3.3\n",
       "\\item 3.3\n",
       "\\item 3.3\n",
       "\\item 3.2\n",
       "\\item 2.9\n",
       "\\item 2.8\n",
       "\\item 1.8\n",
       "\\end{enumerate*}\n"
      ],
      "text/markdown": [
       "1. 5\n",
       "2. 5\n",
       "3. 4.9\n",
       "4. 4.9\n",
       "5. 4.9\n",
       "6. 4.9\n",
       "7. 4.8\n",
       "8. 4.8\n",
       "9. 4.8\n",
       "10. 4.8\n",
       "11. 4.8\n",
       "12. 4.7\n",
       "13. 4.7\n",
       "14. 4.7\n",
       "15. 4.7\n",
       "16. 4.7\n",
       "17. 4.7\n",
       "18. 4.7\n",
       "19. 4.7\n",
       "20. 4.7\n",
       "21. 4.7\n",
       "22. 4.7\n",
       "23. 4.7\n",
       "24. 4.7\n",
       "25. 4.7\n",
       "26. 4.7\n",
       "27. 4.7\n",
       "28. 4.7\n",
       "29. 4.6\n",
       "30. 4.6\n",
       "31. 4.6\n",
       "32. 4.6\n",
       "33. 4.6\n",
       "34. 4.6\n",
       "35. 4.6\n",
       "36. 4.6\n",
       "37. 4.6\n",
       "38. 4.6\n",
       "39. 4.5\n",
       "40. 4.5\n",
       "41. 4.5\n",
       "42. 4.5\n",
       "43. 4.5\n",
       "44. 4.4\n",
       "45. 4.4\n",
       "46. 4.4\n",
       "47. 4.4\n",
       "48. 4.4\n",
       "49. 4.4\n",
       "50. 4.4\n",
       "51. 4.3\n",
       "52. 4.3\n",
       "53. 4.3\n",
       "54. 4.3\n",
       "55. 4.3\n",
       "56. 4.3\n",
       "57. 4.2\n",
       "58. 4.2\n",
       "59. 4.2\n",
       "60. 4.2\n",
       "61. 4.1\n",
       "62. 4.1\n",
       "63. 4\n",
       "64. 4\n",
       "65. 4\n",
       "66. 3.9\n",
       "67. 3.9\n",
       "68. 3.9\n",
       "69. 3.9\n",
       "70. 3.9\n",
       "71. 3.8\n",
       "72. 3.8\n",
       "73. 3.7\n",
       "74. 3.6\n",
       "75. 3.5\n",
       "76. 3.4\n",
       "77. 3.4\n",
       "78. 3.3\n",
       "79. 3.3\n",
       "80. 3.3\n",
       "81. 3.3\n",
       "82. 3.2\n",
       "83. 2.9\n",
       "84. 2.8\n",
       "85. 1.8\n",
       "\n",
       "\n"
      ],
      "text/plain": [
       " [1] 5.0 5.0 4.9 4.9 4.9 4.9 4.8 4.8 4.8 4.8 4.8 4.7 4.7 4.7 4.7 4.7 4.7 4.7 4.7\n",
       "[20] 4.7 4.7 4.7 4.7 4.7 4.7 4.7 4.7 4.7 4.6 4.6 4.6 4.6 4.6 4.6 4.6 4.6 4.6 4.6\n",
       "[39] 4.5 4.5 4.5 4.5 4.5 4.4 4.4 4.4 4.4 4.4 4.4 4.4 4.3 4.3 4.3 4.3 4.3 4.3 4.2\n",
       "[58] 4.2 4.2 4.2 4.1 4.1 4.0 4.0 4.0 3.9 3.9 3.9 3.9 3.9 3.8 3.8 3.7 3.6 3.5 3.4\n",
       "[77] 3.4 3.3 3.3 3.3 3.3 3.2 2.9 2.8 1.8"
      ]
     },
     "metadata": {},
     "output_type": "display_data"
    }
   ],
   "source": [
    "sort(newDF$rating, decreasing=TRUE)"
   ]
  },
  {
   "cell_type": "markdown",
   "id": "fc601975-35ed-4680-a4e1-0273ee3cc047",
   "metadata": {},
   "source": [
    "## Question 2"
   ]
  },
  {
   "cell_type": "code",
   "execution_count": 33,
   "id": "a16336a1-1ef0-41e8-bc7c-49387db27497",
   "metadata": {
    "vscode": {
     "languageId": "r"
    }
   },
   "outputs": [],
   "source": [
    "myBigDF <- merge(products, reviews, by=c(\"brand\", \"key\"))"
   ]
  },
  {
   "cell_type": "code",
   "execution_count": 34,
   "id": "4bff54fa-6976-4d8b-92c1-d25427cfcc6e",
   "metadata": {
    "vscode": {
     "languageId": "r"
    }
   },
   "outputs": [
    {
     "data": {
      "text/html": [
       "<style>\n",
       ".list-inline {list-style: none; margin:0; padding: 0}\n",
       ".list-inline>li {display: inline-block}\n",
       ".list-inline>li:not(:last-child)::after {content: \"\\00b7\"; padding: 0 .5ex}\n",
       "</style>\n",
       "<ol class=list-inline><li>21674</li><li>19</li></ol>\n"
      ],
      "text/latex": [
       "\\begin{enumerate*}\n",
       "\\item 21674\n",
       "\\item 19\n",
       "\\end{enumerate*}\n"
      ],
      "text/markdown": [
       "1. 21674\n",
       "2. 19\n",
       "\n",
       "\n"
      ],
      "text/plain": [
       "[1] 21674    19"
      ]
     },
     "metadata": {},
     "output_type": "display_data"
    }
   ],
   "source": [
    "dim(myBigDF)"
   ]
  },
  {
   "cell_type": "markdown",
   "id": "8e586edd-ff26-4ce2-8f6b-2424b26f2929",
   "metadata": {},
   "source": [
    "## Question 3"
   ]
  },
  {
   "cell_type": "code",
   "execution_count": 11,
   "id": "bbe0f40d-9655-4653-9ca8-886bdb61cb91",
   "metadata": {
    "vscode": {
     "languageId": "r"
    }
   },
   "outputs": [],
   "source": [
    "StrangerThingsDF <- subset(episodes, show_title_id==\"tt4574334\")"
   ]
  },
  {
   "cell_type": "code",
   "execution_count": 12,
   "id": "726dcba1-c6a3-481c-a1ad-3ad6cc4c3d1c",
   "metadata": {
    "vscode": {
     "languageId": "r"
    }
   },
   "outputs": [
    {
     "data": {
      "text/html": [
       "<style>\n",
       ".list-inline {list-style: none; margin:0; padding: 0}\n",
       ".list-inline>li {display: inline-block}\n",
       ".list-inline>li:not(:last-child)::after {content: \"\\00b7\"; padding: 0 .5ex}\n",
       "</style>\n",
       "<ol class=list-inline><li>34</li><li>4</li></ol>\n"
      ],
      "text/latex": [
       "\\begin{enumerate*}\n",
       "\\item 34\n",
       "\\item 4\n",
       "\\end{enumerate*}\n"
      ],
      "text/markdown": [
       "1. 34\n",
       "2. 4\n",
       "\n",
       "\n"
      ],
      "text/plain": [
       "[1] 34  4"
      ]
     },
     "metadata": {},
     "output_type": "display_data"
    }
   ],
   "source": [
    "dim(StrangerThingsDF)"
   ]
  },
  {
   "cell_type": "code",
   "execution_count": 30,
   "id": "d6bf0658-1635-44ee-b0bc-cc66271a2e16",
   "metadata": {
    "vscode": {
     "languageId": "r"
    }
   },
   "outputs": [],
   "source": [
    "StrangerThingsMergeDF <- merge(merge(merge(merge(StrangerThingsDF, titles, by.x=\"show_title_id\", by.y=\"title_id\"),\n",
    "                                          titles, by.x=\"episode_title_id\", by.y=\"title_id\"),\n",
    "                                          ratings, by.x=\"show_title_id\", by.y=\"title_id\"),\n",
    "                                          ratings, by.x=\"episode_title_id\", by.y=\"title_id\")"
   ]
  },
  {
   "cell_type": "code",
   "execution_count": 71,
   "id": "3a11aad1-52c9-4335-89a3-027c4eda0efd",
   "metadata": {
    "vscode": {
     "languageId": "r"
    }
   },
   "outputs": [
    {
     "data": {
      "text/html": [
       "<table class=\"dataframe\">\n",
       "<caption>A data.table: 0 x 24</caption>\n",
       "<thead>\n",
       "\t<tr><th scope=col>episode_title_id</th><th scope=col>show_title_id</th><th scope=col>season_number</th><th scope=col>episode_number</th><th scope=col>type.x</th><th scope=col>primary_title.x</th><th scope=col>original_title.x</th><th scope=col>is_adult.x</th><th scope=col>premiered.x</th><th scope=col>ended.x</th><th scope=col>runtime_minutes.x</th><th scope=col>genres.x</th><th scope=col>type.y</th><th scope=col>primary_title.y</th><th scope=col>original_title.y</th><th scope=col>is_adult.y</th><th scope=col>premiered.y</th><th scope=col>ended.y</th><th scope=col>runtime_minutes.y</th><th scope=col>genres.y</th><th scope=col>rating.x</th><th scope=col>votes.x</th><th scope=col>rating.y</th><th scope=col>votes.y</th></tr>\n",
       "\t<tr><th scope=col>&lt;chr&gt;</th><th scope=col>&lt;chr&gt;</th><th scope=col>&lt;int&gt;</th><th scope=col>&lt;chr&gt;</th><th scope=col>&lt;chr&gt;</th><th scope=col>&lt;chr&gt;</th><th scope=col>&lt;chr&gt;</th><th scope=col>&lt;int&gt;</th><th scope=col>&lt;int&gt;</th><th scope=col>&lt;int&gt;</th><th scope=col>&lt;int&gt;</th><th scope=col>&lt;chr&gt;</th><th scope=col>&lt;chr&gt;</th><th scope=col>&lt;chr&gt;</th><th scope=col>&lt;chr&gt;</th><th scope=col>&lt;int&gt;</th><th scope=col>&lt;int&gt;</th><th scope=col>&lt;int&gt;</th><th scope=col>&lt;int&gt;</th><th scope=col>&lt;chr&gt;</th><th scope=col>&lt;dbl&gt;</th><th scope=col>&lt;int&gt;</th><th scope=col>&lt;dbl&gt;</th><th scope=col>&lt;int&gt;</th></tr>\n",
       "</thead>\n",
       "<tbody>\n",
       "</tbody>\n",
       "</table>\n"
      ],
      "text/latex": [
       "A data.table: 0 x 24\n",
       "\\begin{tabular}{llllllllllllllllllllllll}\n",
       " episode\\_title\\_id & show\\_title\\_id & season\\_number & episode\\_number & type.x & primary\\_title.x & original\\_title.x & is\\_adult.x & premiered.x & ended.x & runtime\\_minutes.x & genres.x & type.y & primary\\_title.y & original\\_title.y & is\\_adult.y & premiered.y & ended.y & runtime\\_minutes.y & genres.y & rating.x & votes.x & rating.y & votes.y\\\\\n",
       " <chr> & <chr> & <int> & <chr> & <chr> & <chr> & <chr> & <int> & <int> & <int> & <int> & <chr> & <chr> & <chr> & <chr> & <int> & <int> & <int> & <int> & <chr> & <dbl> & <int> & <dbl> & <int>\\\\\n",
       "\\hline\n",
       "\\end{tabular}\n"
      ],
      "text/markdown": [
       "\n",
       "A data.table: 0 x 24\n",
       "\n",
       "| episode_title_id &lt;chr&gt; | show_title_id &lt;chr&gt; | season_number &lt;int&gt; | episode_number &lt;chr&gt; | type.x &lt;chr&gt; | primary_title.x &lt;chr&gt; | original_title.x &lt;chr&gt; | is_adult.x &lt;int&gt; | premiered.x &lt;int&gt; | ended.x &lt;int&gt; | runtime_minutes.x &lt;int&gt; | genres.x &lt;chr&gt; | type.y &lt;chr&gt; | primary_title.y &lt;chr&gt; | original_title.y &lt;chr&gt; | is_adult.y &lt;int&gt; | premiered.y &lt;int&gt; | ended.y &lt;int&gt; | runtime_minutes.y &lt;int&gt; | genres.y &lt;chr&gt; | rating.x &lt;dbl&gt; | votes.x &lt;int&gt; | rating.y &lt;dbl&gt; | votes.y &lt;int&gt; |\n",
       "|---|---|---|---|---|---|---|---|---|---|---|---|---|---|---|---|---|---|---|---|---|---|---|---|\n",
       "\n"
      ],
      "text/plain": [
       "     episode_title_id show_title_id season_number episode_number type.x\n",
       "     primary_title.x original_title.x is_adult.x premiered.x ended.x\n",
       "     runtime_minutes.x genres.x type.y primary_title.y original_title.y\n",
       "     is_adult.y premiered.y ended.y runtime_minutes.y genres.y rating.x votes.x\n",
       "     rating.y votes.y"
      ]
     },
     "metadata": {},
     "output_type": "display_data"
    }
   ],
   "source": [
    "tail(StrangerThingsMergeDF[order(StrangerThingsMergeDF$ratings.y), ], n=5)"
   ]
  },
  {
   "cell_type": "markdown",
   "id": "da22f29c-d245-4d2b-9fc1-ca14cb6087d9",
   "metadata": {},
   "source": [
    "## Question 4"
   ]
  },
  {
   "cell_type": "code",
   "execution_count": 25,
   "id": "6caee800-705d-4b54-9c6c-83260b46ac44",
   "metadata": {
    "vscode": {
     "languageId": "r"
    }
   },
   "outputs": [],
   "source": [
    "#Part A"
   ]
  },
  {
   "cell_type": "code",
   "execution_count": 34,
   "id": "8cffc767-d1c8-4d64-b7dc-f0d2ee8a80d1",
   "metadata": {
    "vscode": {
     "languageId": "r"
    }
   },
   "outputs": [
    {
     "data": {
      "text/html": [
       "<table class=\"dataframe\">\n",
       "<caption>A data.table: 3 x 24</caption>\n",
       "<thead>\n",
       "\t<tr><th scope=col>episode_title_id</th><th scope=col>show_title_id</th><th scope=col>season_number</th><th scope=col>episode_number</th><th scope=col>type.x</th><th scope=col>primary_title.x</th><th scope=col>original_title.x</th><th scope=col>is_adult.x</th><th scope=col>premiered.x</th><th scope=col>ended.x</th><th scope=col>runtime_minutes.x</th><th scope=col>genres.x</th><th scope=col>type.y</th><th scope=col>primary_title.y</th><th scope=col>original_title.y</th><th scope=col>is_adult.y</th><th scope=col>premiered.y</th><th scope=col>ended.y</th><th scope=col>runtime_minutes.y</th><th scope=col>genres.y</th><th scope=col>rating.x</th><th scope=col>votes.x</th><th scope=col>rating.y</th><th scope=col>votes.y</th></tr>\n",
       "\t<tr><th scope=col>&lt;chr&gt;</th><th scope=col>&lt;chr&gt;</th><th scope=col>&lt;int&gt;</th><th scope=col>&lt;chr&gt;</th><th scope=col>&lt;chr&gt;</th><th scope=col>&lt;chr&gt;</th><th scope=col>&lt;chr&gt;</th><th scope=col>&lt;int&gt;</th><th scope=col>&lt;int&gt;</th><th scope=col>&lt;int&gt;</th><th scope=col>&lt;int&gt;</th><th scope=col>&lt;chr&gt;</th><th scope=col>&lt;chr&gt;</th><th scope=col>&lt;chr&gt;</th><th scope=col>&lt;chr&gt;</th><th scope=col>&lt;int&gt;</th><th scope=col>&lt;int&gt;</th><th scope=col>&lt;int&gt;</th><th scope=col>&lt;int&gt;</th><th scope=col>&lt;chr&gt;</th><th scope=col>&lt;dbl&gt;</th><th scope=col>&lt;int&gt;</th><th scope=col>&lt;dbl&gt;</th><th scope=col>&lt;int&gt;</th></tr>\n",
       "</thead>\n",
       "<tbody>\n",
       "\t<tr><td>tt7445494</td><td>tt4574334</td><td>3</td><td>1</td><td>tvSeries</td><td>Stranger Things</td><td>Stranger Things</td><td>0</td><td>2016</td><td>NA</td><td>51</td><td>Drama,Fantasy,Horror</td><td>tvEpisode</td><td>Chapter One: Suzie, Do You Copy?                </td><td>Chapter One: Suzie, Do You Copy?                </td><td>0</td><td>2019</td><td>NA</td><td>50</td><td>Drama,Fantasy,Horror</td><td>8.7</td><td>870577</td><td>7.9</td><td>16701</td></tr>\n",
       "\t<tr><td>tt7640050</td><td>tt4574334</td><td>3</td><td>2</td><td>tvSeries</td><td>Stranger Things</td><td>Stranger Things</td><td>0</td><td>2016</td><td>NA</td><td>51</td><td>Drama,Fantasy,Horror</td><td>tvEpisode</td><td>Chapter Two: The Mall Rats                      </td><td>Chapter Two: The Mall Rats                      </td><td>0</td><td>2019</td><td>NA</td><td>50</td><td>Drama,Fantasy,Horror</td><td>8.7</td><td>870577</td><td>8.0</td><td>14982</td></tr>\n",
       "\t<tr><td>tt7911866</td><td>tt4574334</td><td>3</td><td>3</td><td>tvSeries</td><td>Stranger Things</td><td>Stranger Things</td><td>0</td><td>2016</td><td>NA</td><td>51</td><td>Drama,Fantasy,Horror</td><td>tvEpisode</td><td>Chapter Three: The Case of the Missing Lifeguard</td><td>Chapter Three: The Case of the Missing Lifeguard</td><td>0</td><td>2019</td><td>NA</td><td>49</td><td>Drama,Fantasy,Horror</td><td>8.7</td><td>870577</td><td>8.4</td><td>14470</td></tr>\n",
       "</tbody>\n",
       "</table>\n"
      ],
      "text/latex": [
       "A data.table: 3 x 24\n",
       "\\begin{tabular}{llllllllllllllllllllllll}\n",
       " episode\\_title\\_id & show\\_title\\_id & season\\_number & episode\\_number & type.x & primary\\_title.x & original\\_title.x & is\\_adult.x & premiered.x & ended.x & runtime\\_minutes.x & genres.x & type.y & primary\\_title.y & original\\_title.y & is\\_adult.y & premiered.y & ended.y & runtime\\_minutes.y & genres.y & rating.x & votes.x & rating.y & votes.y\\\\\n",
       " <chr> & <chr> & <int> & <chr> & <chr> & <chr> & <chr> & <int> & <int> & <int> & <int> & <chr> & <chr> & <chr> & <chr> & <int> & <int> & <int> & <int> & <chr> & <dbl> & <int> & <dbl> & <int>\\\\\n",
       "\\hline\n",
       "\t tt7445494 & tt4574334 & 3 & 1 & tvSeries & Stranger Things & Stranger Things & 0 & 2016 & NA & 51 & Drama,Fantasy,Horror & tvEpisode & Chapter One: Suzie, Do You Copy?                 & Chapter One: Suzie, Do You Copy?                 & 0 & 2019 & NA & 50 & Drama,Fantasy,Horror & 8.7 & 870577 & 7.9 & 16701\\\\\n",
       "\t tt7640050 & tt4574334 & 3 & 2 & tvSeries & Stranger Things & Stranger Things & 0 & 2016 & NA & 51 & Drama,Fantasy,Horror & tvEpisode & Chapter Two: The Mall Rats                       & Chapter Two: The Mall Rats                       & 0 & 2019 & NA & 50 & Drama,Fantasy,Horror & 8.7 & 870577 & 8.0 & 14982\\\\\n",
       "\t tt7911866 & tt4574334 & 3 & 3 & tvSeries & Stranger Things & Stranger Things & 0 & 2016 & NA & 51 & Drama,Fantasy,Horror & tvEpisode & Chapter Three: The Case of the Missing Lifeguard & Chapter Three: The Case of the Missing Lifeguard & 0 & 2019 & NA & 49 & Drama,Fantasy,Horror & 8.7 & 870577 & 8.4 & 14470\\\\\n",
       "\\end{tabular}\n"
      ],
      "text/markdown": [
       "\n",
       "A data.table: 3 x 24\n",
       "\n",
       "| episode_title_id &lt;chr&gt; | show_title_id &lt;chr&gt; | season_number &lt;int&gt; | episode_number &lt;chr&gt; | type.x &lt;chr&gt; | primary_title.x &lt;chr&gt; | original_title.x &lt;chr&gt; | is_adult.x &lt;int&gt; | premiered.x &lt;int&gt; | ended.x &lt;int&gt; | runtime_minutes.x &lt;int&gt; | genres.x &lt;chr&gt; | type.y &lt;chr&gt; | primary_title.y &lt;chr&gt; | original_title.y &lt;chr&gt; | is_adult.y &lt;int&gt; | premiered.y &lt;int&gt; | ended.y &lt;int&gt; | runtime_minutes.y &lt;int&gt; | genres.y &lt;chr&gt; | rating.x &lt;dbl&gt; | votes.x &lt;int&gt; | rating.y &lt;dbl&gt; | votes.y &lt;int&gt; |\n",
       "|---|---|---|---|---|---|---|---|---|---|---|---|---|---|---|---|---|---|---|---|---|---|---|---|\n",
       "| tt7445494 | tt4574334 | 3 | 1 | tvSeries | Stranger Things | Stranger Things | 0 | 2016 | NA | 51 | Drama,Fantasy,Horror | tvEpisode | Chapter One: Suzie, Do You Copy?                 | Chapter One: Suzie, Do You Copy?                 | 0 | 2019 | NA | 50 | Drama,Fantasy,Horror | 8.7 | 870577 | 7.9 | 16701 |\n",
       "| tt7640050 | tt4574334 | 3 | 2 | tvSeries | Stranger Things | Stranger Things | 0 | 2016 | NA | 51 | Drama,Fantasy,Horror | tvEpisode | Chapter Two: The Mall Rats                       | Chapter Two: The Mall Rats                       | 0 | 2019 | NA | 50 | Drama,Fantasy,Horror | 8.7 | 870577 | 8.0 | 14982 |\n",
       "| tt7911866 | tt4574334 | 3 | 3 | tvSeries | Stranger Things | Stranger Things | 0 | 2016 | NA | 51 | Drama,Fantasy,Horror | tvEpisode | Chapter Three: The Case of the Missing Lifeguard | Chapter Three: The Case of the Missing Lifeguard | 0 | 2019 | NA | 49 | Drama,Fantasy,Horror | 8.7 | 870577 | 8.4 | 14470 |\n",
       "\n"
      ],
      "text/plain": [
       "  episode_title_id show_title_id season_number episode_number type.x  \n",
       "1 tt7445494        tt4574334     3             1              tvSeries\n",
       "2 tt7640050        tt4574334     3             2              tvSeries\n",
       "3 tt7911866        tt4574334     3             3              tvSeries\n",
       "  primary_title.x original_title.x is_adult.x premiered.x ended.x\n",
       "1 Stranger Things Stranger Things  0          2016        NA     \n",
       "2 Stranger Things Stranger Things  0          2016        NA     \n",
       "3 Stranger Things Stranger Things  0          2016        NA     \n",
       "  runtime_minutes.x genres.x             type.y   \n",
       "1 51                Drama,Fantasy,Horror tvEpisode\n",
       "2 51                Drama,Fantasy,Horror tvEpisode\n",
       "3 51                Drama,Fantasy,Horror tvEpisode\n",
       "  primary_title.y                                 \n",
       "1 Chapter One: Suzie, Do You Copy?                \n",
       "2 Chapter Two: The Mall Rats                      \n",
       "3 Chapter Three: The Case of the Missing Lifeguard\n",
       "  original_title.y                                 is_adult.y premiered.y\n",
       "1 Chapter One: Suzie, Do You Copy?                 0          2019       \n",
       "2 Chapter Two: The Mall Rats                       0          2019       \n",
       "3 Chapter Three: The Case of the Missing Lifeguard 0          2019       \n",
       "  ended.y runtime_minutes.y genres.y             rating.x votes.x rating.y\n",
       "1 NA      50                Drama,Fantasy,Horror 8.7      870577  7.9     \n",
       "2 NA      50                Drama,Fantasy,Horror 8.7      870577  8.0     \n",
       "3 NA      49                Drama,Fantasy,Horror 8.7      870577  8.4     \n",
       "  votes.y\n",
       "1 16701  \n",
       "2 14982  \n",
       "3 14470  "
      ]
     },
     "metadata": {},
     "output_type": "display_data"
    }
   ],
   "source": [
    "StrangerThingsMergeDF[ (StrangerThingsMergeDF$season_number ==3) & (StrangerThingsMergeDF$rating.y < 8.5), ]"
   ]
  },
  {
   "cell_type": "code",
   "execution_count": 26,
   "id": "1c9232a1-1383-4d4f-a022-81e5c7fdc739",
   "metadata": {
    "vscode": {
     "languageId": "r"
    }
   },
   "outputs": [],
   "source": [
    "#Part B"
   ]
  },
  {
   "cell_type": "code",
   "execution_count": 28,
   "id": "5959f6ae-41da-4d48-a824-14902912b0bd",
   "metadata": {
    "vscode": {
     "languageId": "r"
    }
   },
   "outputs": [
    {
     "data": {
      "text/html": [
       "<table class=\"dataframe\">\n",
       "<caption>A data.table: 3 x 24</caption>\n",
       "<thead>\n",
       "\t<tr><th scope=col>episode_title_id</th><th scope=col>show_title_id</th><th scope=col>season_number</th><th scope=col>episode_number</th><th scope=col>type.x</th><th scope=col>primary_title.x</th><th scope=col>original_title.x</th><th scope=col>is_adult.x</th><th scope=col>premiered.x</th><th scope=col>ended.x</th><th scope=col>runtime_minutes.x</th><th scope=col>genres.x</th><th scope=col>type.y</th><th scope=col>primary_title.y</th><th scope=col>original_title.y</th><th scope=col>is_adult.y</th><th scope=col>premiered.y</th><th scope=col>ended.y</th><th scope=col>runtime_minutes.y</th><th scope=col>genres.y</th><th scope=col>rating.x</th><th scope=col>votes.x</th><th scope=col>rating.y</th><th scope=col>votes.y</th></tr>\n",
       "\t<tr><th scope=col>&lt;chr&gt;</th><th scope=col>&lt;chr&gt;</th><th scope=col>&lt;int&gt;</th><th scope=col>&lt;chr&gt;</th><th scope=col>&lt;chr&gt;</th><th scope=col>&lt;chr&gt;</th><th scope=col>&lt;chr&gt;</th><th scope=col>&lt;int&gt;</th><th scope=col>&lt;int&gt;</th><th scope=col>&lt;int&gt;</th><th scope=col>&lt;int&gt;</th><th scope=col>&lt;chr&gt;</th><th scope=col>&lt;chr&gt;</th><th scope=col>&lt;chr&gt;</th><th scope=col>&lt;chr&gt;</th><th scope=col>&lt;int&gt;</th><th scope=col>&lt;int&gt;</th><th scope=col>&lt;int&gt;</th><th scope=col>&lt;int&gt;</th><th scope=col>&lt;chr&gt;</th><th scope=col>&lt;dbl&gt;</th><th scope=col>&lt;int&gt;</th><th scope=col>&lt;dbl&gt;</th><th scope=col>&lt;int&gt;</th></tr>\n",
       "</thead>\n",
       "<tbody>\n",
       "\t<tr><td>tt7445494</td><td>tt4574334</td><td>3</td><td>1</td><td>tvSeries</td><td>Stranger Things</td><td>Stranger Things</td><td>0</td><td>2016</td><td>NA</td><td>51</td><td>Drama,Fantasy,Horror</td><td>tvEpisode</td><td>Chapter One: Suzie, Do You Copy?                </td><td>Chapter One: Suzie, Do You Copy?                </td><td>0</td><td>2019</td><td>NA</td><td>50</td><td>Drama,Fantasy,Horror</td><td>8.7</td><td>870577</td><td>7.9</td><td>16701</td></tr>\n",
       "\t<tr><td>tt7640050</td><td>tt4574334</td><td>3</td><td>2</td><td>tvSeries</td><td>Stranger Things</td><td>Stranger Things</td><td>0</td><td>2016</td><td>NA</td><td>51</td><td>Drama,Fantasy,Horror</td><td>tvEpisode</td><td>Chapter Two: The Mall Rats                      </td><td>Chapter Two: The Mall Rats                      </td><td>0</td><td>2019</td><td>NA</td><td>50</td><td>Drama,Fantasy,Horror</td><td>8.7</td><td>870577</td><td>8.0</td><td>14982</td></tr>\n",
       "\t<tr><td>tt7911866</td><td>tt4574334</td><td>3</td><td>3</td><td>tvSeries</td><td>Stranger Things</td><td>Stranger Things</td><td>0</td><td>2016</td><td>NA</td><td>51</td><td>Drama,Fantasy,Horror</td><td>tvEpisode</td><td>Chapter Three: The Case of the Missing Lifeguard</td><td>Chapter Three: The Case of the Missing Lifeguard</td><td>0</td><td>2019</td><td>NA</td><td>49</td><td>Drama,Fantasy,Horror</td><td>8.7</td><td>870577</td><td>8.4</td><td>14470</td></tr>\n",
       "</tbody>\n",
       "</table>\n"
      ],
      "text/latex": [
       "A data.table: 3 x 24\n",
       "\\begin{tabular}{llllllllllllllllllllllll}\n",
       " episode\\_title\\_id & show\\_title\\_id & season\\_number & episode\\_number & type.x & primary\\_title.x & original\\_title.x & is\\_adult.x & premiered.x & ended.x & runtime\\_minutes.x & genres.x & type.y & primary\\_title.y & original\\_title.y & is\\_adult.y & premiered.y & ended.y & runtime\\_minutes.y & genres.y & rating.x & votes.x & rating.y & votes.y\\\\\n",
       " <chr> & <chr> & <int> & <chr> & <chr> & <chr> & <chr> & <int> & <int> & <int> & <int> & <chr> & <chr> & <chr> & <chr> & <int> & <int> & <int> & <int> & <chr> & <dbl> & <int> & <dbl> & <int>\\\\\n",
       "\\hline\n",
       "\t tt7445494 & tt4574334 & 3 & 1 & tvSeries & Stranger Things & Stranger Things & 0 & 2016 & NA & 51 & Drama,Fantasy,Horror & tvEpisode & Chapter One: Suzie, Do You Copy?                 & Chapter One: Suzie, Do You Copy?                 & 0 & 2019 & NA & 50 & Drama,Fantasy,Horror & 8.7 & 870577 & 7.9 & 16701\\\\\n",
       "\t tt7640050 & tt4574334 & 3 & 2 & tvSeries & Stranger Things & Stranger Things & 0 & 2016 & NA & 51 & Drama,Fantasy,Horror & tvEpisode & Chapter Two: The Mall Rats                       & Chapter Two: The Mall Rats                       & 0 & 2019 & NA & 50 & Drama,Fantasy,Horror & 8.7 & 870577 & 8.0 & 14982\\\\\n",
       "\t tt7911866 & tt4574334 & 3 & 3 & tvSeries & Stranger Things & Stranger Things & 0 & 2016 & NA & 51 & Drama,Fantasy,Horror & tvEpisode & Chapter Three: The Case of the Missing Lifeguard & Chapter Three: The Case of the Missing Lifeguard & 0 & 2019 & NA & 49 & Drama,Fantasy,Horror & 8.7 & 870577 & 8.4 & 14470\\\\\n",
       "\\end{tabular}\n"
      ],
      "text/markdown": [
       "\n",
       "A data.table: 3 x 24\n",
       "\n",
       "| episode_title_id &lt;chr&gt; | show_title_id &lt;chr&gt; | season_number &lt;int&gt; | episode_number &lt;chr&gt; | type.x &lt;chr&gt; | primary_title.x &lt;chr&gt; | original_title.x &lt;chr&gt; | is_adult.x &lt;int&gt; | premiered.x &lt;int&gt; | ended.x &lt;int&gt; | runtime_minutes.x &lt;int&gt; | genres.x &lt;chr&gt; | type.y &lt;chr&gt; | primary_title.y &lt;chr&gt; | original_title.y &lt;chr&gt; | is_adult.y &lt;int&gt; | premiered.y &lt;int&gt; | ended.y &lt;int&gt; | runtime_minutes.y &lt;int&gt; | genres.y &lt;chr&gt; | rating.x &lt;dbl&gt; | votes.x &lt;int&gt; | rating.y &lt;dbl&gt; | votes.y &lt;int&gt; |\n",
       "|---|---|---|---|---|---|---|---|---|---|---|---|---|---|---|---|---|---|---|---|---|---|---|---|\n",
       "| tt7445494 | tt4574334 | 3 | 1 | tvSeries | Stranger Things | Stranger Things | 0 | 2016 | NA | 51 | Drama,Fantasy,Horror | tvEpisode | Chapter One: Suzie, Do You Copy?                 | Chapter One: Suzie, Do You Copy?                 | 0 | 2019 | NA | 50 | Drama,Fantasy,Horror | 8.7 | 870577 | 7.9 | 16701 |\n",
       "| tt7640050 | tt4574334 | 3 | 2 | tvSeries | Stranger Things | Stranger Things | 0 | 2016 | NA | 51 | Drama,Fantasy,Horror | tvEpisode | Chapter Two: The Mall Rats                       | Chapter Two: The Mall Rats                       | 0 | 2019 | NA | 50 | Drama,Fantasy,Horror | 8.7 | 870577 | 8.0 | 14982 |\n",
       "| tt7911866 | tt4574334 | 3 | 3 | tvSeries | Stranger Things | Stranger Things | 0 | 2016 | NA | 51 | Drama,Fantasy,Horror | tvEpisode | Chapter Three: The Case of the Missing Lifeguard | Chapter Three: The Case of the Missing Lifeguard | 0 | 2019 | NA | 49 | Drama,Fantasy,Horror | 8.7 | 870577 | 8.4 | 14470 |\n",
       "\n"
      ],
      "text/plain": [
       "  episode_title_id show_title_id season_number episode_number type.x  \n",
       "1 tt7445494        tt4574334     3             1              tvSeries\n",
       "2 tt7640050        tt4574334     3             2              tvSeries\n",
       "3 tt7911866        tt4574334     3             3              tvSeries\n",
       "  primary_title.x original_title.x is_adult.x premiered.x ended.x\n",
       "1 Stranger Things Stranger Things  0          2016        NA     \n",
       "2 Stranger Things Stranger Things  0          2016        NA     \n",
       "3 Stranger Things Stranger Things  0          2016        NA     \n",
       "  runtime_minutes.x genres.x             type.y   \n",
       "1 51                Drama,Fantasy,Horror tvEpisode\n",
       "2 51                Drama,Fantasy,Horror tvEpisode\n",
       "3 51                Drama,Fantasy,Horror tvEpisode\n",
       "  primary_title.y                                 \n",
       "1 Chapter One: Suzie, Do You Copy?                \n",
       "2 Chapter Two: The Mall Rats                      \n",
       "3 Chapter Three: The Case of the Missing Lifeguard\n",
       "  original_title.y                                 is_adult.y premiered.y\n",
       "1 Chapter One: Suzie, Do You Copy?                 0          2019       \n",
       "2 Chapter Two: The Mall Rats                       0          2019       \n",
       "3 Chapter Three: The Case of the Missing Lifeguard 0          2019       \n",
       "  ended.y runtime_minutes.y genres.y             rating.x votes.x rating.y\n",
       "1 NA      50                Drama,Fantasy,Horror 8.7      870577  7.9     \n",
       "2 NA      50                Drama,Fantasy,Horror 8.7      870577  8.0     \n",
       "3 NA      49                Drama,Fantasy,Horror 8.7      870577  8.4     \n",
       "  votes.y\n",
       "1 16701  \n",
       "2 14982  \n",
       "3 14470  "
      ]
     },
     "metadata": {},
     "output_type": "display_data"
    }
   ],
   "source": [
    "subset(StrangerThingsMergeDF, (season_number ==3) & (rating.y < 8.5))"
   ]
  },
  {
   "cell_type": "markdown",
   "id": "88c9cdac-3e92-498f-83fa-e089bfc44ac8",
   "metadata": {},
   "source": [
    "## Question 5"
   ]
  },
  {
   "cell_type": "code",
   "execution_count": 32,
   "id": "d370d7c9-06db-42b9-b75f-240481a5c491",
   "metadata": {
    "vscode": {
     "languageId": "r"
    }
   },
   "outputs": [
    {
     "data": {
      "text/html": [
       "<table class=\"dataframe\">\n",
       "<caption>A data.table: 6 x 24</caption>\n",
       "<thead>\n",
       "\t<tr><th scope=col>episode_title_id</th><th scope=col>show_title_id</th><th scope=col>season_number</th><th scope=col>episode_number</th><th scope=col>type.x</th><th scope=col>primary_title.x</th><th scope=col>original_title.x</th><th scope=col>is_adult.x</th><th scope=col>premiered.x</th><th scope=col>ended.x</th><th scope=col>runtime_minutes.x</th><th scope=col>genres.x</th><th scope=col>type.y</th><th scope=col>primary_title.y</th><th scope=col>original_title.y</th><th scope=col>is_adult.y</th><th scope=col>premiered.y</th><th scope=col>ended.y</th><th scope=col>runtime_minutes.y</th><th scope=col>genres.y</th><th scope=col>rating.x</th><th scope=col>votes.x</th><th scope=col>rating.y</th><th scope=col>votes.y</th></tr>\n",
       "\t<tr><th scope=col>&lt;chr&gt;</th><th scope=col>&lt;chr&gt;</th><th scope=col>&lt;int&gt;</th><th scope=col>&lt;chr&gt;</th><th scope=col>&lt;chr&gt;</th><th scope=col>&lt;chr&gt;</th><th scope=col>&lt;chr&gt;</th><th scope=col>&lt;int&gt;</th><th scope=col>&lt;int&gt;</th><th scope=col>&lt;int&gt;</th><th scope=col>&lt;int&gt;</th><th scope=col>&lt;chr&gt;</th><th scope=col>&lt;chr&gt;</th><th scope=col>&lt;chr&gt;</th><th scope=col>&lt;chr&gt;</th><th scope=col>&lt;int&gt;</th><th scope=col>&lt;int&gt;</th><th scope=col>&lt;int&gt;</th><th scope=col>&lt;int&gt;</th><th scope=col>&lt;chr&gt;</th><th scope=col>&lt;dbl&gt;</th><th scope=col>&lt;int&gt;</th><th scope=col>&lt;dbl&gt;</th><th scope=col>&lt;int&gt;</th></tr>\n",
       "</thead>\n",
       "<tbody>\n",
       "\t<tr><td>tt6020684</td><td>tt4574334</td><td>2</td><td>1</td><td>tvSeries</td><td>Stranger Things</td><td>Stranger Things</td><td>0</td><td>2016</td><td>NA</td><td>51</td><td>Drama,Fantasy,Horror</td><td>tvEpisode</td><td>Chapter One: MADMAX                             </td><td>Chapter One: MADMAX                             </td><td>0</td><td>2017</td><td>NA</td><td>48</td><td>Drama,Fantasy,Horror</td><td>8.7</td><td>870577</td><td>8.3</td><td>15678</td></tr>\n",
       "\t<tr><td>tt6020792</td><td>tt4574334</td><td>2</td><td>2</td><td>tvSeries</td><td>Stranger Things</td><td>Stranger Things</td><td>0</td><td>2016</td><td>NA</td><td>51</td><td>Drama,Fantasy,Horror</td><td>tvEpisode</td><td>Chapter Two: Trick or Treat, Freak              </td><td>Chapter Two: Trick or Treat, Freak              </td><td>0</td><td>2017</td><td>NA</td><td>56</td><td>Drama,Fantasy,Horror</td><td>8.7</td><td>870577</td><td>8.4</td><td>14554</td></tr>\n",
       "\t<tr><td>tt6020810</td><td>tt4574334</td><td>2</td><td>7</td><td>tvSeries</td><td>Stranger Things</td><td>Stranger Things</td><td>0</td><td>2016</td><td>NA</td><td>51</td><td>Drama,Fantasy,Horror</td><td>tvEpisode</td><td>Chapter Seven: The Lost Sister                  </td><td>Chapter Seven: The Lost Sister                  </td><td>0</td><td>2017</td><td>NA</td><td>45</td><td>Drama,Fantasy,Horror</td><td>8.7</td><td>870577</td><td>6.1</td><td>22503</td></tr>\n",
       "\t<tr><td>tt7445494</td><td>tt4574334</td><td>3</td><td>1</td><td>tvSeries</td><td>Stranger Things</td><td>Stranger Things</td><td>0</td><td>2016</td><td>NA</td><td>51</td><td>Drama,Fantasy,Horror</td><td>tvEpisode</td><td>Chapter One: Suzie, Do You Copy?                </td><td>Chapter One: Suzie, Do You Copy?                </td><td>0</td><td>2019</td><td>NA</td><td>50</td><td>Drama,Fantasy,Horror</td><td>8.7</td><td>870577</td><td>7.9</td><td>16701</td></tr>\n",
       "\t<tr><td>tt7640050</td><td>tt4574334</td><td>3</td><td>2</td><td>tvSeries</td><td>Stranger Things</td><td>Stranger Things</td><td>0</td><td>2016</td><td>NA</td><td>51</td><td>Drama,Fantasy,Horror</td><td>tvEpisode</td><td>Chapter Two: The Mall Rats                      </td><td>Chapter Two: The Mall Rats                      </td><td>0</td><td>2019</td><td>NA</td><td>50</td><td>Drama,Fantasy,Horror</td><td>8.7</td><td>870577</td><td>8.0</td><td>14982</td></tr>\n",
       "\t<tr><td>tt7911866</td><td>tt4574334</td><td>3</td><td>3</td><td>tvSeries</td><td>Stranger Things</td><td>Stranger Things</td><td>0</td><td>2016</td><td>NA</td><td>51</td><td>Drama,Fantasy,Horror</td><td>tvEpisode</td><td>Chapter Three: The Case of the Missing Lifeguard</td><td>Chapter Three: The Case of the Missing Lifeguard</td><td>0</td><td>2019</td><td>NA</td><td>49</td><td>Drama,Fantasy,Horror</td><td>8.7</td><td>870577</td><td>8.4</td><td>14470</td></tr>\n",
       "</tbody>\n",
       "</table>\n"
      ],
      "text/latex": [
       "A data.table: 6 x 24\n",
       "\\begin{tabular}{llllllllllllllllllllllll}\n",
       " episode\\_title\\_id & show\\_title\\_id & season\\_number & episode\\_number & type.x & primary\\_title.x & original\\_title.x & is\\_adult.x & premiered.x & ended.x & runtime\\_minutes.x & genres.x & type.y & primary\\_title.y & original\\_title.y & is\\_adult.y & premiered.y & ended.y & runtime\\_minutes.y & genres.y & rating.x & votes.x & rating.y & votes.y\\\\\n",
       " <chr> & <chr> & <int> & <chr> & <chr> & <chr> & <chr> & <int> & <int> & <int> & <int> & <chr> & <chr> & <chr> & <chr> & <int> & <int> & <int> & <int> & <chr> & <dbl> & <int> & <dbl> & <int>\\\\\n",
       "\\hline\n",
       "\t tt6020684 & tt4574334 & 2 & 1 & tvSeries & Stranger Things & Stranger Things & 0 & 2016 & NA & 51 & Drama,Fantasy,Horror & tvEpisode & Chapter One: MADMAX                              & Chapter One: MADMAX                              & 0 & 2017 & NA & 48 & Drama,Fantasy,Horror & 8.7 & 870577 & 8.3 & 15678\\\\\n",
       "\t tt6020792 & tt4574334 & 2 & 2 & tvSeries & Stranger Things & Stranger Things & 0 & 2016 & NA & 51 & Drama,Fantasy,Horror & tvEpisode & Chapter Two: Trick or Treat, Freak               & Chapter Two: Trick or Treat, Freak               & 0 & 2017 & NA & 56 & Drama,Fantasy,Horror & 8.7 & 870577 & 8.4 & 14554\\\\\n",
       "\t tt6020810 & tt4574334 & 2 & 7 & tvSeries & Stranger Things & Stranger Things & 0 & 2016 & NA & 51 & Drama,Fantasy,Horror & tvEpisode & Chapter Seven: The Lost Sister                   & Chapter Seven: The Lost Sister                   & 0 & 2017 & NA & 45 & Drama,Fantasy,Horror & 8.7 & 870577 & 6.1 & 22503\\\\\n",
       "\t tt7445494 & tt4574334 & 3 & 1 & tvSeries & Stranger Things & Stranger Things & 0 & 2016 & NA & 51 & Drama,Fantasy,Horror & tvEpisode & Chapter One: Suzie, Do You Copy?                 & Chapter One: Suzie, Do You Copy?                 & 0 & 2019 & NA & 50 & Drama,Fantasy,Horror & 8.7 & 870577 & 7.9 & 16701\\\\\n",
       "\t tt7640050 & tt4574334 & 3 & 2 & tvSeries & Stranger Things & Stranger Things & 0 & 2016 & NA & 51 & Drama,Fantasy,Horror & tvEpisode & Chapter Two: The Mall Rats                       & Chapter Two: The Mall Rats                       & 0 & 2019 & NA & 50 & Drama,Fantasy,Horror & 8.7 & 870577 & 8.0 & 14982\\\\\n",
       "\t tt7911866 & tt4574334 & 3 & 3 & tvSeries & Stranger Things & Stranger Things & 0 & 2016 & NA & 51 & Drama,Fantasy,Horror & tvEpisode & Chapter Three: The Case of the Missing Lifeguard & Chapter Three: The Case of the Missing Lifeguard & 0 & 2019 & NA & 49 & Drama,Fantasy,Horror & 8.7 & 870577 & 8.4 & 14470\\\\\n",
       "\\end{tabular}\n"
      ],
      "text/markdown": [
       "\n",
       "A data.table: 6 x 24\n",
       "\n",
       "| episode_title_id &lt;chr&gt; | show_title_id &lt;chr&gt; | season_number &lt;int&gt; | episode_number &lt;chr&gt; | type.x &lt;chr&gt; | primary_title.x &lt;chr&gt; | original_title.x &lt;chr&gt; | is_adult.x &lt;int&gt; | premiered.x &lt;int&gt; | ended.x &lt;int&gt; | runtime_minutes.x &lt;int&gt; | genres.x &lt;chr&gt; | type.y &lt;chr&gt; | primary_title.y &lt;chr&gt; | original_title.y &lt;chr&gt; | is_adult.y &lt;int&gt; | premiered.y &lt;int&gt; | ended.y &lt;int&gt; | runtime_minutes.y &lt;int&gt; | genres.y &lt;chr&gt; | rating.x &lt;dbl&gt; | votes.x &lt;int&gt; | rating.y &lt;dbl&gt; | votes.y &lt;int&gt; |\n",
       "|---|---|---|---|---|---|---|---|---|---|---|---|---|---|---|---|---|---|---|---|---|---|---|---|\n",
       "| tt6020684 | tt4574334 | 2 | 1 | tvSeries | Stranger Things | Stranger Things | 0 | 2016 | NA | 51 | Drama,Fantasy,Horror | tvEpisode | Chapter One: MADMAX                              | Chapter One: MADMAX                              | 0 | 2017 | NA | 48 | Drama,Fantasy,Horror | 8.7 | 870577 | 8.3 | 15678 |\n",
       "| tt6020792 | tt4574334 | 2 | 2 | tvSeries | Stranger Things | Stranger Things | 0 | 2016 | NA | 51 | Drama,Fantasy,Horror | tvEpisode | Chapter Two: Trick or Treat, Freak               | Chapter Two: Trick or Treat, Freak               | 0 | 2017 | NA | 56 | Drama,Fantasy,Horror | 8.7 | 870577 | 8.4 | 14554 |\n",
       "| tt6020810 | tt4574334 | 2 | 7 | tvSeries | Stranger Things | Stranger Things | 0 | 2016 | NA | 51 | Drama,Fantasy,Horror | tvEpisode | Chapter Seven: The Lost Sister                   | Chapter Seven: The Lost Sister                   | 0 | 2017 | NA | 45 | Drama,Fantasy,Horror | 8.7 | 870577 | 6.1 | 22503 |\n",
       "| tt7445494 | tt4574334 | 3 | 1 | tvSeries | Stranger Things | Stranger Things | 0 | 2016 | NA | 51 | Drama,Fantasy,Horror | tvEpisode | Chapter One: Suzie, Do You Copy?                 | Chapter One: Suzie, Do You Copy?                 | 0 | 2019 | NA | 50 | Drama,Fantasy,Horror | 8.7 | 870577 | 7.9 | 16701 |\n",
       "| tt7640050 | tt4574334 | 3 | 2 | tvSeries | Stranger Things | Stranger Things | 0 | 2016 | NA | 51 | Drama,Fantasy,Horror | tvEpisode | Chapter Two: The Mall Rats                       | Chapter Two: The Mall Rats                       | 0 | 2019 | NA | 50 | Drama,Fantasy,Horror | 8.7 | 870577 | 8.0 | 14982 |\n",
       "| tt7911866 | tt4574334 | 3 | 3 | tvSeries | Stranger Things | Stranger Things | 0 | 2016 | NA | 51 | Drama,Fantasy,Horror | tvEpisode | Chapter Three: The Case of the Missing Lifeguard | Chapter Three: The Case of the Missing Lifeguard | 0 | 2019 | NA | 49 | Drama,Fantasy,Horror | 8.7 | 870577 | 8.4 | 14470 |\n",
       "\n"
      ],
      "text/plain": [
       "  episode_title_id show_title_id season_number episode_number type.x  \n",
       "1 tt6020684        tt4574334     2             1              tvSeries\n",
       "2 tt6020792        tt4574334     2             2              tvSeries\n",
       "3 tt6020810        tt4574334     2             7              tvSeries\n",
       "4 tt7445494        tt4574334     3             1              tvSeries\n",
       "5 tt7640050        tt4574334     3             2              tvSeries\n",
       "6 tt7911866        tt4574334     3             3              tvSeries\n",
       "  primary_title.x original_title.x is_adult.x premiered.x ended.x\n",
       "1 Stranger Things Stranger Things  0          2016        NA     \n",
       "2 Stranger Things Stranger Things  0          2016        NA     \n",
       "3 Stranger Things Stranger Things  0          2016        NA     \n",
       "4 Stranger Things Stranger Things  0          2016        NA     \n",
       "5 Stranger Things Stranger Things  0          2016        NA     \n",
       "6 Stranger Things Stranger Things  0          2016        NA     \n",
       "  runtime_minutes.x genres.x             type.y   \n",
       "1 51                Drama,Fantasy,Horror tvEpisode\n",
       "2 51                Drama,Fantasy,Horror tvEpisode\n",
       "3 51                Drama,Fantasy,Horror tvEpisode\n",
       "4 51                Drama,Fantasy,Horror tvEpisode\n",
       "5 51                Drama,Fantasy,Horror tvEpisode\n",
       "6 51                Drama,Fantasy,Horror tvEpisode\n",
       "  primary_title.y                                 \n",
       "1 Chapter One: MADMAX                             \n",
       "2 Chapter Two: Trick or Treat, Freak              \n",
       "3 Chapter Seven: The Lost Sister                  \n",
       "4 Chapter One: Suzie, Do You Copy?                \n",
       "5 Chapter Two: The Mall Rats                      \n",
       "6 Chapter Three: The Case of the Missing Lifeguard\n",
       "  original_title.y                                 is_adult.y premiered.y\n",
       "1 Chapter One: MADMAX                              0          2017       \n",
       "2 Chapter Two: Trick or Treat, Freak               0          2017       \n",
       "3 Chapter Seven: The Lost Sister                   0          2017       \n",
       "4 Chapter One: Suzie, Do You Copy?                 0          2019       \n",
       "5 Chapter Two: The Mall Rats                       0          2019       \n",
       "6 Chapter Three: The Case of the Missing Lifeguard 0          2019       \n",
       "  ended.y runtime_minutes.y genres.y             rating.x votes.x rating.y\n",
       "1 NA      48                Drama,Fantasy,Horror 8.7      870577  8.3     \n",
       "2 NA      56                Drama,Fantasy,Horror 8.7      870577  8.4     \n",
       "3 NA      45                Drama,Fantasy,Horror 8.7      870577  6.1     \n",
       "4 NA      50                Drama,Fantasy,Horror 8.7      870577  7.9     \n",
       "5 NA      50                Drama,Fantasy,Horror 8.7      870577  8.0     \n",
       "6 NA      49                Drama,Fantasy,Horror 8.7      870577  8.4     \n",
       "  votes.y\n",
       "1 15678  \n",
       "2 14554  \n",
       "3 22503  \n",
       "4 16701  \n",
       "5 14982  \n",
       "6 14470  "
      ]
     },
     "metadata": {},
     "output_type": "display_data"
    }
   ],
   "source": [
    " season_number <- 3\n",
    "subset(StrangerThingsMergeDF, (season_number == season_number) & (rating.y < 8.5))"
   ]
  },
  {
   "cell_type": "markdown",
   "id": "9fbf00fb-2418-460f-ae94-2a32b0c28952",
   "metadata": {},
   "source": [
    "I think one thing that makes them give different results is because a subset seems to normally use more data or a group of data sets compared to regular indexing which access an individual element from a data structure. One thing I saw is that for the subset it gives me 6 different rows compared to my regular index which gives me only 3.  "
   ]
  }
 ],
 "metadata": {
  "kernelspec": {
   "display_name": "seminar-r",
   "language": "R",
   "name": "seminar-r"
  },
  "language_info": {
   "codemirror_mode": "r",
   "file_extension": ".r",
   "mimetype": "text/x-r-source",
   "name": "R",
   "pygments_lexer": "r",
   "version": "4.3.1"
  }
 },
 "nbformat": 4,
 "nbformat_minor": 5
}
