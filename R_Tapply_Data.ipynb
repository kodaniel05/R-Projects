{
 "cells": [
  {
   "cell_type": "markdown",
   "id": "a1228853-dd19-4ab2-89e0-0394d7d72de3",
   "metadata": {},
   "source": [
    "## Learning Objectives\n",
    "\n",
    "explain and demonstrate how R handles missing data: NA, NaN, NULL\n",
    "\n",
    "demonstrate the ability to use functions such as mean, var, table, cut, paste, rep, seq, sort, order, length, unique to solve data-driven problems\n",
    "\n",
    "read and write basic .csv data\n",
    "\n",
    "explain and demonstrate positional, named, and logical indexing\n",
    "\n",
    "list the differences between lists, vectors, factors, and data.frames, and when to use each\n"
   ]
  },
  {
   "cell_type": "code",
   "execution_count": 44,
   "id": "2ba7e4a0-ecbb-4eee-a877-5ad021dd1081",
   "metadata": {
    "vscode": {
     "languageId": "r"
    }
   },
   "outputs": [],
   "source": [
    "myDF <- read.csv(\"/anvil/projects/tdm/data/olympics/athlete_events.csv\", stringsAsFactors=TRUE)"
   ]
  },
  {
   "cell_type": "code",
   "execution_count": 2,
   "id": "646480b6-0910-4b42-b087-05c67a116dcc",
   "metadata": {
    "vscode": {
     "languageId": "r"
    }
   },
   "outputs": [
    {
     "name": "stdout",
     "output_type": "stream",
     "text": [
      "'data.frame':\t271116 obs. of  15 variables:\n",
      " $ ID    : int  1 2 3 4 5 5 5 5 5 5 ...\n",
      " $ Name  : Factor w/ 134732 levels \"  Gabrielle Marie \\\"Gabby\\\" Adcock (White-)\",..: 8 9 44095 29259 21426 21426 21426 21426 21426 21426 ...\n",
      " $ Sex   : Factor w/ 2 levels \"F\",\"M\": 2 2 2 2 1 1 1 1 1 1 ...\n",
      " $ Age   : int  24 23 24 34 21 21 25 25 27 27 ...\n",
      " $ Height: int  180 170 NA NA 185 185 185 185 185 185 ...\n",
      " $ Weight: num  80 60 NA NA 82 82 82 82 82 82 ...\n",
      " $ Team  : Factor w/ 1184 levels \"30. Februar\",..: 199 199 274 279 705 705 705 705 705 705 ...\n",
      " $ NOC   : Factor w/ 230 levels \"AFG\",\"AHO\",\"ALB\",..: 42 42 56 56 146 146 146 146 146 146 ...\n",
      " $ Games : Factor w/ 51 levels \"1896 Summer\",..: 38 49 7 2 37 37 39 39 40 40 ...\n",
      " $ Year  : int  1992 2012 1920 1900 1988 1988 1992 1992 1994 1994 ...\n",
      " $ Season: Factor w/ 2 levels \"Summer\",\"Winter\": 1 1 1 1 2 2 2 2 2 2 ...\n",
      " $ City  : Factor w/ 42 levels \"Albertville\",..: 6 18 3 27 9 9 1 1 17 17 ...\n",
      " $ Sport : Factor w/ 66 levels \"Aeronautics\",..: 9 33 25 62 54 54 54 54 54 54 ...\n",
      " $ Event : Factor w/ 765 levels \"Aeronautics Mixed Aeronautics\",..: 160 398 349 710 623 619 623 619 623 619 ...\n",
      " $ Medal : Factor w/ 3 levels \"Bronze\",\"Gold\",..: NA NA NA 2 NA NA NA NA NA NA ...\n"
     ]
    }
   ],
   "source": [
    "str(myDF)"
   ]
  },
  {
   "cell_type": "markdown",
   "id": "6180e742-8e39-4698-98ff-5b00c8cf8ea0",
   "metadata": {},
   "source": [
    "## Question 1"
   ]
  },
  {
   "cell_type": "code",
   "execution_count": 4,
   "id": "49445606-d363-41b4-b479-e319a9a84c01",
   "metadata": {
    "vscode": {
     "languageId": "r"
    }
   },
   "outputs": [],
   "source": [
    "# Part A"
   ]
  },
  {
   "cell_type": "code",
   "execution_count": 8,
   "id": "7ca806a6-9898-47cd-b344-afc545ad45b3",
   "metadata": {
    "vscode": {
     "languageId": "r"
    }
   },
   "outputs": [
    {
     "data": {
      "text/plain": [
       "\n",
       "1896 Summer 1900 Summer 1904 Summer 1906 Summer 1908 Summer 1912 Summer \n",
       "        380        1936        1301        1733        3101        4040 \n",
       "1920 Summer 1924 Summer 1924 Winter 1928 Summer 1928 Winter 1932 Summer \n",
       "       4292        5233         460        4992         582        2969 \n",
       "1932 Winter 1936 Summer 1936 Winter 1948 Summer 1948 Winter 1952 Summer \n",
       "        352        6506         895        6405        1075        8270 \n",
       "1952 Winter 1956 Summer 1956 Winter 1960 Summer 1960 Winter 1964 Summer \n",
       "       1088        5127        1307        8119        1116        7702 \n",
       "1964 Winter 1968 Summer 1968 Winter 1972 Summer 1972 Winter 1976 Summer \n",
       "       1778        8588        1891       10304        1655        8641 \n",
       "1976 Winter 1980 Summer 1980 Winter 1984 Summer 1984 Winter 1988 Summer \n",
       "       1861        7191        1746        9454        2134       12037 \n",
       "1988 Winter 1992 Summer 1992 Winter 1994 Winter 1996 Summer 1998 Winter \n",
       "       2639       12977        3436        3160       13780        3605 \n",
       "2000 Summer 2002 Winter 2004 Summer 2006 Winter 2008 Summer 2010 Winter \n",
       "      13821        4109       13443        4382       13602        4402 \n",
       "2012 Summer 2014 Winter 2016 Summer \n",
       "      12920        4891       13688 "
      ]
     },
     "metadata": {},
     "output_type": "display_data"
    }
   ],
   "source": [
    "table(myDF$Games)"
   ]
  },
  {
   "cell_type": "code",
   "execution_count": 27,
   "id": "f5543a51-b68d-4b7a-99b3-8d9a00b452df",
   "metadata": {
    "vscode": {
     "languageId": "r"
    }
   },
   "outputs": [],
   "source": [
    "# Part B"
   ]
  },
  {
   "cell_type": "code",
   "execution_count": 17,
   "id": "8a8596e3-04a9-4650-b20a-96e1576943e5",
   "metadata": {
    "vscode": {
     "languageId": "r"
    }
   },
   "outputs": [],
   "source": [
    "athletes_1980 <- table(myDF$NOC[myDF$Year == 1980])"
   ]
  },
  {
   "cell_type": "code",
   "execution_count": 26,
   "id": "fd150bd7-032f-47fd-990e-d89740394ebe",
   "metadata": {
    "vscode": {
     "languageId": "r"
    }
   },
   "outputs": [
    {
     "data": {
      "text/plain": [
       "\n",
       "AFG AHO ALB ALG AND ANG ANT ANZ ARG ARM ARU ASA AUS AUT AZE BAH BAN BAR BDI BEL \n",
       " 11   0   0  63  11  17   0   0  26   0   0   0 209 158   0   0   0   0   0  90 \n",
       "BEN BER BHU BIH BIZ BLR BOH BOL BOT BRA BRN BRU BUL BUR CAF CAM CAN CAY CGO CHA \n",
       " 17   0   0   0   0   0   0   8   8 149   0   0 413   0   0   0  86   0  25   0 \n",
       "CHI CHN CIV CMR COD COK COL COM CPV CRC CRO CRT CUB CYP CZE DEN DJI DMA DOM ECU \n",
       "  0  38   0  29   0   0  28   0   0  40   0   0 288  21   0  60   0   0   7  16 \n",
       "EGY ERI ESA ESP EST ETH EUN FIJ FIN FRA FRG FSM GAB GAM GBR GBS GDR GEO GEQ GER \n",
       "  0   0   0 226   0  48   0   0 210 244 118   0   0   0 404   0 582   0   0   0 \n",
       "GHA GRE GRN GUA GUI GUM GUY HAI HKG HON HUN INA IND IOA IRI IRL IRQ ISL ISR ISV \n",
       "  0  51   0  10  10   0  10   0   0   0 394   0  78   0   0  57  44  24   0   0 \n",
       "ITA IVB JAM JOR JPN KAZ KEN KGZ KIR KOR KOS KSA KUW LAO LAT LBA LBR LCA LES LIB \n",
       "277   0  32   6  80   0   0   0   0  24   0   0  67  19   0  38   0   0   7  26 \n",
       "LIE LTU LUX MAD MAL MAR MAS MAW MDA MDV MEX MGL MHL MKD MLI MLT MNE MON MOZ MRI \n",
       " 17   0   4  18   0   0   0   0   0   0  74  67   0   0   7  12   0   0  16   0 \n",
       "MTN MYA NAM NBO NCA NED NEP NFL NGR NIG NOR NRU NZL OMA PAK PAN PAR PER PHI PLE \n",
       "  0   2   0   0   6 159  10   0  56   0 100   0  18   0   0   0   0  38   0   0 \n",
       "PLW PNG POL POR PRK PUR QAT RHO ROT ROU RSA RUS RWA SAA SAM SCG SEN SEY SGP SKN \n",
       "  0   0 457  18 121   3   0   0   0 381   0   0   0   0   0   0  39  21   0   0 \n",
       "SLE SLO SMR SOL SOM SRB SRI SSD STP SUD SUI SUR SVK SWE SWZ SYR TAN TCH TGA THA \n",
       " 32   0  16   0   0   0   4   0   0   0 159   0   0 310   0  71  48 391   0   0 \n",
       "TJK TKM TLS TOG TPE TTO TUN TUR TUV UAE UAR UGA UKR UNK URS URU USA UZB VAN VEN \n",
       "  0   0   0   0   0  15   0   0   0   0   0  16   0   0 789   0 155   0   0  43 \n",
       "VIE VIN VNM WIF YAR YEM YMD YUG ZAM ZIM \n",
       " 38   0   0   0   0   0   0 207  43  52 "
      ]
     },
     "metadata": {},
     "output_type": "display_data"
    }
   ],
   "source": [
    "athletes_1980"
   ]
  },
  {
   "cell_type": "code",
   "execution_count": 29,
   "id": "2678c0bd-c777-4fcf-9f21-e4c2d6d310c4",
   "metadata": {
    "vscode": {
     "languageId": "r"
    }
   },
   "outputs": [],
   "source": [
    "# Part C"
   ]
  },
  {
   "cell_type": "code",
   "execution_count": 31,
   "id": "ba24069d-05b4-4a6f-817b-3b25e6b1db76",
   "metadata": {
    "vscode": {
     "languageId": "r"
    }
   },
   "outputs": [],
   "source": [
    "Duplicate_Athletes <- unique(myDF$Name[duplicated(myDF$Name)])"
   ]
  },
  {
   "cell_type": "code",
   "execution_count": 32,
   "id": "e13d5b97-508f-4d50-a50b-5222f3efe7bb",
   "metadata": {
    "vscode": {
     "languageId": "r"
    }
   },
   "outputs": [
    {
     "data": {
      "text/html": [
       "<style>\n",
       ".list-inline {list-style: none; margin:0; padding: 0}\n",
       ".list-inline>li {display: inline-block}\n",
       ".list-inline>li:not(:last-child)::after {content: \"\\00b7\"; padding: 0 .5ex}\n",
       "</style>\n",
       "<ol class=list-inline><li>271116</li><li>15</li></ol>\n"
      ],
      "text/latex": [
       "\\begin{enumerate*}\n",
       "\\item 271116\n",
       "\\item 15\n",
       "\\end{enumerate*}\n"
      ],
      "text/markdown": [
       "1. 271116\n",
       "2. 15\n",
       "\n",
       "\n"
      ],
      "text/plain": [
       "[1] 271116     15"
      ]
     },
     "metadata": {},
     "output_type": "display_data"
    }
   ],
   "source": [
    "dim(myDF)"
   ]
  },
  {
   "cell_type": "code",
   "execution_count": 34,
   "id": "709dcbcf-636b-46e1-bc92-d74f03084b57",
   "metadata": {
    "vscode": {
     "languageId": "r"
    }
   },
   "outputs": [],
   "source": [
    "myNewDF <- subset(myDF, Name %in% Duplicate_Athletes)"
   ]
  },
  {
   "cell_type": "code",
   "execution_count": 35,
   "id": "19d447ec-f004-464a-a02e-e3beaf1dc950",
   "metadata": {
    "vscode": {
     "languageId": "r"
    }
   },
   "outputs": [
    {
     "data": {
      "text/html": [
       "<style>\n",
       ".list-inline {list-style: none; margin:0; padding: 0}\n",
       ".list-inline>li {display: inline-block}\n",
       ".list-inline>li:not(:last-child)::after {content: \"\\00b7\"; padding: 0 .5ex}\n",
       "</style>\n",
       "<ol class=list-inline><li>194107</li><li>15</li></ol>\n"
      ],
      "text/latex": [
       "\\begin{enumerate*}\n",
       "\\item 194107\n",
       "\\item 15\n",
       "\\end{enumerate*}\n"
      ],
      "text/markdown": [
       "1. 194107\n",
       "2. 15\n",
       "\n",
       "\n"
      ],
      "text/plain": [
       "[1] 194107     15"
      ]
     },
     "metadata": {},
     "output_type": "display_data"
    }
   ],
   "source": [
    "dim(myNewDF)"
   ]
  },
  {
   "cell_type": "markdown",
   "id": "fc601975-35ed-4680-a4e1-0273ee3cc047",
   "metadata": {},
   "source": [
    "## Question 2"
   ]
  },
  {
   "cell_type": "code",
   "execution_count": 37,
   "id": "a16336a1-1ef0-41e8-bc7c-49387db27497",
   "metadata": {
    "vscode": {
     "languageId": "r"
    }
   },
   "outputs": [],
   "source": [
    "# Part A"
   ]
  },
  {
   "cell_type": "code",
   "execution_count": 40,
   "id": "ce118f27-8030-45ed-bb6c-02762b5da828",
   "metadata": {
    "vscode": {
     "languageId": "r"
    }
   },
   "outputs": [
    {
     "data": {
      "text/html": [
       "<style>\n",
       ".dl-inline {width: auto; margin:0; padding: 0}\n",
       ".dl-inline>dt, .dl-inline>dd {float: none; width: auto; display: inline-block}\n",
       ".dl-inline>dt::after {content: \":\\0020\"; padding-right: .5ex}\n",
       ".dl-inline>dt:not(:first-of-type) {padding-left: .5ex}\n",
       "</style><dl class=dl-inline><dt>AFG</dt><dd>23.5384615384615</dd><dt>AHO</dt><dd>26.5897435897436</dd><dt>ALB</dt><dd>25.3428571428571</dd><dt>ALG</dt><dd>24.3706422018349</dd><dt>AND</dt><dd>23.0650887573964</dd><dt>ANG</dt><dd>24.9101123595506</dd><dt>ANT</dt><dd>23.2272727272727</dd><dt>ANZ</dt><dd>24.2469135802469</dd><dt>ARG</dt><dd>25.8976865428478</dd><dt>ARM</dt><dd>24.606334841629</dd><dt>ARU</dt><dd>24.8571428571429</dd><dt>ASA</dt><dd>27.2162162162162</dd><dt>AUS</dt><dd>24.9414109206855</dd><dt>AUT</dt><dd>26.959855479727</dd><dt>AZE</dt><dd>25.4275618374558</dd><dt>BAH</dt><dd>26.3609625668449</dd><dt>BAN</dt><dd>22.6363636363636</dd><dt>BAR</dt><dd>23.6958525345622</dd><dt>BDI</dt><dd>24.4358974358974</dd><dt>BEL</dt><dd>27.0315985130112</dd><dt>BEN</dt><dd>25.2413793103448</dd><dt>BER</dt><dd>26.4829268292683</dd><dt>BHU</dt><dd>25.9722222222222</dd><dt>BIH</dt><dd>25.7238805970149</dd><dt>BIZ</dt><dd>25.9866666666667</dd><dt>BLR</dt><dd>25.7493005036374</dd><dt>BOH</dt><dd>25.2612612612613</dd><dt>BOL</dt><dd>25.9602649006623</dd><dt>BOT</dt><dd>24.8651685393258</dd><dt>BRA</dt><dd>25.6061246040127</dd><dt>BRN</dt><dd>23.8378378378378</dd><dt>BRU</dt><dd>22.3</dd><dt>BUL</dt><dd>24.1917336394948</dd><dt>BUR</dt><dd>24.3658536585366</dd><dt>CAF</dt><dd>24.2424242424242</dd><dt>CAM</dt><dd>23.3559322033898</dd><dt>CAN</dt><dd>25.0932354483482</dd><dt>CAY</dt><dd>24.5555555555556</dd><dt>CGO</dt><dd>24.4137931034483</dd><dt>CHA</dt><dd>23.225</dd><dt>CHI</dt><dd>25.8442330558859</dd><dt>CHN</dt><dd>23.000977326036</dd><dt>CIV</dt><dd>24.2429378531073</dd><dt>CMR</dt><dd>24.3222591362126</dd><dt>COD</dt><dd>23.989247311828</dd><dt>COK</dt><dd>22.85</dd><dt>COL</dt><dd>24.9727626459144</dd><dt>COM</dt><dd>22.2105263157895</dd><dt>CPV</dt><dd>25.8333333333333</dd><dt>CRC</dt><dd>25.6168582375479</dd><dt>CRO</dt><dd>25.1837899543379</dd><dt>CRT</dt><dd>NaN</dd><dt>CUB</dt><dd>24.3911633563032</dd><dt>CYP</dt><dd>24.1911111111111</dd><dt>CZE</dt><dd>25.9701173959445</dd><dt>DEN</dt><dd>27.3514879281303</dd><dt>DJI</dt><dd>24.5</dd><dt>DMA</dt><dd>25.6315789473684</dd><dt>DOM</dt><dd>24.4236641221374</dd><dt>ECU</dt><dd>25.0110294117647</dd><dt>EGY</dt><dd>24.7473156764495</dd><dt>ERI</dt><dd>24.6744186046512</dd><dt>ESA</dt><dd>23.1619047619048</dd><dt>ESP</dt><dd>25.25</dd><dt>EST</dt><dd>25.5547945205479</dd><dt>ETH</dt><dd>24.3472222222222</dd><dt>EUN</dt><dd>24.2229965156794</dd><dt>FIJ</dt><dd>24.5173913043478</dd><dt>FIN</dt><dd>26.5810464690816</dd><dt>FRA</dt><dd>26.7958629152424</dd><dt>FRG</dt><dd>24.4401206636501</dd><dt>FSM</dt><dd>23.8461538461538</dd><dt>GAB</dt><dd>24.2698412698413</dd><dt>GAM</dt><dd>23.2692307692308</dd><dt>GBR</dt><dd>26.9254912189184</dd><dt>GBS</dt><dd>25.8095238095238</dd><dt>GDR</dt><dd>23.1266540642722</dd><dt>GEO</dt><dd>25.2797202797203</dd><dt>GEQ</dt><dd>22.925</dd><dt>GER</dt><dd>26.8236512374443</dd><dt>GHA</dt><dd>23.5564971751412</dd><dt>GRE</dt><dd>25.4914027149321</dd><dt>GRN</dt><dd>22.84</dd><dt>GUA</dt><dd>24.0355450236967</dd><dt>GUI</dt><dd>23.4081632653061</dd><dt>GUM</dt><dd>24.0909090909091</dd><dt>GUY</dt><dd>23.5978260869565</dd><dt>HAI</dt><dd>25.0112359550562</dd><dt>HKG</dt><dd>24.5036603221083</dd><dt>HON</dt><dd>22.2823529411765</dd><dt>HUN</dt><dd>25.3590775421761</dd><dt>INA</dt><dd>24.2688442211055</dd><dt>IND</dt><dd>25.5476947535771</dd><dt>IOA</dt><dd>25.0744680851064</dd><dt>IRI</dt><dd>25.5062068965517</dd><dt>IRL</dt><dd>27.4737274220033</dd><dt>IRQ</dt><dd>24.3101265822785</dd><dt>ISL</dt><dd>23.7687400318979</dd><dt>ISR</dt><dd>24.1818181818182</dd><dt>ISV</dt><dd>27.3367697594502</dd><dt>ITA</dt><dd>25.8770467977909</dd><dt>IVB</dt><dd>26.2</dd><dt>JAM</dt><dd>24.423305588585</dd><dt>JOR</dt><dd>24.4303797468354</dd><dt>JPN</dt><dd>24.4765221568392</dd><dt>KAZ</dt><dd>25.4093771868439</dd><dt>KEN</dt><dd>25.6612244897959</dd><dt>KGZ</dt><dd>24.3083700440529</dd><dt>KIR</dt><dd>21.6363636363636</dd><dt>KOR</dt><dd>23.1024943310658</dd><dt>KOS</dt><dd>23.875</dd><dt>KSA</dt><dd>24.5023696682464</dd><dt>KUW</dt><dd>22.6254980079681</dd><dt>LAO</dt><dd>21.5740740740741</dd><dt>LAT</dt><dd>26.6590909090909</dd><dt>LBA</dt><dd>23.5</dd><dt>LBR</dt><dd>22.8333333333333</dd><dt>LCA</dt><dd>23.9285714285714</dd><dt>LES</dt><dd>24.9090909090909</dd><dt>LIB</dt><dd>24.4206642066421</dd><dt>LIE</dt><dd>23.2798913043478</dd><dt>LTU</dt><dd>25.5241057542768</dd><dt>LUX</dt><dd>26.4493346980553</dd><dt>MAD</dt><dd>23.7203389830508</dd><dt>MAL</dt><dd>23.0909090909091</dd><dt>MAR</dt><dd>25.5714285714286</dd><dt>MAS</dt><dd>23.5492424242424</dd><dt>MAW</dt><dd>24.1724137931034</dd><dt>MDA</dt><dd>25.542735042735</dd><dt>MDV</dt><dd>20.9183673469388</dd><dt>MEX</dt><dd>24.5327102803738</dd><dt>MGL</dt><dd>24.7536496350365</dd><dt>MHL</dt><dd>20.2857142857143</dd><dt>MKD</dt><dd>22.297619047619</dd><dt>MLI</dt><dd>23.7159090909091</dd><dt>MLT</dt><dd>25.0964912280702</dd><dt>MNE</dt><dd>27.0744680851064</dd><dt>MON</dt><dd>30.0471204188482</dd><dt>MOZ</dt><dd>23.1940298507463</dd><dt>MRI</dt><dd>23.3333333333333</dd><dt>MTN</dt><dd>24.8928571428571</dd><dt>MYA</dt><dd>25.8252427184466</dd><dt>NAM</dt><dd>27.8571428571429</dd><dt>NBO</dt><dd>22.5</dd><dt>NCA</dt><dd>23.6280991735537</dd><dt>NED</dt><dd>26.6338704148097</dd><dt>NEP</dt><dd>25.4782608695652</dd><dt>NFL</dt><dd>21</dd><dt>NGR</dt><dd>23.9600912200684</dd><dt>NIG</dt><dd>21.8928571428571</dd><dt>NOR</dt><dd>26.7965725806452</dd><dt>NRU</dt><dd>23.4615384615385</dd><dt>NZL</dt><dd>25.66780529462</dd><dt>OMA</dt><dd>25.1896551724138</dd><dt>PAK</dt><dd>25.1805825242718</dd><dt>PAN</dt><dd>24.1029411764706</dd><dt>PAR</dt><dd>24.0222222222222</dd><dt>PER</dt><dd>24.5278884462151</dd><dt>PHI</dt><dd>24.7883096366509</dd><dt>PLE</dt><dd>24</dd><dt>PLW</dt><dd>22.68</dd><dt>PNG</dt><dd>23.9528301886792</dd><dt>POL</dt><dd>25.6837938277589</dd><dt>POR</dt><dd>27.0394289598912</dd><dt>PRK</dt><dd>22.0993788819876</dd><dt>PUR</dt><dd>24.6868905742145</dd><dt>QAT</dt><dd>23.4514285714286</dd><dt>RHO</dt><dd>25.5</dd><dt>ROT</dt><dd>23.9166666666667</dd><dt>ROU</dt><dd>24.1621120889301</dd><dt>RSA</dt><dd>25.5612745098039</dd><dt>RUS</dt><dd>25.4934885556433</dd><dt>RWA</dt><dd>24.2692307692308</dd><dt>SAA</dt><dd>25.0645161290323</dd><dt>SAM</dt><dd>25.7460317460317</dd><dt>SCG</dt><dd>25.411214953271</dd><dt>SEN</dt><dd>25.843085106383</dd><dt>SEY</dt><dd>22.6486486486486</dd><dt>SGP</dt><dd>23.3204747774481</dd><dt>SKN</dt><dd>24.9761904761905</dd><dt>SLE</dt><dd>22.4414414414414</dd><dt>SLO</dt><dd>25.3060306030603</dd><dt>SMR</dt><dd>25.7845303867403</dd><dt>SOL</dt><dd>23.9615384615385</dd><dt>SOM</dt><dd>22</dd><dt>SRB</dt><dd>26.4132653061224</dd><dt>SRI</dt><dd>25.7785714285714</dd><dt>SSD</dt><dd>24</dd><dt>STP</dt><dd>22.2</dd><dt>SUD</dt><dd>23.8983050847458</dd><dt>SUI</dt><dd>26.7423355149845</dd><dt>SUR</dt><dd>21.6716417910448</dd><dt>SVK</dt><dd>26.0758293838863</dd><dt>SWE</dt><dd>26.824214062875</dd><dt>SWZ</dt><dd>24.1492537313433</dd><dt>SYR</dt><dd>24.7012987012987</dd><dt>TAN</dt><dd>24.9060402684564</dd><dt>TCH</dt><dd>25.3422947671627</dd><dt>TGA</dt><dd>24.3260869565217</dd><dt>THA</dt><dd>25.0716292134831</dd><dt>TJK</dt><dd>26.5571428571429</dd><dt>TKM</dt><dd>23.8703703703704</dd><dt>TLS</dt><dd>24.7777777777778</dd><dt>TOG</dt><dd>23.3333333333333</dd><dt>TPE</dt><dd>23.4157407407407</dd><dt>TTO</dt><dd>24.6916890080429</dd><dt>TUN</dt><dd>24.4321428571429</dd><dt>TUR</dt><dd>24.7579831932773</dd><dt>TUV</dt><dd>20.1428571428571</dd><dt>UAE</dt><dd>23.6238532110092</dd><dt>UAR</dt><dd>25.6964285714286</dd><dt>UGA</dt><dd>23.7936507936508</dd><dt>UKR</dt><dd>25.0539273153576</dd><dt>UNK</dt><dd>NaN</dd><dt>URS</dt><dd>24.8717488789238</dd><dt>URU</dt><dd>25.1948529411765</dd><dt>USA</dt><dd>26.050606305578</dd><dt>UZB</dt><dd>24.3979797979798</dd><dt>VAN</dt><dd>24.0571428571429</dd><dt>VEN</dt><dd>24.7314410480349</dd><dt>VIE</dt><dd>24.1623376623377</dd><dt>VIN</dt><dd>21.547619047619</dd><dt>VNM</dt><dd>26.64</dd><dt>WIF</dt><dd>26.2</dd><dt>YAR</dt><dd>22.1818181818182</dd><dt>YEM</dt><dd>21.09375</dd><dt>YMD</dt><dd>23.6</dd><dt>YUG</dt><dd>24.7457212713936</dd><dt>ZAM</dt><dd>23.461038961039</dd><dt>ZIM</dt><dd>25.2006472491909</dd></dl>\n"
      ],
      "text/latex": [
       "\\begin{description*}\n",
       "\\item[AFG] 23.5384615384615\n",
       "\\item[AHO] 26.5897435897436\n",
       "\\item[ALB] 25.3428571428571\n",
       "\\item[ALG] 24.3706422018349\n",
       "\\item[AND] 23.0650887573964\n",
       "\\item[ANG] 24.9101123595506\n",
       "\\item[ANT] 23.2272727272727\n",
       "\\item[ANZ] 24.2469135802469\n",
       "\\item[ARG] 25.8976865428478\n",
       "\\item[ARM] 24.606334841629\n",
       "\\item[ARU] 24.8571428571429\n",
       "\\item[ASA] 27.2162162162162\n",
       "\\item[AUS] 24.9414109206855\n",
       "\\item[AUT] 26.959855479727\n",
       "\\item[AZE] 25.4275618374558\n",
       "\\item[BAH] 26.3609625668449\n",
       "\\item[BAN] 22.6363636363636\n",
       "\\item[BAR] 23.6958525345622\n",
       "\\item[BDI] 24.4358974358974\n",
       "\\item[BEL] 27.0315985130112\n",
       "\\item[BEN] 25.2413793103448\n",
       "\\item[BER] 26.4829268292683\n",
       "\\item[BHU] 25.9722222222222\n",
       "\\item[BIH] 25.7238805970149\n",
       "\\item[BIZ] 25.9866666666667\n",
       "\\item[BLR] 25.7493005036374\n",
       "\\item[BOH] 25.2612612612613\n",
       "\\item[BOL] 25.9602649006623\n",
       "\\item[BOT] 24.8651685393258\n",
       "\\item[BRA] 25.6061246040127\n",
       "\\item[BRN] 23.8378378378378\n",
       "\\item[BRU] 22.3\n",
       "\\item[BUL] 24.1917336394948\n",
       "\\item[BUR] 24.3658536585366\n",
       "\\item[CAF] 24.2424242424242\n",
       "\\item[CAM] 23.3559322033898\n",
       "\\item[CAN] 25.0932354483482\n",
       "\\item[CAY] 24.5555555555556\n",
       "\\item[CGO] 24.4137931034483\n",
       "\\item[CHA] 23.225\n",
       "\\item[CHI] 25.8442330558859\n",
       "\\item[CHN] 23.000977326036\n",
       "\\item[CIV] 24.2429378531073\n",
       "\\item[CMR] 24.3222591362126\n",
       "\\item[COD] 23.989247311828\n",
       "\\item[COK] 22.85\n",
       "\\item[COL] 24.9727626459144\n",
       "\\item[COM] 22.2105263157895\n",
       "\\item[CPV] 25.8333333333333\n",
       "\\item[CRC] 25.6168582375479\n",
       "\\item[CRO] 25.1837899543379\n",
       "\\item[CRT] NaN\n",
       "\\item[CUB] 24.3911633563032\n",
       "\\item[CYP] 24.1911111111111\n",
       "\\item[CZE] 25.9701173959445\n",
       "\\item[DEN] 27.3514879281303\n",
       "\\item[DJI] 24.5\n",
       "\\item[DMA] 25.6315789473684\n",
       "\\item[DOM] 24.4236641221374\n",
       "\\item[ECU] 25.0110294117647\n",
       "\\item[EGY] 24.7473156764495\n",
       "\\item[ERI] 24.6744186046512\n",
       "\\item[ESA] 23.1619047619048\n",
       "\\item[ESP] 25.25\n",
       "\\item[EST] 25.5547945205479\n",
       "\\item[ETH] 24.3472222222222\n",
       "\\item[EUN] 24.2229965156794\n",
       "\\item[FIJ] 24.5173913043478\n",
       "\\item[FIN] 26.5810464690816\n",
       "\\item[FRA] 26.7958629152424\n",
       "\\item[FRG] 24.4401206636501\n",
       "\\item[FSM] 23.8461538461538\n",
       "\\item[GAB] 24.2698412698413\n",
       "\\item[GAM] 23.2692307692308\n",
       "\\item[GBR] 26.9254912189184\n",
       "\\item[GBS] 25.8095238095238\n",
       "\\item[GDR] 23.1266540642722\n",
       "\\item[GEO] 25.2797202797203\n",
       "\\item[GEQ] 22.925\n",
       "\\item[GER] 26.8236512374443\n",
       "\\item[GHA] 23.5564971751412\n",
       "\\item[GRE] 25.4914027149321\n",
       "\\item[GRN] 22.84\n",
       "\\item[GUA] 24.0355450236967\n",
       "\\item[GUI] 23.4081632653061\n",
       "\\item[GUM] 24.0909090909091\n",
       "\\item[GUY] 23.5978260869565\n",
       "\\item[HAI] 25.0112359550562\n",
       "\\item[HKG] 24.5036603221083\n",
       "\\item[HON] 22.2823529411765\n",
       "\\item[HUN] 25.3590775421761\n",
       "\\item[INA] 24.2688442211055\n",
       "\\item[IND] 25.5476947535771\n",
       "\\item[IOA] 25.0744680851064\n",
       "\\item[IRI] 25.5062068965517\n",
       "\\item[IRL] 27.4737274220033\n",
       "\\item[IRQ] 24.3101265822785\n",
       "\\item[ISL] 23.7687400318979\n",
       "\\item[ISR] 24.1818181818182\n",
       "\\item[ISV] 27.3367697594502\n",
       "\\item[ITA] 25.8770467977909\n",
       "\\item[IVB] 26.2\n",
       "\\item[JAM] 24.423305588585\n",
       "\\item[JOR] 24.4303797468354\n",
       "\\item[JPN] 24.4765221568392\n",
       "\\item[KAZ] 25.4093771868439\n",
       "\\item[KEN] 25.6612244897959\n",
       "\\item[KGZ] 24.3083700440529\n",
       "\\item[KIR] 21.6363636363636\n",
       "\\item[KOR] 23.1024943310658\n",
       "\\item[KOS] 23.875\n",
       "\\item[KSA] 24.5023696682464\n",
       "\\item[KUW] 22.6254980079681\n",
       "\\item[LAO] 21.5740740740741\n",
       "\\item[LAT] 26.6590909090909\n",
       "\\item[LBA] 23.5\n",
       "\\item[LBR] 22.8333333333333\n",
       "\\item[LCA] 23.9285714285714\n",
       "\\item[LES] 24.9090909090909\n",
       "\\item[LIB] 24.4206642066421\n",
       "\\item[LIE] 23.2798913043478\n",
       "\\item[LTU] 25.5241057542768\n",
       "\\item[LUX] 26.4493346980553\n",
       "\\item[MAD] 23.7203389830508\n",
       "\\item[MAL] 23.0909090909091\n",
       "\\item[MAR] 25.5714285714286\n",
       "\\item[MAS] 23.5492424242424\n",
       "\\item[MAW] 24.1724137931034\n",
       "\\item[MDA] 25.542735042735\n",
       "\\item[MDV] 20.9183673469388\n",
       "\\item[MEX] 24.5327102803738\n",
       "\\item[MGL] 24.7536496350365\n",
       "\\item[MHL] 20.2857142857143\n",
       "\\item[MKD] 22.297619047619\n",
       "\\item[MLI] 23.7159090909091\n",
       "\\item[MLT] 25.0964912280702\n",
       "\\item[MNE] 27.0744680851064\n",
       "\\item[MON] 30.0471204188482\n",
       "\\item[MOZ] 23.1940298507463\n",
       "\\item[MRI] 23.3333333333333\n",
       "\\item[MTN] 24.8928571428571\n",
       "\\item[MYA] 25.8252427184466\n",
       "\\item[NAM] 27.8571428571429\n",
       "\\item[NBO] 22.5\n",
       "\\item[NCA] 23.6280991735537\n",
       "\\item[NED] 26.6338704148097\n",
       "\\item[NEP] 25.4782608695652\n",
       "\\item[NFL] 21\n",
       "\\item[NGR] 23.9600912200684\n",
       "\\item[NIG] 21.8928571428571\n",
       "\\item[NOR] 26.7965725806452\n",
       "\\item[NRU] 23.4615384615385\n",
       "\\item[NZL] 25.66780529462\n",
       "\\item[OMA] 25.1896551724138\n",
       "\\item[PAK] 25.1805825242718\n",
       "\\item[PAN] 24.1029411764706\n",
       "\\item[PAR] 24.0222222222222\n",
       "\\item[PER] 24.5278884462151\n",
       "\\item[PHI] 24.7883096366509\n",
       "\\item[PLE] 24\n",
       "\\item[PLW] 22.68\n",
       "\\item[PNG] 23.9528301886792\n",
       "\\item[POL] 25.6837938277589\n",
       "\\item[POR] 27.0394289598912\n",
       "\\item[PRK] 22.0993788819876\n",
       "\\item[PUR] 24.6868905742145\n",
       "\\item[QAT] 23.4514285714286\n",
       "\\item[RHO] 25.5\n",
       "\\item[ROT] 23.9166666666667\n",
       "\\item[ROU] 24.1621120889301\n",
       "\\item[RSA] 25.5612745098039\n",
       "\\item[RUS] 25.4934885556433\n",
       "\\item[RWA] 24.2692307692308\n",
       "\\item[SAA] 25.0645161290323\n",
       "\\item[SAM] 25.7460317460317\n",
       "\\item[SCG] 25.411214953271\n",
       "\\item[SEN] 25.843085106383\n",
       "\\item[SEY] 22.6486486486486\n",
       "\\item[SGP] 23.3204747774481\n",
       "\\item[SKN] 24.9761904761905\n",
       "\\item[SLE] 22.4414414414414\n",
       "\\item[SLO] 25.3060306030603\n",
       "\\item[SMR] 25.7845303867403\n",
       "\\item[SOL] 23.9615384615385\n",
       "\\item[SOM] 22\n",
       "\\item[SRB] 26.4132653061224\n",
       "\\item[SRI] 25.7785714285714\n",
       "\\item[SSD] 24\n",
       "\\item[STP] 22.2\n",
       "\\item[SUD] 23.8983050847458\n",
       "\\item[SUI] 26.7423355149845\n",
       "\\item[SUR] 21.6716417910448\n",
       "\\item[SVK] 26.0758293838863\n",
       "\\item[SWE] 26.824214062875\n",
       "\\item[SWZ] 24.1492537313433\n",
       "\\item[SYR] 24.7012987012987\n",
       "\\item[TAN] 24.9060402684564\n",
       "\\item[TCH] 25.3422947671627\n",
       "\\item[TGA] 24.3260869565217\n",
       "\\item[THA] 25.0716292134831\n",
       "\\item[TJK] 26.5571428571429\n",
       "\\item[TKM] 23.8703703703704\n",
       "\\item[TLS] 24.7777777777778\n",
       "\\item[TOG] 23.3333333333333\n",
       "\\item[TPE] 23.4157407407407\n",
       "\\item[TTO] 24.6916890080429\n",
       "\\item[TUN] 24.4321428571429\n",
       "\\item[TUR] 24.7579831932773\n",
       "\\item[TUV] 20.1428571428571\n",
       "\\item[UAE] 23.6238532110092\n",
       "\\item[UAR] 25.6964285714286\n",
       "\\item[UGA] 23.7936507936508\n",
       "\\item[UKR] 25.0539273153576\n",
       "\\item[UNK] NaN\n",
       "\\item[URS] 24.8717488789238\n",
       "\\item[URU] 25.1948529411765\n",
       "\\item[USA] 26.050606305578\n",
       "\\item[UZB] 24.3979797979798\n",
       "\\item[VAN] 24.0571428571429\n",
       "\\item[VEN] 24.7314410480349\n",
       "\\item[VIE] 24.1623376623377\n",
       "\\item[VIN] 21.547619047619\n",
       "\\item[VNM] 26.64\n",
       "\\item[WIF] 26.2\n",
       "\\item[YAR] 22.1818181818182\n",
       "\\item[YEM] 21.09375\n",
       "\\item[YMD] 23.6\n",
       "\\item[YUG] 24.7457212713936\n",
       "\\item[ZAM] 23.461038961039\n",
       "\\item[ZIM] 25.2006472491909\n",
       "\\end{description*}\n"
      ],
      "text/markdown": [
       "AFG\n",
       ":   23.5384615384615AHO\n",
       ":   26.5897435897436ALB\n",
       ":   25.3428571428571ALG\n",
       ":   24.3706422018349AND\n",
       ":   23.0650887573964ANG\n",
       ":   24.9101123595506ANT\n",
       ":   23.2272727272727ANZ\n",
       ":   24.2469135802469ARG\n",
       ":   25.8976865428478ARM\n",
       ":   24.606334841629ARU\n",
       ":   24.8571428571429ASA\n",
       ":   27.2162162162162AUS\n",
       ":   24.9414109206855AUT\n",
       ":   26.959855479727AZE\n",
       ":   25.4275618374558BAH\n",
       ":   26.3609625668449BAN\n",
       ":   22.6363636363636BAR\n",
       ":   23.6958525345622BDI\n",
       ":   24.4358974358974BEL\n",
       ":   27.0315985130112BEN\n",
       ":   25.2413793103448BER\n",
       ":   26.4829268292683BHU\n",
       ":   25.9722222222222BIH\n",
       ":   25.7238805970149BIZ\n",
       ":   25.9866666666667BLR\n",
       ":   25.7493005036374BOH\n",
       ":   25.2612612612613BOL\n",
       ":   25.9602649006623BOT\n",
       ":   24.8651685393258BRA\n",
       ":   25.6061246040127BRN\n",
       ":   23.8378378378378BRU\n",
       ":   22.3BUL\n",
       ":   24.1917336394948BUR\n",
       ":   24.3658536585366CAF\n",
       ":   24.2424242424242CAM\n",
       ":   23.3559322033898CAN\n",
       ":   25.0932354483482CAY\n",
       ":   24.5555555555556CGO\n",
       ":   24.4137931034483CHA\n",
       ":   23.225CHI\n",
       ":   25.8442330558859CHN\n",
       ":   23.000977326036CIV\n",
       ":   24.2429378531073CMR\n",
       ":   24.3222591362126COD\n",
       ":   23.989247311828COK\n",
       ":   22.85COL\n",
       ":   24.9727626459144COM\n",
       ":   22.2105263157895CPV\n",
       ":   25.8333333333333CRC\n",
       ":   25.6168582375479CRO\n",
       ":   25.1837899543379CRT\n",
       ":   NaNCUB\n",
       ":   24.3911633563032CYP\n",
       ":   24.1911111111111CZE\n",
       ":   25.9701173959445DEN\n",
       ":   27.3514879281303DJI\n",
       ":   24.5DMA\n",
       ":   25.6315789473684DOM\n",
       ":   24.4236641221374ECU\n",
       ":   25.0110294117647EGY\n",
       ":   24.7473156764495ERI\n",
       ":   24.6744186046512ESA\n",
       ":   23.1619047619048ESP\n",
       ":   25.25EST\n",
       ":   25.5547945205479ETH\n",
       ":   24.3472222222222EUN\n",
       ":   24.2229965156794FIJ\n",
       ":   24.5173913043478FIN\n",
       ":   26.5810464690816FRA\n",
       ":   26.7958629152424FRG\n",
       ":   24.4401206636501FSM\n",
       ":   23.8461538461538GAB\n",
       ":   24.2698412698413GAM\n",
       ":   23.2692307692308GBR\n",
       ":   26.9254912189184GBS\n",
       ":   25.8095238095238GDR\n",
       ":   23.1266540642722GEO\n",
       ":   25.2797202797203GEQ\n",
       ":   22.925GER\n",
       ":   26.8236512374443GHA\n",
       ":   23.5564971751412GRE\n",
       ":   25.4914027149321GRN\n",
       ":   22.84GUA\n",
       ":   24.0355450236967GUI\n",
       ":   23.4081632653061GUM\n",
       ":   24.0909090909091GUY\n",
       ":   23.5978260869565HAI\n",
       ":   25.0112359550562HKG\n",
       ":   24.5036603221083HON\n",
       ":   22.2823529411765HUN\n",
       ":   25.3590775421761INA\n",
       ":   24.2688442211055IND\n",
       ":   25.5476947535771IOA\n",
       ":   25.0744680851064IRI\n",
       ":   25.5062068965517IRL\n",
       ":   27.4737274220033IRQ\n",
       ":   24.3101265822785ISL\n",
       ":   23.7687400318979ISR\n",
       ":   24.1818181818182ISV\n",
       ":   27.3367697594502ITA\n",
       ":   25.8770467977909IVB\n",
       ":   26.2JAM\n",
       ":   24.423305588585JOR\n",
       ":   24.4303797468354JPN\n",
       ":   24.4765221568392KAZ\n",
       ":   25.4093771868439KEN\n",
       ":   25.6612244897959KGZ\n",
       ":   24.3083700440529KIR\n",
       ":   21.6363636363636KOR\n",
       ":   23.1024943310658KOS\n",
       ":   23.875KSA\n",
       ":   24.5023696682464KUW\n",
       ":   22.6254980079681LAO\n",
       ":   21.5740740740741LAT\n",
       ":   26.6590909090909LBA\n",
       ":   23.5LBR\n",
       ":   22.8333333333333LCA\n",
       ":   23.9285714285714LES\n",
       ":   24.9090909090909LIB\n",
       ":   24.4206642066421LIE\n",
       ":   23.2798913043478LTU\n",
       ":   25.5241057542768LUX\n",
       ":   26.4493346980553MAD\n",
       ":   23.7203389830508MAL\n",
       ":   23.0909090909091MAR\n",
       ":   25.5714285714286MAS\n",
       ":   23.5492424242424MAW\n",
       ":   24.1724137931034MDA\n",
       ":   25.542735042735MDV\n",
       ":   20.9183673469388MEX\n",
       ":   24.5327102803738MGL\n",
       ":   24.7536496350365MHL\n",
       ":   20.2857142857143MKD\n",
       ":   22.297619047619MLI\n",
       ":   23.7159090909091MLT\n",
       ":   25.0964912280702MNE\n",
       ":   27.0744680851064MON\n",
       ":   30.0471204188482MOZ\n",
       ":   23.1940298507463MRI\n",
       ":   23.3333333333333MTN\n",
       ":   24.8928571428571MYA\n",
       ":   25.8252427184466NAM\n",
       ":   27.8571428571429NBO\n",
       ":   22.5NCA\n",
       ":   23.6280991735537NED\n",
       ":   26.6338704148097NEP\n",
       ":   25.4782608695652NFL\n",
       ":   21NGR\n",
       ":   23.9600912200684NIG\n",
       ":   21.8928571428571NOR\n",
       ":   26.7965725806452NRU\n",
       ":   23.4615384615385NZL\n",
       ":   25.66780529462OMA\n",
       ":   25.1896551724138PAK\n",
       ":   25.1805825242718PAN\n",
       ":   24.1029411764706PAR\n",
       ":   24.0222222222222PER\n",
       ":   24.5278884462151PHI\n",
       ":   24.7883096366509PLE\n",
       ":   24PLW\n",
       ":   22.68PNG\n",
       ":   23.9528301886792POL\n",
       ":   25.6837938277589POR\n",
       ":   27.0394289598912PRK\n",
       ":   22.0993788819876PUR\n",
       ":   24.6868905742145QAT\n",
       ":   23.4514285714286RHO\n",
       ":   25.5ROT\n",
       ":   23.9166666666667ROU\n",
       ":   24.1621120889301RSA\n",
       ":   25.5612745098039RUS\n",
       ":   25.4934885556433RWA\n",
       ":   24.2692307692308SAA\n",
       ":   25.0645161290323SAM\n",
       ":   25.7460317460317SCG\n",
       ":   25.411214953271SEN\n",
       ":   25.843085106383SEY\n",
       ":   22.6486486486486SGP\n",
       ":   23.3204747774481SKN\n",
       ":   24.9761904761905SLE\n",
       ":   22.4414414414414SLO\n",
       ":   25.3060306030603SMR\n",
       ":   25.7845303867403SOL\n",
       ":   23.9615384615385SOM\n",
       ":   22SRB\n",
       ":   26.4132653061224SRI\n",
       ":   25.7785714285714SSD\n",
       ":   24STP\n",
       ":   22.2SUD\n",
       ":   23.8983050847458SUI\n",
       ":   26.7423355149845SUR\n",
       ":   21.6716417910448SVK\n",
       ":   26.0758293838863SWE\n",
       ":   26.824214062875SWZ\n",
       ":   24.1492537313433SYR\n",
       ":   24.7012987012987TAN\n",
       ":   24.9060402684564TCH\n",
       ":   25.3422947671627TGA\n",
       ":   24.3260869565217THA\n",
       ":   25.0716292134831TJK\n",
       ":   26.5571428571429TKM\n",
       ":   23.8703703703704TLS\n",
       ":   24.7777777777778TOG\n",
       ":   23.3333333333333TPE\n",
       ":   23.4157407407407TTO\n",
       ":   24.6916890080429TUN\n",
       ":   24.4321428571429TUR\n",
       ":   24.7579831932773TUV\n",
       ":   20.1428571428571UAE\n",
       ":   23.6238532110092UAR\n",
       ":   25.6964285714286UGA\n",
       ":   23.7936507936508UKR\n",
       ":   25.0539273153576UNK\n",
       ":   NaNURS\n",
       ":   24.8717488789238URU\n",
       ":   25.1948529411765USA\n",
       ":   26.050606305578UZB\n",
       ":   24.3979797979798VAN\n",
       ":   24.0571428571429VEN\n",
       ":   24.7314410480349VIE\n",
       ":   24.1623376623377VIN\n",
       ":   21.547619047619VNM\n",
       ":   26.64WIF\n",
       ":   26.2YAR\n",
       ":   22.1818181818182YEM\n",
       ":   21.09375YMD\n",
       ":   23.6YUG\n",
       ":   24.7457212713936ZAM\n",
       ":   23.461038961039ZIM\n",
       ":   25.2006472491909\n",
       "\n"
      ],
      "text/plain": [
       "     AFG      AHO      ALB      ALG      AND      ANG      ANT      ANZ \n",
       "23.53846 26.58974 25.34286 24.37064 23.06509 24.91011 23.22727 24.24691 \n",
       "     ARG      ARM      ARU      ASA      AUS      AUT      AZE      BAH \n",
       "25.89769 24.60633 24.85714 27.21622 24.94141 26.95986 25.42756 26.36096 \n",
       "     BAN      BAR      BDI      BEL      BEN      BER      BHU      BIH \n",
       "22.63636 23.69585 24.43590 27.03160 25.24138 26.48293 25.97222 25.72388 \n",
       "     BIZ      BLR      BOH      BOL      BOT      BRA      BRN      BRU \n",
       "25.98667 25.74930 25.26126 25.96026 24.86517 25.60612 23.83784 22.30000 \n",
       "     BUL      BUR      CAF      CAM      CAN      CAY      CGO      CHA \n",
       "24.19173 24.36585 24.24242 23.35593 25.09324 24.55556 24.41379 23.22500 \n",
       "     CHI      CHN      CIV      CMR      COD      COK      COL      COM \n",
       "25.84423 23.00098 24.24294 24.32226 23.98925 22.85000 24.97276 22.21053 \n",
       "     CPV      CRC      CRO      CRT      CUB      CYP      CZE      DEN \n",
       "25.83333 25.61686 25.18379      NaN 24.39116 24.19111 25.97012 27.35149 \n",
       "     DJI      DMA      DOM      ECU      EGY      ERI      ESA      ESP \n",
       "24.50000 25.63158 24.42366 25.01103 24.74732 24.67442 23.16190 25.25000 \n",
       "     EST      ETH      EUN      FIJ      FIN      FRA      FRG      FSM \n",
       "25.55479 24.34722 24.22300 24.51739 26.58105 26.79586 24.44012 23.84615 \n",
       "     GAB      GAM      GBR      GBS      GDR      GEO      GEQ      GER \n",
       "24.26984 23.26923 26.92549 25.80952 23.12665 25.27972 22.92500 26.82365 \n",
       "     GHA      GRE      GRN      GUA      GUI      GUM      GUY      HAI \n",
       "23.55650 25.49140 22.84000 24.03555 23.40816 24.09091 23.59783 25.01124 \n",
       "     HKG      HON      HUN      INA      IND      IOA      IRI      IRL \n",
       "24.50366 22.28235 25.35908 24.26884 25.54769 25.07447 25.50621 27.47373 \n",
       "     IRQ      ISL      ISR      ISV      ITA      IVB      JAM      JOR \n",
       "24.31013 23.76874 24.18182 27.33677 25.87705 26.20000 24.42331 24.43038 \n",
       "     JPN      KAZ      KEN      KGZ      KIR      KOR      KOS      KSA \n",
       "24.47652 25.40938 25.66122 24.30837 21.63636 23.10249 23.87500 24.50237 \n",
       "     KUW      LAO      LAT      LBA      LBR      LCA      LES      LIB \n",
       "22.62550 21.57407 26.65909 23.50000 22.83333 23.92857 24.90909 24.42066 \n",
       "     LIE      LTU      LUX      MAD      MAL      MAR      MAS      MAW \n",
       "23.27989 25.52411 26.44933 23.72034 23.09091 25.57143 23.54924 24.17241 \n",
       "     MDA      MDV      MEX      MGL      MHL      MKD      MLI      MLT \n",
       "25.54274 20.91837 24.53271 24.75365 20.28571 22.29762 23.71591 25.09649 \n",
       "     MNE      MON      MOZ      MRI      MTN      MYA      NAM      NBO \n",
       "27.07447 30.04712 23.19403 23.33333 24.89286 25.82524 27.85714 22.50000 \n",
       "     NCA      NED      NEP      NFL      NGR      NIG      NOR      NRU \n",
       "23.62810 26.63387 25.47826 21.00000 23.96009 21.89286 26.79657 23.46154 \n",
       "     NZL      OMA      PAK      PAN      PAR      PER      PHI      PLE \n",
       "25.66781 25.18966 25.18058 24.10294 24.02222 24.52789 24.78831 24.00000 \n",
       "     PLW      PNG      POL      POR      PRK      PUR      QAT      RHO \n",
       "22.68000 23.95283 25.68379 27.03943 22.09938 24.68689 23.45143 25.50000 \n",
       "     ROT      ROU      RSA      RUS      RWA      SAA      SAM      SCG \n",
       "23.91667 24.16211 25.56127 25.49349 24.26923 25.06452 25.74603 25.41121 \n",
       "     SEN      SEY      SGP      SKN      SLE      SLO      SMR      SOL \n",
       "25.84309 22.64865 23.32047 24.97619 22.44144 25.30603 25.78453 23.96154 \n",
       "     SOM      SRB      SRI      SSD      STP      SUD      SUI      SUR \n",
       "22.00000 26.41327 25.77857 24.00000 22.20000 23.89831 26.74234 21.67164 \n",
       "     SVK      SWE      SWZ      SYR      TAN      TCH      TGA      THA \n",
       "26.07583 26.82421 24.14925 24.70130 24.90604 25.34229 24.32609 25.07163 \n",
       "     TJK      TKM      TLS      TOG      TPE      TTO      TUN      TUR \n",
       "26.55714 23.87037 24.77778 23.33333 23.41574 24.69169 24.43214 24.75798 \n",
       "     TUV      UAE      UAR      UGA      UKR      UNK      URS      URU \n",
       "20.14286 23.62385 25.69643 23.79365 25.05393      NaN 24.87175 25.19485 \n",
       "     USA      UZB      VAN      VEN      VIE      VIN      VNM      WIF \n",
       "26.05061 24.39798 24.05714 24.73144 24.16234 21.54762 26.64000 26.20000 \n",
       "     YAR      YEM      YMD      YUG      ZAM      ZIM \n",
       "22.18182 21.09375 23.60000 24.74572 23.46104 25.20065 "
      ]
     },
     "metadata": {},
     "output_type": "display_data"
    }
   ],
   "source": [
    "tapply(myDF$Age, myDF$NOC, mean, na.rm=TRUE)"
   ]
  },
  {
   "cell_type": "code",
   "execution_count": 41,
   "id": "3e75dd47-db75-4d0b-8bab-2cb3e06ec4b0",
   "metadata": {
    "vscode": {
     "languageId": "r"
    }
   },
   "outputs": [],
   "source": [
    "# Part B"
   ]
  },
  {
   "cell_type": "code",
   "execution_count": 48,
   "id": "61648aef-bd09-48bc-a44f-67abd8e6d4b9",
   "metadata": {
    "vscode": {
     "languageId": "r"
    }
   },
   "outputs": [
    {
     "name": "stderr",
     "output_type": "stream",
     "text": [
      "Warning message in FUN(X[[i]], ...):\n",
      "\"no non-missing arguments to max; returning -Inf\"\n",
      "Warning message in FUN(X[[i]], ...):\n",
      "\"no non-missing arguments to max; returning -Inf\"\n",
      "Warning message in FUN(X[[i]], ...):\n",
      "\"no non-missing arguments to max; returning -Inf\"\n",
      "Warning message in FUN(X[[i]], ...):\n",
      "\"no non-missing arguments to max; returning -Inf\"\n",
      "Warning message in FUN(X[[i]], ...):\n",
      "\"no non-missing arguments to max; returning -Inf\"\n",
      "Warning message in FUN(X[[i]], ...):\n",
      "\"no non-missing arguments to max; returning -Inf\"\n",
      "Warning message in FUN(X[[i]], ...):\n",
      "\"no non-missing arguments to max; returning -Inf\"\n"
     ]
    },
    {
     "data": {
      "text/html": [
       "<style>\n",
       ".dl-inline {width: auto; margin:0; padding: 0}\n",
       ".dl-inline>dt, .dl-inline>dd {float: none; width: auto; display: inline-block}\n",
       ".dl-inline>dt::after {content: \":\\0020\"; padding-right: .5ex}\n",
       ".dl-inline>dt:not(:first-of-type) {padding-left: .5ex}\n",
       "</style><dl class=dl-inline><dt>Aeronautics</dt><dd>-Inf</dd><dt>Alpinism</dt><dd>-Inf</dd><dt>Basque Pelota</dt><dd>-Inf</dd><dt>Cricket</dt><dd>-Inf</dd><dt>Croquet</dt><dd>-Inf</dd><dt>Military Ski Patrol</dt><dd>-Inf</dd></dl>\n"
      ],
      "text/latex": [
       "\\begin{description*}\n",
       "\\item[Aeronautics] -Inf\n",
       "\\item[Alpinism] -Inf\n",
       "\\item[Basque Pelota] -Inf\n",
       "\\item[Cricket] -Inf\n",
       "\\item[Croquet] -Inf\n",
       "\\item[Military Ski Patrol] -Inf\n",
       "\\end{description*}\n"
      ],
      "text/markdown": [
       "Aeronautics\n",
       ":   -InfAlpinism\n",
       ":   -InfBasque Pelota\n",
       ":   -InfCricket\n",
       ":   -InfCroquet\n",
       ":   -InfMilitary Ski Patrol\n",
       ":   -Inf\n",
       "\n"
      ],
      "text/plain": [
       "        Aeronautics            Alpinism       Basque Pelota             Cricket \n",
       "               -Inf                -Inf                -Inf                -Inf \n",
       "            Croquet Military Ski Patrol \n",
       "               -Inf                -Inf "
      ]
     },
     "metadata": {},
     "output_type": "display_data"
    }
   ],
   "source": [
    "head(sort(tapply(myDF$Height, myDF$Sport, max, na.rm = TRUE)))\n",
    "#There are no values given even with the first 5 presetned."
   ]
  },
  {
   "cell_type": "markdown",
   "id": "14dc22d4-ddc3-41cc-a91a-cb0025bc0c80",
   "metadata": {},
   "source": [
    "Markdown notes and sentences and analysis written here."
   ]
  },
  {
   "cell_type": "markdown",
   "id": "8e586edd-ff26-4ce2-8f6b-2424b26f2929",
   "metadata": {},
   "source": [
    "## Question 3"
   ]
  },
  {
   "cell_type": "code",
   "execution_count": 8,
   "id": "72d6da8c-70a4-4019-ac32-4bad3d2f1ea8",
   "metadata": {
    "vscode": {
     "languageId": "r"
    }
   },
   "outputs": [],
   "source": [
    "options(jupyter.rich_display = F )"
   ]
  },
  {
   "cell_type": "code",
   "execution_count": 9,
   "id": "61939a0d-7e4b-4aa8-bb2b-a2a01c3fdbd4",
   "metadata": {
    "vscode": {
     "languageId": "r"
    }
   },
   "outputs": [],
   "source": [
    "options(repr.matrix.max.cols=50, repr.matrix.max.rows=200)"
   ]
  },
  {
   "cell_type": "code",
   "execution_count": 94,
   "id": "7f77f1e5-c9c9-4a73-b40e-5154506addb1",
   "metadata": {
    "vscode": {
     "languageId": "r"
    }
   },
   "outputs": [],
   "source": [
    "myDF <- read.csv(\"/anvil/projects/tdm/data/death_records/DeathRecords.csv\", stringsAsFactors = TRUE)"
   ]
  },
  {
   "cell_type": "code",
   "execution_count": 69,
   "id": "f5b5519e-2bbe-4b79-a66a-a7cc21844df0",
   "metadata": {
    "vscode": {
     "languageId": "r"
    }
   },
   "outputs": [
    {
     "name": "stdout",
     "output_type": "stream",
     "text": [
      "'data.frame':\t2631171 obs. of  38 variables:\n",
      " $ Id                            : int  1 2 3 4 5 6 7 8 9 10 ...\n",
      " $ ResidentStatus                : int  1 1 1 1 1 1 1 1 1 1 ...\n",
      " $ Education1989Revision         : int  0 0 0 0 0 0 0 0 0 0 ...\n",
      " $ Education2003Revision         : int  2 2 7 6 3 5 4 4 3 3 ...\n",
      " $ EducationReportingFlag        : int  1 1 1 1 1 1 1 1 1 1 ...\n",
      " $ MonthOfDeath                  : int  1 1 1 1 1 1 1 1 1 1 ...\n",
      " $ Sex                           : Factor w/ 2 levels \"F\",\"M\": 2 2 1 2 2 1 2 2 1 2 ...\n",
      " $ AgeType                       : int  1 1 1 1 1 1 1 1 1 1 ...\n",
      " $ Age                           : int  87 58 75 74 64 93 82 55 86 23 ...\n",
      " $ AgeSubstitutionFlag           : int  0 0 0 0 0 0 0 0 0 0 ...\n",
      " $ AgeRecode52                   : int  43 37 41 40 38 44 42 37 43 30 ...\n",
      " $ AgeRecode27                   : int  23 17 21 20 18 24 22 17 23 10 ...\n",
      " $ AgeRecode12                   : int  11 8 10 9 8 11 10 8 11 4 ...\n",
      " $ InfantAgeRecode22             : int  0 0 0 0 0 0 0 0 0 0 ...\n",
      " $ PlaceOfDeathAndDecedentsStatus: int  4 4 4 6 4 6 4 7 4 7 ...\n",
      " $ MaritalStatus                 : Factor w/ 5 levels \"D\",\"M\",\"S\",\"U\",..: 2 1 5 1 1 5 2 3 5 3 ...\n",
      " $ DayOfWeekOfDeath              : int  4 3 2 1 2 4 6 6 6 4 ...\n",
      " $ CurrentDataYear               : int  2014 2014 2014 2014 2014 2014 2014 2014 2014 2014 ...\n",
      " $ InjuryAtWork                  : Factor w/ 3 levels \"N\",\"U\",\"Y\": 2 2 2 2 2 2 2 2 2 1 ...\n",
      " $ MannerOfDeath                 : int  7 7 7 7 7 7 7 7 7 2 ...\n",
      " $ MethodOfDisposition           : Factor w/ 7 levels \"B\",\"C\",\"D\",\"E\",..: 2 2 2 2 2 2 2 2 2 6 ...\n",
      " $ Autopsy                       : Factor w/ 5 levels \"N\",\"U\",\"Y\",\"n\",..: 1 1 1 1 1 1 1 1 1 1 ...\n",
      " $ ActivityCode                  : int  99 99 99 99 99 99 99 99 99 9 ...\n",
      " $ PlaceOfInjury                 : int  99 99 99 99 99 99 99 99 99 5 ...\n",
      " $ Icd10Code                     : Factor w/ 3695 levels \"A020\",\"A021\",..: 1570 1440 1762 1521 1440 1846 1441 1440 1070 3540 ...\n",
      " $ CauseRecode358                : int  238 214 267 228 214 280 215 214 175 429 ...\n",
      " $ CauseRecode113                : int  70 62 86 68 62 111 63 62 111 125 ...\n",
      " $ InfantCauseRecode130          : int  0 0 0 0 0 0 0 0 0 0 ...\n",
      " $ CauseRecode39                 : int  24 21 28 22 21 37 21 21 37 40 ...\n",
      " $ NumberOfEntityAxisConditions  : int  1 3 2 3 1 5 4 2 1 3 ...\n",
      " $ NumberOfRecordAxisConditions  : int  1 3 2 3 1 5 3 2 1 3 ...\n",
      " $ Race                          : int  1 1 1 1 1 1 1 2 1 1 ...\n",
      " $ BridgedRaceFlag               : int  0 0 0 0 0 0 0 1 0 0 ...\n",
      " $ RaceImputationFlag            : int  0 0 0 0 0 0 0 0 0 0 ...\n",
      " $ RaceRecode3                   : int  1 1 1 1 1 1 1 3 1 1 ...\n",
      " $ RaceRecode5                   : int  1 1 1 1 1 1 1 2 1 1 ...\n",
      " $ HispanicOrigin                : int  100 100 100 100 100 100 100 100 100 100 ...\n",
      " $ HispanicOriginRaceRecode      : int  6 6 6 6 6 6 6 7 6 6 ...\n"
     ]
    }
   ],
   "source": [
    "str(myDF)"
   ]
  },
  {
   "cell_type": "code",
   "execution_count": 10,
   "id": "bd5ab903-e684-4bbd-aaf4-ead82163b1e5",
   "metadata": {
    "vscode": {
     "languageId": "r"
    }
   },
   "outputs": [
    {
     "data": {
      "text/plain": [
       "  Id ResidentStatus Education1989Revision Education2003Revision\n",
       "1 1  1              0                     2                    \n",
       "2 2  1              0                     2                    \n",
       "3 3  1              0                     7                    \n",
       "4 4  1              0                     6                    \n",
       "5 5  1              0                     3                    \n",
       "6 6  1              0                     5                    \n",
       "  EducationReportingFlag MonthOfDeath Sex AgeType Age AgeSubstitutionFlag\n",
       "1 1                      January      M   1       87  0                  \n",
       "2 1                      January      M   1       58  0                  \n",
       "3 1                      January      F   1       75  0                  \n",
       "4 1                      January      M   1       74  0                  \n",
       "5 1                      January      M   1       64  0                  \n",
       "6 1                      January      F   1       93  0                  \n",
       "  AgeRecode52 AgeRecode27 AgeRecode12 InfantAgeRecode22\n",
       "1 43          23          11          0                \n",
       "2 37          17           8          0                \n",
       "3 41          21          10          0                \n",
       "4 40          20           9          0                \n",
       "5 38          18           8          0                \n",
       "6 44          24          11          0                \n",
       "  PlaceOfDeathAndDecedentsStatus MaritalStatus DayOfWeekOfDeath CurrentDataYear\n",
       "1 4                              M             4                2014           \n",
       "2 4                              D             3                2014           \n",
       "3 4                              W             2                2014           \n",
       "4 6                              D             1                2014           \n",
       "5 4                              D             2                2014           \n",
       "6 6                              W             4                2014           \n",
       "  InjuryAtWork MannerOfDeath MethodOfDisposition Autopsy ActivityCode\n",
       "1 U            7             C                   N       99          \n",
       "2 U            7             C                   N       99          \n",
       "3 U            7             C                   N       99          \n",
       "4 U            7             C                   N       99          \n",
       "5 U            7             C                   N       99          \n",
       "6 U            7             C                   N       99          \n",
       "  PlaceOfInjury Icd10Code CauseRecode358 CauseRecode113 InfantCauseRecode130\n",
       "1 99            I64       238             70            0                   \n",
       "2 99            I250      214             62            0                   \n",
       "3 99            J449      267             86            0                   \n",
       "4 99            I48       228             68            0                   \n",
       "5 99            I250      214             62            0                   \n",
       "6 99            K137      280            111            0                   \n",
       "  CauseRecode39 NumberOfEntityAxisConditions NumberOfRecordAxisConditions Race\n",
       "1 24            1                            1                            1   \n",
       "2 21            3                            3                            1   \n",
       "3 28            2                            2                            1   \n",
       "4 22            3                            3                            1   \n",
       "5 21            1                            1                            1   \n",
       "6 37            5                            5                            1   \n",
       "  BridgedRaceFlag RaceImputationFlag RaceRecode3 RaceRecode5 HispanicOrigin\n",
       "1 0               0                  1           1           100           \n",
       "2 0               0                  1           1           100           \n",
       "3 0               0                  1           1           100           \n",
       "4 0               0                  1           1           100           \n",
       "5 0               0                  1           1           100           \n",
       "6 0               0                  1           1           100           \n",
       "  HispanicOriginRaceRecode\n",
       "1 6                       \n",
       "2 6                       \n",
       "3 6                       \n",
       "4 6                       \n",
       "5 6                       \n",
       "6 6                       "
      ]
     },
     "metadata": {},
     "output_type": "display_data"
    }
   ],
   "source": [
    "head(myDF)"
   ]
  },
  {
   "cell_type": "code",
   "execution_count": 49,
   "id": "bbe0f40d-9655-4653-9ca8-886bdb61cb91",
   "metadata": {
    "vscode": {
     "languageId": "r"
    }
   },
   "outputs": [],
   "source": [
    "# Part A"
   ]
  },
  {
   "cell_type": "code",
   "execution_count": 11,
   "id": "8f76b660-a08a-48ab-86d5-a3ae27bd428f",
   "metadata": {
    "vscode": {
     "languageId": "r"
    }
   },
   "outputs": [
    {
     "data": {
      "text/plain": [
       "[1] 2631171      38"
      ]
     },
     "metadata": {},
     "output_type": "display_data"
    }
   ],
   "source": [
    "dim(myDF)"
   ]
  },
  {
   "cell_type": "code",
   "execution_count": 62,
   "id": "c2c527af-e25b-4fbf-90db-96fe6e472bfe",
   "metadata": {
    "vscode": {
     "languageId": "r"
    }
   },
   "outputs": [],
   "source": [
    "# Part B"
   ]
  },
  {
   "cell_type": "code",
   "execution_count": 95,
   "id": "37b32d68-3f54-4759-b769-6bb71860f39b",
   "metadata": {
    "vscode": {
     "languageId": "r"
    }
   },
   "outputs": [],
   "source": [
    "month_order <- c(\"January\", \"February\", \"March\", \"April\", \"May\", \"June\", \"July\", \"August\", \"September\", \"October\", \"November\", \"December\")"
   ]
  },
  {
   "cell_type": "code",
   "execution_count": 96,
   "id": "bdf5f048-11a6-4a3b-9456-5e64c653c2b0",
   "metadata": {
    "vscode": {
     "languageId": "r"
    }
   },
   "outputs": [],
   "source": [
    "myDF$MonthOfDeath <- factor(myDF$MonthOfDeath)"
   ]
  },
  {
   "cell_type": "code",
   "execution_count": 97,
   "id": "7e9000a9-0bc1-45cf-84b4-01b1849379de",
   "metadata": {
    "vscode": {
     "languageId": "r"
    }
   },
   "outputs": [],
   "source": [
    "levels(myDF$MonthOfDeath) <- month_order"
   ]
  },
  {
   "cell_type": "code",
   "execution_count": 15,
   "id": "c07d48fc-e33c-4e24-a745-e7e48e83cc2d",
   "metadata": {
    "vscode": {
     "languageId": "r"
    }
   },
   "outputs": [
    {
     "data": {
      "text/plain": [
       "[1] January January January January January January\n",
       "12 Levels: January February March April May June July August ... December"
      ]
     },
     "metadata": {},
     "output_type": "display_data"
    }
   ],
   "source": [
    "head(myDF$MonthOfDeath)"
   ]
  },
  {
   "cell_type": "code",
   "execution_count": null,
   "id": "8316b9f9-e8a0-4b1e-96f2-6f1fc0de856a",
   "metadata": {
    "vscode": {
     "languageId": "r"
    }
   },
   "outputs": [],
   "source": [
    "#part C"
   ]
  },
  {
   "cell_type": "code",
   "execution_count": 16,
   "id": "78a41fd3-701b-4a4e-abb4-fb7057f47391",
   "metadata": {
    "vscode": {
     "languageId": "r"
    }
   },
   "outputs": [
    {
     "data": {
      "text/plain": [
       "\n",
       "  January  February     March     April       May      June      July    August \n",
       "   243719    212363    228872    215957    217242    205058    209757    208399 \n",
       "September   October  November  December \n",
       "   205660    218565    221740    243839 "
      ]
     },
     "metadata": {},
     "output_type": "display_data"
    }
   ],
   "source": [
    "table(myDF$MonthOfDeath)"
   ]
  },
  {
   "cell_type": "code",
   "execution_count": null,
   "id": "b8f46216-79d8-412a-959f-3f7d5069822a",
   "metadata": {
    "vscode": {
     "languageId": "r"
    }
   },
   "outputs": [],
   "source": []
  },
  {
   "cell_type": "markdown",
   "id": "47c6229f-35f7-400c-8366-c442baa5cf47",
   "metadata": {},
   "source": [
    "Markdown notes and sentences and analysis written here."
   ]
  },
  {
   "cell_type": "markdown",
   "id": "da22f29c-d245-4d2b-9fc1-ca14cb6087d9",
   "metadata": {},
   "source": [
    "## Question 4"
   ]
  },
  {
   "cell_type": "code",
   "execution_count": 1,
   "id": "8cffc767-d1c8-4d64-b7dc-f0d2ee8a80d1",
   "metadata": {
    "vscode": {
     "languageId": "r"
    }
   },
   "outputs": [],
   "source": [
    "#Part A"
   ]
  },
  {
   "cell_type": "code",
   "execution_count": 29,
   "id": "09b575a1-5578-4a01-9106-71851009deab",
   "metadata": {
    "vscode": {
     "languageId": "r"
    }
   },
   "outputs": [
    {
     "data": {
      "text/html": [
       "<style>\n",
       ".dl-inline {width: auto; margin:0; padding: 0}\n",
       ".dl-inline>dt, .dl-inline>dd {float: none; width: auto; display: inline-block}\n",
       ".dl-inline>dt::after {content: \":\\0020\"; padding-right: .5ex}\n",
       ".dl-inline>dt:not(:first-of-type) {padding-left: .5ex}\n",
       "</style><dl class=dl-inline><dt>58</dt><dd>21518</dd><dt>38</dt><dd>37764</dd><dt>6</dt><dd>48003</dd><dt>78</dt><dd>181474</dd><dt>48</dt><dd>343187</dd><dt>28</dt><dd>343845</dd><dt>18</dt><dd>459858</dd><dt>68</dt><dd>558312</dd><dt>5</dt><dd>670796</dd><dt>7</dt><dd>801879</dd><dt>4</dt><dd>1020607</dd><dt>3</dt><dd>1119665</dd><dt>2</dt><dd>20523971</dd><dt>1</dt><dd>167032229</dd></dl>\n"
      ],
      "text/latex": [
       "\\begin{description*}\n",
       "\\item[58] 21518\n",
       "\\item[38] 37764\n",
       "\\item[6] 48003\n",
       "\\item[78] 181474\n",
       "\\item[48] 343187\n",
       "\\item[28] 343845\n",
       "\\item[18] 459858\n",
       "\\item[68] 558312\n",
       "\\item[5] 670796\n",
       "\\item[7] 801879\n",
       "\\item[4] 1020607\n",
       "\\item[3] 1119665\n",
       "\\item[2] 20523971\n",
       "\\item[1] 167032229\n",
       "\\end{description*}\n"
      ],
      "text/markdown": [
       "58\n",
       ":   2151838\n",
       ":   377646\n",
       ":   4800378\n",
       ":   18147448\n",
       ":   34318728\n",
       ":   34384518\n",
       ":   45985868\n",
       ":   5583125\n",
       ":   6707967\n",
       ":   8018794\n",
       ":   10206073\n",
       ":   11196652\n",
       ":   205239711\n",
       ":   167032229\n",
       "\n"
      ],
      "text/plain": [
       "       58        38         6        78        48        28        18        68 \n",
       "    21518     37764     48003    181474    343187    343845    459858    558312 \n",
       "        5         7         4         3         2         1 \n",
       "   670796    801879   1020607   1119665  20523971 167032229 "
      ]
     },
     "metadata": {},
     "output_type": "display_data"
    }
   ],
   "source": [
    "sort(tapply(myDF$Age, myDF$Race, sum))"
   ]
  },
  {
   "cell_type": "code",
   "execution_count": 26,
   "id": "0918450f-2ec5-45f2-8f8d-8dd1df56d167",
   "metadata": {
    "vscode": {
     "languageId": "r"
    }
   },
   "outputs": [],
   "source": [
    "# Part B"
   ]
  },
  {
   "cell_type": "code",
   "execution_count": 98,
   "id": "c30be0be-f143-4cf6-a896-b2240e8b7364",
   "metadata": {
    "vscode": {
     "languageId": "r"
    }
   },
   "outputs": [
    {
     "data": {
      "text/html": [
       "1299710"
      ],
      "text/latex": [
       "1299710"
      ],
      "text/markdown": [
       "1299710"
      ],
      "text/plain": [
       "[1] 1299710"
      ]
     },
     "metadata": {},
     "output_type": "display_data"
    }
   ],
   "source": [
    "length(myDF$Age[myDF$Sex == \"F\"])"
   ]
  },
  {
   "cell_type": "code",
   "execution_count": 99,
   "id": "468a53f3-2066-4404-bf89-c0c91f499259",
   "metadata": {
    "vscode": {
     "languageId": "r"
    }
   },
   "outputs": [
    {
     "data": {
      "text/html": [
       "<style>\n",
       ".list-inline {list-style: none; margin:0; padding: 0}\n",
       ".list-inline>li {display: inline-block}\n",
       ".list-inline>li:not(:last-child)::after {content: \"\\00b7\"; padding: 0 .5ex}\n",
       "</style>\n",
       "<ol class=list-inline><li>1</li><li>1</li><li>1</li><li>1</li><li>1</li><li>1</li><li>1</li><li>3</li><li>1</li><li>28</li><li>2</li><li>1</li><li>1</li><li>3</li><li>1</li><li>38</li><li>3</li><li>7</li><li>1</li><li>68</li><li>1</li><li>1</li><li>1</li><li>1</li><li>1</li><li>3</li><li>1</li><li>3</li><li>1</li><li>3</li><li>3</li><li>28</li><li>1</li><li>38</li><li>1</li><li>3</li><li>1</li><li>1</li><li>1</li><li>3</li><li>1</li><li>1</li><li>1</li><li>1</li><li>1</li><li>28</li><li>1</li><li>2</li><li>3</li><li>3</li></ol>\n"
      ],
      "text/latex": [
       "\\begin{enumerate*}\n",
       "\\item 1\n",
       "\\item 1\n",
       "\\item 1\n",
       "\\item 1\n",
       "\\item 1\n",
       "\\item 1\n",
       "\\item 1\n",
       "\\item 3\n",
       "\\item 1\n",
       "\\item 28\n",
       "\\item 2\n",
       "\\item 1\n",
       "\\item 1\n",
       "\\item 3\n",
       "\\item 1\n",
       "\\item 38\n",
       "\\item 3\n",
       "\\item 7\n",
       "\\item 1\n",
       "\\item 68\n",
       "\\item 1\n",
       "\\item 1\n",
       "\\item 1\n",
       "\\item 1\n",
       "\\item 1\n",
       "\\item 3\n",
       "\\item 1\n",
       "\\item 3\n",
       "\\item 1\n",
       "\\item 3\n",
       "\\item 3\n",
       "\\item 28\n",
       "\\item 1\n",
       "\\item 38\n",
       "\\item 1\n",
       "\\item 3\n",
       "\\item 1\n",
       "\\item 1\n",
       "\\item 1\n",
       "\\item 3\n",
       "\\item 1\n",
       "\\item 1\n",
       "\\item 1\n",
       "\\item 1\n",
       "\\item 1\n",
       "\\item 28\n",
       "\\item 1\n",
       "\\item 2\n",
       "\\item 3\n",
       "\\item 3\n",
       "\\end{enumerate*}\n"
      ],
      "text/markdown": [
       "1. 1\n",
       "2. 1\n",
       "3. 1\n",
       "4. 1\n",
       "5. 1\n",
       "6. 1\n",
       "7. 1\n",
       "8. 3\n",
       "9. 1\n",
       "10. 28\n",
       "11. 2\n",
       "12. 1\n",
       "13. 1\n",
       "14. 3\n",
       "15. 1\n",
       "16. 38\n",
       "17. 3\n",
       "18. 7\n",
       "19. 1\n",
       "20. 68\n",
       "21. 1\n",
       "22. 1\n",
       "23. 1\n",
       "24. 1\n",
       "25. 1\n",
       "26. 3\n",
       "27. 1\n",
       "28. 3\n",
       "29. 1\n",
       "30. 3\n",
       "31. 3\n",
       "32. 28\n",
       "33. 1\n",
       "34. 38\n",
       "35. 1\n",
       "36. 3\n",
       "37. 1\n",
       "38. 1\n",
       "39. 1\n",
       "40. 3\n",
       "41. 1\n",
       "42. 1\n",
       "43. 1\n",
       "44. 1\n",
       "45. 1\n",
       "46. 28\n",
       "47. 1\n",
       "48. 2\n",
       "49. 3\n",
       "50. 3\n",
       "\n",
       "\n"
      ],
      "text/plain": [
       " [1]  1  1  1  1  1  1  1  3  1 28  2  1  1  3  1 38  3  7  1 68  1  1  1  1  1\n",
       "[26]  3  1  3  1  3  3 28  1 38  1  3  1  1  1  3  1  1  1  1  1 28  1  2  3  3"
      ]
     },
     "metadata": {},
     "output_type": "display_data"
    }
   ],
   "source": [
    "head(myDF$Race[myDF$Sex == \"F\"], n=50)"
   ]
  },
  {
   "cell_type": "code",
   "execution_count": null,
   "id": "15c2bf2b-17e4-453c-94bc-43177537d4a5",
   "metadata": {
    "vscode": {
     "languageId": "r"
    }
   },
   "outputs": [],
   "source": [
    "sort(tapply(myDF$Age, myDF$Race, sum))"
   ]
  },
  {
   "cell_type": "markdown",
   "id": "0d552245-b4d6-474a-9cc9-fa7b8e674d55",
   "metadata": {},
   "source": [
    "Markdown notes and sentences and analysis written here."
   ]
  },
  {
   "cell_type": "markdown",
   "id": "88c9cdac-3e92-498f-83fa-e089bfc44ac8",
   "metadata": {},
   "source": [
    "## Question 5"
   ]
  },
  {
   "cell_type": "code",
   "execution_count": 65,
   "id": "81813995-b03a-4a47-b295-9a38ec3e6341",
   "metadata": {
    "vscode": {
     "languageId": "r"
    }
   },
   "outputs": [],
   "source": [
    "#Part A"
   ]
  },
  {
   "cell_type": "code",
   "execution_count": 64,
   "id": "d370d7c9-06db-42b9-b75f-240481a5c491",
   "metadata": {
    "vscode": {
     "languageId": "r"
    }
   },
   "outputs": [
    {
     "data": {
      "image/png": "[encoded data removed]",
      "text/plain": [
       "plot without title"
      ]
     },
     "metadata": {
      "image/png": {
       "height": 420,
       "width": 420
      }
     },
     "output_type": "display_data"
    }
   ],
   "source": [
    "plot(myDF$Season, myDF$Age) "
   ]
  },
  {
   "cell_type": "code",
   "execution_count": 67,
   "id": "2747547e-8a1e-4901-9ba0-51a594f36998",
   "metadata": {
    "vscode": {
     "languageId": "r"
    }
   },
   "outputs": [],
   "source": [
    "# I was attempting to find the relations of age to seasons. I wanted to see if one season had older people it would be due to the sports that are in each. For some reason I thought that winter would have people in higher age groups because of the most simple sports such as Curling.\n",
    "# While I am not sure how right this plot is however the pattern I see is that older people tend to be in the Summer Games over the winter,\n",
    "#I think with how many more sports that could be the case."
   ]
  },
  {
   "cell_type": "code",
   "execution_count": 70,
   "id": "a635924f-d3ab-4758-b230-a4a0452c0f76",
   "metadata": {
    "vscode": {
     "languageId": "r"
    }
   },
   "outputs": [],
   "source": [
    "#Part B"
   ]
  },
  {
   "cell_type": "code",
   "execution_count": 89,
   "id": "f58409ad-7c22-46f6-b320-40ab0e87fb84",
   "metadata": {
    "vscode": {
     "languageId": "r"
    }
   },
   "outputs": [],
   "source": [
    "subset_myDF <- subset(myDF, Age < 100)"
   ]
  },
  {
   "cell_type": "code",
   "execution_count": 92,
   "id": "cac0f711-7017-4163-807b-727f8df0154c",
   "metadata": {
    "vscode": {
     "languageId": "r"
    }
   },
   "outputs": [
    {
     "data": {
      "image/png": "[encoded data removed]",
      "text/plain": [
       "plot without title"
      ]
     },
     "metadata": {
      "image/png": {
       "height": 420,
       "width": 420
      }
     },
     "output_type": "display_data"
    }
   ],
   "source": [
    "plot(subset_myDF$Sex, subset_myDF$Age, \n",
    "     xlab = \"Sex\", \n",
    "     ylab = \"Age\")"
   ]
  }
 ],
 "metadata": {
  "kernelspec": {
   "display_name": "seminar-r",
   "language": "R",
   "name": "seminar-r"
  },
  "language_info": {
   "codemirror_mode": "r",
   "file_extension": ".r",
   "mimetype": "text/x-r-source",
   "name": "R",
   "pygments_lexer": "r",
   "version": "4.3.1"
  }
 },
 "nbformat": 4,
 "nbformat_minor": 5
}
