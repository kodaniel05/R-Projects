{
 "cells": [
  {
   "cell_type": "markdown",
   "id": "a1228853-dd19-4ab2-89e0-0394d7d72de3",
   "metadata": {},
   "source": [
    "## Learning objectives\n",
    "\n",
    "apply tapply and sapply to perform grouped and vectorized operations\n",
    "\n",
    "demonstrate the use of grep and grepl for pattern matching in data frames\n",
    "\n",
    "demonstrate the ability to use functions such as mean, var, table, cut, paste, rep, seq, sort, order, length, unique to solve data-driven problems\n",
    "\n",
    "read and write basic .csv data\n",
    "\n",
    "create and apply user-defined functions inside apply-family functions\n",
    "\n",
    "explain how functional programming concepts extend R workflows"
   ]
  },
  {
   "cell_type": "code",
   "execution_count": 15,
   "id": "ecc9e70c-49c8-4ac1-90e5-4a05c1ba0839",
   "metadata": {
    "vscode": {
     "languageId": "r"
    }
   },
   "outputs": [],
   "source": [
    "library(data.table)"
   ]
  },
  {
   "cell_type": "code",
   "execution_count": 16,
   "id": "ca072446-ca80-463e-b6da-12714ae0efbf",
   "metadata": {
    "vscode": {
     "languageId": "r"
    }
   },
   "outputs": [],
   "source": [
    "options(jupyter.rich.display = F)"
   ]
  },
  {
   "cell_type": "code",
   "execution_count": 17,
   "id": "4507ed77-760d-4490-bca0-94847395ff99",
   "metadata": {
    "vscode": {
     "languageId": "r"
    }
   },
   "outputs": [],
   "source": [
    "options(repr.matrix.max.cols = 30, repr.matrix.max.rows = 200)"
   ]
  },
  {
   "cell_type": "code",
   "execution_count": 18,
   "id": "b6a3a651-baeb-4696-9ae3-6f2b27b0f045",
   "metadata": {
    "vscode": {
     "languageId": "r"
    }
   },
   "outputs": [],
   "source": [
    "orders <- fread(\"/anvil/projects/tdm/data/restaurant/orders.csv\")"
   ]
  },
  {
   "cell_type": "code",
   "execution_count": 19,
   "id": "c8a8fe08-ce07-4021-9dfa-b9aa4f861957",
   "metadata": {
    "vscode": {
     "languageId": "r"
    }
   },
   "outputs": [],
   "source": [
    "vendors <- fread(\"/anvil/projects/tdm/data/restaurant/vendors.csv\")"
   ]
  },
  {
   "cell_type": "code",
   "execution_count": 11,
   "id": "819906a0-d85a-4822-818d-a06f1e36f859",
   "metadata": {
    "vscode": {
     "languageId": "r"
    }
   },
   "outputs": [
    {
     "data": {
      "text/html": [
       "<table class=\"dataframe\">\n",
       "<caption>A data.table: 6 x 59</caption>\n",
       "<thead>\n",
       "\t<tr><th scope=col>id</th><th scope=col>authentication_id</th><th scope=col>latitude</th><th scope=col>longitude</th><th scope=col>vendor_category_en</th><th scope=col>vendor_category_id</th><th scope=col>delivery_charge</th><th scope=col>serving_distance</th><th scope=col>is_open</th><th scope=col>OpeningTime</th><th scope=col>OpeningTime2</th><th scope=col>prepration_time</th><th scope=col>commission</th><th scope=col>is_akeed_delivering</th><th scope=col>discount_percentage</th><th scope=col>...</th><th scope=col>saturday_from_time1</th><th scope=col>saturday_to_time1</th><th scope=col>saturday_from_time2</th><th scope=col>saturday_to_time2</th><th scope=col>primary_tags</th><th scope=col>open_close_flags</th><th scope=col>vendor_tag</th><th scope=col>vendor_tag_name</th><th scope=col>one_click_vendor</th><th scope=col>country_id</th><th scope=col>city_id</th><th scope=col>created_at</th><th scope=col>updated_at</th><th scope=col>device_type</th><th scope=col>display_orders</th></tr>\n",
       "\t<tr><th scope=col>&lt;int&gt;</th><th scope=col>&lt;dbl&gt;</th><th scope=col>&lt;dbl&gt;</th><th scope=col>&lt;dbl&gt;</th><th scope=col>&lt;chr&gt;</th><th scope=col>&lt;dbl&gt;</th><th scope=col>&lt;dbl&gt;</th><th scope=col>&lt;dbl&gt;</th><th scope=col>&lt;dbl&gt;</th><th scope=col>&lt;chr&gt;</th><th scope=col>&lt;chr&gt;</th><th scope=col>&lt;int&gt;</th><th scope=col>&lt;dbl&gt;</th><th scope=col>&lt;chr&gt;</th><th scope=col>&lt;dbl&gt;</th><th scope=col>...</th><th scope=col>&lt;chr&gt;</th><th scope=col>&lt;chr&gt;</th><th scope=col>&lt;chr&gt;</th><th scope=col>&lt;chr&gt;</th><th scope=col>&lt;chr&gt;</th><th scope=col>&lt;dbl&gt;</th><th scope=col>&lt;chr&gt;</th><th scope=col>&lt;chr&gt;</th><th scope=col>&lt;chr&gt;</th><th scope=col>&lt;dbl&gt;</th><th scope=col>&lt;dbl&gt;</th><th scope=col>&lt;dttm&gt;</th><th scope=col>&lt;dttm&gt;</th><th scope=col>&lt;int&gt;</th><th scope=col>&lt;int&gt;</th></tr>\n",
       "</thead>\n",
       "<tbody>\n",
       "\t<tr><td> 4</td><td>118597</td><td>-0.5885962</td><td>0.7544341</td><td>Restaurants</td><td>2</td><td>0.0</td><td> 6</td><td>1</td><td>11:00AM-11:30PM</td><td>-</td><td>15</td><td>0</td><td>Yes</td><td>0</td><td>...</td><td>00:00:00</td><td>00:30:00</td><td>10:00:00</td><td>23:59:00</td><td>{\"\"primary_tags\"\":\"\"4\"\"} </td><td>1</td><td>2,4,5,8,91,22,12,24,16,23</td><td>Arabic,Breakfast,Burgers,Desserts,Free Delivery,Grills,Lebanese,Salads,Sandwiches,Shawarma</td><td>Y</td><td>1</td><td>1</td><td>2018-01-30 14:42:04</td><td>2020-04-07 15:12:43</td><td>3</td><td>1</td></tr>\n",
       "\t<tr><td>13</td><td>118608</td><td>-0.4716538</td><td>0.7444705</td><td>Restaurants</td><td>2</td><td>0.7</td><td> 5</td><td>1</td><td>08:30AM-10:30PM</td><td>-</td><td>14</td><td>0</td><td>Yes</td><td>0</td><td>...</td><td>00:00:00</td><td>01:30:00</td><td>08:00:00</td><td>23:59:00</td><td>{\"\"primary_tags\"\":\"\"7\"\"} </td><td>1</td><td>4,41,51,34,27,15,24,16,28</td><td>Breakfast,Cakes,Crepes,Italian,Pasta,Pizzas,Salads,Sandwiches,Soups                       </td><td>Y</td><td>1</td><td>1</td><td>2018-05-03 12:32:06</td><td>2020-04-05 20:46:03</td><td>3</td><td>1</td></tr>\n",
       "\t<tr><td>20</td><td>118616</td><td>-0.4075269</td><td>0.6436807</td><td>Restaurants</td><td>2</td><td>0.0</td><td> 8</td><td>1</td><td>08:00AM-10:45PM</td><td>-</td><td>19</td><td>0</td><td>Yes</td><td>0</td><td>...</td><td>08:00:00</td><td>22:45:00</td><td>        </td><td>        </td><td>{\"\"primary_tags\"\":\"\"71\"\"}</td><td>1</td><td>4,8,91,10                </td><td>Breakfast,Desserts,Free Delivery,Indian                                                   </td><td>Y</td><td>1</td><td>1</td><td>2018-05-04 22:28:22</td><td>2020-04-07 16:35:55</td><td>3</td><td>1</td></tr>\n",
       "\t<tr><td>23</td><td>118619</td><td>-0.5853846</td><td>0.7538114</td><td>Restaurants</td><td>2</td><td>0.0</td><td> 5</td><td>1</td><td>10:59AM-10:30PM</td><td>-</td><td>16</td><td>0</td><td>Yes</td><td>0</td><td>...</td><td>09:00:00</td><td>23:45:00</td><td>        </td><td>        </td><td>{\"\"primary_tags\"\":\"\"46\"\"}</td><td>1</td><td>5,8,30,24                </td><td>Burgers,Desserts,Fries,Salads                                                             </td><td>Y</td><td>1</td><td>1</td><td>2018-05-06 19:20:48</td><td>2020-04-02 00:56:17</td><td>3</td><td>1</td></tr>\n",
       "\t<tr><td>28</td><td>118624</td><td> 0.4806019</td><td>0.5528505</td><td>Restaurants</td><td>2</td><td>0.7</td><td>15</td><td>1</td><td>11:00AM-11:45PM</td><td>-</td><td>10</td><td>0</td><td>Yes</td><td>0</td><td>...</td><td>00:01:00</td><td>01:30:00</td><td>17:45:00</td><td>23:59:00</td><td>{\"\"primary_tags\"\":\"\"32\"\"}</td><td>1</td><td>5                        </td><td>Burgers                                                                                   </td><td>Y</td><td>1</td><td>1</td><td>2018-05-17 22:12:38</td><td>2020-04-05 15:57:41</td><td>3</td><td>1</td></tr>\n",
       "\t<tr><td>33</td><td>118629</td><td>-0.4946538</td><td>0.7433182</td><td>Restaurants</td><td>2</td><td>0.7</td><td> 6</td><td>1</td><td>11:00AM-10:30PM</td><td>-</td><td>17</td><td>0</td><td>Yes</td><td>0</td><td>...</td><td>08:30:00</td><td>23:59:00</td><td>00:00:00</td><td>01:00:00</td><td>{\"\"primary_tags\"\":\"\"51\"\"}</td><td>1</td><td>8,42                     </td><td>Desserts,Mexican                                                                          </td><td>Y</td><td>1</td><td>1</td><td>2018-05-24 17:23:13</td><td>2020-04-07 15:04:57</td><td>3</td><td>1</td></tr>\n",
       "</tbody>\n",
       "</table>\n"
      ],
      "text/latex": [
       "A data.table: 6 x 59\n",
       "\\begin{tabular}{lllllllllllllllllllllllllllllll}\n",
       " id & authentication\\_id & latitude & longitude & vendor\\_category\\_en & vendor\\_category\\_id & delivery\\_charge & serving\\_distance & is\\_open & OpeningTime & OpeningTime2 & prepration\\_time & commission & is\\_akeed\\_delivering & discount\\_percentage & ... & saturday\\_from\\_time1 & saturday\\_to\\_time1 & saturday\\_from\\_time2 & saturday\\_to\\_time2 & primary\\_tags & open\\_close\\_flags & vendor\\_tag & vendor\\_tag\\_name & one\\_click\\_vendor & country\\_id & city\\_id & created\\_at & updated\\_at & device\\_type & display\\_orders\\\\\n",
       " <int> & <dbl> & <dbl> & <dbl> & <chr> & <dbl> & <dbl> & <dbl> & <dbl> & <chr> & <chr> & <int> & <dbl> & <chr> & <dbl> & ... & <chr> & <chr> & <chr> & <chr> & <chr> & <dbl> & <chr> & <chr> & <chr> & <dbl> & <dbl> & <dttm> & <dttm> & <int> & <int>\\\\\n",
       "\\hline\n",
       "\t  4 & 118597 & -0.5885962 & 0.7544341 & Restaurants & 2 & 0.0 &  6 & 1 & 11:00AM-11:30PM & - & 15 & 0 & Yes & 0 & ... & 00:00:00 & 00:30:00 & 10:00:00 & 23:59:00 & \\{\"\"primary\\_tags\"\":\"\"4\"\"\\}  & 1 & 2,4,5,8,91,22,12,24,16,23 & Arabic,Breakfast,Burgers,Desserts,Free Delivery,Grills,Lebanese,Salads,Sandwiches,Shawarma & Y & 1 & 1 & 2018-01-30 14:42:04 & 2020-04-07 15:12:43 & 3 & 1\\\\\n",
       "\t 13 & 118608 & -0.4716538 & 0.7444705 & Restaurants & 2 & 0.7 &  5 & 1 & 08:30AM-10:30PM & - & 14 & 0 & Yes & 0 & ... & 00:00:00 & 01:30:00 & 08:00:00 & 23:59:00 & \\{\"\"primary\\_tags\"\":\"\"7\"\"\\}  & 1 & 4,41,51,34,27,15,24,16,28 & Breakfast,Cakes,Crepes,Italian,Pasta,Pizzas,Salads,Sandwiches,Soups                        & Y & 1 & 1 & 2018-05-03 12:32:06 & 2020-04-05 20:46:03 & 3 & 1\\\\\n",
       "\t 20 & 118616 & -0.4075269 & 0.6436807 & Restaurants & 2 & 0.0 &  8 & 1 & 08:00AM-10:45PM & - & 19 & 0 & Yes & 0 & ... & 08:00:00 & 22:45:00 &          &          & \\{\"\"primary\\_tags\"\":\"\"71\"\"\\} & 1 & 4,8,91,10                 & Breakfast,Desserts,Free Delivery,Indian                                                    & Y & 1 & 1 & 2018-05-04 22:28:22 & 2020-04-07 16:35:55 & 3 & 1\\\\\n",
       "\t 23 & 118619 & -0.5853846 & 0.7538114 & Restaurants & 2 & 0.0 &  5 & 1 & 10:59AM-10:30PM & - & 16 & 0 & Yes & 0 & ... & 09:00:00 & 23:45:00 &          &          & \\{\"\"primary\\_tags\"\":\"\"46\"\"\\} & 1 & 5,8,30,24                 & Burgers,Desserts,Fries,Salads                                                              & Y & 1 & 1 & 2018-05-06 19:20:48 & 2020-04-02 00:56:17 & 3 & 1\\\\\n",
       "\t 28 & 118624 &  0.4806019 & 0.5528505 & Restaurants & 2 & 0.7 & 15 & 1 & 11:00AM-11:45PM & - & 10 & 0 & Yes & 0 & ... & 00:01:00 & 01:30:00 & 17:45:00 & 23:59:00 & \\{\"\"primary\\_tags\"\":\"\"32\"\"\\} & 1 & 5                         & Burgers                                                                                    & Y & 1 & 1 & 2018-05-17 22:12:38 & 2020-04-05 15:57:41 & 3 & 1\\\\\n",
       "\t 33 & 118629 & -0.4946538 & 0.7433182 & Restaurants & 2 & 0.7 &  6 & 1 & 11:00AM-10:30PM & - & 17 & 0 & Yes & 0 & ... & 08:30:00 & 23:59:00 & 00:00:00 & 01:00:00 & \\{\"\"primary\\_tags\"\":\"\"51\"\"\\} & 1 & 8,42                      & Desserts,Mexican                                                                           & Y & 1 & 1 & 2018-05-24 17:23:13 & 2020-04-07 15:04:57 & 3 & 1\\\\\n",
       "\\end{tabular}\n"
      ],
      "text/markdown": [
       "\n",
       "A data.table: 6 x 59\n",
       "\n",
       "| id &lt;int&gt; | authentication_id &lt;dbl&gt; | latitude &lt;dbl&gt; | longitude &lt;dbl&gt; | vendor_category_en &lt;chr&gt; | vendor_category_id &lt;dbl&gt; | delivery_charge &lt;dbl&gt; | serving_distance &lt;dbl&gt; | is_open &lt;dbl&gt; | OpeningTime &lt;chr&gt; | OpeningTime2 &lt;chr&gt; | prepration_time &lt;int&gt; | commission &lt;dbl&gt; | is_akeed_delivering &lt;chr&gt; | discount_percentage &lt;dbl&gt; | ... ... | saturday_from_time1 &lt;chr&gt; | saturday_to_time1 &lt;chr&gt; | saturday_from_time2 &lt;chr&gt; | saturday_to_time2 &lt;chr&gt; | primary_tags &lt;chr&gt; | open_close_flags &lt;dbl&gt; | vendor_tag &lt;chr&gt; | vendor_tag_name &lt;chr&gt; | one_click_vendor &lt;chr&gt; | country_id &lt;dbl&gt; | city_id &lt;dbl&gt; | created_at &lt;dttm&gt; | updated_at &lt;dttm&gt; | device_type &lt;int&gt; | display_orders &lt;int&gt; |\n",
       "|---|---|---|---|---|---|---|---|---|---|---|---|---|---|---|---|---|---|---|---|---|---|---|---|---|---|---|---|---|---|---|\n",
       "|  4 | 118597 | -0.5885962 | 0.7544341 | Restaurants | 2 | 0.0 |  6 | 1 | 11:00AM-11:30PM | - | 15 | 0 | Yes | 0 | ... | 00:00:00 | 00:30:00 | 10:00:00 | 23:59:00 | {\"\"primary_tags\"\":\"\"4\"\"}  | 1 | 2,4,5,8,91,22,12,24,16,23 | Arabic,Breakfast,Burgers,Desserts,Free Delivery,Grills,Lebanese,Salads,Sandwiches,Shawarma | Y | 1 | 1 | 2018-01-30 14:42:04 | 2020-04-07 15:12:43 | 3 | 1 |\n",
       "| 13 | 118608 | -0.4716538 | 0.7444705 | Restaurants | 2 | 0.7 |  5 | 1 | 08:30AM-10:30PM | - | 14 | 0 | Yes | 0 | ... | 00:00:00 | 01:30:00 | 08:00:00 | 23:59:00 | {\"\"primary_tags\"\":\"\"7\"\"}  | 1 | 4,41,51,34,27,15,24,16,28 | Breakfast,Cakes,Crepes,Italian,Pasta,Pizzas,Salads,Sandwiches,Soups                        | Y | 1 | 1 | 2018-05-03 12:32:06 | 2020-04-05 20:46:03 | 3 | 1 |\n",
       "| 20 | 118616 | -0.4075269 | 0.6436807 | Restaurants | 2 | 0.0 |  8 | 1 | 08:00AM-10:45PM | - | 19 | 0 | Yes | 0 | ... | 08:00:00 | 22:45:00 | <!----> | <!----> | {\"\"primary_tags\"\":\"\"71\"\"} | 1 | 4,8,91,10                 | Breakfast,Desserts,Free Delivery,Indian                                                    | Y | 1 | 1 | 2018-05-04 22:28:22 | 2020-04-07 16:35:55 | 3 | 1 |\n",
       "| 23 | 118619 | -0.5853846 | 0.7538114 | Restaurants | 2 | 0.0 |  5 | 1 | 10:59AM-10:30PM | - | 16 | 0 | Yes | 0 | ... | 09:00:00 | 23:45:00 | <!----> | <!----> | {\"\"primary_tags\"\":\"\"46\"\"} | 1 | 5,8,30,24                 | Burgers,Desserts,Fries,Salads                                                              | Y | 1 | 1 | 2018-05-06 19:20:48 | 2020-04-02 00:56:17 | 3 | 1 |\n",
       "| 28 | 118624 |  0.4806019 | 0.5528505 | Restaurants | 2 | 0.7 | 15 | 1 | 11:00AM-11:45PM | - | 10 | 0 | Yes | 0 | ... | 00:01:00 | 01:30:00 | 17:45:00 | 23:59:00 | {\"\"primary_tags\"\":\"\"32\"\"} | 1 | 5                         | Burgers                                                                                    | Y | 1 | 1 | 2018-05-17 22:12:38 | 2020-04-05 15:57:41 | 3 | 1 |\n",
       "| 33 | 118629 | -0.4946538 | 0.7433182 | Restaurants | 2 | 0.7 |  6 | 1 | 11:00AM-10:30PM | - | 17 | 0 | Yes | 0 | ... | 08:30:00 | 23:59:00 | 00:00:00 | 01:00:00 | {\"\"primary_tags\"\":\"\"51\"\"} | 1 | 8,42                      | Desserts,Mexican                                                                           | Y | 1 | 1 | 2018-05-24 17:23:13 | 2020-04-07 15:04:57 | 3 | 1 |\n",
       "\n"
      ],
      "text/plain": [
       "  id authentication_id latitude   longitude vendor_category_en\n",
       "1  4 118597            -0.5885962 0.7544341 Restaurants       \n",
       "2 13 118608            -0.4716538 0.7444705 Restaurants       \n",
       "3 20 118616            -0.4075269 0.6436807 Restaurants       \n",
       "4 23 118619            -0.5853846 0.7538114 Restaurants       \n",
       "5 28 118624             0.4806019 0.5528505 Restaurants       \n",
       "6 33 118629            -0.4946538 0.7433182 Restaurants       \n",
       "  vendor_category_id delivery_charge serving_distance is_open OpeningTime    \n",
       "1 2                  0.0              6               1       11:00AM-11:30PM\n",
       "2 2                  0.7              5               1       08:30AM-10:30PM\n",
       "3 2                  0.0              8               1       08:00AM-10:45PM\n",
       "4 2                  0.0              5               1       10:59AM-10:30PM\n",
       "5 2                  0.7             15               1       11:00AM-11:45PM\n",
       "6 2                  0.7              6               1       11:00AM-10:30PM\n",
       "  OpeningTime2 prepration_time commission is_akeed_delivering\n",
       "1 -            15              0          Yes                \n",
       "2 -            14              0          Yes                \n",
       "3 -            19              0          Yes                \n",
       "4 -            16              0          Yes                \n",
       "5 -            10              0          Yes                \n",
       "6 -            17              0          Yes                \n",
       "  discount_percentage ... saturday_from_time1 saturday_to_time1\n",
       "1 0                   ... 00:00:00            00:30:00         \n",
       "2 0                   ... 00:00:00            01:30:00         \n",
       "3 0                   ... 08:00:00            22:45:00         \n",
       "4 0                   ... 09:00:00            23:45:00         \n",
       "5 0                   ... 00:01:00            01:30:00         \n",
       "6 0                   ... 08:30:00            23:59:00         \n",
       "  saturday_from_time2 saturday_to_time2 primary_tags             \n",
       "1 10:00:00            23:59:00          {\"\"primary_tags\"\":\"\"4\"\"} \n",
       "2 08:00:00            23:59:00          {\"\"primary_tags\"\":\"\"7\"\"} \n",
       "3                                       {\"\"primary_tags\"\":\"\"71\"\"}\n",
       "4                                       {\"\"primary_tags\"\":\"\"46\"\"}\n",
       "5 17:45:00            23:59:00          {\"\"primary_tags\"\":\"\"32\"\"}\n",
       "6 00:00:00            01:00:00          {\"\"primary_tags\"\":\"\"51\"\"}\n",
       "  open_close_flags vendor_tag               \n",
       "1 1                2,4,5,8,91,22,12,24,16,23\n",
       "2 1                4,41,51,34,27,15,24,16,28\n",
       "3 1                4,8,91,10                \n",
       "4 1                5,8,30,24                \n",
       "5 1                5                        \n",
       "6 1                8,42                     \n",
       "  vendor_tag_name                                                                           \n",
       "1 Arabic,Breakfast,Burgers,Desserts,Free Delivery,Grills,Lebanese,Salads,Sandwiches,Shawarma\n",
       "2 Breakfast,Cakes,Crepes,Italian,Pasta,Pizzas,Salads,Sandwiches,Soups                       \n",
       "3 Breakfast,Desserts,Free Delivery,Indian                                                   \n",
       "4 Burgers,Desserts,Fries,Salads                                                             \n",
       "5 Burgers                                                                                   \n",
       "6 Desserts,Mexican                                                                          \n",
       "  one_click_vendor country_id city_id created_at          updated_at         \n",
       "1 Y                1          1       2018-01-30 14:42:04 2020-04-07 15:12:43\n",
       "2 Y                1          1       2018-05-03 12:32:06 2020-04-05 20:46:03\n",
       "3 Y                1          1       2018-05-04 22:28:22 2020-04-07 16:35:55\n",
       "4 Y                1          1       2018-05-06 19:20:48 2020-04-02 00:56:17\n",
       "5 Y                1          1       2018-05-17 22:12:38 2020-04-05 15:57:41\n",
       "6 Y                1          1       2018-05-24 17:23:13 2020-04-07 15:04:57\n",
       "  device_type display_orders\n",
       "1 3           1             \n",
       "2 3           1             \n",
       "3 3           1             \n",
       "4 3           1             \n",
       "5 3           1             \n",
       "6 3           1             "
      ]
     },
     "metadata": {},
     "output_type": "display_data"
    }
   ],
   "source": [
    "head(vendors)"
   ]
  },
  {
   "cell_type": "markdown",
   "id": "6180e742-8e39-4698-98ff-5b00c8cf8ea0",
   "metadata": {},
   "source": [
    "## Question 1"
   ]
  },
  {
   "cell_type": "code",
   "execution_count": 10,
   "id": "49445606-d363-41b4-b479-e319a9a84c01",
   "metadata": {
    "vscode": {
     "languageId": "r"
    }
   },
   "outputs": [],
   "source": [
    "#Part A"
   ]
  },
  {
   "cell_type": "code",
   "execution_count": 94,
   "id": "82e67ee4-0203-4f7a-b9f3-e75c9336342f",
   "metadata": {
    "vscode": {
     "languageId": "r"
    }
   },
   "outputs": [],
   "source": [
    "myNewDF <- subset(vendors, grepl(\"Fries\", vendor_tag_name))"
   ]
  },
  {
   "cell_type": "code",
   "execution_count": 96,
   "id": "ee8db4d3-89bc-49ab-8e31-e6fd9a7a6f8f",
   "metadata": {
    "vscode": {
     "languageId": "r"
    }
   },
   "outputs": [
    {
     "data": {
      "text/html": [
       "<style>\n",
       ".list-inline {list-style: none; margin:0; padding: 0}\n",
       ".list-inline>li {display: inline-block}\n",
       ".list-inline>li:not(:last-child)::after {content: \"\\00b7\"; padding: 0 .5ex}\n",
       "</style>\n",
       "<ol class=list-inline><li>20</li><li>59</li></ol>\n"
      ],
      "text/latex": [
       "\\begin{enumerate*}\n",
       "\\item 20\n",
       "\\item 59\n",
       "\\end{enumerate*}\n"
      ],
      "text/markdown": [
       "1. 20\n",
       "2. 59\n",
       "\n",
       "\n"
      ],
      "text/plain": [
       "[1] 20 59"
      ]
     },
     "metadata": {},
     "output_type": "display_data"
    }
   ],
   "source": [
    "dim(myNewDF)"
   ]
  },
  {
   "cell_type": "code",
   "execution_count": 97,
   "id": "41864176-bf9b-4366-977e-b9546bab6cc7",
   "metadata": {
    "vscode": {
     "languageId": "r"
    }
   },
   "outputs": [],
   "source": [
    "#Part B"
   ]
  },
  {
   "cell_type": "code",
   "execution_count": 98,
   "id": "0b27634d-aef0-424e-bade-3cfe49cf2cd5",
   "metadata": {
    "vscode": {
     "languageId": "r"
    }
   },
   "outputs": [],
   "source": [
    "secondDF <- vendors[grep(\"Fries\", vendors$vendor_tag_name), ]"
   ]
  },
  {
   "cell_type": "code",
   "execution_count": 99,
   "id": "a82c263a-aa24-4c71-b36d-d9c84fc9d1fa",
   "metadata": {
    "vscode": {
     "languageId": "r"
    }
   },
   "outputs": [
    {
     "data": {
      "text/html": [
       "<style>\n",
       ".list-inline {list-style: none; margin:0; padding: 0}\n",
       ".list-inline>li {display: inline-block}\n",
       ".list-inline>li:not(:last-child)::after {content: \"\\00b7\"; padding: 0 .5ex}\n",
       "</style>\n",
       "<ol class=list-inline><li>20</li><li>59</li></ol>\n"
      ],
      "text/latex": [
       "\\begin{enumerate*}\n",
       "\\item 20\n",
       "\\item 59\n",
       "\\end{enumerate*}\n"
      ],
      "text/markdown": [
       "1. 20\n",
       "2. 59\n",
       "\n",
       "\n"
      ],
      "text/plain": [
       "[1] 20 59"
      ]
     },
     "metadata": {},
     "output_type": "display_data"
    }
   ],
   "source": [
    "dim(secondDF)"
   ]
  },
  {
   "cell_type": "code",
   "execution_count": null,
   "id": "075588f9-f2e9-4f46-9980-99525cc43200",
   "metadata": {
    "vscode": {
     "languageId": "r"
    }
   },
   "outputs": [],
   "source": [
    "#Part C"
   ]
  },
  {
   "cell_type": "code",
   "execution_count": 102,
   "id": "3a333443-a0c5-4f18-ae09-7a8592d5f4a0",
   "metadata": {
    "vscode": {
     "languageId": "r"
    }
   },
   "outputs": [
    {
     "data": {
      "text/html": [
       "<style>\n",
       ".list-inline {list-style: none; margin:0; padding: 0}\n",
       ".list-inline>li {display: inline-block}\n",
       ".list-inline>li:not(:last-child)::after {content: \"\\00b7\"; padding: 0 .5ex}\n",
       "</style>\n",
       "<ol class=list-inline><li>20</li><li>59</li></ol>\n"
      ],
      "text/latex": [
       "\\begin{enumerate*}\n",
       "\\item 20\n",
       "\\item 59\n",
       "\\end{enumerate*}\n"
      ],
      "text/markdown": [
       "1. 20\n",
       "2. 59\n",
       "\n",
       "\n"
      ],
      "text/plain": [
       "[1] 20 59"
      ]
     },
     "metadata": {},
     "output_type": "display_data"
    }
   ],
   "source": [
    "dim(myNewDF)"
   ]
  },
  {
   "cell_type": "code",
   "execution_count": 103,
   "id": "c341b6cb-ed4b-4ed2-b8bb-9694763cb292",
   "metadata": {
    "vscode": {
     "languageId": "r"
    }
   },
   "outputs": [
    {
     "data": {
      "text/html": [
       "<style>\n",
       ".list-inline {list-style: none; margin:0; padding: 0}\n",
       ".list-inline>li {display: inline-block}\n",
       ".list-inline>li:not(:last-child)::after {content: \"\\00b7\"; padding: 0 .5ex}\n",
       "</style>\n",
       "<ol class=list-inline><li>20</li><li>59</li></ol>\n"
      ],
      "text/latex": [
       "\\begin{enumerate*}\n",
       "\\item 20\n",
       "\\item 59\n",
       "\\end{enumerate*}\n"
      ],
      "text/markdown": [
       "1. 20\n",
       "2. 59\n",
       "\n",
       "\n"
      ],
      "text/plain": [
       "[1] 20 59"
      ]
     },
     "metadata": {},
     "output_type": "display_data"
    }
   ],
   "source": [
    "dim(secondDF)"
   ]
  },
  {
   "cell_type": "markdown",
   "id": "b456e57c-4a12-464b-999a-ef2df5af80c1",
   "metadata": {},
   "source": [
    "Markdown notes and sentences and analysis written here."
   ]
  },
  {
   "cell_type": "markdown",
   "id": "fc601975-35ed-4680-a4e1-0273ee3cc047",
   "metadata": {},
   "source": [
    "## Question 2"
   ]
  },
  {
   "cell_type": "code",
   "execution_count": 55,
   "id": "a16336a1-1ef0-41e8-bc7c-49387db27497",
   "metadata": {
    "vscode": {
     "languageId": "r"
    }
   },
   "outputs": [
    {
     "data": {
      "text/plain": [
       "\n",
       "  0 0.7 \n",
       " 41  59 "
      ]
     },
     "metadata": {},
     "output_type": "display_data"
    }
   ],
   "source": [
    "#Part A\n",
    "table(vendors$delivery_charge) \n",
    "#There is 41 that are free delivery and 59 that are non-free delivery"
   ]
  },
  {
   "cell_type": "code",
   "execution_count": 56,
   "id": "cb6888f7-5a93-46f9-83a8-2547b1c90953",
   "metadata": {
    "vscode": {
     "languageId": "r"
    }
   },
   "outputs": [
    {
     "data": {
      "text/plain": [
       "\n",
       "   0  0.7 \n",
       "0.41 0.59 "
      ]
     },
     "metadata": {},
     "output_type": "display_data"
    }
   ],
   "source": [
    "#Part B\n",
    "prop.table(table(vendors$delivery_charge))"
   ]
  },
  {
   "cell_type": "markdown",
   "id": "14dc22d4-ddc3-41cc-a91a-cb0025bc0c80",
   "metadata": {},
   "source": [
    "Markdown notes and sentences and analysis written here."
   ]
  },
  {
   "cell_type": "markdown",
   "id": "8e586edd-ff26-4ce2-8f6b-2424b26f2929",
   "metadata": {},
   "source": [
    "## Question 3"
   ]
  },
  {
   "cell_type": "code",
   "execution_count": 69,
   "id": "bbe0f40d-9655-4653-9ca8-886bdb61cb91",
   "metadata": {
    "vscode": {
     "languageId": "r"
    }
   },
   "outputs": [
    {
     "data": {
      "text/plain": [
       "\n",
       "        0       0.7 \n",
       "0.3932584 0.6067416 "
      ]
     },
     "metadata": {},
     "output_type": "display_data"
    }
   ],
   "source": [
    "#Part A\n",
    "prop.table(table(vendors$delivery_charge[vendors$vendor_category_id == 2]))"
   ]
  },
  {
   "cell_type": "code",
   "execution_count": 70,
   "id": "0eda4a9d-9061-4657-a0de-c0528fba92fc",
   "metadata": {
    "vscode": {
     "languageId": "r"
    }
   },
   "outputs": [
    {
     "data": {
      "text/plain": [
       "\n",
       "        0       0.7 \n",
       "0.5454545 0.4545455 "
      ]
     },
     "metadata": {},
     "output_type": "display_data"
    }
   ],
   "source": [
    "#Part B\n",
    "prop.table(table(vendors$delivery_charge[vendors$vendor_category_id == 3]))"
   ]
  },
  {
   "cell_type": "markdown",
   "id": "47c6229f-35f7-400c-8366-c442baa5cf47",
   "metadata": {},
   "source": [
    "Markdown notes and sentences and analysis written here."
   ]
  },
  {
   "cell_type": "markdown",
   "id": "da22f29c-d245-4d2b-9fc1-ca14cb6087d9",
   "metadata": {},
   "source": [
    "## Question 4"
   ]
  },
  {
   "cell_type": "code",
   "execution_count": 75,
   "id": "e01a1727-fbca-43fa-8db6-3d0bb904ddac",
   "metadata": {
    "vscode": {
     "languageId": "r"
    }
   },
   "outputs": [
    {
     "data": {
      "text/plain": [
       "$`2`\n",
       "\n",
       "  0 0.7 \n",
       " 35  54 \n",
       "\n",
       "$`3`\n",
       "\n",
       "  0 0.7 \n",
       "  6   5 \n"
      ]
     },
     "metadata": {},
     "output_type": "display_data"
    }
   ],
   "source": [
    "#Part A\n",
    "tapply(vendors$delivery_charge, vendors$vendor_category_id, table)"
   ]
  },
  {
   "cell_type": "code",
   "execution_count": 79,
   "id": "083a384c-04ce-4dfe-883c-cab88b1c090a",
   "metadata": {
    "vscode": {
     "languageId": "r"
    }
   },
   "outputs": [
    {
     "data": {
      "text/plain": [
       "$`2`\n",
       "x\n",
       "        0       0.7 \n",
       "0.3932584 0.6067416 \n",
       "\n",
       "$`3`\n",
       "x\n",
       "        0       0.7 \n",
       "0.5454545 0.4545455 \n"
      ]
     },
     "metadata": {},
     "output_type": "display_data"
    }
   ],
   "source": [
    "#Part B\n",
    "tapply(vendors$delivery_charge, vendors$vendor_category_id, function(x) {prop.table(table(x))})"
   ]
  },
  {
   "cell_type": "markdown",
   "id": "0d552245-b4d6-474a-9cc9-fa7b8e674d55",
   "metadata": {},
   "source": [
    "Markdown notes and sentences and analysis written here."
   ]
  },
  {
   "cell_type": "markdown",
   "id": "88c9cdac-3e92-498f-83fa-e089bfc44ac8",
   "metadata": {},
   "source": [
    "## Question 5"
   ]
  },
  {
   "cell_type": "code",
   "execution_count": 82,
   "id": "d370d7c9-06db-42b9-b75f-240481a5c491",
   "metadata": {
    "vscode": {
     "languageId": "r"
    }
   },
   "outputs": [
    {
     "data": {
      "text/html": [
       "<table class=\"dataframe\">\n",
       "<caption>A matrix: 2 x 2 of type dbl</caption>\n",
       "<thead>\n",
       "\t<tr><th></th><th scope=col>2</th><th scope=col>3</th></tr>\n",
       "</thead>\n",
       "<tbody>\n",
       "\t<tr><th scope=row>0</th><td>0.3932584</td><td>0.5454545</td></tr>\n",
       "\t<tr><th scope=row>0.7</th><td>0.6067416</td><td>0.4545455</td></tr>\n",
       "</tbody>\n",
       "</table>\n"
      ],
      "text/latex": [
       "A matrix: 2 x 2 of type dbl\n",
       "\\begin{tabular}{r|ll}\n",
       "  & 2 & 3\\\\\n",
       "\\hline\n",
       "\t0 & 0.3932584 & 0.5454545\\\\\n",
       "\t0.7 & 0.6067416 & 0.4545455\\\\\n",
       "\\end{tabular}\n"
      ],
      "text/markdown": [
       "\n",
       "A matrix: 2 x 2 of type dbl\n",
       "\n",
       "| <!--/--> | 2 | 3 |\n",
       "|---|---|---|\n",
       "| 0 | 0.3932584 | 0.5454545 |\n",
       "| 0.7 | 0.6067416 | 0.4545455 |\n",
       "\n"
      ],
      "text/plain": [
       "    2         3        \n",
       "0   0.3932584 0.5454545\n",
       "0.7 0.6067416 0.4545455"
      ]
     },
     "metadata": {},
     "output_type": "display_data"
    }
   ],
   "source": [
    "sapply(tapply(vendors$delivery_charge, vendors$vendor_category_id, table), prop.table)"
   ]
  }
 ],
 "metadata": {
  "kernelspec": {
   "display_name": "seminar-r",
   "language": "R",
   "name": "seminar-r"
  },
  "language_info": {
   "codemirror_mode": "r",
   "file_extension": ".r",
   "mimetype": "text/x-r-source",
   "name": "R",
   "pygments_lexer": "r",
   "version": "4.3.1"
  }
 },
 "nbformat": 4,
 "nbformat_minor": 5
}
