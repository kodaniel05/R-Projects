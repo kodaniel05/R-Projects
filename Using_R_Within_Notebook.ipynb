{
 "cells": [
  {
   "cell_type": "markdown",
   "id": "be02a957-7133-4d02-818e-fedeb3cecb05",
   "metadata": {},
   "source": [
    "# Using R within Jupyter Lab to solve problems\n"
   ]
  },
  {
   "cell_type": "markdown",
   "id": "a1228853-dd19-4ab2-89e0-0394d7d72de3",
   "metadata": {},
   "source": [
    "## Completed Fall 2023 "
   ]
  },
  {
   "cell_type": "markdown",
   "id": "6180e742-8e39-4698-98ff-5b00c8cf8ea0",
   "metadata": {},
   "source": [
    "## Question 1"
   ]
  },
  {
   "cell_type": "code",
   "execution_count": 26,
   "id": "49445606-d363-41b4-b479-e319a9a84c01",
   "metadata": {
    "vscode": {
     "languageId": "r"
    }
   },
   "outputs": [],
   "source": [
    "myDF <- read.csv(\"/anvil/projects/tdm/data/flights/subset/1995.csv\")"
   ]
  },
  {
   "cell_type": "code",
   "execution_count": 3,
   "id": "716a1aed-c8b2-42db-9f88-0254f6ec9e5f",
   "metadata": {
    "vscode": {
     "languageId": "r"
    }
   },
   "outputs": [
    {
     "data": {
      "text/html": [
       "<table class=\"dataframe\">\n",
       "<caption>A data.frame: 6 x 29</caption>\n",
       "<thead>\n",
       "\t<tr><th></th><th scope=col>Year</th><th scope=col>Month</th><th scope=col>DayofMonth</th><th scope=col>DayOfWeek</th><th scope=col>DepTime</th><th scope=col>CRSDepTime</th><th scope=col>ArrTime</th><th scope=col>CRSArrTime</th><th scope=col>UniqueCarrier</th><th scope=col>FlightNum</th><th scope=col>...</th><th scope=col>TaxiIn</th><th scope=col>TaxiOut</th><th scope=col>Cancelled</th><th scope=col>CancellationCode</th><th scope=col>Diverted</th><th scope=col>CarrierDelay</th><th scope=col>WeatherDelay</th><th scope=col>NASDelay</th><th scope=col>SecurityDelay</th><th scope=col>LateAircraftDelay</th></tr>\n",
       "\t<tr><th></th><th scope=col>&lt;int&gt;</th><th scope=col>&lt;int&gt;</th><th scope=col>&lt;int&gt;</th><th scope=col>&lt;int&gt;</th><th scope=col>&lt;int&gt;</th><th scope=col>&lt;int&gt;</th><th scope=col>&lt;int&gt;</th><th scope=col>&lt;int&gt;</th><th scope=col>&lt;chr&gt;</th><th scope=col>&lt;int&gt;</th><th scope=col>...</th><th scope=col>&lt;int&gt;</th><th scope=col>&lt;int&gt;</th><th scope=col>&lt;int&gt;</th><th scope=col>&lt;lgl&gt;</th><th scope=col>&lt;int&gt;</th><th scope=col>&lt;lgl&gt;</th><th scope=col>&lt;lgl&gt;</th><th scope=col>&lt;lgl&gt;</th><th scope=col>&lt;lgl&gt;</th><th scope=col>&lt;lgl&gt;</th></tr>\n",
       "</thead>\n",
       "<tbody>\n",
       "\t<tr><th scope=row>1</th><td>1995</td><td>1</td><td> 6</td><td>5</td><td>657</td><td>645</td><td>952</td><td>937</td><td>UA</td><td>482</td><td>...</td><td>7</td><td>25</td><td>0</td><td>NA</td><td>0</td><td>NA</td><td>NA</td><td>NA</td><td>NA</td><td>NA</td></tr>\n",
       "\t<tr><th scope=row>2</th><td>1995</td><td>1</td><td> 7</td><td>6</td><td>648</td><td>645</td><td>938</td><td>937</td><td>UA</td><td>482</td><td>...</td><td>5</td><td>17</td><td>0</td><td>NA</td><td>0</td><td>NA</td><td>NA</td><td>NA</td><td>NA</td><td>NA</td></tr>\n",
       "\t<tr><th scope=row>3</th><td>1995</td><td>1</td><td> 8</td><td>7</td><td>649</td><td>645</td><td>932</td><td>937</td><td>UA</td><td>482</td><td>...</td><td>3</td><td>17</td><td>0</td><td>NA</td><td>0</td><td>NA</td><td>NA</td><td>NA</td><td>NA</td><td>NA</td></tr>\n",
       "\t<tr><th scope=row>4</th><td>1995</td><td>1</td><td> 9</td><td>1</td><td>645</td><td>645</td><td>928</td><td>937</td><td>UA</td><td>482</td><td>...</td><td>3</td><td>16</td><td>0</td><td>NA</td><td>0</td><td>NA</td><td>NA</td><td>NA</td><td>NA</td><td>NA</td></tr>\n",
       "\t<tr><th scope=row>5</th><td>1995</td><td>1</td><td>10</td><td>2</td><td>645</td><td>645</td><td>931</td><td>937</td><td>UA</td><td>482</td><td>...</td><td>6</td><td>18</td><td>0</td><td>NA</td><td>0</td><td>NA</td><td>NA</td><td>NA</td><td>NA</td><td>NA</td></tr>\n",
       "\t<tr><th scope=row>6</th><td>1995</td><td>1</td><td>11</td><td>3</td><td>646</td><td>645</td><td>929</td><td>937</td><td>UA</td><td>482</td><td>...</td><td>5</td><td>13</td><td>0</td><td>NA</td><td>0</td><td>NA</td><td>NA</td><td>NA</td><td>NA</td><td>NA</td></tr>\n",
       "</tbody>\n",
       "</table>\n"
      ],
      "text/latex": [
       "A data.frame: 6 x 29\n",
       "\\begin{tabular}{r|lllllllllllllllllllll}\n",
       "  & Year & Month & DayofMonth & DayOfWeek & DepTime & CRSDepTime & ArrTime & CRSArrTime & UniqueCarrier & FlightNum & ... & TaxiIn & TaxiOut & Cancelled & CancellationCode & Diverted & CarrierDelay & WeatherDelay & NASDelay & SecurityDelay & LateAircraftDelay\\\\\n",
       "  & <int> & <int> & <int> & <int> & <int> & <int> & <int> & <int> & <chr> & <int> & ... & <int> & <int> & <int> & <lgl> & <int> & <lgl> & <lgl> & <lgl> & <lgl> & <lgl>\\\\\n",
       "\\hline\n",
       "\t1 & 1995 & 1 &  6 & 5 & 657 & 645 & 952 & 937 & UA & 482 & ... & 7 & 25 & 0 & NA & 0 & NA & NA & NA & NA & NA\\\\\n",
       "\t2 & 1995 & 1 &  7 & 6 & 648 & 645 & 938 & 937 & UA & 482 & ... & 5 & 17 & 0 & NA & 0 & NA & NA & NA & NA & NA\\\\\n",
       "\t3 & 1995 & 1 &  8 & 7 & 649 & 645 & 932 & 937 & UA & 482 & ... & 3 & 17 & 0 & NA & 0 & NA & NA & NA & NA & NA\\\\\n",
       "\t4 & 1995 & 1 &  9 & 1 & 645 & 645 & 928 & 937 & UA & 482 & ... & 3 & 16 & 0 & NA & 0 & NA & NA & NA & NA & NA\\\\\n",
       "\t5 & 1995 & 1 & 10 & 2 & 645 & 645 & 931 & 937 & UA & 482 & ... & 6 & 18 & 0 & NA & 0 & NA & NA & NA & NA & NA\\\\\n",
       "\t6 & 1995 & 1 & 11 & 3 & 646 & 645 & 929 & 937 & UA & 482 & ... & 5 & 13 & 0 & NA & 0 & NA & NA & NA & NA & NA\\\\\n",
       "\\end{tabular}\n"
      ],
      "text/markdown": [
       "\n",
       "A data.frame: 6 x 29\n",
       "\n",
       "| <!--/--> | Year &lt;int&gt; | Month &lt;int&gt; | DayofMonth &lt;int&gt; | DayOfWeek &lt;int&gt; | DepTime &lt;int&gt; | CRSDepTime &lt;int&gt; | ArrTime &lt;int&gt; | CRSArrTime &lt;int&gt; | UniqueCarrier &lt;chr&gt; | FlightNum &lt;int&gt; | ... ... | TaxiIn &lt;int&gt; | TaxiOut &lt;int&gt; | Cancelled &lt;int&gt; | CancellationCode &lt;lgl&gt; | Diverted &lt;int&gt; | CarrierDelay &lt;lgl&gt; | WeatherDelay &lt;lgl&gt; | NASDelay &lt;lgl&gt; | SecurityDelay &lt;lgl&gt; | LateAircraftDelay &lt;lgl&gt; |\n",
       "|---|---|---|---|---|---|---|---|---|---|---|---|---|---|---|---|---|---|---|---|---|---|\n",
       "| 1 | 1995 | 1 |  6 | 5 | 657 | 645 | 952 | 937 | UA | 482 | ... | 7 | 25 | 0 | NA | 0 | NA | NA | NA | NA | NA |\n",
       "| 2 | 1995 | 1 |  7 | 6 | 648 | 645 | 938 | 937 | UA | 482 | ... | 5 | 17 | 0 | NA | 0 | NA | NA | NA | NA | NA |\n",
       "| 3 | 1995 | 1 |  8 | 7 | 649 | 645 | 932 | 937 | UA | 482 | ... | 3 | 17 | 0 | NA | 0 | NA | NA | NA | NA | NA |\n",
       "| 4 | 1995 | 1 |  9 | 1 | 645 | 645 | 928 | 937 | UA | 482 | ... | 3 | 16 | 0 | NA | 0 | NA | NA | NA | NA | NA |\n",
       "| 5 | 1995 | 1 | 10 | 2 | 645 | 645 | 931 | 937 | UA | 482 | ... | 6 | 18 | 0 | NA | 0 | NA | NA | NA | NA | NA |\n",
       "| 6 | 1995 | 1 | 11 | 3 | 646 | 645 | 929 | 937 | UA | 482 | ... | 5 | 13 | 0 | NA | 0 | NA | NA | NA | NA | NA |\n",
       "\n"
      ],
      "text/plain": [
       "  Year Month DayofMonth DayOfWeek DepTime CRSDepTime ArrTime CRSArrTime\n",
       "1 1995 1      6         5         657     645        952     937       \n",
       "2 1995 1      7         6         648     645        938     937       \n",
       "3 1995 1      8         7         649     645        932     937       \n",
       "4 1995 1      9         1         645     645        928     937       \n",
       "5 1995 1     10         2         645     645        931     937       \n",
       "6 1995 1     11         3         646     645        929     937       \n",
       "  UniqueCarrier FlightNum ... TaxiIn TaxiOut Cancelled CancellationCode\n",
       "1 UA            482       ... 7      25      0         NA              \n",
       "2 UA            482       ... 5      17      0         NA              \n",
       "3 UA            482       ... 3      17      0         NA              \n",
       "4 UA            482       ... 3      16      0         NA              \n",
       "5 UA            482       ... 6      18      0         NA              \n",
       "6 UA            482       ... 5      13      0         NA              \n",
       "  Diverted CarrierDelay WeatherDelay NASDelay SecurityDelay LateAircraftDelay\n",
       "1 0        NA           NA           NA       NA            NA               \n",
       "2 0        NA           NA           NA       NA            NA               \n",
       "3 0        NA           NA           NA       NA            NA               \n",
       "4 0        NA           NA           NA       NA            NA               \n",
       "5 0        NA           NA           NA       NA            NA               \n",
       "6 0        NA           NA           NA       NA            NA               "
      ]
     },
     "metadata": {},
     "output_type": "display_data"
    }
   ],
   "source": [
    "head(myDF)"
   ]
  },
  {
   "cell_type": "code",
   "execution_count": 5,
   "id": "e393b9d8-b59c-4dc2-8bf2-5618dce453c6",
   "metadata": {
    "vscode": {
     "languageId": "r"
    }
   },
   "outputs": [
    {
     "data": {
      "text/html": [
       "<style>\n",
       ".list-inline {list-style: none; margin:0; padding: 0}\n",
       ".list-inline>li {display: inline-block}\n",
       ".list-inline>li:not(:last-child)::after {content: \"\\00b7\"; padding: 0 .5ex}\n",
       "</style>\n",
       "<ol class=list-inline><li>5327435</li><li>29</li></ol>\n"
      ],
      "text/latex": [
       "\\begin{enumerate*}\n",
       "\\item 5327435\n",
       "\\item 29\n",
       "\\end{enumerate*}\n"
      ],
      "text/markdown": [
       "1. 5327435\n",
       "2. 29\n",
       "\n",
       "\n"
      ],
      "text/plain": [
       "[1] 5327435      29"
      ]
     },
     "metadata": {},
     "output_type": "display_data"
    }
   ],
   "source": [
    "dim(myDF)"
   ]
  },
  {
   "cell_type": "code",
   "execution_count": 7,
   "id": "c629e72c-0010-4d6c-b898-53c14e9675e4",
   "metadata": {
    "vscode": {
     "languageId": "r"
    }
   },
   "outputs": [
    {
     "name": "stdout",
     "output_type": "stream",
     "text": [
      "'data.frame':\t5327435 obs. of  29 variables:\n",
      " $ Year             : int  1995 1995 1995 1995 1995 1995 1995 1995 1995 1995 ...\n",
      " $ Month            : int  1 1 1 1 1 1 1 1 1 1 ...\n",
      " $ DayofMonth       : int  6 7 8 9 10 11 12 13 14 15 ...\n",
      " $ DayOfWeek        : int  5 6 7 1 2 3 4 5 6 7 ...\n",
      " $ DepTime          : int  657 648 649 645 645 646 NA 644 644 643 ...\n",
      " $ CRSDepTime       : int  645 645 645 645 645 645 645 645 645 645 ...\n",
      " $ ArrTime          : int  952 938 932 928 931 929 NA 953 938 940 ...\n",
      " $ CRSArrTime       : int  937 937 937 937 937 937 937 937 937 937 ...\n",
      " $ UniqueCarrier    : chr  \"UA\" \"UA\" \"UA\" \"UA\" ...\n",
      " $ FlightNum        : int  482 482 482 482 482 482 482 482 482 482 ...\n",
      " $ TailNum          : chr  \"N7298U\" \"N7449U\" \"N7453U\" \"N7288U\" ...\n",
      " $ ActualElapsedTime: int  115 110 103 103 106 103 NA 129 114 117 ...\n",
      " $ CRSElapsedTime   : int  112 112 112 112 112 112 112 112 112 112 ...\n",
      " $ AirTime          : int  83 88 83 84 82 85 45 110 94 99 ...\n",
      " $ ArrDelay         : int  15 1 -5 -9 -6 -8 NA 16 1 3 ...\n",
      " $ DepDelay         : int  12 3 4 0 0 1 NA -1 -1 -2 ...\n",
      " $ Origin           : chr  \"ORD\" \"ORD\" \"ORD\" \"ORD\" ...\n",
      " $ Dest             : chr  \"PHL\" \"PHL\" \"PHL\" \"PHL\" ...\n",
      " $ Distance         : int  678 678 678 678 678 678 678 678 678 678 ...\n",
      " $ TaxiIn           : int  7 5 3 3 6 5 6 5 5 3 ...\n",
      " $ TaxiOut          : int  25 17 17 16 18 13 10 14 15 15 ...\n",
      " $ Cancelled        : int  0 0 0 0 0 0 1 0 0 0 ...\n",
      " $ CancellationCode : logi  NA NA NA NA NA NA ...\n",
      " $ Diverted         : int  0 0 0 0 0 0 0 0 0 0 ...\n",
      " $ CarrierDelay     : logi  NA NA NA NA NA NA ...\n",
      " $ WeatherDelay     : logi  NA NA NA NA NA NA ...\n",
      " $ NASDelay         : logi  NA NA NA NA NA NA ...\n",
      " $ SecurityDelay    : logi  NA NA NA NA NA NA ...\n",
      " $ LateAircraftDelay: logi  NA NA NA NA NA NA ...\n"
     ]
    }
   ],
   "source": [
    "str(myDF)"
   ]
  },
  {
   "cell_type": "markdown",
   "id": "b456e57c-4a12-464b-999a-ef2df5af80c1",
   "metadata": {},
   "source": [
    "A. The Data frame has 29 columns\n",
    "\n",
    "B. The data Frame has 5327435 rows\n",
    "\n",
    "C. The three most prominent types found are Int(integer), Logi(Logic), and Chr(character)\n"
   ]
  },
  {
   "cell_type": "markdown",
   "id": "fc601975-35ed-4680-a4e1-0273ee3cc047",
   "metadata": {},
   "source": [
    "## Question 2"
   ]
  },
  {
   "cell_type": "code",
   "execution_count": 9,
   "id": "a16336a1-1ef0-41e8-bc7c-49387db27497",
   "metadata": {
    "vscode": {
     "languageId": "r"
    }
   },
   "outputs": [],
   "source": [
    "my_airports <- myDF$Origin"
   ]
  },
  {
   "cell_type": "code",
   "execution_count": 11,
   "id": "506206c2-9117-4175-ad89-4632e1489f5f",
   "metadata": {
    "vscode": {
     "languageId": "r"
    }
   },
   "outputs": [
    {
     "data": {
      "text/html": [
       "<style>\n",
       ".list-inline {list-style: none; margin:0; padding: 0}\n",
       ".list-inline>li {display: inline-block}\n",
       ".list-inline>li:not(:last-child)::after {content: \"\\00b7\"; padding: 0 .5ex}\n",
       "</style>\n",
       "<ol class=list-inline><li>'ORD'</li><li>'ORD'</li><li>'ORD'</li><li>'ORD'</li><li>'ORD'</li><li>'ORD'</li></ol>\n"
      ],
      "text/latex": [
       "\\begin{enumerate*}\n",
       "\\item 'ORD'\n",
       "\\item 'ORD'\n",
       "\\item 'ORD'\n",
       "\\item 'ORD'\n",
       "\\item 'ORD'\n",
       "\\item 'ORD'\n",
       "\\end{enumerate*}\n"
      ],
      "text/markdown": [
       "1. 'ORD'\n",
       "2. 'ORD'\n",
       "3. 'ORD'\n",
       "4. 'ORD'\n",
       "5. 'ORD'\n",
       "6. 'ORD'\n",
       "\n",
       "\n"
      ],
      "text/plain": [
       "[1] \"ORD\" \"ORD\" \"ORD\" \"ORD\" \"ORD\" \"ORD\""
      ]
     },
     "metadata": {},
     "output_type": "display_data"
    }
   ],
   "source": [
    "head(my_airports)"
   ]
  },
  {
   "cell_type": "code",
   "execution_count": 12,
   "id": "62e33488-0fe8-434b-83f0-3c44388c1556",
   "metadata": {
    "vscode": {
     "languageId": "r"
    }
   },
   "outputs": [
    {
     "data": {
      "text/html": [
       "'character'"
      ],
      "text/latex": [
       "'character'"
      ],
      "text/markdown": [
       "'character'"
      ],
      "text/plain": [
       "[1] \"character\""
      ]
     },
     "metadata": {},
     "output_type": "display_data"
    }
   ],
   "source": [
    "class(my_airports)"
   ]
  },
  {
   "cell_type": "code",
   "execution_count": 15,
   "id": "485fd047-b9d1-4d2a-8144-7d666b6c80f6",
   "metadata": {
    "vscode": {
     "languageId": "r"
    }
   },
   "outputs": [
    {
     "data": {
      "text/html": [
       "<style>\n",
       ".list-inline {list-style: none; margin:0; padding: 0}\n",
       ".list-inline>li {display: inline-block}\n",
       ".list-inline>li:not(:last-child)::after {content: \"\\00b7\"; padding: 0 .5ex}\n",
       "</style>\n",
       "<ol class=list-inline><li>'ORD'</li><li>'ORD'</li><li>'ORD'</li><li>'ORD'</li><li>'ORD'</li><li>'ORD'</li><li>'ORD'</li><li>'ORD'</li><li>'ORD'</li><li>'ORD'</li><li>'ORD'</li><li>'ORD'</li><li>'ORD'</li><li>'ORD'</li><li>'ORD'</li><li>'ORD'</li><li>'ORD'</li><li>'ORD'</li><li>'ORD'</li><li>'ORD'</li><li>'ORD'</li><li>'ORD'</li><li>'ORD'</li><li>'ORD'</li><li>'ORD'</li><li>'ORD'</li><li>'ORD'</li><li>'ORD'</li><li>'ORD'</li><li>'ORD'</li><li>'ORD'</li><li>'ORD'</li><li>'ORD'</li><li>'ORD'</li><li>'ORD'</li><li>'ORD'</li><li>'ORD'</li><li>'ORD'</li><li>'ORD'</li><li>'ORD'</li><li>'ORD'</li><li>'ORD'</li><li>'ORD'</li><li>'ORD'</li><li>'ORD'</li><li>'ORD'</li><li>'ORD'</li><li>'ORD'</li><li>'ORD'</li><li>'ORD'</li><li>'ORD'</li><li>'ORD'</li><li>'ORD'</li><li>'ORD'</li><li>'ORD'</li><li>'ORD'</li><li>'ORD'</li><li>'ORD'</li><li>'ORD'</li><li>'ORD'</li><li>'ORD'</li><li>'ORD'</li><li>'ORD'</li><li>'ORD'</li><li>'ORD'</li><li>'ORD'</li><li>'ORD'</li><li>'ORD'</li><li>'ORD'</li><li>'ORD'</li><li>'ORD'</li><li>'ORD'</li><li>'ORD'</li><li>'ORD'</li><li>'ORD'</li><li>'ORD'</li><li>'ORD'</li><li>'ORD'</li><li>'ORD'</li><li>'ORD'</li><li>'ORD'</li><li>'ORD'</li><li>'ORD'</li><li>'ORD'</li><li>'ORD'</li><li>'ORD'</li><li>'ORD'</li><li>'ORD'</li><li>'ORD'</li><li>'ORD'</li><li>'ORD'</li><li>'ORD'</li><li>'ORD'</li><li>'ORD'</li><li>'ORD'</li><li>'ORD'</li><li>'ORD'</li><li>'ORD'</li><li>'ORD'</li><li>'ORD'</li><li>'ORD'</li><li>'ORD'</li><li>'ORD'</li><li>'ORD'</li><li>'ORD'</li><li>'ORD'</li><li>'ORD'</li><li>'ORD'</li><li>'ORD'</li><li>'ORD'</li><li>'ORD'</li><li>'ORD'</li><li>'ORD'</li><li>'ORD'</li><li>'ORD'</li><li>'ORD'</li><li>'ORD'</li><li>'ORD'</li><li>'ORD'</li><li>'ORD'</li><li>'ORD'</li><li>'ORD'</li><li>'ORD'</li><li>'ORD'</li><li>'ORD'</li><li>'ORD'</li><li>'ORD'</li><li>'ORD'</li><li>'ORD'</li><li>'ORD'</li><li>'ORD'</li><li>'ORD'</li><li>'ORD'</li><li>'ORD'</li><li>'ORD'</li><li>'ORD'</li><li>'ORD'</li><li>'ORD'</li><li>'ORD'</li><li>'ORD'</li><li>'ORD'</li><li>'ORD'</li><li>'ORD'</li><li>'ORD'</li><li>'ORD'</li><li>'ORD'</li><li>'ORD'</li><li>'ORD'</li><li>'ORD'</li><li>'ORD'</li><li>'ORD'</li><li>'ORD'</li><li>'ORD'</li><li>'ORD'</li><li>'ORD'</li><li>'ORD'</li><li>'ORD'</li><li>'ORD'</li><li>'ORD'</li><li>'ORD'</li><li>'ORD'</li><li>'ORD'</li><li>'ORD'</li><li>'ORD'</li><li>'ORD'</li><li>'ORD'</li><li>'ORD'</li><li>'ORD'</li><li>'ORD'</li><li>'ORD'</li><li>'ORD'</li><li>'ORD'</li><li>'ORD'</li><li>'ORD'</li><li>'ORD'</li><li>'ORD'</li><li>'ORD'</li><li>'ORD'</li><li>'ORD'</li><li>'ORD'</li><li>'ORD'</li><li>'ORD'</li><li>'ORD'</li><li>'ORD'</li><li>'ORD'</li><li>'ORD'</li><li>'ORD'</li><li>'ORD'</li><li>'ORD'</li><li>'ORD'</li><li>'ORD'</li><li>'ORD'</li><li>'ORD'</li><li>'ORD'</li><li>'ORD'</li><li>'ORD'</li><li>'ORD'</li><li>'ORD'</li><li>'ORD'</li><li>'ORD'</li><li>'ORD'</li><li>'ORD'</li><li>'ORD'</li><li>'ORD'</li><li>'ORD'</li><li>'ORD'</li><li>'ORD'</li><li>'ORD'</li><li>'ORD'</li><li>'ORD'</li><li>'ORD'</li><li>'ORD'</li><li>'ORD'</li><li>'ORD'</li><li>'ORD'</li><li>'ORD'</li><li>'ORD'</li><li>'ORD'</li><li>'ORD'</li><li>'ORD'</li><li>'ORD'</li><li>'ORD'</li><li>'ORD'</li><li>'ORD'</li><li>'ORD'</li><li>'ORD'</li><li>'ORD'</li><li>'ORD'</li><li>'ORD'</li><li>'ORD'</li><li>'ORD'</li><li>'ORD'</li><li>'ORD'</li><li>'ORD'</li><li>'ORD'</li><li>'ORD'</li><li>'ORD'</li><li>'ORF'</li><li>'ORF'</li><li>'ORF'</li><li>'ORF'</li><li>'ORF'</li><li>'ORF'</li><li>'ORF'</li><li>'ORF'</li><li>'ORF'</li><li>'ORF'</li><li>'ORF'</li><li>'ORF'</li><li>'ORF'</li></ol>\n"
      ],
      "text/latex": [
       "\\begin{enumerate*}\n",
       "\\item 'ORD'\n",
       "\\item 'ORD'\n",
       "\\item 'ORD'\n",
       "\\item 'ORD'\n",
       "\\item 'ORD'\n",
       "\\item 'ORD'\n",
       "\\item 'ORD'\n",
       "\\item 'ORD'\n",
       "\\item 'ORD'\n",
       "\\item 'ORD'\n",
       "\\item 'ORD'\n",
       "\\item 'ORD'\n",
       "\\item 'ORD'\n",
       "\\item 'ORD'\n",
       "\\item 'ORD'\n",
       "\\item 'ORD'\n",
       "\\item 'ORD'\n",
       "\\item 'ORD'\n",
       "\\item 'ORD'\n",
       "\\item 'ORD'\n",
       "\\item 'ORD'\n",
       "\\item 'ORD'\n",
       "\\item 'ORD'\n",
       "\\item 'ORD'\n",
       "\\item 'ORD'\n",
       "\\item 'ORD'\n",
       "\\item 'ORD'\n",
       "\\item 'ORD'\n",
       "\\item 'ORD'\n",
       "\\item 'ORD'\n",
       "\\item 'ORD'\n",
       "\\item 'ORD'\n",
       "\\item 'ORD'\n",
       "\\item 'ORD'\n",
       "\\item 'ORD'\n",
       "\\item 'ORD'\n",
       "\\item 'ORD'\n",
       "\\item 'ORD'\n",
       "\\item 'ORD'\n",
       "\\item 'ORD'\n",
       "\\item 'ORD'\n",
       "\\item 'ORD'\n",
       "\\item 'ORD'\n",
       "\\item 'ORD'\n",
       "\\item 'ORD'\n",
       "\\item 'ORD'\n",
       "\\item 'ORD'\n",
       "\\item 'ORD'\n",
       "\\item 'ORD'\n",
       "\\item 'ORD'\n",
       "\\item 'ORD'\n",
       "\\item 'ORD'\n",
       "\\item 'ORD'\n",
       "\\item 'ORD'\n",
       "\\item 'ORD'\n",
       "\\item 'ORD'\n",
       "\\item 'ORD'\n",
       "\\item 'ORD'\n",
       "\\item 'ORD'\n",
       "\\item 'ORD'\n",
       "\\item 'ORD'\n",
       "\\item 'ORD'\n",
       "\\item 'ORD'\n",
       "\\item 'ORD'\n",
       "\\item 'ORD'\n",
       "\\item 'ORD'\n",
       "\\item 'ORD'\n",
       "\\item 'ORD'\n",
       "\\item 'ORD'\n",
       "\\item 'ORD'\n",
       "\\item 'ORD'\n",
       "\\item 'ORD'\n",
       "\\item 'ORD'\n",
       "\\item 'ORD'\n",
       "\\item 'ORD'\n",
       "\\item 'ORD'\n",
       "\\item 'ORD'\n",
       "\\item 'ORD'\n",
       "\\item 'ORD'\n",
       "\\item 'ORD'\n",
       "\\item 'ORD'\n",
       "\\item 'ORD'\n",
       "\\item 'ORD'\n",
       "\\item 'ORD'\n",
       "\\item 'ORD'\n",
       "\\item 'ORD'\n",
       "\\item 'ORD'\n",
       "\\item 'ORD'\n",
       "\\item 'ORD'\n",
       "\\item 'ORD'\n",
       "\\item 'ORD'\n",
       "\\item 'ORD'\n",
       "\\item 'ORD'\n",
       "\\item 'ORD'\n",
       "\\item 'ORD'\n",
       "\\item 'ORD'\n",
       "\\item 'ORD'\n",
       "\\item 'ORD'\n",
       "\\item 'ORD'\n",
       "\\item 'ORD'\n",
       "\\item 'ORD'\n",
       "\\item 'ORD'\n",
       "\\item 'ORD'\n",
       "\\item 'ORD'\n",
       "\\item 'ORD'\n",
       "\\item 'ORD'\n",
       "\\item 'ORD'\n",
       "\\item 'ORD'\n",
       "\\item 'ORD'\n",
       "\\item 'ORD'\n",
       "\\item 'ORD'\n",
       "\\item 'ORD'\n",
       "\\item 'ORD'\n",
       "\\item 'ORD'\n",
       "\\item 'ORD'\n",
       "\\item 'ORD'\n",
       "\\item 'ORD'\n",
       "\\item 'ORD'\n",
       "\\item 'ORD'\n",
       "\\item 'ORD'\n",
       "\\item 'ORD'\n",
       "\\item 'ORD'\n",
       "\\item 'ORD'\n",
       "\\item 'ORD'\n",
       "\\item 'ORD'\n",
       "\\item 'ORD'\n",
       "\\item 'ORD'\n",
       "\\item 'ORD'\n",
       "\\item 'ORD'\n",
       "\\item 'ORD'\n",
       "\\item 'ORD'\n",
       "\\item 'ORD'\n",
       "\\item 'ORD'\n",
       "\\item 'ORD'\n",
       "\\item 'ORD'\n",
       "\\item 'ORD'\n",
       "\\item 'ORD'\n",
       "\\item 'ORD'\n",
       "\\item 'ORD'\n",
       "\\item 'ORD'\n",
       "\\item 'ORD'\n",
       "\\item 'ORD'\n",
       "\\item 'ORD'\n",
       "\\item 'ORD'\n",
       "\\item 'ORD'\n",
       "\\item 'ORD'\n",
       "\\item 'ORD'\n",
       "\\item 'ORD'\n",
       "\\item 'ORD'\n",
       "\\item 'ORD'\n",
       "\\item 'ORD'\n",
       "\\item 'ORD'\n",
       "\\item 'ORD'\n",
       "\\item 'ORD'\n",
       "\\item 'ORD'\n",
       "\\item 'ORD'\n",
       "\\item 'ORD'\n",
       "\\item 'ORD'\n",
       "\\item 'ORD'\n",
       "\\item 'ORD'\n",
       "\\item 'ORD'\n",
       "\\item 'ORD'\n",
       "\\item 'ORD'\n",
       "\\item 'ORD'\n",
       "\\item 'ORD'\n",
       "\\item 'ORD'\n",
       "\\item 'ORD'\n",
       "\\item 'ORD'\n",
       "\\item 'ORD'\n",
       "\\item 'ORD'\n",
       "\\item 'ORD'\n",
       "\\item 'ORD'\n",
       "\\item 'ORD'\n",
       "\\item 'ORD'\n",
       "\\item 'ORD'\n",
       "\\item 'ORD'\n",
       "\\item 'ORD'\n",
       "\\item 'ORD'\n",
       "\\item 'ORD'\n",
       "\\item 'ORD'\n",
       "\\item 'ORD'\n",
       "\\item 'ORD'\n",
       "\\item 'ORD'\n",
       "\\item 'ORD'\n",
       "\\item 'ORD'\n",
       "\\item 'ORD'\n",
       "\\item 'ORD'\n",
       "\\item 'ORD'\n",
       "\\item 'ORD'\n",
       "\\item 'ORD'\n",
       "\\item 'ORD'\n",
       "\\item 'ORD'\n",
       "\\item 'ORD'\n",
       "\\item 'ORD'\n",
       "\\item 'ORD'\n",
       "\\item 'ORD'\n",
       "\\item 'ORD'\n",
       "\\item 'ORD'\n",
       "\\item 'ORD'\n",
       "\\item 'ORD'\n",
       "\\item 'ORD'\n",
       "\\item 'ORD'\n",
       "\\item 'ORD'\n",
       "\\item 'ORD'\n",
       "\\item 'ORD'\n",
       "\\item 'ORD'\n",
       "\\item 'ORD'\n",
       "\\item 'ORD'\n",
       "\\item 'ORD'\n",
       "\\item 'ORD'\n",
       "\\item 'ORD'\n",
       "\\item 'ORD'\n",
       "\\item 'ORD'\n",
       "\\item 'ORD'\n",
       "\\item 'ORD'\n",
       "\\item 'ORD'\n",
       "\\item 'ORD'\n",
       "\\item 'ORD'\n",
       "\\item 'ORD'\n",
       "\\item 'ORD'\n",
       "\\item 'ORD'\n",
       "\\item 'ORD'\n",
       "\\item 'ORD'\n",
       "\\item 'ORD'\n",
       "\\item 'ORD'\n",
       "\\item 'ORD'\n",
       "\\item 'ORD'\n",
       "\\item 'ORD'\n",
       "\\item 'ORD'\n",
       "\\item 'ORD'\n",
       "\\item 'ORD'\n",
       "\\item 'ORD'\n",
       "\\item 'ORD'\n",
       "\\item 'ORD'\n",
       "\\item 'ORD'\n",
       "\\item 'ORD'\n",
       "\\item 'ORD'\n",
       "\\item 'ORF'\n",
       "\\item 'ORF'\n",
       "\\item 'ORF'\n",
       "\\item 'ORF'\n",
       "\\item 'ORF'\n",
       "\\item 'ORF'\n",
       "\\item 'ORF'\n",
       "\\item 'ORF'\n",
       "\\item 'ORF'\n",
       "\\item 'ORF'\n",
       "\\item 'ORF'\n",
       "\\item 'ORF'\n",
       "\\item 'ORF'\n",
       "\\end{enumerate*}\n"
      ],
      "text/markdown": [
       "1. 'ORD'\n",
       "2. 'ORD'\n",
       "3. 'ORD'\n",
       "4. 'ORD'\n",
       "5. 'ORD'\n",
       "6. 'ORD'\n",
       "7. 'ORD'\n",
       "8. 'ORD'\n",
       "9. 'ORD'\n",
       "10. 'ORD'\n",
       "11. 'ORD'\n",
       "12. 'ORD'\n",
       "13. 'ORD'\n",
       "14. 'ORD'\n",
       "15. 'ORD'\n",
       "16. 'ORD'\n",
       "17. 'ORD'\n",
       "18. 'ORD'\n",
       "19. 'ORD'\n",
       "20. 'ORD'\n",
       "21. 'ORD'\n",
       "22. 'ORD'\n",
       "23. 'ORD'\n",
       "24. 'ORD'\n",
       "25. 'ORD'\n",
       "26. 'ORD'\n",
       "27. 'ORD'\n",
       "28. 'ORD'\n",
       "29. 'ORD'\n",
       "30. 'ORD'\n",
       "31. 'ORD'\n",
       "32. 'ORD'\n",
       "33. 'ORD'\n",
       "34. 'ORD'\n",
       "35. 'ORD'\n",
       "36. 'ORD'\n",
       "37. 'ORD'\n",
       "38. 'ORD'\n",
       "39. 'ORD'\n",
       "40. 'ORD'\n",
       "41. 'ORD'\n",
       "42. 'ORD'\n",
       "43. 'ORD'\n",
       "44. 'ORD'\n",
       "45. 'ORD'\n",
       "46. 'ORD'\n",
       "47. 'ORD'\n",
       "48. 'ORD'\n",
       "49. 'ORD'\n",
       "50. 'ORD'\n",
       "51. 'ORD'\n",
       "52. 'ORD'\n",
       "53. 'ORD'\n",
       "54. 'ORD'\n",
       "55. 'ORD'\n",
       "56. 'ORD'\n",
       "57. 'ORD'\n",
       "58. 'ORD'\n",
       "59. 'ORD'\n",
       "60. 'ORD'\n",
       "61. 'ORD'\n",
       "62. 'ORD'\n",
       "63. 'ORD'\n",
       "64. 'ORD'\n",
       "65. 'ORD'\n",
       "66. 'ORD'\n",
       "67. 'ORD'\n",
       "68. 'ORD'\n",
       "69. 'ORD'\n",
       "70. 'ORD'\n",
       "71. 'ORD'\n",
       "72. 'ORD'\n",
       "73. 'ORD'\n",
       "74. 'ORD'\n",
       "75. 'ORD'\n",
       "76. 'ORD'\n",
       "77. 'ORD'\n",
       "78. 'ORD'\n",
       "79. 'ORD'\n",
       "80. 'ORD'\n",
       "81. 'ORD'\n",
       "82. 'ORD'\n",
       "83. 'ORD'\n",
       "84. 'ORD'\n",
       "85. 'ORD'\n",
       "86. 'ORD'\n",
       "87. 'ORD'\n",
       "88. 'ORD'\n",
       "89. 'ORD'\n",
       "90. 'ORD'\n",
       "91. 'ORD'\n",
       "92. 'ORD'\n",
       "93. 'ORD'\n",
       "94. 'ORD'\n",
       "95. 'ORD'\n",
       "96. 'ORD'\n",
       "97. 'ORD'\n",
       "98. 'ORD'\n",
       "99. 'ORD'\n",
       "100. 'ORD'\n",
       "101. 'ORD'\n",
       "102. 'ORD'\n",
       "103. 'ORD'\n",
       "104. 'ORD'\n",
       "105. 'ORD'\n",
       "106. 'ORD'\n",
       "107. 'ORD'\n",
       "108. 'ORD'\n",
       "109. 'ORD'\n",
       "110. 'ORD'\n",
       "111. 'ORD'\n",
       "112. 'ORD'\n",
       "113. 'ORD'\n",
       "114. 'ORD'\n",
       "115. 'ORD'\n",
       "116. 'ORD'\n",
       "117. 'ORD'\n",
       "118. 'ORD'\n",
       "119. 'ORD'\n",
       "120. 'ORD'\n",
       "121. 'ORD'\n",
       "122. 'ORD'\n",
       "123. 'ORD'\n",
       "124. 'ORD'\n",
       "125. 'ORD'\n",
       "126. 'ORD'\n",
       "127. 'ORD'\n",
       "128. 'ORD'\n",
       "129. 'ORD'\n",
       "130. 'ORD'\n",
       "131. 'ORD'\n",
       "132. 'ORD'\n",
       "133. 'ORD'\n",
       "134. 'ORD'\n",
       "135. 'ORD'\n",
       "136. 'ORD'\n",
       "137. 'ORD'\n",
       "138. 'ORD'\n",
       "139. 'ORD'\n",
       "140. 'ORD'\n",
       "141. 'ORD'\n",
       "142. 'ORD'\n",
       "143. 'ORD'\n",
       "144. 'ORD'\n",
       "145. 'ORD'\n",
       "146. 'ORD'\n",
       "147. 'ORD'\n",
       "148. 'ORD'\n",
       "149. 'ORD'\n",
       "150. 'ORD'\n",
       "151. 'ORD'\n",
       "152. 'ORD'\n",
       "153. 'ORD'\n",
       "154. 'ORD'\n",
       "155. 'ORD'\n",
       "156. 'ORD'\n",
       "157. 'ORD'\n",
       "158. 'ORD'\n",
       "159. 'ORD'\n",
       "160. 'ORD'\n",
       "161. 'ORD'\n",
       "162. 'ORD'\n",
       "163. 'ORD'\n",
       "164. 'ORD'\n",
       "165. 'ORD'\n",
       "166. 'ORD'\n",
       "167. 'ORD'\n",
       "168. 'ORD'\n",
       "169. 'ORD'\n",
       "170. 'ORD'\n",
       "171. 'ORD'\n",
       "172. 'ORD'\n",
       "173. 'ORD'\n",
       "174. 'ORD'\n",
       "175. 'ORD'\n",
       "176. 'ORD'\n",
       "177. 'ORD'\n",
       "178. 'ORD'\n",
       "179. 'ORD'\n",
       "180. 'ORD'\n",
       "181. 'ORD'\n",
       "182. 'ORD'\n",
       "183. 'ORD'\n",
       "184. 'ORD'\n",
       "185. 'ORD'\n",
       "186. 'ORD'\n",
       "187. 'ORD'\n",
       "188. 'ORD'\n",
       "189. 'ORD'\n",
       "190. 'ORD'\n",
       "191. 'ORD'\n",
       "192. 'ORD'\n",
       "193. 'ORD'\n",
       "194. 'ORD'\n",
       "195. 'ORD'\n",
       "196. 'ORD'\n",
       "197. 'ORD'\n",
       "198. 'ORD'\n",
       "199. 'ORD'\n",
       "200. 'ORD'\n",
       "201. 'ORD'\n",
       "202. 'ORD'\n",
       "203. 'ORD'\n",
       "204. 'ORD'\n",
       "205. 'ORD'\n",
       "206. 'ORD'\n",
       "207. 'ORD'\n",
       "208. 'ORD'\n",
       "209. 'ORD'\n",
       "210. 'ORD'\n",
       "211. 'ORD'\n",
       "212. 'ORD'\n",
       "213. 'ORD'\n",
       "214. 'ORD'\n",
       "215. 'ORD'\n",
       "216. 'ORD'\n",
       "217. 'ORD'\n",
       "218. 'ORD'\n",
       "219. 'ORD'\n",
       "220. 'ORD'\n",
       "221. 'ORD'\n",
       "222. 'ORD'\n",
       "223. 'ORD'\n",
       "224. 'ORD'\n",
       "225. 'ORD'\n",
       "226. 'ORD'\n",
       "227. 'ORD'\n",
       "228. 'ORD'\n",
       "229. 'ORD'\n",
       "230. 'ORD'\n",
       "231. 'ORD'\n",
       "232. 'ORD'\n",
       "233. 'ORD'\n",
       "234. 'ORD'\n",
       "235. 'ORD'\n",
       "236. 'ORD'\n",
       "237. 'ORD'\n",
       "238. 'ORF'\n",
       "239. 'ORF'\n",
       "240. 'ORF'\n",
       "241. 'ORF'\n",
       "242. 'ORF'\n",
       "243. 'ORF'\n",
       "244. 'ORF'\n",
       "245. 'ORF'\n",
       "246. 'ORF'\n",
       "247. 'ORF'\n",
       "248. 'ORF'\n",
       "249. 'ORF'\n",
       "250. 'ORF'\n",
       "\n",
       "\n"
      ],
      "text/plain": [
       "  [1] \"ORD\" \"ORD\" \"ORD\" \"ORD\" \"ORD\" \"ORD\" \"ORD\" \"ORD\" \"ORD\" \"ORD\" \"ORD\" \"ORD\"\n",
       " [13] \"ORD\" \"ORD\" \"ORD\" \"ORD\" \"ORD\" \"ORD\" \"ORD\" \"ORD\" \"ORD\" \"ORD\" \"ORD\" \"ORD\"\n",
       " [25] \"ORD\" \"ORD\" \"ORD\" \"ORD\" \"ORD\" \"ORD\" \"ORD\" \"ORD\" \"ORD\" \"ORD\" \"ORD\" \"ORD\"\n",
       " [37] \"ORD\" \"ORD\" \"ORD\" \"ORD\" \"ORD\" \"ORD\" \"ORD\" \"ORD\" \"ORD\" \"ORD\" \"ORD\" \"ORD\"\n",
       " [49] \"ORD\" \"ORD\" \"ORD\" \"ORD\" \"ORD\" \"ORD\" \"ORD\" \"ORD\" \"ORD\" \"ORD\" \"ORD\" \"ORD\"\n",
       " [61] \"ORD\" \"ORD\" \"ORD\" \"ORD\" \"ORD\" \"ORD\" \"ORD\" \"ORD\" \"ORD\" \"ORD\" \"ORD\" \"ORD\"\n",
       " [73] \"ORD\" \"ORD\" \"ORD\" \"ORD\" \"ORD\" \"ORD\" \"ORD\" \"ORD\" \"ORD\" \"ORD\" \"ORD\" \"ORD\"\n",
       " [85] \"ORD\" \"ORD\" \"ORD\" \"ORD\" \"ORD\" \"ORD\" \"ORD\" \"ORD\" \"ORD\" \"ORD\" \"ORD\" \"ORD\"\n",
       " [97] \"ORD\" \"ORD\" \"ORD\" \"ORD\" \"ORD\" \"ORD\" \"ORD\" \"ORD\" \"ORD\" \"ORD\" \"ORD\" \"ORD\"\n",
       "[109] \"ORD\" \"ORD\" \"ORD\" \"ORD\" \"ORD\" \"ORD\" \"ORD\" \"ORD\" \"ORD\" \"ORD\" \"ORD\" \"ORD\"\n",
       "[121] \"ORD\" \"ORD\" \"ORD\" \"ORD\" \"ORD\" \"ORD\" \"ORD\" \"ORD\" \"ORD\" \"ORD\" \"ORD\" \"ORD\"\n",
       "[133] \"ORD\" \"ORD\" \"ORD\" \"ORD\" \"ORD\" \"ORD\" \"ORD\" \"ORD\" \"ORD\" \"ORD\" \"ORD\" \"ORD\"\n",
       "[145] \"ORD\" \"ORD\" \"ORD\" \"ORD\" \"ORD\" \"ORD\" \"ORD\" \"ORD\" \"ORD\" \"ORD\" \"ORD\" \"ORD\"\n",
       "[157] \"ORD\" \"ORD\" \"ORD\" \"ORD\" \"ORD\" \"ORD\" \"ORD\" \"ORD\" \"ORD\" \"ORD\" \"ORD\" \"ORD\"\n",
       "[169] \"ORD\" \"ORD\" \"ORD\" \"ORD\" \"ORD\" \"ORD\" \"ORD\" \"ORD\" \"ORD\" \"ORD\" \"ORD\" \"ORD\"\n",
       "[181] \"ORD\" \"ORD\" \"ORD\" \"ORD\" \"ORD\" \"ORD\" \"ORD\" \"ORD\" \"ORD\" \"ORD\" \"ORD\" \"ORD\"\n",
       "[193] \"ORD\" \"ORD\" \"ORD\" \"ORD\" \"ORD\" \"ORD\" \"ORD\" \"ORD\" \"ORD\" \"ORD\" \"ORD\" \"ORD\"\n",
       "[205] \"ORD\" \"ORD\" \"ORD\" \"ORD\" \"ORD\" \"ORD\" \"ORD\" \"ORD\" \"ORD\" \"ORD\" \"ORD\" \"ORD\"\n",
       "[217] \"ORD\" \"ORD\" \"ORD\" \"ORD\" \"ORD\" \"ORD\" \"ORD\" \"ORD\" \"ORD\" \"ORD\" \"ORD\" \"ORD\"\n",
       "[229] \"ORD\" \"ORD\" \"ORD\" \"ORD\" \"ORD\" \"ORD\" \"ORD\" \"ORD\" \"ORD\" \"ORF\" \"ORF\" \"ORF\"\n",
       "[241] \"ORF\" \"ORF\" \"ORF\" \"ORF\" \"ORF\" \"ORF\" \"ORF\" \"ORF\" \"ORF\" \"ORF\""
      ]
     },
     "metadata": {},
     "output_type": "display_data"
    }
   ],
   "source": [
    "head(my_airports,250)"
   ]
  },
  {
   "cell_type": "code",
   "execution_count": 16,
   "id": "1cb3d6c1-9f73-486f-bb17-142a180ceb93",
   "metadata": {
    "vscode": {
     "languageId": "r"
    }
   },
   "outputs": [
    {
     "data": {
      "text/html": [
       "237"
      ],
      "text/latex": [
       "237"
      ],
      "text/markdown": [
       "237"
      ],
      "text/plain": [
       "[1] 237"
      ]
     },
     "metadata": {},
     "output_type": "display_data"
    }
   ],
   "source": [
    "250 - 13"
   ]
  },
  {
   "cell_type": "markdown",
   "id": "14dc22d4-ddc3-41cc-a91a-cb0025bc0c80",
   "metadata": {},
   "source": [
    "A. The type of data in the vector MyAirports is character data.\n",
    "\n",
    "B.There were 237 flights that departed from the O'Hare Airport "
   ]
  },
  {
   "cell_type": "markdown",
   "id": "8e586edd-ff26-4ce2-8f6b-2424b26f2929",
   "metadata": {},
   "source": [
    "## Question 3"
   ]
  },
  {
   "cell_type": "code",
   "execution_count": 20,
   "id": "bbe0f40d-9655-4653-9ca8-886bdb61cb91",
   "metadata": {
    "vscode": {
     "languageId": "r"
    }
   },
   "outputs": [
    {
     "name": "stdout",
     "output_type": "stream",
     "text": [
      " chr [1:37092] \"IND\" \"IND\" \"IND\" \"IND\" \"IND\" \"IND\" \"IND\" \"IND\" \"IND\" \"IND\" ...\n"
     ]
    }
   ],
   "source": [
    "str(myDF$Origin[myDF$Origin == \"IND\"])"
   ]
  },
  {
   "cell_type": "code",
   "execution_count": 21,
   "id": "6b749b3e-a312-45e0-b3ec-fe35c13f283d",
   "metadata": {
    "vscode": {
     "languageId": "r"
    }
   },
   "outputs": [
    {
     "name": "stdout",
     "output_type": "stream",
     "text": [
      " chr [1:37103] \"IND\" \"IND\" \"IND\" \"IND\" \"IND\" \"IND\" \"IND\" \"IND\" \"IND\" \"IND\" ...\n"
     ]
    }
   ],
   "source": [
    "str(myDF$Dest[myDF$Dest == \"IND\"])"
   ]
  },
  {
   "cell_type": "code",
   "execution_count": 24,
   "id": "f4f498b4-cbcd-4031-88db-a0a1fe892333",
   "metadata": {
    "vscode": {
     "languageId": "r"
    }
   },
   "outputs": [
    {
     "data": {
      "text/html": [
       "'PVD'"
      ],
      "text/latex": [
       "'PVD'"
      ],
      "text/markdown": [
       "'PVD'"
      ],
      "text/plain": [
       "[1] \"PVD\""
      ]
     },
     "metadata": {},
     "output_type": "display_data"
    }
   ],
   "source": [
    "myDF[894,]$Origin"
   ]
  },
  {
   "cell_type": "code",
   "execution_count": 25,
   "id": "fce8d1ba-0ccd-4cc5-8c59-92a53fe0d598",
   "metadata": {
    "vscode": {
     "languageId": "r"
    }
   },
   "outputs": [
    {
     "data": {
      "text/html": [
       "'PHL'"
      ],
      "text/latex": [
       "'PHL'"
      ],
      "text/markdown": [
       "'PHL'"
      ],
      "text/plain": [
       "[1] \"PHL\""
      ]
     },
     "metadata": {},
     "output_type": "display_data"
    }
   ],
   "source": [
    "myDF[894,]$Dest"
   ]
  },
  {
   "cell_type": "code",
   "execution_count": 27,
   "id": "f41d0812-88a1-47e1-8ccb-03ea2ad8a3ab",
   "metadata": {
    "vscode": {
     "languageId": "r"
    }
   },
   "outputs": [
    {
     "name": "stdout",
     "output_type": "stream",
     "text": [
      " int [1:475141] 198 198 198 198 198 198 198 198 198 198 ...\n"
     ]
    }
   ],
   "source": [
    "str(myDF$Distance[myDF$Distance < 200])"
   ]
  },
  {
   "cell_type": "markdown",
   "id": "47c6229f-35f7-400c-8366-c442baa5cf47",
   "metadata": {},
   "source": [
    "A. 37, 092 flights departed from Indianapolis in 1995. 37,103 flights landed in Indianapolis in 1995 \n",
    "\n",
    "B. The flight data from row 894 shows that the airport it departed from was PVD which stands for Providence Airport. And it arrived to PHL which is the Philadelphia airport. \n",
    "\n",
    "C.There were 475,141 flights that had a distance of less than 200 miles. "
   ]
  },
  {
   "cell_type": "markdown",
   "id": "da22f29c-d245-4d2b-9fc1-ca14cb6087d9",
   "metadata": {},
   "source": [
    "## Question 4"
   ]
  },
  {
   "cell_type": "code",
   "execution_count": 27,
   "id": "8cffc767-d1c8-4d64-b7dc-f0d2ee8a80d1",
   "metadata": {
    "vscode": {
     "languageId": "r"
    }
   },
   "outputs": [
    {
     "data": {
      "text/plain": [
       "\n",
       "    AS     HP     TW     CO     NW     AA     WN     UA     US     DL \n",
       "135124 194508 272452 434425 521693 688471 693101 724807 778835 884019 "
      ]
     },
     "metadata": {},
     "output_type": "display_data"
    }
   ],
   "source": [
    "sort(table(myDF$UniqueCarrier))"
   ]
  },
  {
   "cell_type": "code",
   "execution_count": 29,
   "id": "6e6f9cb4-fc46-4e43-8fd7-c133d8b9cc56",
   "metadata": {
    "vscode": {
     "languageId": "r"
    }
   },
   "outputs": [
    {
     "data": {
      "text/plain": [
       "\n",
       "   N59   N102    N91    N68   N103    N71    N83    N89    N67 UNKNOW \n",
       "  3447   3448   3448   3458   3463   3474   3476   3479   3485  65072 "
      ]
     },
     "metadata": {},
     "output_type": "display_data"
    }
   ],
   "source": [
    "tail(sort(table(myDF$TailNum)),10) "
   ]
  },
  {
   "cell_type": "markdown",
   "id": "0d552245-b4d6-474a-9cc9-fa7b8e674d55",
   "metadata": {},
   "source": [
    "A. In order from most popular to least would start at (DL,US,UA,WN,AA,NW,CO,TW,HP,AS)\n",
    "\n",
    "B. While this is not a tail number it appears that the most popular are unknown. After that it goes N67,N89,N83,N71, N103, N68, N91, N102, and N59. Another thing I noticed is that all of the all of the planes were no greater than 3,500. This could mean that a plane cannot, and should not be able to go past 3,500 flights for safety reasons. "
   ]
  },
  {
   "cell_type": "markdown",
   "id": "88c9cdac-3e92-498f-83fa-e089bfc44ac8",
   "metadata": {},
   "source": [
    "## Question 5"
   ]
  },
  {
   "cell_type": "code",
   "execution_count": 44,
   "id": "d370d7c9-06db-42b9-b75f-240481a5c491",
   "metadata": {
    "vscode": {
     "languageId": "r"
    }
   },
   "outputs": [
    {
     "data": {
      "image/png": "[encoded data removed]",
      "text/plain": [
       "Plot with title \"Flight Distances\""
      ]
     },
     "metadata": {
      "image/png": {
       "height": 420,
       "width": 420
      }
     },
     "output_type": "display_data"
    }
   ],
   "source": [
    "hist(myDF$Distance,main=\"Flight Distances\",xlab=\"Distance(miles)\",ylab=\"Count\",col=\"pink\")"
   ]
  },
  {
   "cell_type": "markdown",
   "id": "9fbf00fb-2418-460f-ae94-2a32b0c28952",
   "metadata": {},
   "source": [
    "B. It appears that this histogram is skewed to the right. It looks like most of the flights were around 500 miles those being around 1,500,000. The least amount of fights are around 2,800 miles. From this data it apears that a majority of these flights stay within America with only very few being out of country. This is due to the fact that almost all of the histogram is made up between the 0 mile to 1,000 mile which implies many flights are going from one state to may"
   ]
  }
 ],
 "metadata": {
  "kernelspec": {
   "display_name": "seminar-r",
   "language": "R",
   "name": "seminar-r"
  },
  "language_info": {
   "codemirror_mode": "r",
   "file_extension": ".r",
   "mimetype": "text/x-r-source",
   "name": "R",
   "pygments_lexer": "r",
   "version": "4.3.1"
  }
 },
 "nbformat": 4,
 "nbformat_minor": 5
}
